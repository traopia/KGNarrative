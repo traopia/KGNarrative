{
  "nbformat": 4,
  "nbformat_minor": 0,
  "metadata": {
    "colab": {
      "provenance": []
    },
    "kernelspec": {
      "name": "python3",
      "display_name": "Python 3"
    },
    "language_info": {
      "name": "python"
    },
    "gpuClass": "standard"
  },
  "cells": [
    {
      "cell_type": "markdown",
      "metadata": {
        "id": "view-in-github"
      },
      "source": [
        "<a href=\"https://colab.research.google.com/github/traopia/KGNarrative/blob/master/esperiments.ipynb\" target=\"_parent\"><img src=\"https://colab.research.google.com/assets/colab-badge.svg\" alt=\"Open In Colab\"/></a>"
      ]
    },
    {
      "cell_type": "markdown",
      "source": [
        "## Importing documents\n"
      ],
      "metadata": {
        "id": "tG7KHY_hdIKj"
      }
    },
    {
      "cell_type": "code",
      "source": [
        "import pandas as pd"
      ],
      "metadata": {
        "id": "FzGRiV1O0Sds"
      },
      "execution_count": 1,
      "outputs": []
    },
    {
      "cell_type": "code",
      "source": [
        "path2file = \"/content/DWIE_train_entities_topic_summary_news.csv\"\n",
        "df = pd.read_csv(path2file)\n"
      ],
      "metadata": {
        "id": "J129dRo7dF5r"
      },
      "execution_count": 2,
      "outputs": []
    },
    {
      "cell_type": "code",
      "source": [
        "def check_it_function(dataframe, index):\n",
        "  for j,i in enumerate(dataframe.iloc[index]):\n",
        "    print(f\"{df.columns[j]}\",\"=>\",i,\"\\n\")\n",
        "check_it_function(df,0)"
      ],
      "metadata": {
        "colab": {
          "base_uri": "https://localhost:8080/"
        },
        "id": "bRZw0N-Sd7aj",
        "outputId": "99521168-777e-4dcc-9a6a-fa7883148b16"
      },
      "execution_count": 3,
      "outputs": [
        {
          "output_type": "stream",
          "name": "stdout",
          "text": [
            "Unnamed: 0 => 0 \n",
            "\n",
            "story => Multi-lingual in the World Wide Web Professional translators and interpreters beware! There’s a new product out at CeBIT this year and it’s set to make your job obsolete - or at least the more mundane portion of business correspondence. Imagine sitting in an office in Berlin, Paris or New York, typing an e-mail to an international colleague and getting a reply - all in one language. Sure, it’s no problem if everyone speaks the same language. But what happens when three different languages are involved? You get a translator, right? Or you spend a little more time flipping through an English-German-French dictionary. Too expensive, too time consuming? Well, there’s always the option of learning a foreign language. In the global business community, bilungualism is not a bad investment. But for those of you who didn’t memorize the German irregular verbs in school and who still can’t be bothered to remember the gender of French nouns, there’s a technical solution: the Personal Translator by Linguatec. No, it’s not a mini headset that automatically interprets your every thought - at least not yet. Linguatec is one of the leading innovators in the market for language recognition software, and it’s unique Personal Translator (PT) program is getting better and more accurate every year. So far there are two language versions, German-English and German-French. Designed as a complete software package for easy installment on a normal PC or computer network, PT is ideal for the office environment. It’s compatible with any system from Windows to Apple, and can be applied to any type of common text program including e-mails. With just a click of the mouse, the user can call on the extensive language database to translate any given text. And a link up through the user’s browser connects to the e-Translation Server for translation in the internet. The PT can also be downloaded for cellular phones and Palmpilots for mobile translations - great for vacationing in foreign countries. The next step is the linguachat - an online service for automatic translation of texts in chat groups. Gone are the days of stumbling around for the correct English or German word, with Linguatec’s browser function, users can simply chat away regardless of the language. Business of words Although there are several different international companies producing translation software, Linguatec offers the most comprehensive word and phrase databanks. It is also the only translation software that reads and analyses not only single sentences, but entire contexts to produce more accurate meaning. Whereas other companies such as the American Smartlink or Babelfish offer several different languages, Linguatec offers only three: German, English and French. This enables the company to concentrate on quality rather than quantity, an important factor in serious translation services, said a Linguatec spokesperson. This year’s new and revised edition of the Personal Translator contains 620,000 words and 35,000 common idiomatic phrases. This enables the PT to recognize double meanings and colloquial speech patterns. In addition, users can expand their word base with specialty dictionaries from areas like banking, medicine and technology. The German company started out ten years ago producing German-English translation software on the basis of IBM technology. Originally the product was slow and required a lot of thorough editing after a text was translated by the system. Now it’s being used by international companies like Siemens and Deutsche Bank. Even professional translators, who are generally skeptical of electronic translation software, are beginning to recognize the quality of the system, said a Linguatec spokesperson at CeBIT. \"When they have a long translation, they often let the PT run over the text once as a rough draft, before they fine tune it.\" Some translators and linguists are so impressed by the software, that they’ve quit their regular jobs and have begun working for Linguatec developing more accurate translation technology. \n",
            "\n",
            "Instances Knowledge Graph => Personal Translator - product_of - Linguatec | Linguatec - based_in0 - Germany | Linguatec - based_in0-x - German | Berlin - in0 - Germany | Berlin - in0-x - German | Paris - in0 - France | New York - in0 - United_States | New York - in0-x - American | American - gpe0 - United_States | Smartlink - based_in0 - United_States | Smartlink - based_in0-x - American | Babelfish - based_in0 - United_States | Babelfish - based_in0-x - American | German - gpe0 - Germany | Siemens - based_in0 - Germany | Siemens - based_in0-x - German | Deutsche Bank - based_in0 - Germany | Deutsche Bank - based_in0-x - German |  \n",
            "\n",
            "Types Knowledge Graph => Personal Translator - type - entity | Personal Translator - type - misc | Personal Translator - type - product | Linguatec - type - company | Linguatec - type - entity | Linguatec - type - organization | CeBIT - type - entity | CeBIT - type - organization | CeBIT - type - trade_fair | World Wide Web - type - entity | World Wide Web - type - misc | World Wide Web - type - technology | Berlin - type - entity | Berlin - type - gpe | Berlin - type - gpe2 | Berlin - type - location | Paris - type - entity | Paris - type - gpe | Paris - type - gpe2 | Paris - type - location | New York - type - entity | New York - type - gpe | New York - type - gpe2 | New York - type - location | English - type - entity | English - type - language | German - type - entity | German - type - language | French - type - entity | French - type - language | Windows - type - entity | Windows - type - misc | Windows - type - product | Apple - type - entity | Apple - type - misc | Apple - type - product | e-Translation Server - type - entity | e-Translation Server - type - misc | e-Translation Server - type - product | Palmpilots - type - entity | Palmpilots - type - misc | Palmpilots - type - product | American - type - gpe0-x | American - type - other | Smartlink - type - company | Smartlink - type - entity | Smartlink - type - organization | Babelfish - type - company | Babelfish - type - entity | Babelfish - type - organization | German - type - gpe0-x | German - type - other | IBM - type - company | IBM - type - entity | IBM - type - organization | Siemens - type - company | Siemens - type - entity | Siemens - type - organization | Deutsche Bank - type - company | Deutsche Bank - type - entity | Deutsche Bank - type - organization | Personal Translator - product_of - Linguatec | Linguatec - based_in0 - Germany | Linguatec - based_in0-x - German | Berlin - in0 - Germany | Berlin - in0-x - German | Paris - in0 - France | New York - in0 - United_States | New York - in0-x - American | American - gpe0 - United_States | Smartlink - based_in0 - United_States | Smartlink - based_in0-x - American | Babelfish - based_in0 - United_States | Babelfish - based_in0-x - American | German - gpe0 - Germany | Siemens - based_in0 - Germany | Siemens - based_in0-x - German | Deutsche Bank - based_in0 - Germany | Deutsche Bank - based_in0-x - German |  \n",
            "\n",
            "Subclass Knowledge Graph => misc - subclass_of - entity | product - subclass_of - misc | company - subclass_of - org | trade_fair - subclass_of - org | technology - subclass_of - misc | gpe - subclass_of - location | gpe2 - subclass_of - gpe | location - subclass_of - entity | language - subclass_of - entity | Personal Translator - type - entity | Personal Translator - type - misc | Personal Translator - type - product | Linguatec - type - company | Linguatec - type - entity | Linguatec - type - organization | CeBIT - type - entity | CeBIT - type - organization | CeBIT - type - trade_fair | World Wide Web - type - entity | World Wide Web - type - misc | World Wide Web - type - technology | Berlin - type - entity | Berlin - type - gpe | Berlin - type - gpe2 | Berlin - type - location | Paris - type - entity | Paris - type - gpe | Paris - type - gpe2 | Paris - type - location | New York - type - entity | New York - type - gpe | New York - type - gpe2 | New York - type - location | English - type - entity | English - type - language | German - type - entity | German - type - language | French - type - entity | French - type - language | Windows - type - entity | Windows - type - misc | Windows - type - product | Apple - type - entity | Apple - type - misc | Apple - type - product | e-Translation Server - type - entity | e-Translation Server - type - misc | e-Translation Server - type - product | Palmpilots - type - entity | Palmpilots - type - misc | Palmpilots - type - product | American - type - gpe0-x | American - type - other | Smartlink - type - company | Smartlink - type - entity | Smartlink - type - organization | Babelfish - type - company | Babelfish - type - entity | Babelfish - type - organization | German - type - gpe0-x | German - type - other | IBM - type - company | IBM - type - entity | IBM - type - organization | Siemens - type - company | Siemens - type - entity | Siemens - type - organization | Deutsche Bank - type - company | Deutsche Bank - type - entity | Deutsche Bank - type - organization | Personal Translator - product_of - Linguatec | Linguatec - based_in0 - Germany | Linguatec - based_in0-x - German | Berlin - in0 - Germany | Berlin - in0-x - German | Paris - in0 - France | New York - in0 - United_States | New York - in0-x - American | American - gpe0 - United_States | Smartlink - based_in0 - United_States | Smartlink - based_in0-x - American | Babelfish - based_in0 - United_States | Babelfish - based_in0-x - American | German - gpe0 - Germany | Siemens - based_in0 - Germany | Siemens - based_in0-x - German | Deutsche Bank - based_in0 - Germany | Deutsche Bank - based_in0-x - German |  \n",
            "\n",
            "predicted_label1 => tech \n",
            "\n",
            "core description => – If you’ve ever typed an email to a colleague in one language and got a reply in another, you’re not alone: There’s a new product out there that promises to make your job obsolete, Der Spiegel reports. \n",
            "\n",
            "mined_kg_entities => {ten years ago - type - DATE | the American Smartlink - type - ORG | the Personal Translator - type - ORG | English - type - LANGUAGE | French - type - LANGUAGE | This year - type - DATE | Babelfish - type - ORG | Siemens - type - ORG | CeBIT - type - ORG | German-French - type - LANGUAGE | the e-Translation Server - type - PRODUCT | the days - type - DATE | this year - type - DATE | Linguatec - type - ORG | Personal Translator - type - ORG | Palmpilots - type - PRODUCT | Berlin - type - GPE | Apple - type - ORG | Deutsche Bank - type - ORG | IBM - type - ORG | PT - type - ORG | Paris - type - GPE | Windows - type - ORG | New York - type - GPE} \n",
            "\n"
          ]
        }
      ]
    },
    {
      "cell_type": "code",
      "source": [
        "# REMOVING annoying parenthesis\n",
        "df[\"mined_kg_entities\"] = df[\"mined_kg_entities\"].apply(lambda x: x[1:-1])"
      ],
      "metadata": {
        "id": "Jf5w_Xn0RCAh"
      },
      "execution_count": 4,
      "outputs": []
    },
    {
      "cell_type": "code",
      "source": [
        "check_it_function(df,0)"
      ],
      "metadata": {
        "colab": {
          "base_uri": "https://localhost:8080/"
        },
        "id": "DQYSQMOdP6F8",
        "outputId": "56d8c16a-fc98-4bc3-db1a-6a746cd7ee95"
      },
      "execution_count": 5,
      "outputs": [
        {
          "output_type": "stream",
          "name": "stdout",
          "text": [
            "Unnamed: 0 => 0 \n",
            "\n",
            "story => Multi-lingual in the World Wide Web Professional translators and interpreters beware! There’s a new product out at CeBIT this year and it’s set to make your job obsolete - or at least the more mundane portion of business correspondence. Imagine sitting in an office in Berlin, Paris or New York, typing an e-mail to an international colleague and getting a reply - all in one language. Sure, it’s no problem if everyone speaks the same language. But what happens when three different languages are involved? You get a translator, right? Or you spend a little more time flipping through an English-German-French dictionary. Too expensive, too time consuming? Well, there’s always the option of learning a foreign language. In the global business community, bilungualism is not a bad investment. But for those of you who didn’t memorize the German irregular verbs in school and who still can’t be bothered to remember the gender of French nouns, there’s a technical solution: the Personal Translator by Linguatec. No, it’s not a mini headset that automatically interprets your every thought - at least not yet. Linguatec is one of the leading innovators in the market for language recognition software, and it’s unique Personal Translator (PT) program is getting better and more accurate every year. So far there are two language versions, German-English and German-French. Designed as a complete software package for easy installment on a normal PC or computer network, PT is ideal for the office environment. It’s compatible with any system from Windows to Apple, and can be applied to any type of common text program including e-mails. With just a click of the mouse, the user can call on the extensive language database to translate any given text. And a link up through the user’s browser connects to the e-Translation Server for translation in the internet. The PT can also be downloaded for cellular phones and Palmpilots for mobile translations - great for vacationing in foreign countries. The next step is the linguachat - an online service for automatic translation of texts in chat groups. Gone are the days of stumbling around for the correct English or German word, with Linguatec’s browser function, users can simply chat away regardless of the language. Business of words Although there are several different international companies producing translation software, Linguatec offers the most comprehensive word and phrase databanks. It is also the only translation software that reads and analyses not only single sentences, but entire contexts to produce more accurate meaning. Whereas other companies such as the American Smartlink or Babelfish offer several different languages, Linguatec offers only three: German, English and French. This enables the company to concentrate on quality rather than quantity, an important factor in serious translation services, said a Linguatec spokesperson. This year’s new and revised edition of the Personal Translator contains 620,000 words and 35,000 common idiomatic phrases. This enables the PT to recognize double meanings and colloquial speech patterns. In addition, users can expand their word base with specialty dictionaries from areas like banking, medicine and technology. The German company started out ten years ago producing German-English translation software on the basis of IBM technology. Originally the product was slow and required a lot of thorough editing after a text was translated by the system. Now it’s being used by international companies like Siemens and Deutsche Bank. Even professional translators, who are generally skeptical of electronic translation software, are beginning to recognize the quality of the system, said a Linguatec spokesperson at CeBIT. \"When they have a long translation, they often let the PT run over the text once as a rough draft, before they fine tune it.\" Some translators and linguists are so impressed by the software, that they’ve quit their regular jobs and have begun working for Linguatec developing more accurate translation technology. \n",
            "\n",
            "Instances Knowledge Graph => Personal Translator - product_of - Linguatec | Linguatec - based_in0 - Germany | Linguatec - based_in0-x - German | Berlin - in0 - Germany | Berlin - in0-x - German | Paris - in0 - France | New York - in0 - United_States | New York - in0-x - American | American - gpe0 - United_States | Smartlink - based_in0 - United_States | Smartlink - based_in0-x - American | Babelfish - based_in0 - United_States | Babelfish - based_in0-x - American | German - gpe0 - Germany | Siemens - based_in0 - Germany | Siemens - based_in0-x - German | Deutsche Bank - based_in0 - Germany | Deutsche Bank - based_in0-x - German |  \n",
            "\n",
            "Types Knowledge Graph => Personal Translator - type - entity | Personal Translator - type - misc | Personal Translator - type - product | Linguatec - type - company | Linguatec - type - entity | Linguatec - type - organization | CeBIT - type - entity | CeBIT - type - organization | CeBIT - type - trade_fair | World Wide Web - type - entity | World Wide Web - type - misc | World Wide Web - type - technology | Berlin - type - entity | Berlin - type - gpe | Berlin - type - gpe2 | Berlin - type - location | Paris - type - entity | Paris - type - gpe | Paris - type - gpe2 | Paris - type - location | New York - type - entity | New York - type - gpe | New York - type - gpe2 | New York - type - location | English - type - entity | English - type - language | German - type - entity | German - type - language | French - type - entity | French - type - language | Windows - type - entity | Windows - type - misc | Windows - type - product | Apple - type - entity | Apple - type - misc | Apple - type - product | e-Translation Server - type - entity | e-Translation Server - type - misc | e-Translation Server - type - product | Palmpilots - type - entity | Palmpilots - type - misc | Palmpilots - type - product | American - type - gpe0-x | American - type - other | Smartlink - type - company | Smartlink - type - entity | Smartlink - type - organization | Babelfish - type - company | Babelfish - type - entity | Babelfish - type - organization | German - type - gpe0-x | German - type - other | IBM - type - company | IBM - type - entity | IBM - type - organization | Siemens - type - company | Siemens - type - entity | Siemens - type - organization | Deutsche Bank - type - company | Deutsche Bank - type - entity | Deutsche Bank - type - organization | Personal Translator - product_of - Linguatec | Linguatec - based_in0 - Germany | Linguatec - based_in0-x - German | Berlin - in0 - Germany | Berlin - in0-x - German | Paris - in0 - France | New York - in0 - United_States | New York - in0-x - American | American - gpe0 - United_States | Smartlink - based_in0 - United_States | Smartlink - based_in0-x - American | Babelfish - based_in0 - United_States | Babelfish - based_in0-x - American | German - gpe0 - Germany | Siemens - based_in0 - Germany | Siemens - based_in0-x - German | Deutsche Bank - based_in0 - Germany | Deutsche Bank - based_in0-x - German |  \n",
            "\n",
            "Subclass Knowledge Graph => misc - subclass_of - entity | product - subclass_of - misc | company - subclass_of - org | trade_fair - subclass_of - org | technology - subclass_of - misc | gpe - subclass_of - location | gpe2 - subclass_of - gpe | location - subclass_of - entity | language - subclass_of - entity | Personal Translator - type - entity | Personal Translator - type - misc | Personal Translator - type - product | Linguatec - type - company | Linguatec - type - entity | Linguatec - type - organization | CeBIT - type - entity | CeBIT - type - organization | CeBIT - type - trade_fair | World Wide Web - type - entity | World Wide Web - type - misc | World Wide Web - type - technology | Berlin - type - entity | Berlin - type - gpe | Berlin - type - gpe2 | Berlin - type - location | Paris - type - entity | Paris - type - gpe | Paris - type - gpe2 | Paris - type - location | New York - type - entity | New York - type - gpe | New York - type - gpe2 | New York - type - location | English - type - entity | English - type - language | German - type - entity | German - type - language | French - type - entity | French - type - language | Windows - type - entity | Windows - type - misc | Windows - type - product | Apple - type - entity | Apple - type - misc | Apple - type - product | e-Translation Server - type - entity | e-Translation Server - type - misc | e-Translation Server - type - product | Palmpilots - type - entity | Palmpilots - type - misc | Palmpilots - type - product | American - type - gpe0-x | American - type - other | Smartlink - type - company | Smartlink - type - entity | Smartlink - type - organization | Babelfish - type - company | Babelfish - type - entity | Babelfish - type - organization | German - type - gpe0-x | German - type - other | IBM - type - company | IBM - type - entity | IBM - type - organization | Siemens - type - company | Siemens - type - entity | Siemens - type - organization | Deutsche Bank - type - company | Deutsche Bank - type - entity | Deutsche Bank - type - organization | Personal Translator - product_of - Linguatec | Linguatec - based_in0 - Germany | Linguatec - based_in0-x - German | Berlin - in0 - Germany | Berlin - in0-x - German | Paris - in0 - France | New York - in0 - United_States | New York - in0-x - American | American - gpe0 - United_States | Smartlink - based_in0 - United_States | Smartlink - based_in0-x - American | Babelfish - based_in0 - United_States | Babelfish - based_in0-x - American | German - gpe0 - Germany | Siemens - based_in0 - Germany | Siemens - based_in0-x - German | Deutsche Bank - based_in0 - Germany | Deutsche Bank - based_in0-x - German |  \n",
            "\n",
            "predicted_label1 => tech \n",
            "\n",
            "core description => – If you’ve ever typed an email to a colleague in one language and got a reply in another, you’re not alone: There’s a new product out there that promises to make your job obsolete, Der Spiegel reports. \n",
            "\n",
            "mined_kg_entities => ten years ago - type - DATE | the American Smartlink - type - ORG | the Personal Translator - type - ORG | English - type - LANGUAGE | French - type - LANGUAGE | This year - type - DATE | Babelfish - type - ORG | Siemens - type - ORG | CeBIT - type - ORG | German-French - type - LANGUAGE | the e-Translation Server - type - PRODUCT | the days - type - DATE | this year - type - DATE | Linguatec - type - ORG | Personal Translator - type - ORG | Palmpilots - type - PRODUCT | Berlin - type - GPE | Apple - type - ORG | Deutsche Bank - type - ORG | IBM - type - ORG | PT - type - ORG | Paris - type - GPE | Windows - type - ORG | New York - type - GPE \n",
            "\n"
          ]
        }
      ]
    },
    {
      "cell_type": "code",
      "source": [
        "def extract_triples(text):\n",
        "    # Split the string into individual triples\n",
        "    triples = [t.strip() for t in text.split('|')]\n",
        "    # Split each triple into its constituent parts\n",
        "    triples = [tuple(t.split('- type - ')) for t in triples]\n",
        "    return triples\n",
        "\n",
        "df['triple_column'] = df['mined_kg_entities'].apply(extract_triples)"
      ],
      "metadata": {
        "id": "nG7BuPVMcZym"
      },
      "execution_count": 6,
      "outputs": []
    },
    {
      "cell_type": "code",
      "source": [
        "check_it_function(df,0)"
      ],
      "metadata": {
        "colab": {
          "base_uri": "https://localhost:8080/"
        },
        "id": "oJM00vHAcqtn",
        "outputId": "3ba28958-ddc4-4b38-9432-89a887ae2c82"
      },
      "execution_count": 7,
      "outputs": [
        {
          "output_type": "stream",
          "name": "stdout",
          "text": [
            "Unnamed: 0 => 0 \n",
            "\n",
            "story => Multi-lingual in the World Wide Web Professional translators and interpreters beware! There’s a new product out at CeBIT this year and it’s set to make your job obsolete - or at least the more mundane portion of business correspondence. Imagine sitting in an office in Berlin, Paris or New York, typing an e-mail to an international colleague and getting a reply - all in one language. Sure, it’s no problem if everyone speaks the same language. But what happens when three different languages are involved? You get a translator, right? Or you spend a little more time flipping through an English-German-French dictionary. Too expensive, too time consuming? Well, there’s always the option of learning a foreign language. In the global business community, bilungualism is not a bad investment. But for those of you who didn’t memorize the German irregular verbs in school and who still can’t be bothered to remember the gender of French nouns, there’s a technical solution: the Personal Translator by Linguatec. No, it’s not a mini headset that automatically interprets your every thought - at least not yet. Linguatec is one of the leading innovators in the market for language recognition software, and it’s unique Personal Translator (PT) program is getting better and more accurate every year. So far there are two language versions, German-English and German-French. Designed as a complete software package for easy installment on a normal PC or computer network, PT is ideal for the office environment. It’s compatible with any system from Windows to Apple, and can be applied to any type of common text program including e-mails. With just a click of the mouse, the user can call on the extensive language database to translate any given text. And a link up through the user’s browser connects to the e-Translation Server for translation in the internet. The PT can also be downloaded for cellular phones and Palmpilots for mobile translations - great for vacationing in foreign countries. The next step is the linguachat - an online service for automatic translation of texts in chat groups. Gone are the days of stumbling around for the correct English or German word, with Linguatec’s browser function, users can simply chat away regardless of the language. Business of words Although there are several different international companies producing translation software, Linguatec offers the most comprehensive word and phrase databanks. It is also the only translation software that reads and analyses not only single sentences, but entire contexts to produce more accurate meaning. Whereas other companies such as the American Smartlink or Babelfish offer several different languages, Linguatec offers only three: German, English and French. This enables the company to concentrate on quality rather than quantity, an important factor in serious translation services, said a Linguatec spokesperson. This year’s new and revised edition of the Personal Translator contains 620,000 words and 35,000 common idiomatic phrases. This enables the PT to recognize double meanings and colloquial speech patterns. In addition, users can expand their word base with specialty dictionaries from areas like banking, medicine and technology. The German company started out ten years ago producing German-English translation software on the basis of IBM technology. Originally the product was slow and required a lot of thorough editing after a text was translated by the system. Now it’s being used by international companies like Siemens and Deutsche Bank. Even professional translators, who are generally skeptical of electronic translation software, are beginning to recognize the quality of the system, said a Linguatec spokesperson at CeBIT. \"When they have a long translation, they often let the PT run over the text once as a rough draft, before they fine tune it.\" Some translators and linguists are so impressed by the software, that they’ve quit their regular jobs and have begun working for Linguatec developing more accurate translation technology. \n",
            "\n",
            "Instances Knowledge Graph => Personal Translator - product_of - Linguatec | Linguatec - based_in0 - Germany | Linguatec - based_in0-x - German | Berlin - in0 - Germany | Berlin - in0-x - German | Paris - in0 - France | New York - in0 - United_States | New York - in0-x - American | American - gpe0 - United_States | Smartlink - based_in0 - United_States | Smartlink - based_in0-x - American | Babelfish - based_in0 - United_States | Babelfish - based_in0-x - American | German - gpe0 - Germany | Siemens - based_in0 - Germany | Siemens - based_in0-x - German | Deutsche Bank - based_in0 - Germany | Deutsche Bank - based_in0-x - German |  \n",
            "\n",
            "Types Knowledge Graph => Personal Translator - type - entity | Personal Translator - type - misc | Personal Translator - type - product | Linguatec - type - company | Linguatec - type - entity | Linguatec - type - organization | CeBIT - type - entity | CeBIT - type - organization | CeBIT - type - trade_fair | World Wide Web - type - entity | World Wide Web - type - misc | World Wide Web - type - technology | Berlin - type - entity | Berlin - type - gpe | Berlin - type - gpe2 | Berlin - type - location | Paris - type - entity | Paris - type - gpe | Paris - type - gpe2 | Paris - type - location | New York - type - entity | New York - type - gpe | New York - type - gpe2 | New York - type - location | English - type - entity | English - type - language | German - type - entity | German - type - language | French - type - entity | French - type - language | Windows - type - entity | Windows - type - misc | Windows - type - product | Apple - type - entity | Apple - type - misc | Apple - type - product | e-Translation Server - type - entity | e-Translation Server - type - misc | e-Translation Server - type - product | Palmpilots - type - entity | Palmpilots - type - misc | Palmpilots - type - product | American - type - gpe0-x | American - type - other | Smartlink - type - company | Smartlink - type - entity | Smartlink - type - organization | Babelfish - type - company | Babelfish - type - entity | Babelfish - type - organization | German - type - gpe0-x | German - type - other | IBM - type - company | IBM - type - entity | IBM - type - organization | Siemens - type - company | Siemens - type - entity | Siemens - type - organization | Deutsche Bank - type - company | Deutsche Bank - type - entity | Deutsche Bank - type - organization | Personal Translator - product_of - Linguatec | Linguatec - based_in0 - Germany | Linguatec - based_in0-x - German | Berlin - in0 - Germany | Berlin - in0-x - German | Paris - in0 - France | New York - in0 - United_States | New York - in0-x - American | American - gpe0 - United_States | Smartlink - based_in0 - United_States | Smartlink - based_in0-x - American | Babelfish - based_in0 - United_States | Babelfish - based_in0-x - American | German - gpe0 - Germany | Siemens - based_in0 - Germany | Siemens - based_in0-x - German | Deutsche Bank - based_in0 - Germany | Deutsche Bank - based_in0-x - German |  \n",
            "\n",
            "Subclass Knowledge Graph => misc - subclass_of - entity | product - subclass_of - misc | company - subclass_of - org | trade_fair - subclass_of - org | technology - subclass_of - misc | gpe - subclass_of - location | gpe2 - subclass_of - gpe | location - subclass_of - entity | language - subclass_of - entity | Personal Translator - type - entity | Personal Translator - type - misc | Personal Translator - type - product | Linguatec - type - company | Linguatec - type - entity | Linguatec - type - organization | CeBIT - type - entity | CeBIT - type - organization | CeBIT - type - trade_fair | World Wide Web - type - entity | World Wide Web - type - misc | World Wide Web - type - technology | Berlin - type - entity | Berlin - type - gpe | Berlin - type - gpe2 | Berlin - type - location | Paris - type - entity | Paris - type - gpe | Paris - type - gpe2 | Paris - type - location | New York - type - entity | New York - type - gpe | New York - type - gpe2 | New York - type - location | English - type - entity | English - type - language | German - type - entity | German - type - language | French - type - entity | French - type - language | Windows - type - entity | Windows - type - misc | Windows - type - product | Apple - type - entity | Apple - type - misc | Apple - type - product | e-Translation Server - type - entity | e-Translation Server - type - misc | e-Translation Server - type - product | Palmpilots - type - entity | Palmpilots - type - misc | Palmpilots - type - product | American - type - gpe0-x | American - type - other | Smartlink - type - company | Smartlink - type - entity | Smartlink - type - organization | Babelfish - type - company | Babelfish - type - entity | Babelfish - type - organization | German - type - gpe0-x | German - type - other | IBM - type - company | IBM - type - entity | IBM - type - organization | Siemens - type - company | Siemens - type - entity | Siemens - type - organization | Deutsche Bank - type - company | Deutsche Bank - type - entity | Deutsche Bank - type - organization | Personal Translator - product_of - Linguatec | Linguatec - based_in0 - Germany | Linguatec - based_in0-x - German | Berlin - in0 - Germany | Berlin - in0-x - German | Paris - in0 - France | New York - in0 - United_States | New York - in0-x - American | American - gpe0 - United_States | Smartlink - based_in0 - United_States | Smartlink - based_in0-x - American | Babelfish - based_in0 - United_States | Babelfish - based_in0-x - American | German - gpe0 - Germany | Siemens - based_in0 - Germany | Siemens - based_in0-x - German | Deutsche Bank - based_in0 - Germany | Deutsche Bank - based_in0-x - German |  \n",
            "\n",
            "predicted_label1 => tech \n",
            "\n",
            "core description => – If you’ve ever typed an email to a colleague in one language and got a reply in another, you’re not alone: There’s a new product out there that promises to make your job obsolete, Der Spiegel reports. \n",
            "\n",
            "mined_kg_entities => ten years ago - type - DATE | the American Smartlink - type - ORG | the Personal Translator - type - ORG | English - type - LANGUAGE | French - type - LANGUAGE | This year - type - DATE | Babelfish - type - ORG | Siemens - type - ORG | CeBIT - type - ORG | German-French - type - LANGUAGE | the e-Translation Server - type - PRODUCT | the days - type - DATE | this year - type - DATE | Linguatec - type - ORG | Personal Translator - type - ORG | Palmpilots - type - PRODUCT | Berlin - type - GPE | Apple - type - ORG | Deutsche Bank - type - ORG | IBM - type - ORG | PT - type - ORG | Paris - type - GPE | Windows - type - ORG | New York - type - GPE \n",
            "\n",
            "triple_column => [('ten years ago ', 'DATE'), ('the American Smartlink ', 'ORG'), ('the Personal Translator ', 'ORG'), ('English ', 'LANGUAGE'), ('French ', 'LANGUAGE'), ('This year ', 'DATE'), ('Babelfish ', 'ORG'), ('Siemens ', 'ORG'), ('CeBIT ', 'ORG'), ('German-French ', 'LANGUAGE'), ('the e-Translation Server ', 'PRODUCT'), ('the days ', 'DATE'), ('this year ', 'DATE'), ('Linguatec ', 'ORG'), ('Personal Translator ', 'ORG'), ('Palmpilots ', 'PRODUCT'), ('Berlin ', 'GPE'), ('Apple ', 'ORG'), ('Deutsche Bank ', 'ORG'), ('IBM ', 'ORG'), ('PT ', 'ORG'), ('Paris ', 'GPE'), ('Windows ', 'ORG'), ('New York ', 'GPE')] \n",
            "\n"
          ]
        }
      ]
    },
    {
      "cell_type": "code",
      "source": [
        "# CHECKING UNIQUE ENTRIES\n",
        "\n",
        "unique_entries = set([entry[1] for row in df['triple_column'] for entry in row if len(entry) > 1])\n",
        "print(unique_entries)"
      ],
      "metadata": {
        "colab": {
          "base_uri": "https://localhost:8080/"
        },
        "id": "hPgv1tmqdN9H",
        "outputId": "1e3ddc00-ed90-4c6f-f6aa-b50937d09eb3"
      },
      "execution_count": 8,
      "outputs": [
        {
          "output_type": "stream",
          "name": "stdout",
          "text": [
            "{'NORP', 'DATE', 'ORG', 'MONEY', 'PERSON', 'EVENT', 'GPE', 'LOC', 'LAW', 'LANGUAGE', 'FAC', 'TIME', 'WORK_OF_ART', 'PRODUCT', 'ORDINAL'}\n"
          ]
        }
      ]
    },
    {
      "cell_type": "code",
      "source": [
        "# REMOVING TRIPLES WITH ORDINALE OR LANGUAGE\n",
        "df['triple_column'] = [[t for t in row if len(t) > 1 if t[1] not in ['ORDINAL', 'LANGUAGE']] for row in df['triple_column'] ]\n",
        "unique_entries = set([entry[1] for row in df['triple_column'] for entry in row if len(entry) > 1])\n",
        "print(unique_entries)"
      ],
      "metadata": {
        "colab": {
          "base_uri": "https://localhost:8080/"
        },
        "id": "qClDh3E7fmeU",
        "outputId": "cd203c3b-986e-4061-d96c-704a9f551215"
      },
      "execution_count": 9,
      "outputs": [
        {
          "output_type": "stream",
          "name": "stdout",
          "text": [
            "{'NORP', 'DATE', 'ORG', 'MONEY', 'PERSON', 'EVENT', 'GPE', 'LOC', 'LAW', 'FAC', 'TIME', 'WORK_OF_ART', 'PRODUCT'}\n"
          ]
        }
      ]
    },
    {
      "cell_type": "code",
      "source": [
        "new_triples = []\n",
        "for row in df['triple_column']:\n",
        "    new_row = []\n",
        "    for triple in row:\n",
        "        if triple[1] == 'WORK_OF_ART':\n",
        "            new_row.append(('news', 'hasItem', triple[0]))\n",
        "            new_row.append((triple[0], 'type', 'work of art'))\n",
        "        elif triple[1] == 'LAW':\n",
        "            new_row.append(('news', 'hasItem', triple[0]))\n",
        "            new_row.append((triple[0], 'type', 'law'))\n",
        "        elif triple[1] == 'FAC':\n",
        "            new_row.append(('news', 'hasItem', triple[0]))\n",
        "            new_row.append((triple[0], 'type', 'facility'))\n",
        "        elif triple[1] == 'MONEY':\n",
        "            new_row.append(('news', 'hasItem', triple[0]))\n",
        "            new_row.append((triple[0], 'type', 'money'))\n",
        "        elif triple[1] == 'PRODUCT':\n",
        "            new_row.append(('news', 'hasItem', triple[0]))\n",
        "            new_row.append((triple[0], 'type', 'product'))\n",
        "        elif triple[1] == 'TIME':\n",
        "            new_row.append(('news', 'hasTime', triple[0]))\n",
        "            new_row.append((triple[0], 'type', 'time'))\n",
        "        elif triple[1] == 'DATE':\n",
        "            new_row.append(('news', 'hasTime', triple[0]))\n",
        "            new_row.append((triple[0], 'type', 'time'))\n",
        "        elif triple[1] == 'LOC':\n",
        "            new_row.append(('news', 'hasPlace', triple[0]))\n",
        "            new_row.append((triple[0], 'type', 'place'))\n",
        "        elif triple[1] == 'EVENT':\n",
        "            new_row.append(('news', 'hasEvent', triple[0]))\n",
        "            new_row.append((triple[0], 'type', 'event'))\n",
        "        elif triple[1] == 'PERSON':\n",
        "            new_row.append(('news', 'hasActor', triple[0]))\n",
        "            new_row.append((triple[0], 'type', 'person'))\n",
        "        elif triple[1] == 'NORP':\n",
        "            new_row.append(('news', 'hasActor', triple[0]))\n",
        "            new_row.append((triple[0], 'type', 'Nationalities or Religious or Political Groups'))\n",
        "        elif triple[1] == 'ORG':\n",
        "            new_row.append(('news', 'hasActor', triple[0]))\n",
        "            new_row.append((triple[0], 'type', 'organization'))\n",
        "        elif triple[1] == 'GEO':\n",
        "            new_row.append(('news', 'hasActor', triple[0]))\n",
        "            new_row.append((triple[0], 'type', 'Geo-Political Entity'))\n",
        "    new_triples.append(new_row)\n",
        "\n",
        "df['try'] = new_triples"
      ],
      "metadata": {
        "id": "qbGvuhyiiHdm"
      },
      "execution_count": 10,
      "outputs": []
    },
    {
      "cell_type": "code",
      "source": [
        "check_it_function(df,0)"
      ],
      "metadata": {
        "colab": {
          "base_uri": "https://localhost:8080/"
        },
        "id": "BfCvAKRgYWnA",
        "outputId": "47d14221-1afb-4015-c854-129d157a8695"
      },
      "execution_count": 11,
      "outputs": [
        {
          "output_type": "stream",
          "name": "stdout",
          "text": [
            "Unnamed: 0 => 0 \n",
            "\n",
            "story => Multi-lingual in the World Wide Web Professional translators and interpreters beware! There’s a new product out at CeBIT this year and it’s set to make your job obsolete - or at least the more mundane portion of business correspondence. Imagine sitting in an office in Berlin, Paris or New York, typing an e-mail to an international colleague and getting a reply - all in one language. Sure, it’s no problem if everyone speaks the same language. But what happens when three different languages are involved? You get a translator, right? Or you spend a little more time flipping through an English-German-French dictionary. Too expensive, too time consuming? Well, there’s always the option of learning a foreign language. In the global business community, bilungualism is not a bad investment. But for those of you who didn’t memorize the German irregular verbs in school and who still can’t be bothered to remember the gender of French nouns, there’s a technical solution: the Personal Translator by Linguatec. No, it’s not a mini headset that automatically interprets your every thought - at least not yet. Linguatec is one of the leading innovators in the market for language recognition software, and it’s unique Personal Translator (PT) program is getting better and more accurate every year. So far there are two language versions, German-English and German-French. Designed as a complete software package for easy installment on a normal PC or computer network, PT is ideal for the office environment. It’s compatible with any system from Windows to Apple, and can be applied to any type of common text program including e-mails. With just a click of the mouse, the user can call on the extensive language database to translate any given text. And a link up through the user’s browser connects to the e-Translation Server for translation in the internet. The PT can also be downloaded for cellular phones and Palmpilots for mobile translations - great for vacationing in foreign countries. The next step is the linguachat - an online service for automatic translation of texts in chat groups. Gone are the days of stumbling around for the correct English or German word, with Linguatec’s browser function, users can simply chat away regardless of the language. Business of words Although there are several different international companies producing translation software, Linguatec offers the most comprehensive word and phrase databanks. It is also the only translation software that reads and analyses not only single sentences, but entire contexts to produce more accurate meaning. Whereas other companies such as the American Smartlink or Babelfish offer several different languages, Linguatec offers only three: German, English and French. This enables the company to concentrate on quality rather than quantity, an important factor in serious translation services, said a Linguatec spokesperson. This year’s new and revised edition of the Personal Translator contains 620,000 words and 35,000 common idiomatic phrases. This enables the PT to recognize double meanings and colloquial speech patterns. In addition, users can expand their word base with specialty dictionaries from areas like banking, medicine and technology. The German company started out ten years ago producing German-English translation software on the basis of IBM technology. Originally the product was slow and required a lot of thorough editing after a text was translated by the system. Now it’s being used by international companies like Siemens and Deutsche Bank. Even professional translators, who are generally skeptical of electronic translation software, are beginning to recognize the quality of the system, said a Linguatec spokesperson at CeBIT. \"When they have a long translation, they often let the PT run over the text once as a rough draft, before they fine tune it.\" Some translators and linguists are so impressed by the software, that they’ve quit their regular jobs and have begun working for Linguatec developing more accurate translation technology. \n",
            "\n",
            "Instances Knowledge Graph => Personal Translator - product_of - Linguatec | Linguatec - based_in0 - Germany | Linguatec - based_in0-x - German | Berlin - in0 - Germany | Berlin - in0-x - German | Paris - in0 - France | New York - in0 - United_States | New York - in0-x - American | American - gpe0 - United_States | Smartlink - based_in0 - United_States | Smartlink - based_in0-x - American | Babelfish - based_in0 - United_States | Babelfish - based_in0-x - American | German - gpe0 - Germany | Siemens - based_in0 - Germany | Siemens - based_in0-x - German | Deutsche Bank - based_in0 - Germany | Deutsche Bank - based_in0-x - German |  \n",
            "\n",
            "Types Knowledge Graph => Personal Translator - type - entity | Personal Translator - type - misc | Personal Translator - type - product | Linguatec - type - company | Linguatec - type - entity | Linguatec - type - organization | CeBIT - type - entity | CeBIT - type - organization | CeBIT - type - trade_fair | World Wide Web - type - entity | World Wide Web - type - misc | World Wide Web - type - technology | Berlin - type - entity | Berlin - type - gpe | Berlin - type - gpe2 | Berlin - type - location | Paris - type - entity | Paris - type - gpe | Paris - type - gpe2 | Paris - type - location | New York - type - entity | New York - type - gpe | New York - type - gpe2 | New York - type - location | English - type - entity | English - type - language | German - type - entity | German - type - language | French - type - entity | French - type - language | Windows - type - entity | Windows - type - misc | Windows - type - product | Apple - type - entity | Apple - type - misc | Apple - type - product | e-Translation Server - type - entity | e-Translation Server - type - misc | e-Translation Server - type - product | Palmpilots - type - entity | Palmpilots - type - misc | Palmpilots - type - product | American - type - gpe0-x | American - type - other | Smartlink - type - company | Smartlink - type - entity | Smartlink - type - organization | Babelfish - type - company | Babelfish - type - entity | Babelfish - type - organization | German - type - gpe0-x | German - type - other | IBM - type - company | IBM - type - entity | IBM - type - organization | Siemens - type - company | Siemens - type - entity | Siemens - type - organization | Deutsche Bank - type - company | Deutsche Bank - type - entity | Deutsche Bank - type - organization | Personal Translator - product_of - Linguatec | Linguatec - based_in0 - Germany | Linguatec - based_in0-x - German | Berlin - in0 - Germany | Berlin - in0-x - German | Paris - in0 - France | New York - in0 - United_States | New York - in0-x - American | American - gpe0 - United_States | Smartlink - based_in0 - United_States | Smartlink - based_in0-x - American | Babelfish - based_in0 - United_States | Babelfish - based_in0-x - American | German - gpe0 - Germany | Siemens - based_in0 - Germany | Siemens - based_in0-x - German | Deutsche Bank - based_in0 - Germany | Deutsche Bank - based_in0-x - German |  \n",
            "\n",
            "Subclass Knowledge Graph => misc - subclass_of - entity | product - subclass_of - misc | company - subclass_of - org | trade_fair - subclass_of - org | technology - subclass_of - misc | gpe - subclass_of - location | gpe2 - subclass_of - gpe | location - subclass_of - entity | language - subclass_of - entity | Personal Translator - type - entity | Personal Translator - type - misc | Personal Translator - type - product | Linguatec - type - company | Linguatec - type - entity | Linguatec - type - organization | CeBIT - type - entity | CeBIT - type - organization | CeBIT - type - trade_fair | World Wide Web - type - entity | World Wide Web - type - misc | World Wide Web - type - technology | Berlin - type - entity | Berlin - type - gpe | Berlin - type - gpe2 | Berlin - type - location | Paris - type - entity | Paris - type - gpe | Paris - type - gpe2 | Paris - type - location | New York - type - entity | New York - type - gpe | New York - type - gpe2 | New York - type - location | English - type - entity | English - type - language | German - type - entity | German - type - language | French - type - entity | French - type - language | Windows - type - entity | Windows - type - misc | Windows - type - product | Apple - type - entity | Apple - type - misc | Apple - type - product | e-Translation Server - type - entity | e-Translation Server - type - misc | e-Translation Server - type - product | Palmpilots - type - entity | Palmpilots - type - misc | Palmpilots - type - product | American - type - gpe0-x | American - type - other | Smartlink - type - company | Smartlink - type - entity | Smartlink - type - organization | Babelfish - type - company | Babelfish - type - entity | Babelfish - type - organization | German - type - gpe0-x | German - type - other | IBM - type - company | IBM - type - entity | IBM - type - organization | Siemens - type - company | Siemens - type - entity | Siemens - type - organization | Deutsche Bank - type - company | Deutsche Bank - type - entity | Deutsche Bank - type - organization | Personal Translator - product_of - Linguatec | Linguatec - based_in0 - Germany | Linguatec - based_in0-x - German | Berlin - in0 - Germany | Berlin - in0-x - German | Paris - in0 - France | New York - in0 - United_States | New York - in0-x - American | American - gpe0 - United_States | Smartlink - based_in0 - United_States | Smartlink - based_in0-x - American | Babelfish - based_in0 - United_States | Babelfish - based_in0-x - American | German - gpe0 - Germany | Siemens - based_in0 - Germany | Siemens - based_in0-x - German | Deutsche Bank - based_in0 - Germany | Deutsche Bank - based_in0-x - German |  \n",
            "\n",
            "predicted_label1 => tech \n",
            "\n",
            "core description => – If you’ve ever typed an email to a colleague in one language and got a reply in another, you’re not alone: There’s a new product out there that promises to make your job obsolete, Der Spiegel reports. \n",
            "\n",
            "mined_kg_entities => ten years ago - type - DATE | the American Smartlink - type - ORG | the Personal Translator - type - ORG | English - type - LANGUAGE | French - type - LANGUAGE | This year - type - DATE | Babelfish - type - ORG | Siemens - type - ORG | CeBIT - type - ORG | German-French - type - LANGUAGE | the e-Translation Server - type - PRODUCT | the days - type - DATE | this year - type - DATE | Linguatec - type - ORG | Personal Translator - type - ORG | Palmpilots - type - PRODUCT | Berlin - type - GPE | Apple - type - ORG | Deutsche Bank - type - ORG | IBM - type - ORG | PT - type - ORG | Paris - type - GPE | Windows - type - ORG | New York - type - GPE \n",
            "\n",
            "triple_column => [('ten years ago ', 'DATE'), ('the American Smartlink ', 'ORG'), ('the Personal Translator ', 'ORG'), ('This year ', 'DATE'), ('Babelfish ', 'ORG'), ('Siemens ', 'ORG'), ('CeBIT ', 'ORG'), ('the e-Translation Server ', 'PRODUCT'), ('the days ', 'DATE'), ('this year ', 'DATE'), ('Linguatec ', 'ORG'), ('Personal Translator ', 'ORG'), ('Palmpilots ', 'PRODUCT'), ('Berlin ', 'GPE'), ('Apple ', 'ORG'), ('Deutsche Bank ', 'ORG'), ('IBM ', 'ORG'), ('PT ', 'ORG'), ('Paris ', 'GPE'), ('Windows ', 'ORG'), ('New York ', 'GPE')] \n",
            "\n",
            "try => [('news', 'hasTime', 'ten years ago '), ('ten years ago ', 'type', 'time'), ('news', 'hasActor', 'the American Smartlink '), ('the American Smartlink ', 'type', 'organization'), ('news', 'hasActor', 'the Personal Translator '), ('the Personal Translator ', 'type', 'organization'), ('news', 'hasTime', 'This year '), ('This year ', 'type', 'time'), ('news', 'hasActor', 'Babelfish '), ('Babelfish ', 'type', 'organization'), ('news', 'hasActor', 'Siemens '), ('Siemens ', 'type', 'organization'), ('news', 'hasActor', 'CeBIT '), ('CeBIT ', 'type', 'organization'), ('news', 'hasItem', 'the e-Translation Server '), ('the e-Translation Server ', 'type', 'product'), ('news', 'hasTime', 'the days '), ('the days ', 'type', 'time'), ('news', 'hasTime', 'this year '), ('this year ', 'type', 'time'), ('news', 'hasActor', 'Linguatec '), ('Linguatec ', 'type', 'organization'), ('news', 'hasActor', 'Personal Translator '), ('Personal Translator ', 'type', 'organization'), ('news', 'hasItem', 'Palmpilots '), ('Palmpilots ', 'type', 'product'), ('news', 'hasActor', 'Apple '), ('Apple ', 'type', 'organization'), ('news', 'hasActor', 'Deutsche Bank '), ('Deutsche Bank ', 'type', 'organization'), ('news', 'hasActor', 'IBM '), ('IBM ', 'type', 'organization'), ('news', 'hasActor', 'PT '), ('PT ', 'type', 'organization'), ('news', 'hasActor', 'Windows '), ('Windows ', 'type', 'organization')] \n",
            "\n"
          ]
        }
      ]
    },
    {
      "cell_type": "code",
      "source": [
        "\n",
        "df['try2'] = [\"{\" + \" | \".join([f\"{triple[0]} - {triple[1]} - {triple[2]}\" for triple in row]) + \"}\" for row in df['try']]\n"
      ],
      "metadata": {
        "id": "jK7OgHO6lK5D"
      },
      "execution_count": 12,
      "outputs": []
    },
    {
      "cell_type": "code",
      "source": [
        "check_it_function(df,0)"
      ],
      "metadata": {
        "colab": {
          "base_uri": "https://localhost:8080/"
        },
        "id": "nW7cbgtzlPhR",
        "outputId": "ae5fc3c4-6ed8-443a-c3ca-eb88fb66cbd6"
      },
      "execution_count": 13,
      "outputs": [
        {
          "output_type": "stream",
          "name": "stdout",
          "text": [
            "Unnamed: 0 => 0 \n",
            "\n",
            "story => Multi-lingual in the World Wide Web Professional translators and interpreters beware! There’s a new product out at CeBIT this year and it’s set to make your job obsolete - or at least the more mundane portion of business correspondence. Imagine sitting in an office in Berlin, Paris or New York, typing an e-mail to an international colleague and getting a reply - all in one language. Sure, it’s no problem if everyone speaks the same language. But what happens when three different languages are involved? You get a translator, right? Or you spend a little more time flipping through an English-German-French dictionary. Too expensive, too time consuming? Well, there’s always the option of learning a foreign language. In the global business community, bilungualism is not a bad investment. But for those of you who didn’t memorize the German irregular verbs in school and who still can’t be bothered to remember the gender of French nouns, there’s a technical solution: the Personal Translator by Linguatec. No, it’s not a mini headset that automatically interprets your every thought - at least not yet. Linguatec is one of the leading innovators in the market for language recognition software, and it’s unique Personal Translator (PT) program is getting better and more accurate every year. So far there are two language versions, German-English and German-French. Designed as a complete software package for easy installment on a normal PC or computer network, PT is ideal for the office environment. It’s compatible with any system from Windows to Apple, and can be applied to any type of common text program including e-mails. With just a click of the mouse, the user can call on the extensive language database to translate any given text. And a link up through the user’s browser connects to the e-Translation Server for translation in the internet. The PT can also be downloaded for cellular phones and Palmpilots for mobile translations - great for vacationing in foreign countries. The next step is the linguachat - an online service for automatic translation of texts in chat groups. Gone are the days of stumbling around for the correct English or German word, with Linguatec’s browser function, users can simply chat away regardless of the language. Business of words Although there are several different international companies producing translation software, Linguatec offers the most comprehensive word and phrase databanks. It is also the only translation software that reads and analyses not only single sentences, but entire contexts to produce more accurate meaning. Whereas other companies such as the American Smartlink or Babelfish offer several different languages, Linguatec offers only three: German, English and French. This enables the company to concentrate on quality rather than quantity, an important factor in serious translation services, said a Linguatec spokesperson. This year’s new and revised edition of the Personal Translator contains 620,000 words and 35,000 common idiomatic phrases. This enables the PT to recognize double meanings and colloquial speech patterns. In addition, users can expand their word base with specialty dictionaries from areas like banking, medicine and technology. The German company started out ten years ago producing German-English translation software on the basis of IBM technology. Originally the product was slow and required a lot of thorough editing after a text was translated by the system. Now it’s being used by international companies like Siemens and Deutsche Bank. Even professional translators, who are generally skeptical of electronic translation software, are beginning to recognize the quality of the system, said a Linguatec spokesperson at CeBIT. \"When they have a long translation, they often let the PT run over the text once as a rough draft, before they fine tune it.\" Some translators and linguists are so impressed by the software, that they’ve quit their regular jobs and have begun working for Linguatec developing more accurate translation technology. \n",
            "\n",
            "Instances Knowledge Graph => Personal Translator - product_of - Linguatec | Linguatec - based_in0 - Germany | Linguatec - based_in0-x - German | Berlin - in0 - Germany | Berlin - in0-x - German | Paris - in0 - France | New York - in0 - United_States | New York - in0-x - American | American - gpe0 - United_States | Smartlink - based_in0 - United_States | Smartlink - based_in0-x - American | Babelfish - based_in0 - United_States | Babelfish - based_in0-x - American | German - gpe0 - Germany | Siemens - based_in0 - Germany | Siemens - based_in0-x - German | Deutsche Bank - based_in0 - Germany | Deutsche Bank - based_in0-x - German |  \n",
            "\n",
            "Types Knowledge Graph => Personal Translator - type - entity | Personal Translator - type - misc | Personal Translator - type - product | Linguatec - type - company | Linguatec - type - entity | Linguatec - type - organization | CeBIT - type - entity | CeBIT - type - organization | CeBIT - type - trade_fair | World Wide Web - type - entity | World Wide Web - type - misc | World Wide Web - type - technology | Berlin - type - entity | Berlin - type - gpe | Berlin - type - gpe2 | Berlin - type - location | Paris - type - entity | Paris - type - gpe | Paris - type - gpe2 | Paris - type - location | New York - type - entity | New York - type - gpe | New York - type - gpe2 | New York - type - location | English - type - entity | English - type - language | German - type - entity | German - type - language | French - type - entity | French - type - language | Windows - type - entity | Windows - type - misc | Windows - type - product | Apple - type - entity | Apple - type - misc | Apple - type - product | e-Translation Server - type - entity | e-Translation Server - type - misc | e-Translation Server - type - product | Palmpilots - type - entity | Palmpilots - type - misc | Palmpilots - type - product | American - type - gpe0-x | American - type - other | Smartlink - type - company | Smartlink - type - entity | Smartlink - type - organization | Babelfish - type - company | Babelfish - type - entity | Babelfish - type - organization | German - type - gpe0-x | German - type - other | IBM - type - company | IBM - type - entity | IBM - type - organization | Siemens - type - company | Siemens - type - entity | Siemens - type - organization | Deutsche Bank - type - company | Deutsche Bank - type - entity | Deutsche Bank - type - organization | Personal Translator - product_of - Linguatec | Linguatec - based_in0 - Germany | Linguatec - based_in0-x - German | Berlin - in0 - Germany | Berlin - in0-x - German | Paris - in0 - France | New York - in0 - United_States | New York - in0-x - American | American - gpe0 - United_States | Smartlink - based_in0 - United_States | Smartlink - based_in0-x - American | Babelfish - based_in0 - United_States | Babelfish - based_in0-x - American | German - gpe0 - Germany | Siemens - based_in0 - Germany | Siemens - based_in0-x - German | Deutsche Bank - based_in0 - Germany | Deutsche Bank - based_in0-x - German |  \n",
            "\n",
            "Subclass Knowledge Graph => misc - subclass_of - entity | product - subclass_of - misc | company - subclass_of - org | trade_fair - subclass_of - org | technology - subclass_of - misc | gpe - subclass_of - location | gpe2 - subclass_of - gpe | location - subclass_of - entity | language - subclass_of - entity | Personal Translator - type - entity | Personal Translator - type - misc | Personal Translator - type - product | Linguatec - type - company | Linguatec - type - entity | Linguatec - type - organization | CeBIT - type - entity | CeBIT - type - organization | CeBIT - type - trade_fair | World Wide Web - type - entity | World Wide Web - type - misc | World Wide Web - type - technology | Berlin - type - entity | Berlin - type - gpe | Berlin - type - gpe2 | Berlin - type - location | Paris - type - entity | Paris - type - gpe | Paris - type - gpe2 | Paris - type - location | New York - type - entity | New York - type - gpe | New York - type - gpe2 | New York - type - location | English - type - entity | English - type - language | German - type - entity | German - type - language | French - type - entity | French - type - language | Windows - type - entity | Windows - type - misc | Windows - type - product | Apple - type - entity | Apple - type - misc | Apple - type - product | e-Translation Server - type - entity | e-Translation Server - type - misc | e-Translation Server - type - product | Palmpilots - type - entity | Palmpilots - type - misc | Palmpilots - type - product | American - type - gpe0-x | American - type - other | Smartlink - type - company | Smartlink - type - entity | Smartlink - type - organization | Babelfish - type - company | Babelfish - type - entity | Babelfish - type - organization | German - type - gpe0-x | German - type - other | IBM - type - company | IBM - type - entity | IBM - type - organization | Siemens - type - company | Siemens - type - entity | Siemens - type - organization | Deutsche Bank - type - company | Deutsche Bank - type - entity | Deutsche Bank - type - organization | Personal Translator - product_of - Linguatec | Linguatec - based_in0 - Germany | Linguatec - based_in0-x - German | Berlin - in0 - Germany | Berlin - in0-x - German | Paris - in0 - France | New York - in0 - United_States | New York - in0-x - American | American - gpe0 - United_States | Smartlink - based_in0 - United_States | Smartlink - based_in0-x - American | Babelfish - based_in0 - United_States | Babelfish - based_in0-x - American | German - gpe0 - Germany | Siemens - based_in0 - Germany | Siemens - based_in0-x - German | Deutsche Bank - based_in0 - Germany | Deutsche Bank - based_in0-x - German |  \n",
            "\n",
            "predicted_label1 => tech \n",
            "\n",
            "core description => – If you’ve ever typed an email to a colleague in one language and got a reply in another, you’re not alone: There’s a new product out there that promises to make your job obsolete, Der Spiegel reports. \n",
            "\n",
            "mined_kg_entities => ten years ago - type - DATE | the American Smartlink - type - ORG | the Personal Translator - type - ORG | English - type - LANGUAGE | French - type - LANGUAGE | This year - type - DATE | Babelfish - type - ORG | Siemens - type - ORG | CeBIT - type - ORG | German-French - type - LANGUAGE | the e-Translation Server - type - PRODUCT | the days - type - DATE | this year - type - DATE | Linguatec - type - ORG | Personal Translator - type - ORG | Palmpilots - type - PRODUCT | Berlin - type - GPE | Apple - type - ORG | Deutsche Bank - type - ORG | IBM - type - ORG | PT - type - ORG | Paris - type - GPE | Windows - type - ORG | New York - type - GPE \n",
            "\n",
            "triple_column => [('ten years ago ', 'DATE'), ('the American Smartlink ', 'ORG'), ('the Personal Translator ', 'ORG'), ('This year ', 'DATE'), ('Babelfish ', 'ORG'), ('Siemens ', 'ORG'), ('CeBIT ', 'ORG'), ('the e-Translation Server ', 'PRODUCT'), ('the days ', 'DATE'), ('this year ', 'DATE'), ('Linguatec ', 'ORG'), ('Personal Translator ', 'ORG'), ('Palmpilots ', 'PRODUCT'), ('Berlin ', 'GPE'), ('Apple ', 'ORG'), ('Deutsche Bank ', 'ORG'), ('IBM ', 'ORG'), ('PT ', 'ORG'), ('Paris ', 'GPE'), ('Windows ', 'ORG'), ('New York ', 'GPE')] \n",
            "\n",
            "try => [('news', 'hasTime', 'ten years ago '), ('ten years ago ', 'type', 'time'), ('news', 'hasActor', 'the American Smartlink '), ('the American Smartlink ', 'type', 'organization'), ('news', 'hasActor', 'the Personal Translator '), ('the Personal Translator ', 'type', 'organization'), ('news', 'hasTime', 'This year '), ('This year ', 'type', 'time'), ('news', 'hasActor', 'Babelfish '), ('Babelfish ', 'type', 'organization'), ('news', 'hasActor', 'Siemens '), ('Siemens ', 'type', 'organization'), ('news', 'hasActor', 'CeBIT '), ('CeBIT ', 'type', 'organization'), ('news', 'hasItem', 'the e-Translation Server '), ('the e-Translation Server ', 'type', 'product'), ('news', 'hasTime', 'the days '), ('the days ', 'type', 'time'), ('news', 'hasTime', 'this year '), ('this year ', 'type', 'time'), ('news', 'hasActor', 'Linguatec '), ('Linguatec ', 'type', 'organization'), ('news', 'hasActor', 'Personal Translator '), ('Personal Translator ', 'type', 'organization'), ('news', 'hasItem', 'Palmpilots '), ('Palmpilots ', 'type', 'product'), ('news', 'hasActor', 'Apple '), ('Apple ', 'type', 'organization'), ('news', 'hasActor', 'Deutsche Bank '), ('Deutsche Bank ', 'type', 'organization'), ('news', 'hasActor', 'IBM '), ('IBM ', 'type', 'organization'), ('news', 'hasActor', 'PT '), ('PT ', 'type', 'organization'), ('news', 'hasActor', 'Windows '), ('Windows ', 'type', 'organization')] \n",
            "\n",
            "try2 => {news - hasTime - ten years ago  | ten years ago  - type - time | news - hasActor - the American Smartlink  | the American Smartlink  - type - organization | news - hasActor - the Personal Translator  | the Personal Translator  - type - organization | news - hasTime - This year  | This year  - type - time | news - hasActor - Babelfish  | Babelfish  - type - organization | news - hasActor - Siemens  | Siemens  - type - organization | news - hasActor - CeBIT  | CeBIT  - type - organization | news - hasItem - the e-Translation Server  | the e-Translation Server  - type - product | news - hasTime - the days  | the days  - type - time | news - hasTime - this year  | this year  - type - time | news - hasActor - Linguatec  | Linguatec  - type - organization | news - hasActor - Personal Translator  | Personal Translator  - type - organization | news - hasItem - Palmpilots  | Palmpilots  - type - product | news - hasActor - Apple  | Apple  - type - organization | news - hasActor - Deutsche Bank  | Deutsche Bank  - type - organization | news - hasActor - IBM  | IBM  - type - organization | news - hasActor - PT  | PT  - type - organization | news - hasActor - Windows  | Windows  - type - organization} \n",
            "\n"
          ]
        }
      ]
    },
    {
      "cell_type": "code",
      "source": [
        "df[\"try2\"] = df[\"try2\"].apply(lambda x: x[1:-1])\n",
        "df[\"semantic_of_news\"] = \"{ \"  + \" news - type - \" + df[\"predicted_label1\"] + \" | \"+  df[\"try2\"] + \" | news - hasCore - \" + \"'\" + df[\"core description\"] + \"'\" + \" }\""
      ],
      "metadata": {
        "id": "f4dADw1_lYWD"
      },
      "execution_count": 14,
      "outputs": []
    },
    {
      "cell_type": "code",
      "source": [
        "check_it_function(df,0)"
      ],
      "metadata": {
        "colab": {
          "base_uri": "https://localhost:8080/"
        },
        "id": "taxmN_9WmBte",
        "outputId": "d7e9594f-b934-4d3f-961d-7b8a074818f1"
      },
      "execution_count": 15,
      "outputs": [
        {
          "output_type": "stream",
          "name": "stdout",
          "text": [
            "Unnamed: 0 => 0 \n",
            "\n",
            "story => Multi-lingual in the World Wide Web Professional translators and interpreters beware! There’s a new product out at CeBIT this year and it’s set to make your job obsolete - or at least the more mundane portion of business correspondence. Imagine sitting in an office in Berlin, Paris or New York, typing an e-mail to an international colleague and getting a reply - all in one language. Sure, it’s no problem if everyone speaks the same language. But what happens when three different languages are involved? You get a translator, right? Or you spend a little more time flipping through an English-German-French dictionary. Too expensive, too time consuming? Well, there’s always the option of learning a foreign language. In the global business community, bilungualism is not a bad investment. But for those of you who didn’t memorize the German irregular verbs in school and who still can’t be bothered to remember the gender of French nouns, there’s a technical solution: the Personal Translator by Linguatec. No, it’s not a mini headset that automatically interprets your every thought - at least not yet. Linguatec is one of the leading innovators in the market for language recognition software, and it’s unique Personal Translator (PT) program is getting better and more accurate every year. So far there are two language versions, German-English and German-French. Designed as a complete software package for easy installment on a normal PC or computer network, PT is ideal for the office environment. It’s compatible with any system from Windows to Apple, and can be applied to any type of common text program including e-mails. With just a click of the mouse, the user can call on the extensive language database to translate any given text. And a link up through the user’s browser connects to the e-Translation Server for translation in the internet. The PT can also be downloaded for cellular phones and Palmpilots for mobile translations - great for vacationing in foreign countries. The next step is the linguachat - an online service for automatic translation of texts in chat groups. Gone are the days of stumbling around for the correct English or German word, with Linguatec’s browser function, users can simply chat away regardless of the language. Business of words Although there are several different international companies producing translation software, Linguatec offers the most comprehensive word and phrase databanks. It is also the only translation software that reads and analyses not only single sentences, but entire contexts to produce more accurate meaning. Whereas other companies such as the American Smartlink or Babelfish offer several different languages, Linguatec offers only three: German, English and French. This enables the company to concentrate on quality rather than quantity, an important factor in serious translation services, said a Linguatec spokesperson. This year’s new and revised edition of the Personal Translator contains 620,000 words and 35,000 common idiomatic phrases. This enables the PT to recognize double meanings and colloquial speech patterns. In addition, users can expand their word base with specialty dictionaries from areas like banking, medicine and technology. The German company started out ten years ago producing German-English translation software on the basis of IBM technology. Originally the product was slow and required a lot of thorough editing after a text was translated by the system. Now it’s being used by international companies like Siemens and Deutsche Bank. Even professional translators, who are generally skeptical of electronic translation software, are beginning to recognize the quality of the system, said a Linguatec spokesperson at CeBIT. \"When they have a long translation, they often let the PT run over the text once as a rough draft, before they fine tune it.\" Some translators and linguists are so impressed by the software, that they’ve quit their regular jobs and have begun working for Linguatec developing more accurate translation technology. \n",
            "\n",
            "Instances Knowledge Graph => Personal Translator - product_of - Linguatec | Linguatec - based_in0 - Germany | Linguatec - based_in0-x - German | Berlin - in0 - Germany | Berlin - in0-x - German | Paris - in0 - France | New York - in0 - United_States | New York - in0-x - American | American - gpe0 - United_States | Smartlink - based_in0 - United_States | Smartlink - based_in0-x - American | Babelfish - based_in0 - United_States | Babelfish - based_in0-x - American | German - gpe0 - Germany | Siemens - based_in0 - Germany | Siemens - based_in0-x - German | Deutsche Bank - based_in0 - Germany | Deutsche Bank - based_in0-x - German |  \n",
            "\n",
            "Types Knowledge Graph => Personal Translator - type - entity | Personal Translator - type - misc | Personal Translator - type - product | Linguatec - type - company | Linguatec - type - entity | Linguatec - type - organization | CeBIT - type - entity | CeBIT - type - organization | CeBIT - type - trade_fair | World Wide Web - type - entity | World Wide Web - type - misc | World Wide Web - type - technology | Berlin - type - entity | Berlin - type - gpe | Berlin - type - gpe2 | Berlin - type - location | Paris - type - entity | Paris - type - gpe | Paris - type - gpe2 | Paris - type - location | New York - type - entity | New York - type - gpe | New York - type - gpe2 | New York - type - location | English - type - entity | English - type - language | German - type - entity | German - type - language | French - type - entity | French - type - language | Windows - type - entity | Windows - type - misc | Windows - type - product | Apple - type - entity | Apple - type - misc | Apple - type - product | e-Translation Server - type - entity | e-Translation Server - type - misc | e-Translation Server - type - product | Palmpilots - type - entity | Palmpilots - type - misc | Palmpilots - type - product | American - type - gpe0-x | American - type - other | Smartlink - type - company | Smartlink - type - entity | Smartlink - type - organization | Babelfish - type - company | Babelfish - type - entity | Babelfish - type - organization | German - type - gpe0-x | German - type - other | IBM - type - company | IBM - type - entity | IBM - type - organization | Siemens - type - company | Siemens - type - entity | Siemens - type - organization | Deutsche Bank - type - company | Deutsche Bank - type - entity | Deutsche Bank - type - organization | Personal Translator - product_of - Linguatec | Linguatec - based_in0 - Germany | Linguatec - based_in0-x - German | Berlin - in0 - Germany | Berlin - in0-x - German | Paris - in0 - France | New York - in0 - United_States | New York - in0-x - American | American - gpe0 - United_States | Smartlink - based_in0 - United_States | Smartlink - based_in0-x - American | Babelfish - based_in0 - United_States | Babelfish - based_in0-x - American | German - gpe0 - Germany | Siemens - based_in0 - Germany | Siemens - based_in0-x - German | Deutsche Bank - based_in0 - Germany | Deutsche Bank - based_in0-x - German |  \n",
            "\n",
            "Subclass Knowledge Graph => misc - subclass_of - entity | product - subclass_of - misc | company - subclass_of - org | trade_fair - subclass_of - org | technology - subclass_of - misc | gpe - subclass_of - location | gpe2 - subclass_of - gpe | location - subclass_of - entity | language - subclass_of - entity | Personal Translator - type - entity | Personal Translator - type - misc | Personal Translator - type - product | Linguatec - type - company | Linguatec - type - entity | Linguatec - type - organization | CeBIT - type - entity | CeBIT - type - organization | CeBIT - type - trade_fair | World Wide Web - type - entity | World Wide Web - type - misc | World Wide Web - type - technology | Berlin - type - entity | Berlin - type - gpe | Berlin - type - gpe2 | Berlin - type - location | Paris - type - entity | Paris - type - gpe | Paris - type - gpe2 | Paris - type - location | New York - type - entity | New York - type - gpe | New York - type - gpe2 | New York - type - location | English - type - entity | English - type - language | German - type - entity | German - type - language | French - type - entity | French - type - language | Windows - type - entity | Windows - type - misc | Windows - type - product | Apple - type - entity | Apple - type - misc | Apple - type - product | e-Translation Server - type - entity | e-Translation Server - type - misc | e-Translation Server - type - product | Palmpilots - type - entity | Palmpilots - type - misc | Palmpilots - type - product | American - type - gpe0-x | American - type - other | Smartlink - type - company | Smartlink - type - entity | Smartlink - type - organization | Babelfish - type - company | Babelfish - type - entity | Babelfish - type - organization | German - type - gpe0-x | German - type - other | IBM - type - company | IBM - type - entity | IBM - type - organization | Siemens - type - company | Siemens - type - entity | Siemens - type - organization | Deutsche Bank - type - company | Deutsche Bank - type - entity | Deutsche Bank - type - organization | Personal Translator - product_of - Linguatec | Linguatec - based_in0 - Germany | Linguatec - based_in0-x - German | Berlin - in0 - Germany | Berlin - in0-x - German | Paris - in0 - France | New York - in0 - United_States | New York - in0-x - American | American - gpe0 - United_States | Smartlink - based_in0 - United_States | Smartlink - based_in0-x - American | Babelfish - based_in0 - United_States | Babelfish - based_in0-x - American | German - gpe0 - Germany | Siemens - based_in0 - Germany | Siemens - based_in0-x - German | Deutsche Bank - based_in0 - Germany | Deutsche Bank - based_in0-x - German |  \n",
            "\n",
            "predicted_label1 => tech \n",
            "\n",
            "core description => – If you’ve ever typed an email to a colleague in one language and got a reply in another, you’re not alone: There’s a new product out there that promises to make your job obsolete, Der Spiegel reports. \n",
            "\n",
            "mined_kg_entities => ten years ago - type - DATE | the American Smartlink - type - ORG | the Personal Translator - type - ORG | English - type - LANGUAGE | French - type - LANGUAGE | This year - type - DATE | Babelfish - type - ORG | Siemens - type - ORG | CeBIT - type - ORG | German-French - type - LANGUAGE | the e-Translation Server - type - PRODUCT | the days - type - DATE | this year - type - DATE | Linguatec - type - ORG | Personal Translator - type - ORG | Palmpilots - type - PRODUCT | Berlin - type - GPE | Apple - type - ORG | Deutsche Bank - type - ORG | IBM - type - ORG | PT - type - ORG | Paris - type - GPE | Windows - type - ORG | New York - type - GPE \n",
            "\n",
            "triple_column => [('ten years ago ', 'DATE'), ('the American Smartlink ', 'ORG'), ('the Personal Translator ', 'ORG'), ('This year ', 'DATE'), ('Babelfish ', 'ORG'), ('Siemens ', 'ORG'), ('CeBIT ', 'ORG'), ('the e-Translation Server ', 'PRODUCT'), ('the days ', 'DATE'), ('this year ', 'DATE'), ('Linguatec ', 'ORG'), ('Personal Translator ', 'ORG'), ('Palmpilots ', 'PRODUCT'), ('Berlin ', 'GPE'), ('Apple ', 'ORG'), ('Deutsche Bank ', 'ORG'), ('IBM ', 'ORG'), ('PT ', 'ORG'), ('Paris ', 'GPE'), ('Windows ', 'ORG'), ('New York ', 'GPE')] \n",
            "\n",
            "try => [('news', 'hasTime', 'ten years ago '), ('ten years ago ', 'type', 'time'), ('news', 'hasActor', 'the American Smartlink '), ('the American Smartlink ', 'type', 'organization'), ('news', 'hasActor', 'the Personal Translator '), ('the Personal Translator ', 'type', 'organization'), ('news', 'hasTime', 'This year '), ('This year ', 'type', 'time'), ('news', 'hasActor', 'Babelfish '), ('Babelfish ', 'type', 'organization'), ('news', 'hasActor', 'Siemens '), ('Siemens ', 'type', 'organization'), ('news', 'hasActor', 'CeBIT '), ('CeBIT ', 'type', 'organization'), ('news', 'hasItem', 'the e-Translation Server '), ('the e-Translation Server ', 'type', 'product'), ('news', 'hasTime', 'the days '), ('the days ', 'type', 'time'), ('news', 'hasTime', 'this year '), ('this year ', 'type', 'time'), ('news', 'hasActor', 'Linguatec '), ('Linguatec ', 'type', 'organization'), ('news', 'hasActor', 'Personal Translator '), ('Personal Translator ', 'type', 'organization'), ('news', 'hasItem', 'Palmpilots '), ('Palmpilots ', 'type', 'product'), ('news', 'hasActor', 'Apple '), ('Apple ', 'type', 'organization'), ('news', 'hasActor', 'Deutsche Bank '), ('Deutsche Bank ', 'type', 'organization'), ('news', 'hasActor', 'IBM '), ('IBM ', 'type', 'organization'), ('news', 'hasActor', 'PT '), ('PT ', 'type', 'organization'), ('news', 'hasActor', 'Windows '), ('Windows ', 'type', 'organization')] \n",
            "\n",
            "try2 => news - hasTime - ten years ago  | ten years ago  - type - time | news - hasActor - the American Smartlink  | the American Smartlink  - type - organization | news - hasActor - the Personal Translator  | the Personal Translator  - type - organization | news - hasTime - This year  | This year  - type - time | news - hasActor - Babelfish  | Babelfish  - type - organization | news - hasActor - Siemens  | Siemens  - type - organization | news - hasActor - CeBIT  | CeBIT  - type - organization | news - hasItem - the e-Translation Server  | the e-Translation Server  - type - product | news - hasTime - the days  | the days  - type - time | news - hasTime - this year  | this year  - type - time | news - hasActor - Linguatec  | Linguatec  - type - organization | news - hasActor - Personal Translator  | Personal Translator  - type - organization | news - hasItem - Palmpilots  | Palmpilots  - type - product | news - hasActor - Apple  | Apple  - type - organization | news - hasActor - Deutsche Bank  | Deutsche Bank  - type - organization | news - hasActor - IBM  | IBM  - type - organization | news - hasActor - PT  | PT  - type - organization | news - hasActor - Windows  | Windows  - type - organization \n",
            "\n",
            "semantic_of_news => {  news - type - tech | news - hasTime - ten years ago  | ten years ago  - type - time | news - hasActor - the American Smartlink  | the American Smartlink  - type - organization | news - hasActor - the Personal Translator  | the Personal Translator  - type - organization | news - hasTime - This year  | This year  - type - time | news - hasActor - Babelfish  | Babelfish  - type - organization | news - hasActor - Siemens  | Siemens  - type - organization | news - hasActor - CeBIT  | CeBIT  - type - organization | news - hasItem - the e-Translation Server  | the e-Translation Server  - type - product | news - hasTime - the days  | the days  - type - time | news - hasTime - this year  | this year  - type - time | news - hasActor - Linguatec  | Linguatec  - type - organization | news - hasActor - Personal Translator  | Personal Translator  - type - organization | news - hasItem - Palmpilots  | Palmpilots  - type - product | news - hasActor - Apple  | Apple  - type - organization | news - hasActor - Deutsche Bank  | Deutsche Bank  - type - organization | news - hasActor - IBM  | IBM  - type - organization | news - hasActor - PT  | PT  - type - organization | news - hasActor - Windows  | Windows  - type - organization | news - hasCore - '– If you’ve ever typed an email to a colleague in one language and got a reply in another, you’re not alone: There’s a new product out there that promises to make your job obsolete, Der Spiegel reports.' } \n",
            "\n"
          ]
        }
      ]
    },
    {
      "cell_type": "markdown",
      "source": [
        "#### Extracting NER and adding it to the csv"
      ],
      "metadata": {
        "id": "bTyL_0fIsrfC"
      }
    },
    {
      "cell_type": "code",
      "source": [
        "# Save the updated dataframe\n",
        "df.drop(['try2', \"try\", \"triple_column\",\"core description\", \"predicted_label1\",\"mined_kg_entities\"], axis = 1, inplace = True) \n",
        "df.head()\n",
        "df.to_csv(\"DWIE_train_with_semantics_of_news.csv\", index=False)"
      ],
      "metadata": {
        "id": "FQ089RBrmDKf"
      },
      "execution_count": 16,
      "outputs": []
    },
    {
      "cell_type": "code",
      "source": [
        "check_it_function(df,4)"
      ],
      "metadata": {
        "colab": {
          "base_uri": "https://localhost:8080/"
        },
        "id": "MKgPvfaPnyz2",
        "outputId": "515f352a-47e0-4afc-eba0-6b82430a8bf5"
      },
      "execution_count": 19,
      "outputs": [
        {
          "output_type": "stream",
          "name": "stdout",
          "text": [
            "Unnamed: 0 => 4 \n",
            "\n",
            "story => Ai Weiwei Drifting Ai Weiwei: Uncomfortable critic or one of the most brilliant artists of our time? Subject to government surveillance, detention and house arrest in China he moved to Berlin in 2015. Now he's taking Europe to task, protesting against, and devoting his work, to what he sees as its catastrophic refugee policies. A DW film team has been following him around the world for more than a year. A lonely rubber boat is drifting in the Aegean Sea between Turkey and Greece. In it, Ai Weiwei. He cannot swim. Is this performance art? \"We are all refugees,\" he says. Ai Weiwei displays his solidarity with the refugees and goes to meet them in Greece, Turkey and Gaza, producing a major documentary on the way. His current works deal with the fate of refugees, turning their abandoned boats, life vests and discarded clothing into memorials. Flight and exile have been constant themes in his life. He is currently writing his memoirs, set for publication in 20 languages. His father, a well-known poet, fell into disfavor during Mao's Cultural Revolution and Ai Weiwei grew up in exile. As the Einstein Visiting Professor at Berlin's University of the Arts, he also sets his students project work on the refugee issue. But when Ai Weiwei imitated the photo of the dead refugee boy Alan Kurdi with his own body, many thought he was going too far. Was it sensationalism? Provocation? \"Oh,\" he seemed to say, \"so now you care?\" Ai Weiwei recognizes no boundaries. Our film gets close to him and gives us an insight into his artistic work as well as his private life - with his mother in Beijing, with his son and partner in Berlin and in moments never before shown on film. But a lot about him remains a riddle. Just who exactly is Ai Weiwei? Broadcasting Hours: DW (English) SAT 24.06.2017 – 19:15 UTC SUN 25.06.2017 – 01:15 UTC SUN 25.06.2017 – 07:15 UTC SUN 25.06.2017 – 15:15 UTC MON 26.06.2017 – 05:15 UTC MON 03.07.2017 – 09:15 UTC SUN 09.07.2017 – 03:15 UTC Cape Town UTC +2 | Delhi UTC +5,5 | Hong Kong UTC +8 San Francisco UTC -7 | Edmonton UTC -6 | New York UTC -4 Lagos UTC +1 | Cape Town UTC +2 | Nairobi UTC +3 London UTC +1 | Berlin UTC +2 | Moscow UTC +3 DW (Deutsch+) SUN 25.06.2017 – 09:15 UTC Vancouver UTC -7 | New York UTC -4 | Sao Paulo UTC -3 \n",
            "\n",
            "Instances Knowledge Graph => DW (Deutsch+) - based_in0 - Germany | Ai Weiwei - citizen_of - China | Mao - agent_of - China | Mao - citizen_of - China | Mao - head_of_state - China | Berlin - in0 - Germany | University of the Arts - based_in0 - Germany | University of the Arts - based_in2 - Berlin | Beijing - in0 - China | Cape Town - in0 - South_Africa | Delhi - in0 - India | Hong Kong - in0 - China | San Francisco - in0 - United_States | Edmonton - in0 - Canada | New York - in0 - United_States | Lagos - in0 - Nigeria | Nairobi - in0 - Kenya | London - in0 - United_Kingdom | Moscow - in0 - Russia | Vancouver - in0 - Canada | Sao Paulo - in0 - Brazil |  \n",
            "\n",
            "Types Knowledge Graph => DW (Deutsch+) - type - entity | DW (Deutsch+) - type - media | DW (Deutsch+) - type - organization | Ai Weiwei - type - activist | Ai Weiwei - type - entity | Ai Weiwei - type - person | China - type - entity | China - type - gpe | China - type - gpe0 | China - type - location | Mao - type - entity | Mao - type - head_of_state | Mao - type - person | Mao - type - politician | Cultural Revolution - type - entity | Cultural Revolution - type - misc | Cultural Revolution - type - politics_misc | Alan Kurdi - type - entity | Alan Kurdi - type - person | Berlin - type - entity | Berlin - type - gpe | Berlin - type - gpe2 | Berlin - type - location | 2015 - type - time | 2015 - type - value | Europe - type - entity | Europe - type - location | Europe - type - regio | Aegean Sea - type - entity | Aegean Sea - type - location | Aegean Sea - type - waterbody | Turkey - type - entity | Turkey - type - gpe | Turkey - type - gpe0 | Turkey - type - location | Greece - type - entity | Greece - type - gpe | Greece - type - gpe0 | Greece - type - location | Gaza - type - entity | Gaza - type - gpe | Gaza - type - gpe1 | Gaza - type - location | Einstein - type - entity | Einstein - type - person | University of the Arts - type - entity | University of the Arts - type - organization | refugee - type - role | refugee - type - value | boy - type - role | boy - type - value | Beijing - type - entity | Beijing - type - gpe | Beijing - type - gpe2 | Beijing - type - location | English - type - entity | English - type - language | SAT 24.06.2017 – 19:15 UTC - type - time | SAT 24.06.2017 – 19:15 UTC - type - value | SUN 25.06.2017 – 01:15 UTC - type - time | SUN 25.06.2017 – 01:15 UTC - type - value | SUN 25.06.2017 – 07:15 UTC - type - time | SUN 25.06.2017 – 07:15 UTC - type - value | SUN 25.06.2017 – 15:15 UTC - type - time | SUN 25.06.2017 – 15:15 UTC - type - value | MON 26.06.2017 – 05:15 UTC - type - time | MON 26.06.2017 – 05:15 UTC - type - value | MON 03.07.2017 – 09:15 UTC - type - time | MON 03.07.2017 – 09:15 UTC - type - value | SUN 09.07.2017 – 03:15 UTC - type - time | SUN 09.07.2017 – 03:15 UTC - type - value | Cape Town - type - entity | Cape Town - type - gpe | Cape Town - type - gpe2 | Cape Town - type - location | Delhi - type - entity | Delhi - type - gpe | Delhi - type - gpe2 | Delhi - type - location | Hong Kong - type - entity | Hong Kong - type - gpe | Hong Kong - type - gpe2 | Hong Kong - type - location | San Francisco - type - entity | San Francisco - type - gpe | San Francisco - type - gpe2 | San Francisco - type - location | Edmonton - type - entity | Edmonton - type - gpe | Edmonton - type - gpe2 | Edmonton - type - location | New York - type - entity | New York - type - gpe | New York - type - gpe2 | New York - type - location | Lagos - type - entity | Lagos - type - gpe | Lagos - type - gpe2 | Lagos - type - location | Nairobi - type - entity | Nairobi - type - gpe | Nairobi - type - gpe2 | Nairobi - type - location | London - type - entity | London - type - gpe | London - type - gpe2 | London - type - location | Moscow - type - entity | Moscow - type - gpe | Moscow - type - gpe2 | Moscow - type - location | Vancouver - type - entity | Vancouver - type - gpe | Vancouver - type - gpe2 | Vancouver - type - location | Sao Paulo - type - entity | Sao Paulo - type - gpe | Sao Paulo - type - gpe2 | Sao Paulo - type - location | DW (Deutsch+) - based_in0 - Germany | Ai Weiwei - citizen_of - China | Mao - agent_of - China | Mao - citizen_of - China | Mao - head_of_state - China | Berlin - in0 - Germany | University of the Arts - based_in0 - Germany | University of the Arts - based_in2 - Berlin | Beijing - in0 - China | Cape Town - in0 - South_Africa | Delhi - in0 - India | Hong Kong - in0 - China | San Francisco - in0 - United_States | Edmonton - in0 - Canada | New York - in0 - United_States | Lagos - in0 - Nigeria | Nairobi - in0 - Kenya | London - in0 - United_Kingdom | Moscow - in0 - Russia | Vancouver - in0 - Canada | Sao Paulo - in0 - Brazil |  \n",
            "\n",
            "Subclass Knowledge Graph => media - subclass_of - org | activist - subclass_of - per | gpe - subclass_of - location | gpe0 - subclass_of - gpe | location - subclass_of - entity | head_of_state - subclass_of - politician | politician - subclass_of - per | misc - subclass_of - entity | politics_misc - subclass_of - misc | gpe2 - subclass_of - gpe | time - subclass_of - value | regio - subclass_of - location | waterbody - subclass_of - location | gpe1 - subclass_of - gpe | role - subclass_of - value | language - subclass_of - entity | DW (Deutsch+) - type - entity | DW (Deutsch+) - type - media | DW (Deutsch+) - type - organization | Ai Weiwei - type - activist | Ai Weiwei - type - entity | Ai Weiwei - type - person | China - type - entity | China - type - gpe | China - type - gpe0 | China - type - location | Mao - type - entity | Mao - type - head_of_state | Mao - type - person | Mao - type - politician | Cultural Revolution - type - entity | Cultural Revolution - type - misc | Cultural Revolution - type - politics_misc | Alan Kurdi - type - entity | Alan Kurdi - type - person | Berlin - type - entity | Berlin - type - gpe | Berlin - type - gpe2 | Berlin - type - location | 2015 - type - time | 2015 - type - value | Europe - type - entity | Europe - type - location | Europe - type - regio | Aegean Sea - type - entity | Aegean Sea - type - location | Aegean Sea - type - waterbody | Turkey - type - entity | Turkey - type - gpe | Turkey - type - gpe0 | Turkey - type - location | Greece - type - entity | Greece - type - gpe | Greece - type - gpe0 | Greece - type - location | Gaza - type - entity | Gaza - type - gpe | Gaza - type - gpe1 | Gaza - type - location | Einstein - type - entity | Einstein - type - person | University of the Arts - type - entity | University of the Arts - type - organization | refugee - type - role | refugee - type - value | boy - type - role | boy - type - value | Beijing - type - entity | Beijing - type - gpe | Beijing - type - gpe2 | Beijing - type - location | English - type - entity | English - type - language | SAT 24.06.2017 – 19:15 UTC - type - time | SAT 24.06.2017 – 19:15 UTC - type - value | SUN 25.06.2017 – 01:15 UTC - type - time | SUN 25.06.2017 – 01:15 UTC - type - value | SUN 25.06.2017 – 07:15 UTC - type - time | SUN 25.06.2017 – 07:15 UTC - type - value | SUN 25.06.2017 – 15:15 UTC - type - time | SUN 25.06.2017 – 15:15 UTC - type - value | MON 26.06.2017 – 05:15 UTC - type - time | MON 26.06.2017 – 05:15 UTC - type - value | MON 03.07.2017 – 09:15 UTC - type - time | MON 03.07.2017 – 09:15 UTC - type - value | SUN 09.07.2017 – 03:15 UTC - type - time | SUN 09.07.2017 – 03:15 UTC - type - value | Cape Town - type - entity | Cape Town - type - gpe | Cape Town - type - gpe2 | Cape Town - type - location | Delhi - type - entity | Delhi - type - gpe | Delhi - type - gpe2 | Delhi - type - location | Hong Kong - type - entity | Hong Kong - type - gpe | Hong Kong - type - gpe2 | Hong Kong - type - location | San Francisco - type - entity | San Francisco - type - gpe | San Francisco - type - gpe2 | San Francisco - type - location | Edmonton - type - entity | Edmonton - type - gpe | Edmonton - type - gpe2 | Edmonton - type - location | New York - type - entity | New York - type - gpe | New York - type - gpe2 | New York - type - location | Lagos - type - entity | Lagos - type - gpe | Lagos - type - gpe2 | Lagos - type - location | Nairobi - type - entity | Nairobi - type - gpe | Nairobi - type - gpe2 | Nairobi - type - location | London - type - entity | London - type - gpe | London - type - gpe2 | London - type - location | Moscow - type - entity | Moscow - type - gpe | Moscow - type - gpe2 | Moscow - type - location | Vancouver - type - entity | Vancouver - type - gpe | Vancouver - type - gpe2 | Vancouver - type - location | Sao Paulo - type - entity | Sao Paulo - type - gpe | Sao Paulo - type - gpe2 | Sao Paulo - type - location | DW (Deutsch+) - based_in0 - Germany | Ai Weiwei - citizen_of - China | Mao - agent_of - China | Mao - citizen_of - China | Mao - head_of_state - China | Berlin - in0 - Germany | University of the Arts - based_in0 - Germany | University of the Arts - based_in2 - Berlin | Beijing - in0 - China | Cape Town - in0 - South_Africa | Delhi - in0 - India | Hong Kong - in0 - China | San Francisco - in0 - United_States | Edmonton - in0 - Canada | New York - in0 - United_States | Lagos - in0 - Nigeria | Nairobi - in0 - Kenya | London - in0 - United_Kingdom | Moscow - in0 - Russia | Vancouver - in0 - Canada | Sao Paulo - in0 - Brazil |  \n",
            "\n",
            "semantic_of_news => {  news - type - entertainment | news - hasActor - Einstein  | Einstein  - type - person | news - hasPlace - Europe  | Europe  - type - place | news - hasActor - Alan Kurdi  | Alan Kurdi  - type - person | news - hasActor - Ai Weiwei  | Ai Weiwei  - type - person | news - hasActor - University of the Arts  | University of the Arts  - type - organization | news - hasTime - 2015  | 2015  - type - time | news - hasEvent - Cultural Revolution  | Cultural Revolution  - type - event | news - hasPlace - the Aegean Sea  | the Aegean Sea  - type - place | news - hasActor - Mao  | Mao  - type - person | news - hasCore - '– Chinese dissident artist and human rights activist Ai Weiwei is the subject of a new documentary by German broadcaster Deutsche Welle. The film follows the artist as he visits refugees in Greece, Turkey, and Gaza, turning life vests and abandoned boats into' } \n",
            "\n"
          ]
        }
      ]
    },
    {
      "cell_type": "markdown",
      "source": [
        "#### "
      ],
      "metadata": {
        "id": "xJQZz9DqjXYL"
      }
    }
  ]
}