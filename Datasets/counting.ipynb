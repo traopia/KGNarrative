{
 "cells": [
  {
   "cell_type": "code",
   "execution_count": 3,
   "metadata": {},
   "outputs": [
    {
     "name": "stdout",
     "output_type": "stream",
     "text": [
      "train 526\n",
      "dev 92\n",
      "test 85\n"
     ]
    }
   ],
   "source": [
    "import pandas as pd\n",
    "splits = ['train', 'dev', 'test']\n",
    "for d in splits:\n",
    "    df = pd.read_json(f'/Users/macoftraopia/Documents/GitHub/KGNarrative/Datasets/DWIE/4experiment/full_{d}.json')\n",
    "    print(d, len(df))\n"
   ]
  },
  {
   "cell_type": "code",
   "execution_count": 4,
   "metadata": {},
   "outputs": [
    {
     "name": "stdout",
     "output_type": "stream",
     "text": [
      "train 1250\n",
      "dev 267\n",
      "test 334\n"
     ]
    }
   ],
   "source": [
    "splits = ['train', 'dev', 'test']\n",
    "for d in splits:\n",
    "    df = pd.read_json(f'/Users/macoftraopia/Documents/GitHub/KGNarrative/Datasets/WebNLG/4experiment/poppati_stupidi/pop_{d}.json')\n",
    "    print(d, len(df))"
   ]
  },
  {
   "cell_type": "code",
   "execution_count": 4,
   "metadata": {},
   "outputs": [],
   "source": [
    "names=[['train', 'dev', 'test  '],['train', 'dev', 'test  '],['train', 'dev', 'test  ']]\n",
    "\n",
    "import pandas as pd\n",
    "df1=pd.DataFrame(names,columns=['1','2','3'])\n"
   ]
  },
  {
   "cell_type": "code",
   "execution_count": 8,
   "metadata": {},
   "outputs": [],
   "source": [
    "df1['4']= \" | \".join(df1['1'])"
   ]
  },
  {
   "cell_type": "code",
   "execution_count": 9,
   "metadata": {},
   "outputs": [
    {
     "data": {
      "text/html": [
       "<div>\n",
       "<style scoped>\n",
       "    .dataframe tbody tr th:only-of-type {\n",
       "        vertical-align: middle;\n",
       "    }\n",
       "\n",
       "    .dataframe tbody tr th {\n",
       "        vertical-align: top;\n",
       "    }\n",
       "\n",
       "    .dataframe thead th {\n",
       "        text-align: right;\n",
       "    }\n",
       "</style>\n",
       "<table border=\"1\" class=\"dataframe\">\n",
       "  <thead>\n",
       "    <tr style=\"text-align: right;\">\n",
       "      <th></th>\n",
       "      <th>1</th>\n",
       "      <th>2</th>\n",
       "      <th>3</th>\n",
       "      <th>4</th>\n",
       "    </tr>\n",
       "  </thead>\n",
       "  <tbody>\n",
       "    <tr>\n",
       "      <th>0</th>\n",
       "      <td>train</td>\n",
       "      <td>dev</td>\n",
       "      <td>test</td>\n",
       "      <td>train | train | train</td>\n",
       "    </tr>\n",
       "    <tr>\n",
       "      <th>1</th>\n",
       "      <td>train</td>\n",
       "      <td>dev</td>\n",
       "      <td>test</td>\n",
       "      <td>train | train | train</td>\n",
       "    </tr>\n",
       "    <tr>\n",
       "      <th>2</th>\n",
       "      <td>train</td>\n",
       "      <td>dev</td>\n",
       "      <td>test</td>\n",
       "      <td>train | train | train</td>\n",
       "    </tr>\n",
       "  </tbody>\n",
       "</table>\n",
       "</div>"
      ],
      "text/plain": [
       "       1    2     3                      4\n",
       "0  train  dev  test  train | train | train\n",
       "1  train  dev  test  train | train | train\n",
       "2  train  dev  test  train | train | train"
      ]
     },
     "execution_count": 9,
     "metadata": {},
     "output_type": "execute_result"
    }
   ],
   "source": [
    "df1"
   ]
  },
  {
   "cell_type": "code",
   "execution_count": null,
   "metadata": {},
   "outputs": [],
   "source": []
  }
 ],
 "metadata": {
  "kernelspec": {
   "display_name": "base",
   "language": "python",
   "name": "python3"
  },
  "language_info": {
   "codemirror_mode": {
    "name": "ipython",
    "version": 3
   },
   "file_extension": ".py",
   "mimetype": "text/x-python",
   "name": "python",
   "nbconvert_exporter": "python",
   "pygments_lexer": "ipython3",
   "version": "3.10.9"
  },
  "orig_nbformat": 4
 },
 "nbformat": 4,
 "nbformat_minor": 2
}
