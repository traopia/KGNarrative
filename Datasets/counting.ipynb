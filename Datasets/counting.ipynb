{
 "cells": [
  {
   "cell_type": "code",
   "execution_count": 3,
   "metadata": {},
   "outputs": [
    {
     "name": "stdout",
     "output_type": "stream",
     "text": [
      "train 526\n",
      "dev 92\n",
      "test 85\n"
     ]
    }
   ],
   "source": [
    "import pandas as pd\n",
    "splits = ['train', 'dev', 'test']\n",
    "for d in splits:\n",
    "    df = pd.read_json(f'/Users/macoftraopia/Documents/GitHub/KGNarrative/Datasets/DWIE/4experiment/full_{d}.json')\n",
    "    print(d, len(df))\n"
   ]
  },
  {
   "cell_type": "code",
   "execution_count": 4,
   "metadata": {},
   "outputs": [
    {
     "name": "stdout",
     "output_type": "stream",
     "text": [
      "train 1250\n",
      "dev 267\n",
      "test 334\n"
     ]
    }
   ],
   "source": [
    "splits = ['train', 'dev', 'test']\n",
    "for d in splits:\n",
    "    df = pd.read_json(f'/Users/macoftraopia/Documents/GitHub/KGNarrative/Datasets/WebNLG/4experiment/poppati_stupidi/pop_{d}.json')\n",
    "    print(d, len(df))"
   ]
  }
 ],
 "metadata": {
  "kernelspec": {
   "display_name": "base",
   "language": "python",
   "name": "python3"
  },
  "language_info": {
   "codemirror_mode": {
    "name": "ipython",
    "version": 3
   },
   "file_extension": ".py",
   "mimetype": "text/x-python",
   "name": "python",
   "nbconvert_exporter": "python",
   "pygments_lexer": "ipython3",
   "version": "3.9.12"
  },
  "orig_nbformat": 4
 },
 "nbformat": 4,
 "nbformat_minor": 2
}
