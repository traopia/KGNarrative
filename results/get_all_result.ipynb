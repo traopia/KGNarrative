{
 "cells": [
  {
   "attachments": {},
   "cell_type": "markdown",
   "metadata": {},
   "source": [
    "## SCRIPT TO MAKE A NICE TABLE OUT OF RESULTS"
   ]
  },
  {
   "cell_type": "code",
   "execution_count": 1,
   "metadata": {},
   "outputs": [],
   "source": [
    "import json \n",
    "import os"
   ]
  },
  {
   "cell_type": "code",
   "execution_count": 2,
   "metadata": {},
   "outputs": [],
   "source": [
    "exp='webnlg_reification_results'\n",
    "exp_columns=['entities_list','semantic_of_news']"
   ]
  },
  {
   "cell_type": "code",
   "execution_count": 6,
   "metadata": {},
   "outputs": [
    {
     "name": "stdout",
     "output_type": "stream",
     "text": [
      "{'test_loss': 3.030672550201416, 'test_rouge1': 0.5588598808622651, 'test_rouge2': 0.32909981300482427, 'test_rougeL': 0.39058494961712664, 'test_rougeLsum': 0.39126309229658046, 'test_runtime': 54.0895, 'test_samples_per_second': 6.304, 'test_steps_per_second': 0.536}\n",
      "\n",
      "{'bleu': 0.2448002862453996, 'precisions': [0.519544997486174, 0.2949071992807141, 0.18752462245567958, 0.12499160454026463], 'brevity_penalty': 1.0, 'length_ratio': 1.1386861313868613, 'translation_length': 15912, 'reference_length': 13974}\n",
      "\n",
      "{'google_bleu': 0.2682457800433442}\n",
      "\n",
      "{'meteor': 0.48400888020314287}\n",
      "\n",
      "{'Bert_Score': {'precision': 0.8440398773140222, 'recall': 0.8527324552759746, 'f1': 0.8478190189232924}}\n",
      "\n",
      "{'scores': -0.30085256171366337}\n",
      "\n",
      "{'PARENT': {'precision': 0.3100784833194247, 'recall': 0.3803803418941363, 'f_score': 0.31570342745780916}}\n",
      "\n",
      "{'time(s)': 709.7475583553314}\n",
      "\n",
      "{'gpu': 16100}\n",
      "\n",
      "\n",
      "{'test_loss': 3.042741060256958, 'test_rouge1': 0.5133821726684742, 'test_rouge2': 0.2925851125164013, 'test_rougeL': 0.3690061597456034, 'test_rougeLsum': 0.3687931965455098, 'test_runtime': 55.0911, 'test_samples_per_second': 6.19, 'test_steps_per_second': 0.526}\n",
      "\n",
      "{'bleu': 0.21624995778203251, 'precisions': [0.47799016250544796, 0.2539440203562341, 0.1630145002926068, 0.11052001595956909], 'brevity_penalty': 1.0, 'length_ratio': 1.149348790611135, 'translation_length': 16061, 'reference_length': 13974}\n",
      "\n",
      "{'google_bleu': 0.2400642677418377}\n",
      "\n",
      "{'meteor': 0.43535371940039236}\n",
      "\n",
      "{'Bert_Score': {'precision': 0.8225816322211995, 'recall': 0.8357130661388297, 'f1': 0.8284789638435386}}\n",
      "\n",
      "{'scores': -0.4601490643869572}\n",
      "\n",
      "{'PARENT': {'precision': 0.28415889589202525, 'recall': 0.3413036115153728, 'f_score': 0.28432205318380593}}\n",
      "\n",
      "{'time(s)': 846.1541926860809}\n",
      "\n",
      "{'gpu': 16100}\n",
      "\n",
      "\n"
     ]
    }
   ],
   "source": [
    "for i in exp_columns:\n",
    "    path=f'./webnlgResults/{exp}/{i}/output_metrics.txt'\n",
    "\n",
    "    with open(path) as f:\n",
    "        data = f.read()\n",
    "    print(type(data))\n",
    "    #/home/gabhoo/research/kg2Narrative/KGNarrative2/results/webnlgResults/webnlg_reification_results/entities_list/output_metrics.txt"
   ]
  },
  {
   "cell_type": "code",
   "execution_count": null,
   "metadata": {},
   "outputs": [],
   "source": []
  },
  {
   "cell_type": "code",
   "execution_count": null,
   "metadata": {},
   "outputs": [],
   "source": []
  },
  {
   "cell_type": "markdown",
   "metadata": {},
   "source": []
  }
 ],
 "metadata": {
  "kernelspec": {
   "display_name": "nlptasks",
   "language": "python",
   "name": "python3"
  },
  "language_info": {
   "codemirror_mode": {
    "name": "ipython",
    "version": 3
   },
   "file_extension": ".py",
   "mimetype": "text/x-python",
   "name": "python",
   "nbconvert_exporter": "python",
   "pygments_lexer": "ipython3",
   "version": "3.10.9"
  },
  "orig_nbformat": 4
 },
 "nbformat": 4,
 "nbformat_minor": 2
}
