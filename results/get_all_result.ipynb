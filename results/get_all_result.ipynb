{
 "cells": [
  {
   "attachments": {},
   "cell_type": "markdown",
   "metadata": {},
   "source": [
    "## SCRIPT TO MAKE A NICE TABLE OUT OF RESULTS"
   ]
  },
  {
   "cell_type": "code",
   "execution_count": 24,
   "metadata": {},
   "outputs": [],
   "source": [
    "import json \n",
    "import os\n",
    "import ast\n",
    "import pandas as pd\n"
   ]
  },
  {
   "cell_type": "code",
   "execution_count": 64,
   "metadata": {},
   "outputs": [
    {
     "name": "stdout",
     "output_type": "stream",
     "text": [
      "Instances_KG  Instances_list  multi_Subclasses_KG  Subclasses_KG  Types_KG\n"
     ]
    }
   ],
   "source": [
    "!cd webnlgResults/webnlg_semantic_results && ls"
   ]
  },
  {
   "cell_type": "code",
   "execution_count": 65,
   "metadata": {},
   "outputs": [],
   "source": [
    "exp='webnlg_semantic_results'\n",
    "#exp_columns=['entities_list','semantic_of_news']\n",
    "exp_columns=['Instances_KG' , 'Instances_list' , 'multi_Subclasses_KG' , 'Subclasses_KG' , 'Types_KG']"
   ]
  },
  {
   "cell_type": "code",
   "execution_count": 66,
   "metadata": {},
   "outputs": [
    {
     "name": "stdout",
     "output_type": "stream",
     "text": [
      "{'bleu': 0.19898709977999984, 'precisions': [0.4592709270927093, 0.244794952681388, 0.14601614601614601, 0.0955052826359458], 'brevity_penalty': 1.0, 'length_ratio': 1.2720767138972378, 'translation_length': 17776, 'reference_length': 13974}\n",
      "{'google_bleu': 0.22975339876004336}\n",
      "{'meteor': 0.45380727811321275}\n",
      "{'Bert_Score': {'precision': 0.8362588462941458, 'recall': 0.8540063369309098, 'f1': 0.8442331575228672}}\n",
      "{'scores': -0.2782538342576397}\n",
      "{'PARENT': {'precision': 0.29567858544525516, 'recall': 0.35210093417378874, 'f_score': 0.2917862210276243}}\n",
      "{'time(s)': 1101.5581500530243}\n",
      "{'gpu': 15634}\n",
      "{'bleu': 0.21671878864512745, 'precisions': [0.49533466036327445, 0.2644423260247855, 0.1606470053267507, 0.10482960207267654], 'brevity_penalty': 1.0, 'length_ratio': 1.1504222126806927, 'translation_length': 16076, 'reference_length': 13974}\n",
      "{'google_bleu': 0.24677325847496415}\n",
      "{'meteor': 0.45099219443373423}\n",
      "{'Bert_Score': {'precision': 0.839574267787318, 'recall': 0.8487370898646693, 'f1': 0.8436488014512048}}\n",
      "{'scores': -0.3104056920255384}\n",
      "{'PARENT': {'precision': 0.30189748446664577, 'recall': 0.36116421790511893, 'f_score': 0.3017127717851571}}\n",
      "{'time(s)': 758.6258080005646}\n",
      "{'gpu': 15896}\n",
      "{'bleu': 0.18770296928421518, 'precisions': [0.44433118133423943, 0.2332967604088468, 0.13766493873704053, 0.08698527201683198], 'brevity_penalty': 1.0, 'length_ratio': 1.2636324602833835, 'translation_length': 17658, 'reference_length': 13974}\n",
      "{'google_bleu': 0.21527682373952467}\n",
      "{'meteor': 0.4379764018600522}\n",
      "{'Bert_Score': {'precision': 0.8316776060288952, 'recall': 0.8422318616570615, 'f1': 0.835864232257664}}\n",
      "{'scores': -0.34771120759093166}\n",
      "{'PARENT': {'precision': 0.29046538694849483, 'recall': 0.3449740868285815, 'f_score': 0.2851051319387965}}\n",
      "{'time(s)': 928.461103439331}\n",
      "{'gpu': 15896}\n",
      "{'bleu': 0.20934678901815676, 'precisions': [0.4732456952416219, 0.252679359475476, 0.15540235809548353, 0.1033596837944664], 'brevity_penalty': 1.0, 'length_ratio': 1.1595105195362816, 'translation_length': 16203, 'reference_length': 13974}\n",
      "{'google_bleu': 0.23248596798622043}\n",
      "{'meteor': 0.4399487844944311}\n",
      "{'Bert_Score': {'precision': 0.8316674929909692, 'recall': 0.8411640958352522, 'f1': 0.8356569152423713}}\n",
      "{'scores': -0.38514292308967835}\n",
      "{'PARENT': {'precision': 0.29834500788290436, 'recall': 0.3453741444146906, 'f_score': 0.29187113338047527}}\n",
      "{'time(s)': 748.1745045185089}\n",
      "{'gpu': 15896}\n",
      "{'bleu': 0.2232349204248288, 'precisions': [0.5029475842624631, 0.26891582050442187, 0.1661082819619405, 0.1105396694781595], 'brevity_penalty': 1.0, 'length_ratio': 1.1167883211678833, 'translation_length': 15606, 'reference_length': 13974}\n",
      "{'google_bleu': 0.2475087156387869}\n",
      "{'meteor': 0.4467782810825641}\n",
      "{'Bert_Score': {'precision': 0.8385369833613421, 'recall': 0.8464596126436138, 'f1': 0.841951626661586}}\n",
      "{'scores': -0.3033986744905147}\n",
      "{'PARENT': {'precision': 0.309083412359084, 'recall': 0.35166073245034724, 'f_score': 0.2997009673412134}}\n",
      "{'time(s)': 769.6409111022949}\n",
      "{'gpu': 15896}\n"
     ]
    }
   ],
   "source": [
    "results=[]\n",
    "for i in exp_columns:\n",
    "    path=f'./webnlgResults/{exp}/{i}/output_metrics.txt'\n",
    "\n",
    "    with open(path) as f:\n",
    "        data = f.read()\n",
    "    data=data.split('\\n')#print(type(data))\n",
    "    data=[ast.literal_eval(x) for x in data if x!=''][1:]#remove empty lines and the first \n",
    "    #print(data)\n",
    "    #results.append(data)\n",
    "    planner=i\n",
    "    bluu=data[0]['bleu']\n",
    "    google_bleu=data[1]['google_bleu']\n",
    "    meteor=data[2]['meteor']\n",
    "    bertscore=data[3]['Bert_Score']['f1']\n",
    "    bleurt=data[4]['scores']\n",
    "    parent_score=data[5]['PARENT']['f_score']\n",
    "    training_duration=data[6]['time(s)']\n",
    "    gpuUSED=data[7]['gpu']\n",
    "\n",
    "    scores=[i,bluu,google_bleu,meteor,bertscore,bleurt,parent_score,training_duration,gpuUSED]\n",
    "    results.append(scores)\n",
    "    for score in data:\n",
    "        print(score)\n",
    "\n",
    "    d1=pd.DataFrame(data)\n",
    "    #d1\n",
    "    #d1.columns=['bleu','google_bleu','meteor','bertscore','bleurt','parent_score','training_duration','gpuUSED']\n"
   ]
  },
  {
   "cell_type": "code",
   "execution_count": 67,
   "metadata": {},
   "outputs": [
    {
     "data": {
      "text/html": [
       "<div>\n",
       "<style scoped>\n",
       "    .dataframe tbody tr th:only-of-type {\n",
       "        vertical-align: middle;\n",
       "    }\n",
       "\n",
       "    .dataframe tbody tr th {\n",
       "        vertical-align: top;\n",
       "    }\n",
       "\n",
       "    .dataframe thead th {\n",
       "        text-align: right;\n",
       "    }\n",
       "</style>\n",
       "<table border=\"1\" class=\"dataframe\">\n",
       "  <thead>\n",
       "    <tr style=\"text-align: right;\">\n",
       "      <th></th>\n",
       "      <th>planner</th>\n",
       "      <th>bleu</th>\n",
       "      <th>google_bleu</th>\n",
       "      <th>meteor</th>\n",
       "      <th>bertscore(f1)</th>\n",
       "      <th>bleurt</th>\n",
       "      <th>parent_score(f)</th>\n",
       "      <th>training_duration</th>\n",
       "      <th>gpuUSED</th>\n",
       "    </tr>\n",
       "  </thead>\n",
       "  <tbody>\n",
       "    <tr>\n",
       "      <th>0</th>\n",
       "      <td>Instances_KG</td>\n",
       "      <td>0.198987</td>\n",
       "      <td>0.229753</td>\n",
       "      <td>0.453807</td>\n",
       "      <td>0.844233</td>\n",
       "      <td>-0.278254</td>\n",
       "      <td>0.291786</td>\n",
       "      <td>1101.558150</td>\n",
       "      <td>15634</td>\n",
       "    </tr>\n",
       "    <tr>\n",
       "      <th>1</th>\n",
       "      <td>Instances_list</td>\n",
       "      <td>0.216719</td>\n",
       "      <td>0.246773</td>\n",
       "      <td>0.450992</td>\n",
       "      <td>0.843649</td>\n",
       "      <td>-0.310406</td>\n",
       "      <td>0.301713</td>\n",
       "      <td>758.625808</td>\n",
       "      <td>15896</td>\n",
       "    </tr>\n",
       "    <tr>\n",
       "      <th>2</th>\n",
       "      <td>multi_Subclasses_KG</td>\n",
       "      <td>0.187703</td>\n",
       "      <td>0.215277</td>\n",
       "      <td>0.437976</td>\n",
       "      <td>0.835864</td>\n",
       "      <td>-0.347711</td>\n",
       "      <td>0.285105</td>\n",
       "      <td>928.461103</td>\n",
       "      <td>15896</td>\n",
       "    </tr>\n",
       "    <tr>\n",
       "      <th>3</th>\n",
       "      <td>Subclasses_KG</td>\n",
       "      <td>0.209347</td>\n",
       "      <td>0.232486</td>\n",
       "      <td>0.439949</td>\n",
       "      <td>0.835657</td>\n",
       "      <td>-0.385143</td>\n",
       "      <td>0.291871</td>\n",
       "      <td>748.174505</td>\n",
       "      <td>15896</td>\n",
       "    </tr>\n",
       "    <tr>\n",
       "      <th>4</th>\n",
       "      <td>Types_KG</td>\n",
       "      <td>0.223235</td>\n",
       "      <td>0.247509</td>\n",
       "      <td>0.446778</td>\n",
       "      <td>0.841952</td>\n",
       "      <td>-0.303399</td>\n",
       "      <td>0.299701</td>\n",
       "      <td>769.640911</td>\n",
       "      <td>15896</td>\n",
       "    </tr>\n",
       "  </tbody>\n",
       "</table>\n",
       "</div>"
      ],
      "text/plain": [
       "               planner      bleu  google_bleu    meteor  bertscore(f1)  \\\n",
       "0         Instances_KG  0.198987     0.229753  0.453807       0.844233   \n",
       "1       Instances_list  0.216719     0.246773  0.450992       0.843649   \n",
       "2  multi_Subclasses_KG  0.187703     0.215277  0.437976       0.835864   \n",
       "3        Subclasses_KG  0.209347     0.232486  0.439949       0.835657   \n",
       "4             Types_KG  0.223235     0.247509  0.446778       0.841952   \n",
       "\n",
       "     bleurt  parent_score(f)  training_duration  gpuUSED  \n",
       "0 -0.278254         0.291786        1101.558150    15634  \n",
       "1 -0.310406         0.301713         758.625808    15896  \n",
       "2 -0.347711         0.285105         928.461103    15896  \n",
       "3 -0.385143         0.291871         748.174505    15896  \n",
       "4 -0.303399         0.299701         769.640911    15896  "
      ]
     },
     "execution_count": 67,
     "metadata": {},
     "output_type": "execute_result"
    }
   ],
   "source": [
    "columns=['planner','bleu','google_bleu','meteor','bertscore(f1)','bleurt','parent_score(f)','training_duration','gpuUSED']\n",
    "\n",
    "df1=pd.DataFrame(results,columns=columns)\n",
    "df1\n"
   ]
  },
  {
   "cell_type": "code",
   "execution_count": 49,
   "metadata": {},
   "outputs": [
    {
     "data": {
      "text/plain": [
       "14.102569883333333"
      ]
     },
     "execution_count": 49,
     "metadata": {},
     "output_type": "execute_result"
    }
   ],
   "source": [
    "846.154193/60"
   ]
  },
  {
   "cell_type": "markdown",
   "metadata": {},
   "source": []
  }
 ],
 "metadata": {
  "kernelspec": {
   "display_name": "nlptasks",
   "language": "python",
   "name": "python3"
  },
  "language_info": {
   "codemirror_mode": {
    "name": "ipython",
    "version": 3
   },
   "file_extension": ".py",
   "mimetype": "text/x-python",
   "name": "python",
   "nbconvert_exporter": "python",
   "pygments_lexer": "ipython3",
   "version": "3.10.9"
  },
  "orig_nbformat": 4
 },
 "nbformat": 4,
 "nbformat_minor": 2
}
