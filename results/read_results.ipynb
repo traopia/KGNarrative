{
 "cells": [
  {
   "attachments": {},
   "cell_type": "markdown",
   "metadata": {},
   "source": [
    "## SCRIPT TO MAKE A NICE TABLE OUT OF RESULTS"
   ]
  },
  {
   "cell_type": "code",
   "execution_count": 75,
   "metadata": {},
   "outputs": [],
   "source": [
    "import json \n",
    "import os\n",
    "import ast\n",
    "import pandas as pd\n",
    "import matplotlib.pyplot as plt\n"
   ]
  },
  {
   "cell_type": "code",
   "execution_count": 64,
   "metadata": {},
   "outputs": [
    {
     "name": "stdout",
     "output_type": "stream",
     "text": [
      "Instances_KG  Instances_list  multi_Subclasses_KG  Subclasses_KG  Types_KG\n"
     ]
    }
   ],
   "source": [
    "!cd webnlgResults/webnlg_semantic_results && ls"
   ]
  },
  {
   "cell_type": "code",
   "execution_count": 65,
   "metadata": {},
   "outputs": [],
   "source": [
    "exp='webnlg_semantic_results'\n",
    "#exp_columns=['entities_list','semantic_of_news']\n",
    "exp_columns=['Instances_KG' , 'Instances_list' , 'multi_Subclasses_KG' , 'Subclasses_KG' , 'Types_KG']\n",
    "results=[]\n",
    "for i in exp_columns:\n",
    "    path=f'./webnlgResults/{exp}/{i}/output_metrics.txt'\n",
    "\n",
    "    with open(path) as f:\n",
    "        data = f.read()\n",
    "    data=data.split('\\n')#print(type(data))\n",
    "    data=[ast.literal_eval(x) for x in data if x!=''][1:]#remove empty lines and the first \n",
    "    #print(data)\n",
    "    #results.append(data)\n",
    "    planner=i\n",
    "    bluu=data[0]['bleu']\n",
    "    google_bleu=data[1]['google_bleu']\n",
    "    meteor=data[2]['meteor']\n",
    "    bertscore=data[3]['Bert_Score']['f1']\n",
    "    bleurt=data[4]['scores']\n",
    "    parent_score=data[5]['PARENT']['f_score']\n",
    "    training_duration=data[6]['time(s)']\n",
    "    gpuUSED=data[7]['gpu']\n",
    "\n",
    "    scores=[i,bluu,google_bleu,meteor,bertscore,bleurt,parent_score,training_duration,gpuUSED]\n",
    "    results.append(scores)\n",
    "    for score in data:\n",
    "        print(score)\n",
    "\n",
    "    d1=pd.DataFrame(data)\n",
    "    #d1\n",
    "    #d1.columns=['bleu','google_bleu','meteor','bertscore','bleurt','parent_score','training_duration','gpuUSED']\n"
   ]
  },
  {
   "cell_type": "code",
   "execution_count": 67,
   "metadata": {},
   "outputs": [
    {
     "data": {
      "text/html": [
       "<div>\n",
       "<style scoped>\n",
       "    .dataframe tbody tr th:only-of-type {\n",
       "        vertical-align: middle;\n",
       "    }\n",
       "\n",
       "    .dataframe tbody tr th {\n",
       "        vertical-align: top;\n",
       "    }\n",
       "\n",
       "    .dataframe thead th {\n",
       "        text-align: right;\n",
       "    }\n",
       "</style>\n",
       "<table border=\"1\" class=\"dataframe\">\n",
       "  <thead>\n",
       "    <tr style=\"text-align: right;\">\n",
       "      <th></th>\n",
       "      <th>planner</th>\n",
       "      <th>bleu</th>\n",
       "      <th>google_bleu</th>\n",
       "      <th>meteor</th>\n",
       "      <th>bertscore(f1)</th>\n",
       "      <th>bleurt</th>\n",
       "      <th>parent_score(f)</th>\n",
       "      <th>training_duration</th>\n",
       "      <th>gpuUSED</th>\n",
       "    </tr>\n",
       "  </thead>\n",
       "  <tbody>\n",
       "    <tr>\n",
       "      <th>0</th>\n",
       "      <td>Instances_KG</td>\n",
       "      <td>0.198987</td>\n",
       "      <td>0.229753</td>\n",
       "      <td>0.453807</td>\n",
       "      <td>0.844233</td>\n",
       "      <td>-0.278254</td>\n",
       "      <td>0.291786</td>\n",
       "      <td>1101.558150</td>\n",
       "      <td>15634</td>\n",
       "    </tr>\n",
       "    <tr>\n",
       "      <th>1</th>\n",
       "      <td>Instances_list</td>\n",
       "      <td>0.216719</td>\n",
       "      <td>0.246773</td>\n",
       "      <td>0.450992</td>\n",
       "      <td>0.843649</td>\n",
       "      <td>-0.310406</td>\n",
       "      <td>0.301713</td>\n",
       "      <td>758.625808</td>\n",
       "      <td>15896</td>\n",
       "    </tr>\n",
       "    <tr>\n",
       "      <th>2</th>\n",
       "      <td>multi_Subclasses_KG</td>\n",
       "      <td>0.187703</td>\n",
       "      <td>0.215277</td>\n",
       "      <td>0.437976</td>\n",
       "      <td>0.835864</td>\n",
       "      <td>-0.347711</td>\n",
       "      <td>0.285105</td>\n",
       "      <td>928.461103</td>\n",
       "      <td>15896</td>\n",
       "    </tr>\n",
       "    <tr>\n",
       "      <th>3</th>\n",
       "      <td>Subclasses_KG</td>\n",
       "      <td>0.209347</td>\n",
       "      <td>0.232486</td>\n",
       "      <td>0.439949</td>\n",
       "      <td>0.835657</td>\n",
       "      <td>-0.385143</td>\n",
       "      <td>0.291871</td>\n",
       "      <td>748.174505</td>\n",
       "      <td>15896</td>\n",
       "    </tr>\n",
       "    <tr>\n",
       "      <th>4</th>\n",
       "      <td>Types_KG</td>\n",
       "      <td>0.223235</td>\n",
       "      <td>0.247509</td>\n",
       "      <td>0.446778</td>\n",
       "      <td>0.841952</td>\n",
       "      <td>-0.303399</td>\n",
       "      <td>0.299701</td>\n",
       "      <td>769.640911</td>\n",
       "      <td>15896</td>\n",
       "    </tr>\n",
       "  </tbody>\n",
       "</table>\n",
       "</div>"
      ],
      "text/plain": [
       "               planner      bleu  google_bleu    meteor  bertscore(f1)  \\\n",
       "0         Instances_KG  0.198987     0.229753  0.453807       0.844233   \n",
       "1       Instances_list  0.216719     0.246773  0.450992       0.843649   \n",
       "2  multi_Subclasses_KG  0.187703     0.215277  0.437976       0.835864   \n",
       "3        Subclasses_KG  0.209347     0.232486  0.439949       0.835657   \n",
       "4             Types_KG  0.223235     0.247509  0.446778       0.841952   \n",
       "\n",
       "     bleurt  parent_score(f)  training_duration  gpuUSED  \n",
       "0 -0.278254         0.291786        1101.558150    15634  \n",
       "1 -0.310406         0.301713         758.625808    15896  \n",
       "2 -0.347711         0.285105         928.461103    15896  \n",
       "3 -0.385143         0.291871         748.174505    15896  \n",
       "4 -0.303399         0.299701         769.640911    15896  "
      ]
     },
     "execution_count": 67,
     "metadata": {},
     "output_type": "execute_result"
    }
   ],
   "source": [
    "columns=['planner','bleu','google_bleu','meteor','bertscore(f1)','bleurt','parent_score(f)','training_duration','gpuUSED']\n",
    "\n",
    "df1=pd.DataFrame(results,columns=columns)\n",
    "df1\n"
   ]
  },
  {
   "attachments": {},
   "cell_type": "markdown",
   "metadata": {},
   "source": [
    "## GRAPHS"
   ]
  },
  {
   "cell_type": "code",
   "execution_count": 64,
   "metadata": {},
   "outputs": [
    {
     "data": {
      "text/plain": [
       "['0.0003_5_3_output_metrics.json',\n",
       " '0.0005_5_3_output_metrics.json',\n",
       " '1e-05_3_3_output_metrics.json',\n",
       " '3e-06_3_3_output_metrics.json',\n",
       " '5e-05_5_3_output_metrics.json',\n",
       " '1e-05_1_3_output_metrics.json',\n",
       " '0.0005_1_3_output_metrics.json',\n",
       " '5e-05_3_3_output_metrics.json',\n",
       " '5e-05_1_3_output_metrics.json',\n",
       " '3e-06_5_3_output_metrics.json',\n",
       " '3e-06_1_3_output_metrics.json',\n",
       " '1e-05_5_3_output_metrics.json',\n",
       " '0.0001_5_3_output_metrics.json',\n",
       " '0.0003_3_3_output_metrics.json',\n",
       " '0.0001_3_3_output_metrics.json',\n",
       " '3e-05_1_3_output_metrics.json',\n",
       " '0.0003_1_3_output_metrics.json',\n",
       " '3e-05_5_3_output_metrics.json',\n",
       " '3e-05_3_3_output_metrics.json',\n",
       " '0.0005_3_3_output_metrics.json',\n",
       " '0.0001_1_3_output_metrics.json']"
      ]
     },
     "execution_count": 64,
     "metadata": {},
     "output_type": "execute_result"
    }
   ],
   "source": [
    "names=os.listdir('./gridsearch_results/Instances')\n",
    "names"
   ]
  },
  {
   "cell_type": "code",
   "execution_count": 135,
   "metadata": {},
   "outputs": [],
   "source": [
    "blues={}\n",
    "bertscores={}\n",
    "meteors={}\n",
    "bleurts={}\n",
    "for n in names:\n",
    "    with open(f'./gridsearch_results/Instances/{n}','r') as f:\n",
    "        scores = json.load(f)\n",
    "        vals=n.split('_output_')[0]\n",
    "        #print(vals)        #print(scores[1])\n",
    "        blues[vals]=scores[1]['bleu']\n",
    "        bertscores[vals]=scores[4]['Bert_Score']['f1']\n",
    "        meteors[vals]=scores[3]['meteor']\n",
    "        bleurts[vals]=scores[5]['bleurt_score']\n",
    "    \n",
    "\n"
   ]
  },
  {
   "cell_type": "markdown",
   "metadata": {},
   "source": []
  },
  {
   "cell_type": "code",
   "execution_count": 126,
   "metadata": {},
   "outputs": [
    {
     "name": "stdout",
     "output_type": "stream",
     "text": [
      "{'1e-05_3_3': 0.2303552952041102, '3e-05_3_3': 0.2319262736458347, '3e-05_5_3': 0.23356801912154768, '5e-05_3_3': 0.23451864132376346, '3e-05_1_3': 0.2364451888288815, '0.0005_1_3': 0.24744617344992884, '0.0003_5_3': 0.25486888139364217, '0.0003_3_3': 0.26152277559072157, '0.0003_1_3': 0.27129206884413787, '0.0001_5_3': 0.30033110052876233, '0.0001_3_3': 0.30084670744665, '0.0001_1_3': 0.30131040573237944}\n"
     ]
    },
    {
     "data": {
      "text/plain": [
       "<BarContainer object of 12 artists>"
      ]
     },
     "execution_count": 126,
     "metadata": {},
     "output_type": "execute_result"
    },
    {
     "data": {
      "image/png": "[encoded data removed]",
      "text/plain": [
       "<Figure size 1500x300 with 1 Axes>"
      ]
     },
     "metadata": {},
     "output_type": "display_data"
    }
   ],
   "source": [
    "\n",
    "blues={k: v for k, v in sorted(blues.items(), key=lambda item: item[1]) if v>0.23}\n",
    "print(blues)\n",
    "\n",
    "# Data for plotting\n",
    "plt.figure(figsize=(15, 3))  # width:20, height:3\n",
    "plt.bar((blues.keys()),blues.values(),width=0.1)\n",
    "#plt.bar(range(len(my_dict)), my_dict.values(), align='edge', width=0.3)\n"
   ]
  },
  {
   "cell_type": "code",
   "execution_count": 128,
   "metadata": {},
   "outputs": [
    {
     "data": {
      "text/plain": [
       "(0.7, 1.0)"
      ]
     },
     "execution_count": 128,
     "metadata": {},
     "output_type": "execute_result"
    },
    {
     "data": {
      "image/png": "[encoded data removed]",
      "text/plain": [
       "<Figure size 640x480 with 1 Axes>"
      ]
     },
     "metadata": {},
     "output_type": "display_data"
    }
   ],
   "source": [
    "bertscores={k: v for k, v in sorted(bertscores.items(), key=lambda item: item[1]) if v>0.86 }\n",
    "fig, ax = plt.subplots()\n",
    "\n",
    "ax.bar((bertscores.keys()),bertscores.values(),width=0.1)\n",
    "\n",
    "ax.set_ylim(0.7, 1)  # outliers only"
   ]
  },
  {
   "cell_type": "code",
   "execution_count": 132,
   "metadata": {},
   "outputs": [
    {
     "data": {
      "text/plain": [
       "<BarContainer object of 6 artists>"
      ]
     },
     "execution_count": 132,
     "metadata": {},
     "output_type": "execute_result"
    },
    {
     "data": {
      "image/png": "[encoded data removed]",
      "text/plain": [
       "<Figure size 640x480 with 1 Axes>"
      ]
     },
     "metadata": {},
     "output_type": "display_data"
    }
   ],
   "source": [
    "meteors={k: v for k, v in sorted(meteors.items(), key=lambda item: item[1]) if v>0.53 }\n",
    "fig, ax = plt.subplots()\n",
    "ax.bar((meteors.keys()),meteors.values(),width=0.1)"
   ]
  },
  {
   "cell_type": "code",
   "execution_count": 137,
   "metadata": {},
   "outputs": [
    {
     "data": {
      "text/plain": [
       "<BarContainer object of 6 artists>"
      ]
     },
     "execution_count": 137,
     "metadata": {},
     "output_type": "execute_result"
    },
    {
     "data": {
      "image/png": "[encoded data removed]",
      "text/plain": [
       "<Figure size 640x480 with 1 Axes>"
      ]
     },
     "metadata": {},
     "output_type": "display_data"
    }
   ],
   "source": [
    "bleurts={k: v for k, v in sorted(bleurts.items(), key=lambda item: item[1]) if v>0.6 }\n",
    "fig, ax = plt.subplots()\n",
    "ax.bar((bleurts.keys()),bleurts.values(),width=0.1)"
   ]
  },
  {
   "cell_type": "code",
   "execution_count": null,
   "metadata": {},
   "outputs": [],
   "source": []
  }
 ],
 "metadata": {
  "kernelspec": {
   "display_name": "nlptasks",
   "language": "python",
   "name": "python3"
  },
  "language_info": {
   "codemirror_mode": {
    "name": "ipython",
    "version": 3
   },
   "file_extension": ".py",
   "mimetype": "text/x-python",
   "name": "python",
   "nbconvert_exporter": "python",
   "pygments_lexer": "ipython3",
   "version": "3.10.9"
  },
  "orig_nbformat": 4
 },
 "nbformat": 4,
 "nbformat_minor": 2
}
