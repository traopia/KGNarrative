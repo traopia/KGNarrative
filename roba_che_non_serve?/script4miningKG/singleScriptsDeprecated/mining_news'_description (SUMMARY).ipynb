{
  "nbformat": 4,
  "nbformat_minor": 0,
  "metadata": {
    "colab": {
      "provenance": []
    },
    "kernelspec": {
      "name": "python3",
      "display_name": "Python 3"
    },
    "language_info": {
      "name": "python"
    },
    "accelerator": "GPU",
    "gpuClass": "standard"
  },
  "cells": [
    {
      "cell_type": "markdown",
      "metadata": {
        "id": "view-in-github"
      },
      "source": [
        "<a href=\"https://colab.research.google.com/github/traopia/KGNarrative/blob/master/esperiments.ipynb\" target=\"_parent\"><img src=\"https://colab.research.google.com/assets/colab-badge.svg\" alt=\"Open In Colab\"/></a>"
      ]
    },
    {
      "cell_type": "markdown",
      "source": [
        "# Mining News' Descriptions"
      ],
      "metadata": {
        "id": "_cubLqp-0VVL"
      }
    },
    {
      "cell_type": "code",
      "source": [
        "!pip install transformers \n",
        "!pip install datasets\n",
        "!pip install pynvml\n",
        "!pip install evaluate \n",
        "!pip install sentencepiece"
      ],
      "metadata": {
        "colab": {
          "base_uri": "https://localhost:8080/"
        },
        "id": "Li8F8ni2bUJV",
        "outputId": "7e212732-0f37-4187-c2a9-81ece7a5f887"
      },
      "execution_count": 1,
      "outputs": [
        {
          "output_type": "stream",
          "name": "stdout",
          "text": [
            "Looking in indexes: https://pypi.org/simple, https://us-python.pkg.dev/colab-wheels/public/simple/\n",
            "Requirement already satisfied: transformers in /usr/local/lib/python3.8/dist-packages (4.26.1)\n",
            "Requirement already satisfied: pyyaml>=5.1 in /usr/local/lib/python3.8/dist-packages (from transformers) (6.0)\n",
            "Requirement already satisfied: numpy>=1.17 in /usr/local/lib/python3.8/dist-packages (from transformers) (1.22.4)\n",
            "Requirement already satisfied: huggingface-hub<1.0,>=0.11.0 in /usr/local/lib/python3.8/dist-packages (from transformers) (0.12.1)\n",
            "Requirement already satisfied: regex!=2019.12.17 in /usr/local/lib/python3.8/dist-packages (from transformers) (2022.6.2)\n",
            "Requirement already satisfied: packaging>=20.0 in /usr/local/lib/python3.8/dist-packages (from transformers) (23.0)\n",
            "Requirement already satisfied: tokenizers!=0.11.3,<0.14,>=0.11.1 in /usr/local/lib/python3.8/dist-packages (from transformers) (0.13.2)\n",
            "Requirement already satisfied: requests in /usr/local/lib/python3.8/dist-packages (from transformers) (2.25.1)\n",
            "Requirement already satisfied: tqdm>=4.27 in /usr/local/lib/python3.8/dist-packages (from transformers) (4.64.1)\n",
            "Requirement already satisfied: filelock in /usr/local/lib/python3.8/dist-packages (from transformers) (3.9.0)\n",
            "Requirement already satisfied: typing-extensions>=3.7.4.3 in /usr/local/lib/python3.8/dist-packages (from huggingface-hub<1.0,>=0.11.0->transformers) (4.5.0)\n",
            "Requirement already satisfied: idna<3,>=2.5 in /usr/local/lib/python3.8/dist-packages (from requests->transformers) (2.10)\n",
            "Requirement already satisfied: urllib3<1.27,>=1.21.1 in /usr/local/lib/python3.8/dist-packages (from requests->transformers) (1.26.14)\n",
            "Requirement already satisfied: certifi>=2017.4.17 in /usr/local/lib/python3.8/dist-packages (from requests->transformers) (2022.12.7)\n",
            "Requirement already satisfied: chardet<5,>=3.0.2 in /usr/local/lib/python3.8/dist-packages (from requests->transformers) (4.0.0)\n",
            "Looking in indexes: https://pypi.org/simple, https://us-python.pkg.dev/colab-wheels/public/simple/\n",
            "Requirement already satisfied: datasets in /usr/local/lib/python3.8/dist-packages (2.10.1)\n",
            "Requirement already satisfied: multiprocess in /usr/local/lib/python3.8/dist-packages (from datasets) (0.70.14)\n",
            "Requirement already satisfied: huggingface-hub<1.0.0,>=0.2.0 in /usr/local/lib/python3.8/dist-packages (from datasets) (0.12.1)\n",
            "Requirement already satisfied: pyyaml>=5.1 in /usr/local/lib/python3.8/dist-packages (from datasets) (6.0)\n",
            "Requirement already satisfied: fsspec[http]>=2021.11.1 in /usr/local/lib/python3.8/dist-packages (from datasets) (2023.1.0)\n",
            "Requirement already satisfied: pyarrow>=6.0.0 in /usr/local/lib/python3.8/dist-packages (from datasets) (9.0.0)\n",
            "Requirement already satisfied: tqdm>=4.62.1 in /usr/local/lib/python3.8/dist-packages (from datasets) (4.64.1)\n",
            "Requirement already satisfied: packaging in /usr/local/lib/python3.8/dist-packages (from datasets) (23.0)\n",
            "Requirement already satisfied: numpy>=1.17 in /usr/local/lib/python3.8/dist-packages (from datasets) (1.22.4)\n",
            "Requirement already satisfied: pandas in /usr/local/lib/python3.8/dist-packages (from datasets) (1.3.5)\n",
            "Requirement already satisfied: xxhash in /usr/local/lib/python3.8/dist-packages (from datasets) (3.2.0)\n",
            "Requirement already satisfied: aiohttp in /usr/local/lib/python3.8/dist-packages (from datasets) (3.8.4)\n",
            "Requirement already satisfied: requests>=2.19.0 in /usr/local/lib/python3.8/dist-packages (from datasets) (2.25.1)\n",
            "Requirement already satisfied: dill<0.3.7,>=0.3.0 in /usr/local/lib/python3.8/dist-packages (from datasets) (0.3.6)\n",
            "Requirement already satisfied: responses<0.19 in /usr/local/lib/python3.8/dist-packages (from datasets) (0.18.0)\n",
            "Requirement already satisfied: attrs>=17.3.0 in /usr/local/lib/python3.8/dist-packages (from aiohttp->datasets) (22.2.0)\n",
            "Requirement already satisfied: async-timeout<5.0,>=4.0.0a3 in /usr/local/lib/python3.8/dist-packages (from aiohttp->datasets) (4.0.2)\n",
            "Requirement already satisfied: yarl<2.0,>=1.0 in /usr/local/lib/python3.8/dist-packages (from aiohttp->datasets) (1.8.2)\n",
            "Requirement already satisfied: aiosignal>=1.1.2 in /usr/local/lib/python3.8/dist-packages (from aiohttp->datasets) (1.3.1)\n",
            "Requirement already satisfied: charset-normalizer<4.0,>=2.0 in /usr/local/lib/python3.8/dist-packages (from aiohttp->datasets) (3.0.1)\n",
            "Requirement already satisfied: multidict<7.0,>=4.5 in /usr/local/lib/python3.8/dist-packages (from aiohttp->datasets) (6.0.4)\n",
            "Requirement already satisfied: frozenlist>=1.1.1 in /usr/local/lib/python3.8/dist-packages (from aiohttp->datasets) (1.3.3)\n",
            "Requirement already satisfied: filelock in /usr/local/lib/python3.8/dist-packages (from huggingface-hub<1.0.0,>=0.2.0->datasets) (3.9.0)\n",
            "Requirement already satisfied: typing-extensions>=3.7.4.3 in /usr/local/lib/python3.8/dist-packages (from huggingface-hub<1.0.0,>=0.2.0->datasets) (4.5.0)\n",
            "Requirement already satisfied: chardet<5,>=3.0.2 in /usr/local/lib/python3.8/dist-packages (from requests>=2.19.0->datasets) (4.0.0)\n",
            "Requirement already satisfied: urllib3<1.27,>=1.21.1 in /usr/local/lib/python3.8/dist-packages (from requests>=2.19.0->datasets) (1.26.14)\n",
            "Requirement already satisfied: certifi>=2017.4.17 in /usr/local/lib/python3.8/dist-packages (from requests>=2.19.0->datasets) (2022.12.7)\n",
            "Requirement already satisfied: idna<3,>=2.5 in /usr/local/lib/python3.8/dist-packages (from requests>=2.19.0->datasets) (2.10)\n",
            "Requirement already satisfied: python-dateutil>=2.7.3 in /usr/local/lib/python3.8/dist-packages (from pandas->datasets) (2.8.2)\n",
            "Requirement already satisfied: pytz>=2017.3 in /usr/local/lib/python3.8/dist-packages (from pandas->datasets) (2022.7.1)\n",
            "Requirement already satisfied: six>=1.5 in /usr/local/lib/python3.8/dist-packages (from python-dateutil>=2.7.3->pandas->datasets) (1.15.0)\n",
            "Looking in indexes: https://pypi.org/simple, https://us-python.pkg.dev/colab-wheels/public/simple/\n",
            "Requirement already satisfied: pynvml in /usr/local/lib/python3.8/dist-packages (11.5.0)\n",
            "Looking in indexes: https://pypi.org/simple, https://us-python.pkg.dev/colab-wheels/public/simple/\n",
            "Requirement already satisfied: evaluate in /usr/local/lib/python3.8/dist-packages (0.4.0)\n",
            "Requirement already satisfied: xxhash in /usr/local/lib/python3.8/dist-packages (from evaluate) (3.2.0)\n",
            "Requirement already satisfied: responses<0.19 in /usr/local/lib/python3.8/dist-packages (from evaluate) (0.18.0)\n",
            "Requirement already satisfied: datasets>=2.0.0 in /usr/local/lib/python3.8/dist-packages (from evaluate) (2.10.1)\n",
            "Requirement already satisfied: numpy>=1.17 in /usr/local/lib/python3.8/dist-packages (from evaluate) (1.22.4)\n",
            "Requirement already satisfied: tqdm>=4.62.1 in /usr/local/lib/python3.8/dist-packages (from evaluate) (4.64.1)\n",
            "Requirement already satisfied: dill in /usr/local/lib/python3.8/dist-packages (from evaluate) (0.3.6)\n",
            "Requirement already satisfied: pandas in /usr/local/lib/python3.8/dist-packages (from evaluate) (1.3.5)\n",
            "Requirement already satisfied: huggingface-hub>=0.7.0 in /usr/local/lib/python3.8/dist-packages (from evaluate) (0.12.1)\n",
            "Requirement already satisfied: requests>=2.19.0 in /usr/local/lib/python3.8/dist-packages (from evaluate) (2.25.1)\n",
            "Requirement already satisfied: fsspec[http]>=2021.05.0 in /usr/local/lib/python3.8/dist-packages (from evaluate) (2023.1.0)\n",
            "Requirement already satisfied: multiprocess in /usr/local/lib/python3.8/dist-packages (from evaluate) (0.70.14)\n",
            "Requirement already satisfied: packaging in /usr/local/lib/python3.8/dist-packages (from evaluate) (23.0)\n",
            "Requirement already satisfied: pyarrow>=6.0.0 in /usr/local/lib/python3.8/dist-packages (from datasets>=2.0.0->evaluate) (9.0.0)\n",
            "Requirement already satisfied: aiohttp in /usr/local/lib/python3.8/dist-packages (from datasets>=2.0.0->evaluate) (3.8.4)\n",
            "Requirement already satisfied: pyyaml>=5.1 in /usr/local/lib/python3.8/dist-packages (from datasets>=2.0.0->evaluate) (6.0)\n",
            "Requirement already satisfied: typing-extensions>=3.7.4.3 in /usr/local/lib/python3.8/dist-packages (from huggingface-hub>=0.7.0->evaluate) (4.5.0)\n",
            "Requirement already satisfied: filelock in /usr/local/lib/python3.8/dist-packages (from huggingface-hub>=0.7.0->evaluate) (3.9.0)\n",
            "Requirement already satisfied: certifi>=2017.4.17 in /usr/local/lib/python3.8/dist-packages (from requests>=2.19.0->evaluate) (2022.12.7)\n",
            "Requirement already satisfied: idna<3,>=2.5 in /usr/local/lib/python3.8/dist-packages (from requests>=2.19.0->evaluate) (2.10)\n",
            "Requirement already satisfied: chardet<5,>=3.0.2 in /usr/local/lib/python3.8/dist-packages (from requests>=2.19.0->evaluate) (4.0.0)\n",
            "Requirement already satisfied: urllib3<1.27,>=1.21.1 in /usr/local/lib/python3.8/dist-packages (from requests>=2.19.0->evaluate) (1.26.14)\n",
            "Requirement already satisfied: pytz>=2017.3 in /usr/local/lib/python3.8/dist-packages (from pandas->evaluate) (2022.7.1)\n",
            "Requirement already satisfied: python-dateutil>=2.7.3 in /usr/local/lib/python3.8/dist-packages (from pandas->evaluate) (2.8.2)\n",
            "Requirement already satisfied: yarl<2.0,>=1.0 in /usr/local/lib/python3.8/dist-packages (from aiohttp->datasets>=2.0.0->evaluate) (1.8.2)\n",
            "Requirement already satisfied: multidict<7.0,>=4.5 in /usr/local/lib/python3.8/dist-packages (from aiohttp->datasets>=2.0.0->evaluate) (6.0.4)\n",
            "Requirement already satisfied: frozenlist>=1.1.1 in /usr/local/lib/python3.8/dist-packages (from aiohttp->datasets>=2.0.0->evaluate) (1.3.3)\n",
            "Requirement already satisfied: async-timeout<5.0,>=4.0.0a3 in /usr/local/lib/python3.8/dist-packages (from aiohttp->datasets>=2.0.0->evaluate) (4.0.2)\n",
            "Requirement already satisfied: charset-normalizer<4.0,>=2.0 in /usr/local/lib/python3.8/dist-packages (from aiohttp->datasets>=2.0.0->evaluate) (3.0.1)\n",
            "Requirement already satisfied: aiosignal>=1.1.2 in /usr/local/lib/python3.8/dist-packages (from aiohttp->datasets>=2.0.0->evaluate) (1.3.1)\n",
            "Requirement already satisfied: attrs>=17.3.0 in /usr/local/lib/python3.8/dist-packages (from aiohttp->datasets>=2.0.0->evaluate) (22.2.0)\n",
            "Requirement already satisfied: six>=1.5 in /usr/local/lib/python3.8/dist-packages (from python-dateutil>=2.7.3->pandas->evaluate) (1.15.0)\n",
            "Looking in indexes: https://pypi.org/simple, https://us-python.pkg.dev/colab-wheels/public/simple/\n",
            "Requirement already satisfied: sentencepiece in /usr/local/lib/python3.8/dist-packages (0.1.97)\n"
          ]
        }
      ]
    },
    {
      "cell_type": "code",
      "source": [
        "import transformers\n",
        "from datasets import load_dataset, load_metric\n",
        "from transformers import AutoTokenizer, AutoModelForSequenceClassification\n",
        "import numpy as np\n",
        "import os\n",
        "import nltk\n",
        "import torch\n",
        "import evaluate\n",
        "import sys\n",
        "import pandas as pd\n",
        "from datasets import load_dataset, Dataset, DatasetDict\n",
        "from pynvml import nvmlInit, nvmlDeviceGetHandleByIndex, nvmlDeviceGetMemoryInfo\n",
        "from sklearn.model_selection import train_test_split"
      ],
      "metadata": {
        "id": "rsKcovDZbRnk"
      },
      "execution_count": 2,
      "outputs": []
    },
    {
      "cell_type": "code",
      "source": [
        "#! git clone https://github.com/traopia/KGNarrative.git"
      ],
      "metadata": {
        "id": "Fo6UZtVbZG1Y"
      },
      "execution_count": 3,
      "outputs": []
    },
    {
      "cell_type": "code",
      "source": [
        "# define utils functions to facilitate gpu \n",
        "\n",
        "def check_gpu_availability():\n",
        "    # Check if CUDA is available\n",
        "    print(f\"Cuda is available: {torch.cuda.is_available()}\")\n",
        "\n",
        "def getting_device(gpu_prefence=True) -> torch.device:\n",
        "    \"\"\"\n",
        "    This function gets the torch device to be used for computations, \n",
        "    based on the GPU preference specified by the user.\n",
        "    \"\"\"\n",
        "    \n",
        "    # If GPU is preferred and available, set device to CUDA\n",
        "    if gpu_prefence and torch.cuda.is_available():\n",
        "        device = torch.device('cuda')\n",
        "    # If GPU is not preferred or not available, set device to CPU\n",
        "    else: \n",
        "        device = torch.device(\"cpu\")\n",
        "    \n",
        "    # Print the selected device\n",
        "    print(f\"Selected device: {device}\")\n",
        "    \n",
        "    # Return the device\n",
        "    return device\n",
        "\n",
        "# Define a function to print GPU memory utilization\n",
        "def print_gpu_utilization():\n",
        "    # Initialize the PyNVML library\n",
        "    nvmlInit()\n",
        "    # Get a handle to the first GPU in the system\n",
        "    handle = nvmlDeviceGetHandleByIndex(0)\n",
        "    # Get information about the memory usage on the GPU\n",
        "    info = nvmlDeviceGetMemoryInfo(handle)\n",
        "    # Print the GPU memory usage in MB\n",
        "    print(f\"GPU memory occupied: {info.used//1024**2} MB.\")\n",
        "\n",
        "# Define a function to print training summary information\n",
        "def print_summary(result):\n",
        "    # Print the total training time in seconds\n",
        "    print(f\"Time: {result.metrics['train_runtime']:.2f}\")\n",
        "    # Print the number of training samples processed per second\n",
        "    print(f\"Samples/second: {result.metrics['train_samples_per_second']:.2f}\")\n",
        "    # Print the GPU memory utilization\n",
        "    print_gpu_utilization()"
      ],
      "metadata": {
        "id": "XY2S7OaPaRda"
      },
      "execution_count": 4,
      "outputs": []
    },
    {
      "cell_type": "code",
      "source": [
        "# CHECK IF GPU IS UP\n",
        "check_gpu_availability()\n",
        "\n"
      ],
      "metadata": {
        "colab": {
          "base_uri": "https://localhost:8080/"
        },
        "id": "Sh6bOolCbn1x",
        "outputId": "50cc3464-5d5f-49ad-d383-333cc40408d1"
      },
      "execution_count": 5,
      "outputs": [
        {
          "output_type": "stream",
          "name": "stdout",
          "text": [
            "Cuda is available: True\n"
          ]
        }
      ]
    },
    {
      "cell_type": "code",
      "source": [
        "# SAVE THE DEVICE WE ARE WORKING WITH\n",
        "device = getting_device(gpu_prefence=True)"
      ],
      "metadata": {
        "colab": {
          "base_uri": "https://localhost:8080/"
        },
        "id": "N0L01397byoz",
        "outputId": "6a5e2f6b-b42a-450e-c38c-56fbde73a801"
      },
      "execution_count": 6,
      "outputs": [
        {
          "output_type": "stream",
          "name": "stdout",
          "text": [
            "Selected device: cuda\n"
          ]
        }
      ]
    },
    {
      "cell_type": "markdown",
      "source": [
        "#### Importing documents\n"
      ],
      "metadata": {
        "id": "tG7KHY_hdIKj"
      }
    },
    {
      "cell_type": "code",
      "source": [
        "path2file = \"/content/DWIE_train_topic_news.csv\"\n",
        "df = pd.read_csv(path2file)\n"
      ],
      "metadata": {
        "id": "J129dRo7dF5r"
      },
      "execution_count": 7,
      "outputs": []
    },
    {
      "cell_type": "code",
      "source": [
        "df.head(10)"
      ],
      "metadata": {
        "colab": {
          "base_uri": "https://localhost:8080/",
          "height": 1000
        },
        "id": "bRZw0N-Sd7aj",
        "outputId": "73954a6c-ccde-47e7-ae9b-3be5ca24b4ac"
      },
      "execution_count": 8,
      "outputs": [
        {
          "output_type": "execute_result",
          "data": {
            "text/plain": [
              "   Unnamed: 0                                              story  \\\n",
              "0           0  Multi-lingual in the World Wide Web Profession...   \n",
              "1           1  German Know-How For China's Energy Sector Ener...   \n",
              "2           2  Trash crisis forces Lebanon's environmental aw...   \n",
              "3           3  Iran calls for end to Saudi air campaign, as U...   \n",
              "4           4  Ai Weiwei Drifting Ai Weiwei: Uncomfortable cr...   \n",
              "5           5  Journal Interview with Günter Nooke, The Chanc...   \n",
              "6           6  Turkey summons German envoy for second time in...   \n",
              "7           7  Medvedev seeks investment at Davos economic fo...   \n",
              "8           8  Ex-CIA fugitive Robert Seldon Lady detained in...   \n",
              "9           9  Nearly 10,000 migrants rescued on Mediterranea...   \n",
              "\n",
              "                           Instances Knowledge Graph  \\\n",
              "0  Personal Translator - product_of - Linguatec |...   \n",
              "1  Shangdong Linuo Paradigma - based_in0 - German...   \n",
              "2  Kassem Kazak - citizen_of - Lebanon | Kassem K...   \n",
              "3  Houthi - based_in0 - Yemen | Houthi - based_in...   \n",
              "4  DW (Deutsch+) - based_in0 - Germany | Ai Weiwe...   \n",
              "5  Günter Nooke - agent_of - Germany | Günter Noo...   \n",
              "6  Martin Erdmann - agent_of - Germany | Martin E...   \n",
              "7  Dmitry Medvedev - agent_of - Russia | Dmitry M...   \n",
              "8  Osama Moustafa Hassan Nasr - citizen_of - Egyp...   \n",
              "9  Rome - in0 - Italy | Rome - in0-x - Italian | ...   \n",
              "\n",
              "                               Types Knowledge Graph  \\\n",
              "0  Personal Translator - type - entity | Personal...   \n",
              "1  China - type - entity | China - type - gpe | C...   \n",
              "2  Kareem Chehayeb - type - entity | Kareem Cheha...   \n",
              "3  Medecins Sans Frontieres - type - entity | Med...   \n",
              "4  DW (Deutsch+) - type - entity | DW (Deutsch+) ...   \n",
              "5  Günter Nooke - type - entity | Günter Nooke - ...   \n",
              "6  European Union - type - entity | European Unio...   \n",
              "7  Dmitry Medvedev - type - entity | Dmitry Medve...   \n",
              "8  Osama Moustafa Hassan Nasr - type - clergy | O...   \n",
              "9  Strait of Sicily - type - entity | Strait of S...   \n",
              "\n",
              "                            Subclass Knowledge Graph predicted_label1  \n",
              "0  misc - subclass_of - entity | product - subcla...             tech  \n",
              "1  gpe - subclass_of - location | gpe0 - subclass...         business  \n",
              "2  journalist - subclass_of - per | manager - sub...             tech  \n",
              "3  ngo - subclass_of - org | gpe - subclass_of - ...         business  \n",
              "4  media - subclass_of - org | activist - subclas...    entertainment  \n",
              "5  gov_per - subclass_of - per | location - subcl...         politics  \n",
              "6  igo - subclass_of - org | so - subclass_of - i...         politics  \n",
              "7  head_of_gov - subclass_of - politician | polit...         business  \n",
              "8  offender - subclass_of - per | agency - subcla...         business  \n",
              "9  location - subclass_of - entity | waterbody - ...         business  "
            ],
            "text/html": [
              "\n",
              "  <div id=\"df-e61aa361-5770-4d17-b380-1641ecbd5d3f\">\n",
              "    <div class=\"colab-df-container\">\n",
              "      <div>\n",
              "<style scoped>\n",
              "    .dataframe tbody tr th:only-of-type {\n",
              "        vertical-align: middle;\n",
              "    }\n",
              "\n",
              "    .dataframe tbody tr th {\n",
              "        vertical-align: top;\n",
              "    }\n",
              "\n",
              "    .dataframe thead th {\n",
              "        text-align: right;\n",
              "    }\n",
              "</style>\n",
              "<table border=\"1\" class=\"dataframe\">\n",
              "  <thead>\n",
              "    <tr style=\"text-align: right;\">\n",
              "      <th></th>\n",
              "      <th>Unnamed: 0</th>\n",
              "      <th>story</th>\n",
              "      <th>Instances Knowledge Graph</th>\n",
              "      <th>Types Knowledge Graph</th>\n",
              "      <th>Subclass Knowledge Graph</th>\n",
              "      <th>predicted_label1</th>\n",
              "    </tr>\n",
              "  </thead>\n",
              "  <tbody>\n",
              "    <tr>\n",
              "      <th>0</th>\n",
              "      <td>0</td>\n",
              "      <td>Multi-lingual in the World Wide Web Profession...</td>\n",
              "      <td>Personal Translator - product_of - Linguatec |...</td>\n",
              "      <td>Personal Translator - type - entity | Personal...</td>\n",
              "      <td>misc - subclass_of - entity | product - subcla...</td>\n",
              "      <td>tech</td>\n",
              "    </tr>\n",
              "    <tr>\n",
              "      <th>1</th>\n",
              "      <td>1</td>\n",
              "      <td>German Know-How For China's Energy Sector Ener...</td>\n",
              "      <td>Shangdong Linuo Paradigma - based_in0 - German...</td>\n",
              "      <td>China - type - entity | China - type - gpe | C...</td>\n",
              "      <td>gpe - subclass_of - location | gpe0 - subclass...</td>\n",
              "      <td>business</td>\n",
              "    </tr>\n",
              "    <tr>\n",
              "      <th>2</th>\n",
              "      <td>2</td>\n",
              "      <td>Trash crisis forces Lebanon's environmental aw...</td>\n",
              "      <td>Kassem Kazak - citizen_of - Lebanon | Kassem K...</td>\n",
              "      <td>Kareem Chehayeb - type - entity | Kareem Cheha...</td>\n",
              "      <td>journalist - subclass_of - per | manager - sub...</td>\n",
              "      <td>tech</td>\n",
              "    </tr>\n",
              "    <tr>\n",
              "      <th>3</th>\n",
              "      <td>3</td>\n",
              "      <td>Iran calls for end to Saudi air campaign, as U...</td>\n",
              "      <td>Houthi - based_in0 - Yemen | Houthi - based_in...</td>\n",
              "      <td>Medecins Sans Frontieres - type - entity | Med...</td>\n",
              "      <td>ngo - subclass_of - org | gpe - subclass_of - ...</td>\n",
              "      <td>business</td>\n",
              "    </tr>\n",
              "    <tr>\n",
              "      <th>4</th>\n",
              "      <td>4</td>\n",
              "      <td>Ai Weiwei Drifting Ai Weiwei: Uncomfortable cr...</td>\n",
              "      <td>DW (Deutsch+) - based_in0 - Germany | Ai Weiwe...</td>\n",
              "      <td>DW (Deutsch+) - type - entity | DW (Deutsch+) ...</td>\n",
              "      <td>media - subclass_of - org | activist - subclas...</td>\n",
              "      <td>entertainment</td>\n",
              "    </tr>\n",
              "    <tr>\n",
              "      <th>5</th>\n",
              "      <td>5</td>\n",
              "      <td>Journal Interview with Günter Nooke, The Chanc...</td>\n",
              "      <td>Günter Nooke - agent_of - Germany | Günter Noo...</td>\n",
              "      <td>Günter Nooke - type - entity | Günter Nooke - ...</td>\n",
              "      <td>gov_per - subclass_of - per | location - subcl...</td>\n",
              "      <td>politics</td>\n",
              "    </tr>\n",
              "    <tr>\n",
              "      <th>6</th>\n",
              "      <td>6</td>\n",
              "      <td>Turkey summons German envoy for second time in...</td>\n",
              "      <td>Martin Erdmann - agent_of - Germany | Martin E...</td>\n",
              "      <td>European Union - type - entity | European Unio...</td>\n",
              "      <td>igo - subclass_of - org | so - subclass_of - i...</td>\n",
              "      <td>politics</td>\n",
              "    </tr>\n",
              "    <tr>\n",
              "      <th>7</th>\n",
              "      <td>7</td>\n",
              "      <td>Medvedev seeks investment at Davos economic fo...</td>\n",
              "      <td>Dmitry Medvedev - agent_of - Russia | Dmitry M...</td>\n",
              "      <td>Dmitry Medvedev - type - entity | Dmitry Medve...</td>\n",
              "      <td>head_of_gov - subclass_of - politician | polit...</td>\n",
              "      <td>business</td>\n",
              "    </tr>\n",
              "    <tr>\n",
              "      <th>8</th>\n",
              "      <td>8</td>\n",
              "      <td>Ex-CIA fugitive Robert Seldon Lady detained in...</td>\n",
              "      <td>Osama Moustafa Hassan Nasr - citizen_of - Egyp...</td>\n",
              "      <td>Osama Moustafa Hassan Nasr - type - clergy | O...</td>\n",
              "      <td>offender - subclass_of - per | agency - subcla...</td>\n",
              "      <td>business</td>\n",
              "    </tr>\n",
              "    <tr>\n",
              "      <th>9</th>\n",
              "      <td>9</td>\n",
              "      <td>Nearly 10,000 migrants rescued on Mediterranea...</td>\n",
              "      <td>Rome - in0 - Italy | Rome - in0-x - Italian | ...</td>\n",
              "      <td>Strait of Sicily - type - entity | Strait of S...</td>\n",
              "      <td>location - subclass_of - entity | waterbody - ...</td>\n",
              "      <td>business</td>\n",
              "    </tr>\n",
              "  </tbody>\n",
              "</table>\n",
              "</div>\n",
              "      <button class=\"colab-df-convert\" onclick=\"convertToInteractive('df-e61aa361-5770-4d17-b380-1641ecbd5d3f')\"\n",
              "              title=\"Convert this dataframe to an interactive table.\"\n",
              "              style=\"display:none;\">\n",
              "        \n",
              "  <svg xmlns=\"http://www.w3.org/2000/svg\" height=\"24px\"viewBox=\"0 0 24 24\"\n",
              "       width=\"24px\">\n",
              "    <path d=\"M0 0h24v24H0V0z\" fill=\"none\"/>\n",
              "    <path d=\"M18.56 5.44l.94 2.06.94-2.06 2.06-.94-2.06-.94-.94-2.06-.94 2.06-2.06.94zm-11 1L8.5 8.5l.94-2.06 2.06-.94-2.06-.94L8.5 2.5l-.94 2.06-2.06.94zm10 10l.94 2.06.94-2.06 2.06-.94-2.06-.94-.94-2.06-.94 2.06-2.06.94z\"/><path d=\"M17.41 7.96l-1.37-1.37c-.4-.4-.92-.59-1.43-.59-.52 0-1.04.2-1.43.59L10.3 9.45l-7.72 7.72c-.78.78-.78 2.05 0 2.83L4 21.41c.39.39.9.59 1.41.59.51 0 1.02-.2 1.41-.59l7.78-7.78 2.81-2.81c.8-.78.8-2.07 0-2.86zM5.41 20L4 18.59l7.72-7.72 1.47 1.35L5.41 20z\"/>\n",
              "  </svg>\n",
              "      </button>\n",
              "      \n",
              "  <style>\n",
              "    .colab-df-container {\n",
              "      display:flex;\n",
              "      flex-wrap:wrap;\n",
              "      gap: 12px;\n",
              "    }\n",
              "\n",
              "    .colab-df-convert {\n",
              "      background-color: #E8F0FE;\n",
              "      border: none;\n",
              "      border-radius: 50%;\n",
              "      cursor: pointer;\n",
              "      display: none;\n",
              "      fill: #1967D2;\n",
              "      height: 32px;\n",
              "      padding: 0 0 0 0;\n",
              "      width: 32px;\n",
              "    }\n",
              "\n",
              "    .colab-df-convert:hover {\n",
              "      background-color: #E2EBFA;\n",
              "      box-shadow: 0px 1px 2px rgba(60, 64, 67, 0.3), 0px 1px 3px 1px rgba(60, 64, 67, 0.15);\n",
              "      fill: #174EA6;\n",
              "    }\n",
              "\n",
              "    [theme=dark] .colab-df-convert {\n",
              "      background-color: #3B4455;\n",
              "      fill: #D2E3FC;\n",
              "    }\n",
              "\n",
              "    [theme=dark] .colab-df-convert:hover {\n",
              "      background-color: #434B5C;\n",
              "      box-shadow: 0px 1px 3px 1px rgba(0, 0, 0, 0.15);\n",
              "      filter: drop-shadow(0px 1px 2px rgba(0, 0, 0, 0.3));\n",
              "      fill: #FFFFFF;\n",
              "    }\n",
              "  </style>\n",
              "\n",
              "      <script>\n",
              "        const buttonEl =\n",
              "          document.querySelector('#df-e61aa361-5770-4d17-b380-1641ecbd5d3f button.colab-df-convert');\n",
              "        buttonEl.style.display =\n",
              "          google.colab.kernel.accessAllowed ? 'block' : 'none';\n",
              "\n",
              "        async function convertToInteractive(key) {\n",
              "          const element = document.querySelector('#df-e61aa361-5770-4d17-b380-1641ecbd5d3f');\n",
              "          const dataTable =\n",
              "            await google.colab.kernel.invokeFunction('convertToInteractive',\n",
              "                                                     [key], {});\n",
              "          if (!dataTable) return;\n",
              "\n",
              "          const docLinkHtml = 'Like what you see? Visit the ' +\n",
              "            '<a target=\"_blank\" href=https://colab.research.google.com/notebooks/data_table.ipynb>data table notebook</a>'\n",
              "            + ' to learn more about interactive tables.';\n",
              "          element.innerHTML = '';\n",
              "          dataTable['output_type'] = 'display_data';\n",
              "          await google.colab.output.renderOutput(dataTable, element);\n",
              "          const docLink = document.createElement('div');\n",
              "          docLink.innerHTML = docLinkHtml;\n",
              "          element.appendChild(docLink);\n",
              "        }\n",
              "      </script>\n",
              "    </div>\n",
              "  </div>\n",
              "  "
            ]
          },
          "metadata": {},
          "execution_count": 8
        }
      ]
    },
    {
      "cell_type": "markdown",
      "source": [
        "#### News Summarization\n"
      ],
      "metadata": {
        "id": "XmrR4AfCeH_O"
      }
    },
    {
      "cell_type": "code",
      "source": [
        "model_nm1 = 'google/pegasus-multi_news'"
      ],
      "metadata": {
        "id": "Z8xY7-OfeLct"
      },
      "execution_count": 9,
      "outputs": []
    },
    {
      "cell_type": "code",
      "source": [
        "from transformers import AutoTokenizer, AutoModelForSeq2SeqLM, AutoConfig\n",
        "\n",
        "# Load the tokenizer and model from Hugging Face\n",
        "tokenizer = AutoTokenizer.from_pretrained(model_nm1)\n",
        "model = AutoModelForSeq2SeqLM.from_pretrained(model_nm1).to(device)"
      ],
      "metadata": {
        "id": "Q0U-aUwQegcc"
      },
      "execution_count": 10,
      "outputs": []
    },
    {
      "cell_type": "code",
      "source": [
        "print(print_gpu_utilization())"
      ],
      "metadata": {
        "colab": {
          "base_uri": "https://localhost:8080/"
        },
        "id": "mM5ZjdI3i4ab",
        "outputId": "726012be-51af-4a9b-ac88-c1ba6262ce53"
      },
      "execution_count": 11,
      "outputs": [
        {
          "output_type": "stream",
          "name": "stdout",
          "text": [
            "GPU memory occupied: 3017 MB.\n",
            "None\n"
          ]
        }
      ]
    },
    {
      "cell_type": "code",
      "source": [
        "# Create a list to hold the summaries\n",
        "summaries = []\n"
      ],
      "metadata": {
        "id": "fUCOpannfbNJ"
      },
      "execution_count": 12,
      "outputs": []
    },
    {
      "cell_type": "code",
      "source": [
        "# Loop through the stories\n",
        "for story in df[\"story\"]:\n",
        "    # Tokenize the story\n",
        "    inputs = tokenizer.encode(story, return_tensors=\"pt\", max_length=1024, truncation=True).to(device)\n",
        "\n",
        "    # Generate the summary\n",
        "    outputs = model.generate(inputs, max_length=50, min_length=1, length_penalty=15.0, num_beams=4, early_stopping=True)\n",
        "    \n",
        "    # Decode the summary and add it to the list\n",
        "    summary = tokenizer.decode(outputs[0], skip_special_tokens=True)\n",
        "    summaries.append(summary)"
      ],
      "metadata": {
        "id": "rzpeUvUVfmlE"
      },
      "execution_count": 13,
      "outputs": []
    },
    {
      "cell_type": "code",
      "source": [
        "# Add the summaries to the dataframe\n",
        "df[\"core description\"] = summaries"
      ],
      "metadata": {
        "id": "CbBEGp1mhkA1"
      },
      "execution_count": 14,
      "outputs": []
    },
    {
      "cell_type": "code",
      "source": [
        "df[\"story\"][0]"
      ],
      "metadata": {
        "colab": {
          "base_uri": "https://localhost:8080/",
          "height": 255
        },
        "id": "EUHO9HNkMllV",
        "outputId": "18ea6596-8572-4d14-e872-50cb6d30ec7f"
      },
      "execution_count": 15,
      "outputs": [
        {
          "output_type": "execute_result",
          "data": {
            "text/plain": [
              "'Multi-lingual in the World Wide Web Professional translators and interpreters beware! There’s a new product out at CeBIT this year and it’s set to make your job obsolete - or at least the more mundane portion of business correspondence. Imagine sitting in an office in Berlin, Paris or New York, typing an e-mail to an international colleague and getting a reply - all in one language. Sure, it’s no problem if everyone speaks the same language. But what happens when three different languages are involved? You get a translator, right? Or you spend a little more time flipping through an English-German-French dictionary. Too expensive, too time consuming? Well, there’s always the option of learning a foreign language. In the global business community, bilungualism is not a bad investment. But for those of you who didn’t memorize the German irregular verbs in school and who still can’t be bothered to remember the gender of French nouns, there’s a technical solution: the Personal Translator by Linguatec. No, it’s not a mini headset that automatically interprets your every thought - at least not yet. Linguatec is one of the leading innovators in the market for language recognition software, and it’s unique Personal Translator (PT) program is getting better and more accurate every year. So far there are two language versions, German-English and German-French. Designed as a complete software package for easy installment on a normal PC or computer network, PT is ideal for the office environment. It’s compatible with any system from Windows to Apple, and can be applied to any type of common text program including e-mails. With just a click of the mouse, the user can call on the extensive language database to translate any given text. And a link up through the user’s browser connects to the e-Translation Server for translation in the internet. The PT can also be downloaded for cellular phones and Palmpilots for mobile translations - great for vacationing in foreign countries. The next step is the linguachat - an online service for automatic translation of texts in chat groups. Gone are the days of stumbling around for the correct English or German word, with Linguatec’s browser function, users can simply chat away regardless of the language. Business of words Although there are several different international companies producing translation software, Linguatec offers the most comprehensive word and phrase databanks. It is also the only translation software that reads and analyses not only single sentences, but entire contexts to produce more accurate meaning. Whereas other companies such as the American Smartlink or Babelfish offer several different languages, Linguatec offers only three: German, English and French. This enables the company to concentrate on quality rather than quantity, an important factor in serious translation services, said a Linguatec spokesperson. This year’s new and revised edition of the Personal Translator contains 620,000 words and 35,000 common idiomatic phrases. This enables the PT to recognize double meanings and colloquial speech patterns. In addition, users can expand their word base with specialty dictionaries from areas like banking, medicine and technology. The German company started out ten years ago producing German-English translation software on the basis of IBM technology. Originally the product was slow and required a lot of thorough editing after a text was translated by the system. Now it’s being used by international companies like Siemens and Deutsche Bank. Even professional translators, who are generally skeptical of electronic translation software, are beginning to recognize the quality of the system, said a Linguatec spokesperson at CeBIT. \"When they have a long translation, they often let the PT run over the text once as a rough draft, before they fine tune it.\" Some translators and linguists are so impressed by the software, that they’ve quit their regular jobs and have begun working for Linguatec developing more accurate translation technology.'"
            ],
            "application/vnd.google.colaboratory.intrinsic+json": {
              "type": "string"
            }
          },
          "metadata": {},
          "execution_count": 15
        }
      ]
    },
    {
      "cell_type": "code",
      "source": [
        "df[\"core description\"][100]"
      ],
      "metadata": {
        "colab": {
          "base_uri": "https://localhost:8080/",
          "height": 72
        },
        "id": "JFCx0gV2F7p4",
        "outputId": "81883c25-0e06-49de-fd8b-80e2e3d6e5f7"
      },
      "execution_count": 20,
      "outputs": [
        {
          "output_type": "execute_result",
          "data": {
            "text/plain": [
              "\"– The Syrian Observatory for Human Rights says the death toll from a bus bombing yesterday that targeted evacuees from two towns in the country's north has risen to 126, with 68 children among the dead. The number of wounded\""
            ],
            "application/vnd.google.colaboratory.intrinsic+json": {
              "type": "string"
            }
          },
          "metadata": {},
          "execution_count": 20
        }
      ]
    },
    {
      "cell_type": "code",
      "source": [
        "# Save the updated dataframe\n",
        "df.to_csv(\"your_updated_dataframe.csv\", index=False)"
      ],
      "metadata": {
        "id": "FQ089RBrmDKf"
      },
      "execution_count": 22,
      "outputs": []
    },
    {
      "cell_type": "markdown",
      "source": [
        "#### "
      ],
      "metadata": {
        "id": "xJQZz9DqjXYL"
      }
    }
  ]
}