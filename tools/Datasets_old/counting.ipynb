{
 "cells": [
  {
   "cell_type": "code",
   "execution_count": 3,
   "metadata": {},
   "outputs": [
    {
     "name": "stdout",
     "output_type": "stream",
     "text": [
      "train 526\n",
      "dev 92\n",
      "test 85\n"
     ]
    }
   ],
   "source": [
    "import pandas as pd\n",
    "splits = ['train', 'dev', 'test']\n",
    "for d in splits:\n",
    "    df = pd.read_json(f'/Users/macoftraopia/Documents/GitHub/KGNarrative/Datasets/DWIE/4experiment/full_{d}.json')\n",
    "    print(d, len(df))\n"
   ]
  },
  {
   "cell_type": "code",
   "execution_count": 4,
   "metadata": {},
   "outputs": [
    {
     "name": "stdout",
     "output_type": "stream",
     "text": [
      "train 1250\n",
      "dev 267\n",
      "test 334\n"
     ]
    }
   ],
   "source": [
    "splits = ['train', 'dev', 'test']\n",
    "for d in splits:\n",
    "    df = pd.read_json(f'/Users/macoftraopia/Documents/GitHub/KGNarrative/Datasets/WebNLG/4experiment/poppati_stupidi/pop_{d}.json')\n",
    "    print(d, len(df))"
   ]
  },
  {
   "cell_type": "code",
   "execution_count": 57,
   "metadata": {},
   "outputs": [
    {
     "data": {
      "text/html": [
       "<div>\n",
       "<style scoped>\n",
       "    .dataframe tbody tr th:only-of-type {\n",
       "        vertical-align: middle;\n",
       "    }\n",
       "\n",
       "    .dataframe tbody tr th {\n",
       "        vertical-align: top;\n",
       "    }\n",
       "\n",
       "    .dataframe thead th {\n",
       "        text-align: right;\n",
       "    }\n",
       "</style>\n",
       "<table border=\"1\" class=\"dataframe\">\n",
       "  <thead>\n",
       "    <tr style=\"text-align: right;\">\n",
       "      <th></th>\n",
       "      <th>A</th>\n",
       "      <th>B</th>\n",
       "    </tr>\n",
       "  </thead>\n",
       "  <tbody>\n",
       "    <tr>\n",
       "      <th>0</th>\n",
       "      <td>[train  ,    dev, test  ]</td>\n",
       "      <td>names</td>\n",
       "    </tr>\n",
       "    <tr>\n",
       "      <th>1</th>\n",
       "      <td>[train  ,    dev, test  ]</td>\n",
       "      <td>td</td>\n",
       "    </tr>\n",
       "  </tbody>\n",
       "</table>\n",
       "</div>"
      ],
      "text/plain": [
       "                           A      B\n",
       "0  [train  ,    dev, test  ]  names\n",
       "1  [train  ,    dev, test  ]     td"
      ]
     },
     "execution_count": 57,
     "metadata": {},
     "output_type": "execute_result"
    }
   ],
   "source": [
    "names=['train  ', '   dev', 'test  ']\n",
    "dd=({'A': [names,names], 'B': ['names','td']})\n",
    "\n",
    "import pandas as pd\n",
    "df1=pd.DataFrame(dd)\n",
    "df1"
   ]
  },
  {
   "cell_type": "code",
   "execution_count": 58,
   "metadata": {},
   "outputs": [],
   "source": [
    "df1['4'] = df1['A'].apply(lambda x: \" | \".join(map(str.strip,x)))\n",
    "df1['5'] = df1['A'].apply(lambda x: \" | \".join(x))"
   ]
  },
  {
   "cell_type": "code",
   "execution_count": 59,
   "metadata": {},
   "outputs": [
    {
     "data": {
      "text/html": [
       "<div>\n",
       "<style scoped>\n",
       "    .dataframe tbody tr th:only-of-type {\n",
       "        vertical-align: middle;\n",
       "    }\n",
       "\n",
       "    .dataframe tbody tr th {\n",
       "        vertical-align: top;\n",
       "    }\n",
       "\n",
       "    .dataframe thead th {\n",
       "        text-align: right;\n",
       "    }\n",
       "</style>\n",
       "<table border=\"1\" class=\"dataframe\">\n",
       "  <thead>\n",
       "    <tr style=\"text-align: right;\">\n",
       "      <th></th>\n",
       "      <th>A</th>\n",
       "      <th>B</th>\n",
       "      <th>4</th>\n",
       "      <th>5</th>\n",
       "    </tr>\n",
       "  </thead>\n",
       "  <tbody>\n",
       "    <tr>\n",
       "      <th>0</th>\n",
       "      <td>[train  ,    dev, test  ]</td>\n",
       "      <td>names</td>\n",
       "      <td>train | dev | test</td>\n",
       "      <td>train   |    dev | test</td>\n",
       "    </tr>\n",
       "    <tr>\n",
       "      <th>1</th>\n",
       "      <td>[train  ,    dev, test  ]</td>\n",
       "      <td>td</td>\n",
       "      <td>train | dev | test</td>\n",
       "      <td>train   |    dev | test</td>\n",
       "    </tr>\n",
       "  </tbody>\n",
       "</table>\n",
       "</div>"
      ],
      "text/plain": [
       "                           A      B                   4  \\\n",
       "0  [train  ,    dev, test  ]  names  train | dev | test   \n",
       "1  [train  ,    dev, test  ]     td  train | dev | test   \n",
       "\n",
       "                           5  \n",
       "0  train   |    dev | test    \n",
       "1  train   |    dev | test    "
      ]
     },
     "execution_count": 59,
     "metadata": {},
     "output_type": "execute_result"
    }
   ],
   "source": [
    "df1"
   ]
  },
  {
   "cell_type": "code",
   "execution_count": null,
   "metadata": {},
   "outputs": [],
   "source": []
  }
 ],
 "metadata": {
  "kernelspec": {
   "display_name": "base",
   "language": "python",
   "name": "python3"
  },
  "language_info": {
   "codemirror_mode": {
    "name": "ipython",
    "version": 3
   },
   "file_extension": ".py",
   "mimetype": "text/x-python",
   "name": "python",
   "nbconvert_exporter": "python",
   "pygments_lexer": "ipython3",
   "version": "3.10.9"
  },
  "orig_nbformat": 4
 },
 "nbformat": 4,
 "nbformat_minor": 2
}
