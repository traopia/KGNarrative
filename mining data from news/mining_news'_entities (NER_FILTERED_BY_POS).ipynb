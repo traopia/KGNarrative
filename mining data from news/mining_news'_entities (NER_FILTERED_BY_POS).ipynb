{
  "nbformat": 4,
  "nbformat_minor": 0,
  "metadata": {
    "colab": {
      "provenance": []
    },
    "kernelspec": {
      "name": "python3",
      "display_name": "Python 3"
    },
    "language_info": {
      "name": "python"
    },
    "accelerator": "GPU",
    "gpuClass": "standard",
    "widgets": {
      "application/vnd.jupyter.widget-state+json": {
        "7b1b6d119e7a473687134607d327053e": {
          "model_module": "@jupyter-widgets/controls",
          "model_name": "HBoxModel",
          "model_module_version": "1.5.0",
          "state": {
            "_dom_classes": [],
            "_model_module": "@jupyter-widgets/controls",
            "_model_module_version": "1.5.0",
            "_model_name": "HBoxModel",
            "_view_count": null,
            "_view_module": "@jupyter-widgets/controls",
            "_view_module_version": "1.5.0",
            "_view_name": "HBoxView",
            "box_style": "",
            "children": [
              "IPY_MODEL_1dc8c33bf4644bdb98ba465bf86a6536",
              "IPY_MODEL_910e9d040f2a45f0a103d4f36f8a0767",
              "IPY_MODEL_52f014b48fba482d89b4e1667844716c"
            ],
            "layout": "IPY_MODEL_617f9e6d954745d897a7bf86f2f74af0"
          }
        },
        "1dc8c33bf4644bdb98ba465bf86a6536": {
          "model_module": "@jupyter-widgets/controls",
          "model_name": "HTMLModel",
          "model_module_version": "1.5.0",
          "state": {
            "_dom_classes": [],
            "_model_module": "@jupyter-widgets/controls",
            "_model_module_version": "1.5.0",
            "_model_name": "HTMLModel",
            "_view_count": null,
            "_view_module": "@jupyter-widgets/controls",
            "_view_module_version": "1.5.0",
            "_view_name": "HTMLView",
            "description": "",
            "description_tooltip": null,
            "layout": "IPY_MODEL_0f01f7290856431da27121f3c3bfc717",
            "placeholder": "​",
            "style": "IPY_MODEL_36ec9f61df454c548171e829b69b7091",
            "value": "Downloading pytorch_model.bin: 100%"
          }
        },
        "910e9d040f2a45f0a103d4f36f8a0767": {
          "model_module": "@jupyter-widgets/controls",
          "model_name": "FloatProgressModel",
          "model_module_version": "1.5.0",
          "state": {
            "_dom_classes": [],
            "_model_module": "@jupyter-widgets/controls",
            "_model_module_version": "1.5.0",
            "_model_name": "FloatProgressModel",
            "_view_count": null,
            "_view_module": "@jupyter-widgets/controls",
            "_view_module_version": "1.5.0",
            "_view_name": "ProgressView",
            "bar_style": "success",
            "description": "",
            "description_tooltip": null,
            "layout": "IPY_MODEL_d9a9fb7b3c0f41f19d54edb343ffe22e",
            "max": 75266317,
            "min": 0,
            "orientation": "horizontal",
            "style": "IPY_MODEL_70871fb3ac5d400e946aeebf3599008a",
            "value": 75266317
          }
        },
        "52f014b48fba482d89b4e1667844716c": {
          "model_module": "@jupyter-widgets/controls",
          "model_name": "HTMLModel",
          "model_module_version": "1.5.0",
          "state": {
            "_dom_classes": [],
            "_model_module": "@jupyter-widgets/controls",
            "_model_module_version": "1.5.0",
            "_model_name": "HTMLModel",
            "_view_count": null,
            "_view_module": "@jupyter-widgets/controls",
            "_view_module_version": "1.5.0",
            "_view_name": "HTMLView",
            "description": "",
            "description_tooltip": null,
            "layout": "IPY_MODEL_3727a67b5f504a5e8f11186dcd3fa131",
            "placeholder": "​",
            "style": "IPY_MODEL_2560c587708143778209b070cec47dd4",
            "value": " 75.3M/75.3M [00:00&lt;00:00, 114MB/s]"
          }
        },
        "617f9e6d954745d897a7bf86f2f74af0": {
          "model_module": "@jupyter-widgets/base",
          "model_name": "LayoutModel",
          "model_module_version": "1.2.0",
          "state": {
            "_model_module": "@jupyter-widgets/base",
            "_model_module_version": "1.2.0",
            "_model_name": "LayoutModel",
            "_view_count": null,
            "_view_module": "@jupyter-widgets/base",
            "_view_module_version": "1.2.0",
            "_view_name": "LayoutView",
            "align_content": null,
            "align_items": null,
            "align_self": null,
            "border": null,
            "bottom": null,
            "display": null,
            "flex": null,
            "flex_flow": null,
            "grid_area": null,
            "grid_auto_columns": null,
            "grid_auto_flow": null,
            "grid_auto_rows": null,
            "grid_column": null,
            "grid_gap": null,
            "grid_row": null,
            "grid_template_areas": null,
            "grid_template_columns": null,
            "grid_template_rows": null,
            "height": null,
            "justify_content": null,
            "justify_items": null,
            "left": null,
            "margin": null,
            "max_height": null,
            "max_width": null,
            "min_height": null,
            "min_width": null,
            "object_fit": null,
            "object_position": null,
            "order": null,
            "overflow": null,
            "overflow_x": null,
            "overflow_y": null,
            "padding": null,
            "right": null,
            "top": null,
            "visibility": null,
            "width": null
          }
        },
        "0f01f7290856431da27121f3c3bfc717": {
          "model_module": "@jupyter-widgets/base",
          "model_name": "LayoutModel",
          "model_module_version": "1.2.0",
          "state": {
            "_model_module": "@jupyter-widgets/base",
            "_model_module_version": "1.2.0",
            "_model_name": "LayoutModel",
            "_view_count": null,
            "_view_module": "@jupyter-widgets/base",
            "_view_module_version": "1.2.0",
            "_view_name": "LayoutView",
            "align_content": null,
            "align_items": null,
            "align_self": null,
            "border": null,
            "bottom": null,
            "display": null,
            "flex": null,
            "flex_flow": null,
            "grid_area": null,
            "grid_auto_columns": null,
            "grid_auto_flow": null,
            "grid_auto_rows": null,
            "grid_column": null,
            "grid_gap": null,
            "grid_row": null,
            "grid_template_areas": null,
            "grid_template_columns": null,
            "grid_template_rows": null,
            "height": null,
            "justify_content": null,
            "justify_items": null,
            "left": null,
            "margin": null,
            "max_height": null,
            "max_width": null,
            "min_height": null,
            "min_width": null,
            "object_fit": null,
            "object_position": null,
            "order": null,
            "overflow": null,
            "overflow_x": null,
            "overflow_y": null,
            "padding": null,
            "right": null,
            "top": null,
            "visibility": null,
            "width": null
          }
        },
        "36ec9f61df454c548171e829b69b7091": {
          "model_module": "@jupyter-widgets/controls",
          "model_name": "DescriptionStyleModel",
          "model_module_version": "1.5.0",
          "state": {
            "_model_module": "@jupyter-widgets/controls",
            "_model_module_version": "1.5.0",
            "_model_name": "DescriptionStyleModel",
            "_view_count": null,
            "_view_module": "@jupyter-widgets/base",
            "_view_module_version": "1.2.0",
            "_view_name": "StyleView",
            "description_width": ""
          }
        },
        "d9a9fb7b3c0f41f19d54edb343ffe22e": {
          "model_module": "@jupyter-widgets/base",
          "model_name": "LayoutModel",
          "model_module_version": "1.2.0",
          "state": {
            "_model_module": "@jupyter-widgets/base",
            "_model_module_version": "1.2.0",
            "_model_name": "LayoutModel",
            "_view_count": null,
            "_view_module": "@jupyter-widgets/base",
            "_view_module_version": "1.2.0",
            "_view_name": "LayoutView",
            "align_content": null,
            "align_items": null,
            "align_self": null,
            "border": null,
            "bottom": null,
            "display": null,
            "flex": null,
            "flex_flow": null,
            "grid_area": null,
            "grid_auto_columns": null,
            "grid_auto_flow": null,
            "grid_auto_rows": null,
            "grid_column": null,
            "grid_gap": null,
            "grid_row": null,
            "grid_template_areas": null,
            "grid_template_columns": null,
            "grid_template_rows": null,
            "height": null,
            "justify_content": null,
            "justify_items": null,
            "left": null,
            "margin": null,
            "max_height": null,
            "max_width": null,
            "min_height": null,
            "min_width": null,
            "object_fit": null,
            "object_position": null,
            "order": null,
            "overflow": null,
            "overflow_x": null,
            "overflow_y": null,
            "padding": null,
            "right": null,
            "top": null,
            "visibility": null,
            "width": null
          }
        },
        "70871fb3ac5d400e946aeebf3599008a": {
          "model_module": "@jupyter-widgets/controls",
          "model_name": "ProgressStyleModel",
          "model_module_version": "1.5.0",
          "state": {
            "_model_module": "@jupyter-widgets/controls",
            "_model_module_version": "1.5.0",
            "_model_name": "ProgressStyleModel",
            "_view_count": null,
            "_view_module": "@jupyter-widgets/base",
            "_view_module_version": "1.2.0",
            "_view_name": "StyleView",
            "bar_color": null,
            "description_width": ""
          }
        },
        "3727a67b5f504a5e8f11186dcd3fa131": {
          "model_module": "@jupyter-widgets/base",
          "model_name": "LayoutModel",
          "model_module_version": "1.2.0",
          "state": {
            "_model_module": "@jupyter-widgets/base",
            "_model_module_version": "1.2.0",
            "_model_name": "LayoutModel",
            "_view_count": null,
            "_view_module": "@jupyter-widgets/base",
            "_view_module_version": "1.2.0",
            "_view_name": "LayoutView",
            "align_content": null,
            "align_items": null,
            "align_self": null,
            "border": null,
            "bottom": null,
            "display": null,
            "flex": null,
            "flex_flow": null,
            "grid_area": null,
            "grid_auto_columns": null,
            "grid_auto_flow": null,
            "grid_auto_rows": null,
            "grid_column": null,
            "grid_gap": null,
            "grid_row": null,
            "grid_template_areas": null,
            "grid_template_columns": null,
            "grid_template_rows": null,
            "height": null,
            "justify_content": null,
            "justify_items": null,
            "left": null,
            "margin": null,
            "max_height": null,
            "max_width": null,
            "min_height": null,
            "min_width": null,
            "object_fit": null,
            "object_position": null,
            "order": null,
            "overflow": null,
            "overflow_x": null,
            "overflow_y": null,
            "padding": null,
            "right": null,
            "top": null,
            "visibility": null,
            "width": null
          }
        },
        "2560c587708143778209b070cec47dd4": {
          "model_module": "@jupyter-widgets/controls",
          "model_name": "DescriptionStyleModel",
          "model_module_version": "1.5.0",
          "state": {
            "_model_module": "@jupyter-widgets/controls",
            "_model_module_version": "1.5.0",
            "_model_name": "DescriptionStyleModel",
            "_view_count": null,
            "_view_module": "@jupyter-widgets/base",
            "_view_module_version": "1.2.0",
            "_view_name": "StyleView",
            "description_width": ""
          }
        }
      }
    }
  },
  "cells": [
    {
      "cell_type": "markdown",
      "metadata": {
        "id": "view-in-github"
      },
      "source": [
        "<a href=\"https://colab.research.google.com/github/traopia/KGNarrative/blob/master/esperiments.ipynb\" target=\"_parent\"><img src=\"https://colab.research.google.com/assets/colab-badge.svg\" alt=\"Open In Colab\"/></a>"
      ]
    },
    {
      "cell_type": "markdown",
      "source": [
        "# Mining News' Entities\n"
      ],
      "metadata": {
        "id": "_cubLqp-0VVL"
      }
    },
    {
      "cell_type": "code",
      "source": [
        "!pip install transformers \n",
        "!pip install datasets\n",
        "!pip install pynvml\n",
        "!pip install evaluate \n",
        "!pip install sentencepiece"
      ],
      "metadata": {
        "colab": {
          "base_uri": "https://localhost:8080/"
        },
        "id": "Li8F8ni2bUJV",
        "outputId": "93b13b6d-d07f-4d32-e65a-d20457220b36"
      },
      "execution_count": 1,
      "outputs": [
        {
          "output_type": "stream",
          "name": "stdout",
          "text": [
            "Looking in indexes: https://pypi.org/simple, https://us-python.pkg.dev/colab-wheels/public/simple/\n",
            "Collecting transformers\n",
            "  Downloading transformers-4.26.1-py3-none-any.whl (6.3 MB)\n",
            "\u001b[2K     \u001b[90m━━━━━━━━━━━━━━━━━━━━━━━━━━━━━━━━━━━━━━━━\u001b[0m \u001b[32m6.3/6.3 MB\u001b[0m \u001b[31m40.9 MB/s\u001b[0m eta \u001b[36m0:00:00\u001b[0m\n",
            "\u001b[?25hCollecting huggingface-hub<1.0,>=0.11.0\n",
            "  Downloading huggingface_hub-0.13.0-py3-none-any.whl (199 kB)\n",
            "\u001b[2K     \u001b[90m━━━━━━━━━━━━━━━━━━━━━━━━━━━━━━━━━━━━━━\u001b[0m \u001b[32m199.1/199.1 KB\u001b[0m \u001b[31m19.1 MB/s\u001b[0m eta \u001b[36m0:00:00\u001b[0m\n",
            "\u001b[?25hRequirement already satisfied: filelock in /usr/local/lib/python3.8/dist-packages (from transformers) (3.9.0)\n",
            "Requirement already satisfied: pyyaml>=5.1 in /usr/local/lib/python3.8/dist-packages (from transformers) (6.0)\n",
            "Requirement already satisfied: regex!=2019.12.17 in /usr/local/lib/python3.8/dist-packages (from transformers) (2022.6.2)\n",
            "Collecting tokenizers!=0.11.3,<0.14,>=0.11.1\n",
            "  Downloading tokenizers-0.13.2-cp38-cp38-manylinux_2_17_x86_64.manylinux2014_x86_64.whl (7.6 MB)\n",
            "\u001b[2K     \u001b[90m━━━━━━━━━━━━━━━━━━━━━━━━━━━━━━━━━━━━━━━━\u001b[0m \u001b[32m7.6/7.6 MB\u001b[0m \u001b[31m38.1 MB/s\u001b[0m eta \u001b[36m0:00:00\u001b[0m\n",
            "\u001b[?25hRequirement already satisfied: numpy>=1.17 in /usr/local/lib/python3.8/dist-packages (from transformers) (1.22.4)\n",
            "Requirement already satisfied: tqdm>=4.27 in /usr/local/lib/python3.8/dist-packages (from transformers) (4.64.1)\n",
            "Requirement already satisfied: requests in /usr/local/lib/python3.8/dist-packages (from transformers) (2.25.1)\n",
            "Requirement already satisfied: packaging>=20.0 in /usr/local/lib/python3.8/dist-packages (from transformers) (23.0)\n",
            "Requirement already satisfied: typing-extensions>=3.7.4.3 in /usr/local/lib/python3.8/dist-packages (from huggingface-hub<1.0,>=0.11.0->transformers) (4.5.0)\n",
            "Requirement already satisfied: idna<3,>=2.5 in /usr/local/lib/python3.8/dist-packages (from requests->transformers) (2.10)\n",
            "Requirement already satisfied: certifi>=2017.4.17 in /usr/local/lib/python3.8/dist-packages (from requests->transformers) (2022.12.7)\n",
            "Requirement already satisfied: urllib3<1.27,>=1.21.1 in /usr/local/lib/python3.8/dist-packages (from requests->transformers) (1.26.14)\n",
            "Requirement already satisfied: chardet<5,>=3.0.2 in /usr/local/lib/python3.8/dist-packages (from requests->transformers) (4.0.0)\n",
            "Installing collected packages: tokenizers, huggingface-hub, transformers\n",
            "Successfully installed huggingface-hub-0.13.0 tokenizers-0.13.2 transformers-4.26.1\n",
            "Looking in indexes: https://pypi.org/simple, https://us-python.pkg.dev/colab-wheels/public/simple/\n",
            "Collecting datasets\n",
            "  Downloading datasets-2.10.1-py3-none-any.whl (469 kB)\n",
            "\u001b[2K     \u001b[90m━━━━━━━━━━━━━━━━━━━━━━━━━━━━━━━━━━━━━━\u001b[0m \u001b[32m469.0/469.0 KB\u001b[0m \u001b[31m10.0 MB/s\u001b[0m eta \u001b[36m0:00:00\u001b[0m\n",
            "\u001b[?25hRequirement already satisfied: huggingface-hub<1.0.0,>=0.2.0 in /usr/local/lib/python3.8/dist-packages (from datasets) (0.13.0)\n",
            "Collecting xxhash\n",
            "  Downloading xxhash-3.2.0-cp38-cp38-manylinux_2_17_x86_64.manylinux2014_x86_64.whl (213 kB)\n",
            "\u001b[2K     \u001b[90m━━━━━━━━━━━━━━━━━━━━━━━━━━━━━━━━━━━━━━\u001b[0m \u001b[32m213.0/213.0 KB\u001b[0m \u001b[31m23.3 MB/s\u001b[0m eta \u001b[36m0:00:00\u001b[0m\n",
            "\u001b[?25hCollecting responses<0.19\n",
            "  Downloading responses-0.18.0-py3-none-any.whl (38 kB)\n",
            "Requirement already satisfied: aiohttp in /usr/local/lib/python3.8/dist-packages (from datasets) (3.8.4)\n",
            "Requirement already satisfied: requests>=2.19.0 in /usr/local/lib/python3.8/dist-packages (from datasets) (2.25.1)\n",
            "Requirement already satisfied: packaging in /usr/local/lib/python3.8/dist-packages (from datasets) (23.0)\n",
            "Requirement already satisfied: numpy>=1.17 in /usr/local/lib/python3.8/dist-packages (from datasets) (1.22.4)\n",
            "Requirement already satisfied: pandas in /usr/local/lib/python3.8/dist-packages (from datasets) (1.3.5)\n",
            "Requirement already satisfied: tqdm>=4.62.1 in /usr/local/lib/python3.8/dist-packages (from datasets) (4.64.1)\n",
            "Collecting dill<0.3.7,>=0.3.0\n",
            "  Downloading dill-0.3.6-py3-none-any.whl (110 kB)\n",
            "\u001b[2K     \u001b[90m━━━━━━━━━━━━━━━━━━━━━━━━━━━━━━━━━━━━━━\u001b[0m \u001b[32m110.5/110.5 KB\u001b[0m \u001b[31m15.2 MB/s\u001b[0m eta \u001b[36m0:00:00\u001b[0m\n",
            "\u001b[?25hRequirement already satisfied: pyyaml>=5.1 in /usr/local/lib/python3.8/dist-packages (from datasets) (6.0)\n",
            "Requirement already satisfied: pyarrow>=6.0.0 in /usr/local/lib/python3.8/dist-packages (from datasets) (9.0.0)\n",
            "Requirement already satisfied: fsspec[http]>=2021.11.1 in /usr/local/lib/python3.8/dist-packages (from datasets) (2023.1.0)\n",
            "Collecting multiprocess\n",
            "  Downloading multiprocess-0.70.14-py38-none-any.whl (132 kB)\n",
            "\u001b[2K     \u001b[90m━━━━━━━━━━━━━━━━━━━━━━━━━━━━━━━━━━━━━━\u001b[0m \u001b[32m132.0/132.0 KB\u001b[0m \u001b[31m14.6 MB/s\u001b[0m eta \u001b[36m0:00:00\u001b[0m\n",
            "\u001b[?25hRequirement already satisfied: multidict<7.0,>=4.5 in /usr/local/lib/python3.8/dist-packages (from aiohttp->datasets) (6.0.4)\n",
            "Requirement already satisfied: aiosignal>=1.1.2 in /usr/local/lib/python3.8/dist-packages (from aiohttp->datasets) (1.3.1)\n",
            "Requirement already satisfied: attrs>=17.3.0 in /usr/local/lib/python3.8/dist-packages (from aiohttp->datasets) (22.2.0)\n",
            "Requirement already satisfied: charset-normalizer<4.0,>=2.0 in /usr/local/lib/python3.8/dist-packages (from aiohttp->datasets) (3.0.1)\n",
            "Requirement already satisfied: yarl<2.0,>=1.0 in /usr/local/lib/python3.8/dist-packages (from aiohttp->datasets) (1.8.2)\n",
            "Requirement already satisfied: frozenlist>=1.1.1 in /usr/local/lib/python3.8/dist-packages (from aiohttp->datasets) (1.3.3)\n",
            "Requirement already satisfied: async-timeout<5.0,>=4.0.0a3 in /usr/local/lib/python3.8/dist-packages (from aiohttp->datasets) (4.0.2)\n",
            "Requirement already satisfied: filelock in /usr/local/lib/python3.8/dist-packages (from huggingface-hub<1.0.0,>=0.2.0->datasets) (3.9.0)\n",
            "Requirement already satisfied: typing-extensions>=3.7.4.3 in /usr/local/lib/python3.8/dist-packages (from huggingface-hub<1.0.0,>=0.2.0->datasets) (4.5.0)\n",
            "Requirement already satisfied: certifi>=2017.4.17 in /usr/local/lib/python3.8/dist-packages (from requests>=2.19.0->datasets) (2022.12.7)\n",
            "Requirement already satisfied: idna<3,>=2.5 in /usr/local/lib/python3.8/dist-packages (from requests>=2.19.0->datasets) (2.10)\n",
            "Requirement already satisfied: urllib3<1.27,>=1.21.1 in /usr/local/lib/python3.8/dist-packages (from requests>=2.19.0->datasets) (1.26.14)\n",
            "Requirement already satisfied: chardet<5,>=3.0.2 in /usr/local/lib/python3.8/dist-packages (from requests>=2.19.0->datasets) (4.0.0)\n",
            "Requirement already satisfied: pytz>=2017.3 in /usr/local/lib/python3.8/dist-packages (from pandas->datasets) (2022.7.1)\n",
            "Requirement already satisfied: python-dateutil>=2.7.3 in /usr/local/lib/python3.8/dist-packages (from pandas->datasets) (2.8.2)\n",
            "Requirement already satisfied: six>=1.5 in /usr/local/lib/python3.8/dist-packages (from python-dateutil>=2.7.3->pandas->datasets) (1.15.0)\n",
            "Installing collected packages: xxhash, dill, responses, multiprocess, datasets\n",
            "Successfully installed datasets-2.10.1 dill-0.3.6 multiprocess-0.70.14 responses-0.18.0 xxhash-3.2.0\n",
            "Looking in indexes: https://pypi.org/simple, https://us-python.pkg.dev/colab-wheels/public/simple/\n",
            "Collecting pynvml\n",
            "  Downloading pynvml-11.5.0-py3-none-any.whl (53 kB)\n",
            "\u001b[2K     \u001b[90m━━━━━━━━━━━━━━━━━━━━━━━━━━━━━━━━━━━━━━━━\u001b[0m \u001b[32m53.1/53.1 KB\u001b[0m \u001b[31m3.2 MB/s\u001b[0m eta \u001b[36m0:00:00\u001b[0m\n",
            "\u001b[?25hInstalling collected packages: pynvml\n",
            "Successfully installed pynvml-11.5.0\n",
            "Looking in indexes: https://pypi.org/simple, https://us-python.pkg.dev/colab-wheels/public/simple/\n",
            "Collecting evaluate\n",
            "  Downloading evaluate-0.4.0-py3-none-any.whl (81 kB)\n",
            "\u001b[2K     \u001b[90m━━━━━━━━━━━━━━━━━━━━━━━━━━━━━━━━━━━━━━━━\u001b[0m \u001b[32m81.4/81.4 KB\u001b[0m \u001b[31m4.1 MB/s\u001b[0m eta \u001b[36m0:00:00\u001b[0m\n",
            "\u001b[?25hRequirement already satisfied: responses<0.19 in /usr/local/lib/python3.8/dist-packages (from evaluate) (0.18.0)\n",
            "Requirement already satisfied: multiprocess in /usr/local/lib/python3.8/dist-packages (from evaluate) (0.70.14)\n",
            "Requirement already satisfied: xxhash in /usr/local/lib/python3.8/dist-packages (from evaluate) (3.2.0)\n",
            "Requirement already satisfied: fsspec[http]>=2021.05.0 in /usr/local/lib/python3.8/dist-packages (from evaluate) (2023.1.0)\n",
            "Requirement already satisfied: datasets>=2.0.0 in /usr/local/lib/python3.8/dist-packages (from evaluate) (2.10.1)\n",
            "Requirement already satisfied: numpy>=1.17 in /usr/local/lib/python3.8/dist-packages (from evaluate) (1.22.4)\n",
            "Requirement already satisfied: huggingface-hub>=0.7.0 in /usr/local/lib/python3.8/dist-packages (from evaluate) (0.13.0)\n",
            "Requirement already satisfied: packaging in /usr/local/lib/python3.8/dist-packages (from evaluate) (23.0)\n",
            "Requirement already satisfied: dill in /usr/local/lib/python3.8/dist-packages (from evaluate) (0.3.6)\n",
            "Requirement already satisfied: tqdm>=4.62.1 in /usr/local/lib/python3.8/dist-packages (from evaluate) (4.64.1)\n",
            "Requirement already satisfied: requests>=2.19.0 in /usr/local/lib/python3.8/dist-packages (from evaluate) (2.25.1)\n",
            "Requirement already satisfied: pandas in /usr/local/lib/python3.8/dist-packages (from evaluate) (1.3.5)\n",
            "Requirement already satisfied: aiohttp in /usr/local/lib/python3.8/dist-packages (from datasets>=2.0.0->evaluate) (3.8.4)\n",
            "Requirement already satisfied: pyarrow>=6.0.0 in /usr/local/lib/python3.8/dist-packages (from datasets>=2.0.0->evaluate) (9.0.0)\n",
            "Requirement already satisfied: pyyaml>=5.1 in /usr/local/lib/python3.8/dist-packages (from datasets>=2.0.0->evaluate) (6.0)\n",
            "Requirement already satisfied: typing-extensions>=3.7.4.3 in /usr/local/lib/python3.8/dist-packages (from huggingface-hub>=0.7.0->evaluate) (4.5.0)\n",
            "Requirement already satisfied: filelock in /usr/local/lib/python3.8/dist-packages (from huggingface-hub>=0.7.0->evaluate) (3.9.0)\n",
            "Requirement already satisfied: idna<3,>=2.5 in /usr/local/lib/python3.8/dist-packages (from requests>=2.19.0->evaluate) (2.10)\n",
            "Requirement already satisfied: urllib3<1.27,>=1.21.1 in /usr/local/lib/python3.8/dist-packages (from requests>=2.19.0->evaluate) (1.26.14)\n",
            "Requirement already satisfied: chardet<5,>=3.0.2 in /usr/local/lib/python3.8/dist-packages (from requests>=2.19.0->evaluate) (4.0.0)\n",
            "Requirement already satisfied: certifi>=2017.4.17 in /usr/local/lib/python3.8/dist-packages (from requests>=2.19.0->evaluate) (2022.12.7)\n",
            "Requirement already satisfied: pytz>=2017.3 in /usr/local/lib/python3.8/dist-packages (from pandas->evaluate) (2022.7.1)\n",
            "Requirement already satisfied: python-dateutil>=2.7.3 in /usr/local/lib/python3.8/dist-packages (from pandas->evaluate) (2.8.2)\n",
            "Requirement already satisfied: charset-normalizer<4.0,>=2.0 in /usr/local/lib/python3.8/dist-packages (from aiohttp->datasets>=2.0.0->evaluate) (3.0.1)\n",
            "Requirement already satisfied: frozenlist>=1.1.1 in /usr/local/lib/python3.8/dist-packages (from aiohttp->datasets>=2.0.0->evaluate) (1.3.3)\n",
            "Requirement already satisfied: multidict<7.0,>=4.5 in /usr/local/lib/python3.8/dist-packages (from aiohttp->datasets>=2.0.0->evaluate) (6.0.4)\n",
            "Requirement already satisfied: async-timeout<5.0,>=4.0.0a3 in /usr/local/lib/python3.8/dist-packages (from aiohttp->datasets>=2.0.0->evaluate) (4.0.2)\n",
            "Requirement already satisfied: yarl<2.0,>=1.0 in /usr/local/lib/python3.8/dist-packages (from aiohttp->datasets>=2.0.0->evaluate) (1.8.2)\n",
            "Requirement already satisfied: attrs>=17.3.0 in /usr/local/lib/python3.8/dist-packages (from aiohttp->datasets>=2.0.0->evaluate) (22.2.0)\n",
            "Requirement already satisfied: aiosignal>=1.1.2 in /usr/local/lib/python3.8/dist-packages (from aiohttp->datasets>=2.0.0->evaluate) (1.3.1)\n",
            "Requirement already satisfied: six>=1.5 in /usr/local/lib/python3.8/dist-packages (from python-dateutil>=2.7.3->pandas->evaluate) (1.15.0)\n",
            "Installing collected packages: evaluate\n",
            "Successfully installed evaluate-0.4.0\n",
            "Looking in indexes: https://pypi.org/simple, https://us-python.pkg.dev/colab-wheels/public/simple/\n",
            "Collecting sentencepiece\n",
            "  Downloading sentencepiece-0.1.97-cp38-cp38-manylinux_2_17_x86_64.manylinux2014_x86_64.whl (1.3 MB)\n",
            "\u001b[2K     \u001b[90m━━━━━━━━━━━━━━━━━━━━━━━━━━━━━━━━━━━━━━━━\u001b[0m \u001b[32m1.3/1.3 MB\u001b[0m \u001b[31m18.7 MB/s\u001b[0m eta \u001b[36m0:00:00\u001b[0m\n",
            "\u001b[?25hInstalling collected packages: sentencepiece\n",
            "Successfully installed sentencepiece-0.1.97\n"
          ]
        }
      ]
    },
    {
      "cell_type": "code",
      "source": [
        "import transformers\n",
        "from datasets import load_dataset, load_metric\n",
        "from transformers import AutoTokenizer, AutoModelForSequenceClassification\n",
        "import numpy as np\n",
        "import os\n",
        "import nltk\n",
        "import torch\n",
        "import evaluate\n",
        "import sys\n",
        "import pandas as pd\n",
        "from datasets import load_dataset, Dataset, DatasetDict\n",
        "from pynvml import nvmlInit, nvmlDeviceGetHandleByIndex, nvmlDeviceGetMemoryInfo\n",
        "from sklearn.model_selection import train_test_split"
      ],
      "metadata": {
        "id": "rsKcovDZbRnk"
      },
      "execution_count": 2,
      "outputs": []
    },
    {
      "cell_type": "code",
      "source": [
        "#! git clone https://github.com/traopia/KGNarrative.git"
      ],
      "metadata": {
        "id": "Fo6UZtVbZG1Y"
      },
      "execution_count": null,
      "outputs": []
    },
    {
      "cell_type": "code",
      "source": [
        "# define utils functions to facilitate gpu \n",
        "\n",
        "def check_gpu_availability():\n",
        "    # Check if CUDA is available\n",
        "    print(f\"Cuda is available: {torch.cuda.is_available()}\")\n",
        "\n",
        "def getting_device(gpu_prefence=True) -> torch.device:\n",
        "    \"\"\"\n",
        "    This function gets the torch device to be used for computations, \n",
        "    based on the GPU preference specified by the user.\n",
        "    \"\"\"\n",
        "    \n",
        "    # If GPU is preferred and available, set device to CUDA\n",
        "    if gpu_prefence and torch.cuda.is_available():\n",
        "        device = torch.device('cuda')\n",
        "    # If GPU is not preferred or not available, set device to CPU\n",
        "    else: \n",
        "        device = torch.device(\"cpu\")\n",
        "    \n",
        "    # Print the selected device\n",
        "    print(f\"Selected device: {device}\")\n",
        "    \n",
        "    # Return the device\n",
        "    return device\n",
        "\n",
        "# Define a function to print GPU memory utilization\n",
        "def print_gpu_utilization():\n",
        "    # Initialize the PyNVML library\n",
        "    nvmlInit()\n",
        "    # Get a handle to the first GPU in the system\n",
        "    handle = nvmlDeviceGetHandleByIndex(0)\n",
        "    # Get information about the memory usage on the GPU\n",
        "    info = nvmlDeviceGetMemoryInfo(handle)\n",
        "    # Print the GPU memory usage in MB\n",
        "    print(f\"GPU memory occupied: {info.used//1024**2} MB.\")\n",
        "\n",
        "# Define a function to print training summary information\n",
        "def print_summary(result):\n",
        "    # Print the total training time in seconds\n",
        "    print(f\"Time: {result.metrics['train_runtime']:.2f}\")\n",
        "    # Print the number of training samples processed per second\n",
        "    print(f\"Samples/second: {result.metrics['train_samples_per_second']:.2f}\")\n",
        "    # Print the GPU memory utilization\n",
        "    print_gpu_utilization()"
      ],
      "metadata": {
        "id": "XY2S7OaPaRda"
      },
      "execution_count": 3,
      "outputs": []
    },
    {
      "cell_type": "code",
      "source": [
        "# CHECK IF GPU IS UP\n",
        "check_gpu_availability()\n",
        "\n"
      ],
      "metadata": {
        "colab": {
          "base_uri": "https://localhost:8080/"
        },
        "id": "Sh6bOolCbn1x",
        "outputId": "fa360573-5efd-4caf-84a8-6f8a4f737f27"
      },
      "execution_count": 4,
      "outputs": [
        {
          "output_type": "stream",
          "name": "stdout",
          "text": [
            "Cuda is available: True\n"
          ]
        }
      ]
    },
    {
      "cell_type": "code",
      "source": [
        "# SAVE THE DEVICE WE ARE WORKING WITH\n",
        "device = getting_device(gpu_prefence=True)"
      ],
      "metadata": {
        "colab": {
          "base_uri": "https://localhost:8080/"
        },
        "id": "N0L01397byoz",
        "outputId": "1bf2ace9-774c-4bd5-f2cc-a59ebae4dc1e"
      },
      "execution_count": 5,
      "outputs": [
        {
          "output_type": "stream",
          "name": "stdout",
          "text": [
            "Selected device: cuda\n"
          ]
        }
      ]
    },
    {
      "cell_type": "markdown",
      "source": [
        "#### Importing documents\n"
      ],
      "metadata": {
        "id": "tG7KHY_hdIKj"
      }
    },
    {
      "cell_type": "code",
      "source": [
        "path2file = \"/content/DWIE_train_kg_topic_summary_news.csv.csv\"\n",
        "df = pd.read_csv(path2file)\n"
      ],
      "metadata": {
        "id": "J129dRo7dF5r"
      },
      "execution_count": 6,
      "outputs": []
    },
    {
      "cell_type": "code",
      "source": [
        "df.head(10)"
      ],
      "metadata": {
        "colab": {
          "base_uri": "https://localhost:8080/",
          "height": 1000
        },
        "id": "bRZw0N-Sd7aj",
        "outputId": "288a2909-a372-49d2-9e2e-56288134cd32"
      },
      "execution_count": 7,
      "outputs": [
        {
          "output_type": "execute_result",
          "data": {
            "text/plain": [
              "   Unnamed: 0                                              story  \\\n",
              "0           0  Multi-lingual in the World Wide Web Profession...   \n",
              "1           1  German Know-How For China's Energy Sector Ener...   \n",
              "2           2  Trash crisis forces Lebanon's environmental aw...   \n",
              "3           3  Iran calls for end to Saudi air campaign, as U...   \n",
              "4           4  Ai Weiwei Drifting Ai Weiwei: Uncomfortable cr...   \n",
              "5           5  Journal Interview with Günter Nooke, The Chanc...   \n",
              "6           6  Turkey summons German envoy for second time in...   \n",
              "7           7  Medvedev seeks investment at Davos economic fo...   \n",
              "8           8  Ex-CIA fugitive Robert Seldon Lady detained in...   \n",
              "9           9  Nearly 10,000 migrants rescued on Mediterranea...   \n",
              "\n",
              "                           Instances Knowledge Graph  \\\n",
              "0  Personal Translator - product_of - Linguatec |...   \n",
              "1  Shangdong Linuo Paradigma - based_in0 - German...   \n",
              "2  Kassem Kazak - citizen_of - Lebanon | Kassem K...   \n",
              "3  Houthi - based_in0 - Yemen | Houthi - based_in...   \n",
              "4  DW (Deutsch+) - based_in0 - Germany | Ai Weiwe...   \n",
              "5  Günter Nooke - agent_of - Germany | Günter Noo...   \n",
              "6  Martin Erdmann - agent_of - Germany | Martin E...   \n",
              "7  Dmitry Medvedev - agent_of - Russia | Dmitry M...   \n",
              "8  Osama Moustafa Hassan Nasr - citizen_of - Egyp...   \n",
              "9  Rome - in0 - Italy | Rome - in0-x - Italian | ...   \n",
              "\n",
              "                               Types Knowledge Graph  \\\n",
              "0  Personal Translator - type - entity | Personal...   \n",
              "1  China - type - entity | China - type - gpe | C...   \n",
              "2  Kareem Chehayeb - type - entity | Kareem Cheha...   \n",
              "3  Medecins Sans Frontieres - type - entity | Med...   \n",
              "4  DW (Deutsch+) - type - entity | DW (Deutsch+) ...   \n",
              "5  Günter Nooke - type - entity | Günter Nooke - ...   \n",
              "6  European Union - type - entity | European Unio...   \n",
              "7  Dmitry Medvedev - type - entity | Dmitry Medve...   \n",
              "8  Osama Moustafa Hassan Nasr - type - clergy | O...   \n",
              "9  Strait of Sicily - type - entity | Strait of S...   \n",
              "\n",
              "                            Subclass Knowledge Graph predicted_label1  \\\n",
              "0  misc - subclass_of - entity | product - subcla...             tech   \n",
              "1  gpe - subclass_of - location | gpe0 - subclass...         business   \n",
              "2  journalist - subclass_of - per | manager - sub...             tech   \n",
              "3  ngo - subclass_of - org | gpe - subclass_of - ...         business   \n",
              "4  media - subclass_of - org | activist - subclas...    entertainment   \n",
              "5  gov_per - subclass_of - per | location - subcl...         politics   \n",
              "6  igo - subclass_of - org | so - subclass_of - i...         politics   \n",
              "7  head_of_gov - subclass_of - politician | polit...         business   \n",
              "8  offender - subclass_of - per | agency - subcla...         business   \n",
              "9  location - subclass_of - entity | waterbody - ...         business   \n",
              "\n",
              "                                    core description  \\\n",
              "0  – If you’ve ever typed an email to a colleague...   \n",
              "1  – Germany and China have opened the world's la...   \n",
              "2  – When Kassem Kazak set out to start a recycli...   \n",
              "3  – Iran's president has called for an end to ai...   \n",
              "4  – Chinese dissident artist and human rights ac...   \n",
              "5  – German Chancellor Angela Merkel's office say...   \n",
              "6  – Relations between Turkey and Germany have be...   \n",
              "7  – The World Economic Forum in Davos has kicked...   \n",
              "8  – A former CIA station chief convicted in abse...   \n",
              "9  – The Italian coast guard and the EU's border ...   \n",
              "\n",
              "                                   mined kg with ner  \n",
              "0  {Windows - type - ORG | three - type - CARDINA...  \n",
              "1  {more than 6,000 - type - CARDINAL | Chinese -...  \n",
              "2  {the summer of 2015 - type - DATE | July 2015 ...  \n",
              "3  {a week ago - type - DATE | Habibollah Sajjari...  \n",
              "4  {Mao - type - PERSON | Turkey - type - GPE | E...  \n",
              "5  {this week - type - DATE | German - type - NOR...  \n",
              "6  {Peter Steudtner - type - PERSON | 17th - type...  \n",
              "7  {Moscow - type - GPE | roughly 2,500 - type - ...  \n",
              "8  {23 - type - CARDINAL | Robert Seldon - type -...  \n",
              "9  {the same month last year - type - DATE | Medi...  "
            ],
            "text/html": [
              "\n",
              "  <div id=\"df-d723f233-d9d0-496b-a401-381c16571b26\">\n",
              "    <div class=\"colab-df-container\">\n",
              "      <div>\n",
              "<style scoped>\n",
              "    .dataframe tbody tr th:only-of-type {\n",
              "        vertical-align: middle;\n",
              "    }\n",
              "\n",
              "    .dataframe tbody tr th {\n",
              "        vertical-align: top;\n",
              "    }\n",
              "\n",
              "    .dataframe thead th {\n",
              "        text-align: right;\n",
              "    }\n",
              "</style>\n",
              "<table border=\"1\" class=\"dataframe\">\n",
              "  <thead>\n",
              "    <tr style=\"text-align: right;\">\n",
              "      <th></th>\n",
              "      <th>Unnamed: 0</th>\n",
              "      <th>story</th>\n",
              "      <th>Instances Knowledge Graph</th>\n",
              "      <th>Types Knowledge Graph</th>\n",
              "      <th>Subclass Knowledge Graph</th>\n",
              "      <th>predicted_label1</th>\n",
              "      <th>core description</th>\n",
              "      <th>mined kg with ner</th>\n",
              "    </tr>\n",
              "  </thead>\n",
              "  <tbody>\n",
              "    <tr>\n",
              "      <th>0</th>\n",
              "      <td>0</td>\n",
              "      <td>Multi-lingual in the World Wide Web Profession...</td>\n",
              "      <td>Personal Translator - product_of - Linguatec |...</td>\n",
              "      <td>Personal Translator - type - entity | Personal...</td>\n",
              "      <td>misc - subclass_of - entity | product - subcla...</td>\n",
              "      <td>tech</td>\n",
              "      <td>– If you’ve ever typed an email to a colleague...</td>\n",
              "      <td>{Windows - type - ORG | three - type - CARDINA...</td>\n",
              "    </tr>\n",
              "    <tr>\n",
              "      <th>1</th>\n",
              "      <td>1</td>\n",
              "      <td>German Know-How For China's Energy Sector Ener...</td>\n",
              "      <td>Shangdong Linuo Paradigma - based_in0 - German...</td>\n",
              "      <td>China - type - entity | China - type - gpe | C...</td>\n",
              "      <td>gpe - subclass_of - location | gpe0 - subclass...</td>\n",
              "      <td>business</td>\n",
              "      <td>– Germany and China have opened the world's la...</td>\n",
              "      <td>{more than 6,000 - type - CARDINAL | Chinese -...</td>\n",
              "    </tr>\n",
              "    <tr>\n",
              "      <th>2</th>\n",
              "      <td>2</td>\n",
              "      <td>Trash crisis forces Lebanon's environmental aw...</td>\n",
              "      <td>Kassem Kazak - citizen_of - Lebanon | Kassem K...</td>\n",
              "      <td>Kareem Chehayeb - type - entity | Kareem Cheha...</td>\n",
              "      <td>journalist - subclass_of - per | manager - sub...</td>\n",
              "      <td>tech</td>\n",
              "      <td>– When Kassem Kazak set out to start a recycli...</td>\n",
              "      <td>{the summer of 2015 - type - DATE | July 2015 ...</td>\n",
              "    </tr>\n",
              "    <tr>\n",
              "      <th>3</th>\n",
              "      <td>3</td>\n",
              "      <td>Iran calls for end to Saudi air campaign, as U...</td>\n",
              "      <td>Houthi - based_in0 - Yemen | Houthi - based_in...</td>\n",
              "      <td>Medecins Sans Frontieres - type - entity | Med...</td>\n",
              "      <td>ngo - subclass_of - org | gpe - subclass_of - ...</td>\n",
              "      <td>business</td>\n",
              "      <td>– Iran's president has called for an end to ai...</td>\n",
              "      <td>{a week ago - type - DATE | Habibollah Sajjari...</td>\n",
              "    </tr>\n",
              "    <tr>\n",
              "      <th>4</th>\n",
              "      <td>4</td>\n",
              "      <td>Ai Weiwei Drifting Ai Weiwei: Uncomfortable cr...</td>\n",
              "      <td>DW (Deutsch+) - based_in0 - Germany | Ai Weiwe...</td>\n",
              "      <td>DW (Deutsch+) - type - entity | DW (Deutsch+) ...</td>\n",
              "      <td>media - subclass_of - org | activist - subclas...</td>\n",
              "      <td>entertainment</td>\n",
              "      <td>– Chinese dissident artist and human rights ac...</td>\n",
              "      <td>{Mao - type - PERSON | Turkey - type - GPE | E...</td>\n",
              "    </tr>\n",
              "    <tr>\n",
              "      <th>5</th>\n",
              "      <td>5</td>\n",
              "      <td>Journal Interview with Günter Nooke, The Chanc...</td>\n",
              "      <td>Günter Nooke - agent_of - Germany | Günter Noo...</td>\n",
              "      <td>Günter Nooke - type - entity | Günter Nooke - ...</td>\n",
              "      <td>gov_per - subclass_of - per | location - subcl...</td>\n",
              "      <td>politics</td>\n",
              "      <td>– German Chancellor Angela Merkel's office say...</td>\n",
              "      <td>{this week - type - DATE | German - type - NOR...</td>\n",
              "    </tr>\n",
              "    <tr>\n",
              "      <th>6</th>\n",
              "      <td>6</td>\n",
              "      <td>Turkey summons German envoy for second time in...</td>\n",
              "      <td>Martin Erdmann - agent_of - Germany | Martin E...</td>\n",
              "      <td>European Union - type - entity | European Unio...</td>\n",
              "      <td>igo - subclass_of - org | so - subclass_of - i...</td>\n",
              "      <td>politics</td>\n",
              "      <td>– Relations between Turkey and Germany have be...</td>\n",
              "      <td>{Peter Steudtner - type - PERSON | 17th - type...</td>\n",
              "    </tr>\n",
              "    <tr>\n",
              "      <th>7</th>\n",
              "      <td>7</td>\n",
              "      <td>Medvedev seeks investment at Davos economic fo...</td>\n",
              "      <td>Dmitry Medvedev - agent_of - Russia | Dmitry M...</td>\n",
              "      <td>Dmitry Medvedev - type - entity | Dmitry Medve...</td>\n",
              "      <td>head_of_gov - subclass_of - politician | polit...</td>\n",
              "      <td>business</td>\n",
              "      <td>– The World Economic Forum in Davos has kicked...</td>\n",
              "      <td>{Moscow - type - GPE | roughly 2,500 - type - ...</td>\n",
              "    </tr>\n",
              "    <tr>\n",
              "      <th>8</th>\n",
              "      <td>8</td>\n",
              "      <td>Ex-CIA fugitive Robert Seldon Lady detained in...</td>\n",
              "      <td>Osama Moustafa Hassan Nasr - citizen_of - Egyp...</td>\n",
              "      <td>Osama Moustafa Hassan Nasr - type - clergy | O...</td>\n",
              "      <td>offender - subclass_of - per | agency - subcla...</td>\n",
              "      <td>business</td>\n",
              "      <td>– A former CIA station chief convicted in abse...</td>\n",
              "      <td>{23 - type - CARDINAL | Robert Seldon - type -...</td>\n",
              "    </tr>\n",
              "    <tr>\n",
              "      <th>9</th>\n",
              "      <td>9</td>\n",
              "      <td>Nearly 10,000 migrants rescued on Mediterranea...</td>\n",
              "      <td>Rome - in0 - Italy | Rome - in0-x - Italian | ...</td>\n",
              "      <td>Strait of Sicily - type - entity | Strait of S...</td>\n",
              "      <td>location - subclass_of - entity | waterbody - ...</td>\n",
              "      <td>business</td>\n",
              "      <td>– The Italian coast guard and the EU's border ...</td>\n",
              "      <td>{the same month last year - type - DATE | Medi...</td>\n",
              "    </tr>\n",
              "  </tbody>\n",
              "</table>\n",
              "</div>\n",
              "      <button class=\"colab-df-convert\" onclick=\"convertToInteractive('df-d723f233-d9d0-496b-a401-381c16571b26')\"\n",
              "              title=\"Convert this dataframe to an interactive table.\"\n",
              "              style=\"display:none;\">\n",
              "        \n",
              "  <svg xmlns=\"http://www.w3.org/2000/svg\" height=\"24px\"viewBox=\"0 0 24 24\"\n",
              "       width=\"24px\">\n",
              "    <path d=\"M0 0h24v24H0V0z\" fill=\"none\"/>\n",
              "    <path d=\"M18.56 5.44l.94 2.06.94-2.06 2.06-.94-2.06-.94-.94-2.06-.94 2.06-2.06.94zm-11 1L8.5 8.5l.94-2.06 2.06-.94-2.06-.94L8.5 2.5l-.94 2.06-2.06.94zm10 10l.94 2.06.94-2.06 2.06-.94-2.06-.94-.94-2.06-.94 2.06-2.06.94z\"/><path d=\"M17.41 7.96l-1.37-1.37c-.4-.4-.92-.59-1.43-.59-.52 0-1.04.2-1.43.59L10.3 9.45l-7.72 7.72c-.78.78-.78 2.05 0 2.83L4 21.41c.39.39.9.59 1.41.59.51 0 1.02-.2 1.41-.59l7.78-7.78 2.81-2.81c.8-.78.8-2.07 0-2.86zM5.41 20L4 18.59l7.72-7.72 1.47 1.35L5.41 20z\"/>\n",
              "  </svg>\n",
              "      </button>\n",
              "      \n",
              "  <style>\n",
              "    .colab-df-container {\n",
              "      display:flex;\n",
              "      flex-wrap:wrap;\n",
              "      gap: 12px;\n",
              "    }\n",
              "\n",
              "    .colab-df-convert {\n",
              "      background-color: #E8F0FE;\n",
              "      border: none;\n",
              "      border-radius: 50%;\n",
              "      cursor: pointer;\n",
              "      display: none;\n",
              "      fill: #1967D2;\n",
              "      height: 32px;\n",
              "      padding: 0 0 0 0;\n",
              "      width: 32px;\n",
              "    }\n",
              "\n",
              "    .colab-df-convert:hover {\n",
              "      background-color: #E2EBFA;\n",
              "      box-shadow: 0px 1px 2px rgba(60, 64, 67, 0.3), 0px 1px 3px 1px rgba(60, 64, 67, 0.15);\n",
              "      fill: #174EA6;\n",
              "    }\n",
              "\n",
              "    [theme=dark] .colab-df-convert {\n",
              "      background-color: #3B4455;\n",
              "      fill: #D2E3FC;\n",
              "    }\n",
              "\n",
              "    [theme=dark] .colab-df-convert:hover {\n",
              "      background-color: #434B5C;\n",
              "      box-shadow: 0px 1px 3px 1px rgba(0, 0, 0, 0.15);\n",
              "      filter: drop-shadow(0px 1px 2px rgba(0, 0, 0, 0.3));\n",
              "      fill: #FFFFFF;\n",
              "    }\n",
              "  </style>\n",
              "\n",
              "      <script>\n",
              "        const buttonEl =\n",
              "          document.querySelector('#df-d723f233-d9d0-496b-a401-381c16571b26 button.colab-df-convert');\n",
              "        buttonEl.style.display =\n",
              "          google.colab.kernel.accessAllowed ? 'block' : 'none';\n",
              "\n",
              "        async function convertToInteractive(key) {\n",
              "          const element = document.querySelector('#df-d723f233-d9d0-496b-a401-381c16571b26');\n",
              "          const dataTable =\n",
              "            await google.colab.kernel.invokeFunction('convertToInteractive',\n",
              "                                                     [key], {});\n",
              "          if (!dataTable) return;\n",
              "\n",
              "          const docLinkHtml = 'Like what you see? Visit the ' +\n",
              "            '<a target=\"_blank\" href=https://colab.research.google.com/notebooks/data_table.ipynb>data table notebook</a>'\n",
              "            + ' to learn more about interactive tables.';\n",
              "          element.innerHTML = '';\n",
              "          dataTable['output_type'] = 'display_data';\n",
              "          await google.colab.output.renderOutput(dataTable, element);\n",
              "          const docLink = document.createElement('div');\n",
              "          docLink.innerHTML = docLinkHtml;\n",
              "          element.appendChild(docLink);\n",
              "        }\n",
              "      </script>\n",
              "    </div>\n",
              "  </div>\n",
              "  "
            ]
          },
          "metadata": {},
          "execution_count": 7
        }
      ]
    },
    {
      "cell_type": "markdown",
      "source": [
        "#### Trying Out NER pipeline\n"
      ],
      "metadata": {
        "id": "XmrR4AfCeH_O"
      }
    },
    {
      "cell_type": "markdown",
      "source": [],
      "metadata": {
        "id": "oKiMbSwwmBGp"
      }
    },
    {
      "cell_type": "code",
      "source": [
        "!pip install flair "
      ],
      "metadata": {
        "colab": {
          "base_uri": "https://localhost:8080/",
          "height": 1000
        },
        "id": "C-JyuKVTmuLP",
        "outputId": "a233eced-cf2c-4c0b-f41c-8c31ec1116d5"
      },
      "execution_count": 8,
      "outputs": [
        {
          "output_type": "stream",
          "name": "stdout",
          "text": [
            "Looking in indexes: https://pypi.org/simple, https://us-python.pkg.dev/colab-wheels/public/simple/\n",
            "Collecting flair\n",
            "  Downloading flair-0.12-py3-none-any.whl (374 kB)\n",
            "\u001b[2K     \u001b[90m━━━━━━━━━━━━━━━━━━━━━━━━━━━━━━━━━━━━━━━\u001b[0m \u001b[32m374.2/374.2 KB\u001b[0m \u001b[31m8.1 MB/s\u001b[0m eta \u001b[36m0:00:00\u001b[0m\n",
            "\u001b[?25hRequirement already satisfied: more-itertools in /usr/local/lib/python3.8/dist-packages (from flair) (9.1.0)\n",
            "Collecting wikipedia-api\n",
            "  Downloading Wikipedia_API-0.5.8-py3-none-any.whl (13 kB)\n",
            "Requirement already satisfied: scikit-learn>=0.21.3 in /usr/local/lib/python3.8/dist-packages (from flair) (1.2.1)\n",
            "Requirement already satisfied: tabulate in /usr/local/lib/python3.8/dist-packages (from flair) (0.8.10)\n",
            "Requirement already satisfied: gdown==4.4.0 in /usr/local/lib/python3.8/dist-packages (from flair) (4.4.0)\n",
            "Collecting transformer-smaller-training-vocab>=0.2.0\n",
            "  Downloading transformer_smaller_training_vocab-0.2.0-py3-none-any.whl (12 kB)\n",
            "Collecting langdetect\n",
            "  Downloading langdetect-1.0.9.tar.gz (981 kB)\n",
            "\u001b[2K     \u001b[90m━━━━━━━━━━━━━━━━━━━━━━━━━━━━━━━━━━━━━━\u001b[0m \u001b[32m981.5/981.5 KB\u001b[0m \u001b[31m42.0 MB/s\u001b[0m eta \u001b[36m0:00:00\u001b[0m\n",
            "\u001b[?25h  Preparing metadata (setup.py) ... \u001b[?25l\u001b[?25hdone\n",
            "Collecting sqlitedict>=1.6.0\n",
            "  Downloading sqlitedict-2.1.0.tar.gz (21 kB)\n",
            "  Preparing metadata (setup.py) ... \u001b[?25l\u001b[?25hdone\n",
            "Collecting janome\n",
            "  Downloading Janome-0.4.2-py2.py3-none-any.whl (19.7 MB)\n",
            "\u001b[2K     \u001b[90m━━━━━━━━━━━━━━━━━━━━━━━━━━━━━━━━━━━━━━━━\u001b[0m \u001b[32m19.7/19.7 MB\u001b[0m \u001b[31m72.6 MB/s\u001b[0m eta \u001b[36m0:00:00\u001b[0m\n",
            "\u001b[?25hRequirement already satisfied: transformers[sentencepiece]>=4.0.0 in /usr/local/lib/python3.8/dist-packages (from flair) (4.26.1)\n",
            "Collecting segtok>=1.5.7\n",
            "  Downloading segtok-1.5.11-py3-none-any.whl (24 kB)\n",
            "Requirement already satisfied: python-dateutil>=2.6.1 in /usr/local/lib/python3.8/dist-packages (from flair) (2.8.2)\n",
            "Collecting gensim>=3.8.0\n",
            "  Downloading gensim-4.3.0-cp38-cp38-manylinux_2_12_x86_64.manylinux2010_x86_64.whl (24.1 MB)\n",
            "\u001b[2K     \u001b[90m━━━━━━━━━━━━━━━━━━━━━━━━━━━━━━━━━━━━━━━━\u001b[0m \u001b[32m24.1/24.1 MB\u001b[0m \u001b[31m64.7 MB/s\u001b[0m eta \u001b[36m0:00:00\u001b[0m\n",
            "\u001b[?25hCollecting bpemb>=0.3.2\n",
            "  Downloading bpemb-0.3.4-py3-none-any.whl (19 kB)\n",
            "Collecting hyperopt>=0.2.7\n",
            "  Downloading hyperopt-0.2.7-py2.py3-none-any.whl (1.6 MB)\n",
            "\u001b[2K     \u001b[90m━━━━━━━━━━━━━━━━━━━━━━━━━━━━━━━━━━━━━━━━\u001b[0m \u001b[32m1.6/1.6 MB\u001b[0m \u001b[31m86.2 MB/s\u001b[0m eta \u001b[36m0:00:00\u001b[0m\n",
            "\u001b[?25hCollecting pytorch-revgrad\n",
            "  Downloading pytorch_revgrad-0.2.0-py3-none-any.whl (4.6 kB)\n",
            "Collecting pptree\n",
            "  Downloading pptree-3.1.tar.gz (3.0 kB)\n",
            "  Preparing metadata (setup.py) ... \u001b[?25l\u001b[?25hdone\n",
            "Collecting huggingface-hub==0.10.0\n",
            "  Downloading huggingface_hub-0.10.0-py3-none-any.whl (163 kB)\n",
            "\u001b[2K     \u001b[90m━━━━━━━━━━━━━━━━━━━━━━━━━━━━━━━━━━━━━━\u001b[0m \u001b[32m163.5/163.5 KB\u001b[0m \u001b[31m23.0 MB/s\u001b[0m eta \u001b[36m0:00:00\u001b[0m\n",
            "\u001b[?25hRequirement already satisfied: regex in /usr/local/lib/python3.8/dist-packages (from flair) (2022.6.2)\n",
            "Collecting conllu>=4.0\n",
            "  Downloading conllu-4.5.2-py2.py3-none-any.whl (16 kB)\n",
            "Collecting boto3\n",
            "  Downloading boto3-1.26.86-py3-none-any.whl (134 kB)\n",
            "\u001b[2K     \u001b[90m━━━━━━━━━━━━━━━━━━━━━━━━━━━━━━━━━━━━━━\u001b[0m \u001b[32m134.7/134.7 KB\u001b[0m \u001b[31m19.6 MB/s\u001b[0m eta \u001b[36m0:00:00\u001b[0m\n",
            "\u001b[?25hCollecting ftfy\n",
            "  Downloading ftfy-6.1.1-py3-none-any.whl (53 kB)\n",
            "\u001b[2K     \u001b[90m━━━━━━━━━━━━━━━━━━━━━━━━━━━━━━━━━━━━━━━━\u001b[0m \u001b[32m53.1/53.1 KB\u001b[0m \u001b[31m7.8 MB/s\u001b[0m eta \u001b[36m0:00:00\u001b[0m\n",
            "\u001b[?25hRequirement already satisfied: lxml in /usr/local/lib/python3.8/dist-packages (from flair) (4.9.2)\n",
            "Collecting deprecated>=1.2.4\n",
            "  Downloading Deprecated-1.2.13-py2.py3-none-any.whl (9.6 kB)\n",
            "Collecting mpld3==0.3\n",
            "  Downloading mpld3-0.3.tar.gz (788 kB)\n",
            "\u001b[2K     \u001b[90m━━━━━━━━━━━━━━━━━━━━━━━━━━━━━━━━━━━━━━\u001b[0m \u001b[32m788.5/788.5 KB\u001b[0m \u001b[31m70.8 MB/s\u001b[0m eta \u001b[36m0:00:00\u001b[0m\n",
            "\u001b[?25h  Preparing metadata (setup.py) ... \u001b[?25l\u001b[?25hdone\n",
            "Requirement already satisfied: torch!=1.8,>=1.5.0 in /usr/local/lib/python3.8/dist-packages (from flair) (1.13.1+cu116)\n",
            "Requirement already satisfied: tqdm>=4.26.0 in /usr/local/lib/python3.8/dist-packages (from flair) (4.64.1)\n",
            "Requirement already satisfied: matplotlib>=2.2.3 in /usr/local/lib/python3.8/dist-packages (from flair) (3.5.3)\n",
            "Requirement already satisfied: requests[socks] in /usr/local/lib/python3.8/dist-packages (from gdown==4.4.0->flair) (2.25.1)\n",
            "Requirement already satisfied: beautifulsoup4 in /usr/local/lib/python3.8/dist-packages (from gdown==4.4.0->flair) (4.6.3)\n",
            "Requirement already satisfied: filelock in /usr/local/lib/python3.8/dist-packages (from gdown==4.4.0->flair) (3.9.0)\n",
            "Requirement already satisfied: six in /usr/local/lib/python3.8/dist-packages (from gdown==4.4.0->flair) (1.15.0)\n",
            "Requirement already satisfied: pyyaml>=5.1 in /usr/local/lib/python3.8/dist-packages (from huggingface-hub==0.10.0->flair) (6.0)\n",
            "Requirement already satisfied: typing-extensions>=3.7.4.3 in /usr/local/lib/python3.8/dist-packages (from huggingface-hub==0.10.0->flair) (4.5.0)\n",
            "Requirement already satisfied: packaging>=20.9 in /usr/local/lib/python3.8/dist-packages (from huggingface-hub==0.10.0->flair) (23.0)\n",
            "Requirement already satisfied: numpy in /usr/local/lib/python3.8/dist-packages (from bpemb>=0.3.2->flair) (1.22.4)\n",
            "Requirement already satisfied: sentencepiece in /usr/local/lib/python3.8/dist-packages (from bpemb>=0.3.2->flair) (0.1.97)\n",
            "Requirement already satisfied: wrapt<2,>=1.10 in /usr/local/lib/python3.8/dist-packages (from deprecated>=1.2.4->flair) (1.15.0)\n",
            "Collecting FuzzyTM>=0.4.0\n",
            "  Downloading FuzzyTM-2.0.5-py3-none-any.whl (29 kB)\n",
            "Requirement already satisfied: smart-open>=1.8.1 in /usr/local/lib/python3.8/dist-packages (from gensim>=3.8.0->flair) (6.3.0)\n",
            "Requirement already satisfied: scipy>=1.7.0 in /usr/local/lib/python3.8/dist-packages (from gensim>=3.8.0->flair) (1.10.1)\n",
            "Collecting py4j\n",
            "  Downloading py4j-0.10.9.7-py2.py3-none-any.whl (200 kB)\n",
            "\u001b[2K     \u001b[90m━━━━━━━━━━━━━━━━━━━━━━━━━━━━━━━━━━━━━━\u001b[0m \u001b[32m200.5/200.5 KB\u001b[0m \u001b[31m29.1 MB/s\u001b[0m eta \u001b[36m0:00:00\u001b[0m\n",
            "\u001b[?25hRequirement already satisfied: cloudpickle in /usr/local/lib/python3.8/dist-packages (from hyperopt>=0.2.7->flair) (2.2.1)\n",
            "Requirement already satisfied: future in /usr/local/lib/python3.8/dist-packages (from hyperopt>=0.2.7->flair) (0.16.0)\n",
            "Requirement already satisfied: networkx>=2.2 in /usr/local/lib/python3.8/dist-packages (from hyperopt>=0.2.7->flair) (3.0)\n",
            "Requirement already satisfied: pillow>=6.2.0 in /usr/local/lib/python3.8/dist-packages (from matplotlib>=2.2.3->flair) (8.4.0)\n",
            "Requirement already satisfied: fonttools>=4.22.0 in /usr/local/lib/python3.8/dist-packages (from matplotlib>=2.2.3->flair) (4.38.0)\n",
            "Requirement already satisfied: cycler>=0.10 in /usr/local/lib/python3.8/dist-packages (from matplotlib>=2.2.3->flair) (0.11.0)\n",
            "Requirement already satisfied: kiwisolver>=1.0.1 in /usr/local/lib/python3.8/dist-packages (from matplotlib>=2.2.3->flair) (1.4.4)\n",
            "Requirement already satisfied: pyparsing>=2.2.1 in /usr/local/lib/python3.8/dist-packages (from matplotlib>=2.2.3->flair) (3.0.9)\n",
            "Requirement already satisfied: threadpoolctl>=2.0.0 in /usr/local/lib/python3.8/dist-packages (from scikit-learn>=0.21.3->flair) (3.1.0)\n",
            "Requirement already satisfied: joblib>=1.1.1 in /usr/local/lib/python3.8/dist-packages (from scikit-learn>=0.21.3->flair) (1.2.0)\n",
            "Requirement already satisfied: datasets<3.0.0,>=2.0.0 in /usr/local/lib/python3.8/dist-packages (from transformer-smaller-training-vocab>=0.2.0->flair) (2.10.1)\n",
            "Collecting transformers[sentencepiece]>=4.0.0\n",
            "  Downloading transformers-4.26.0-py3-none-any.whl (6.3 MB)\n",
            "\u001b[2K     \u001b[90m━━━━━━━━━━━━━━━━━━━━━━━━━━━━━━━━━━━━━━━━\u001b[0m \u001b[32m6.3/6.3 MB\u001b[0m \u001b[31m99.6 MB/s\u001b[0m eta \u001b[36m0:00:00\u001b[0m\n",
            "\u001b[?25h  Downloading transformers-4.25.1-py3-none-any.whl (5.8 MB)\n",
            "\u001b[2K     \u001b[90m━━━━━━━━━━━━━━━━━━━━━━━━━━━━━━━━━━━━━━━━\u001b[0m \u001b[32m5.8/5.8 MB\u001b[0m \u001b[31m97.5 MB/s\u001b[0m eta \u001b[36m0:00:00\u001b[0m\n",
            "\u001b[?25hRequirement already satisfied: tokenizers!=0.11.3,<0.14,>=0.11.1 in /usr/local/lib/python3.8/dist-packages (from transformers[sentencepiece]>=4.0.0->flair) (0.13.2)\n",
            "Requirement already satisfied: protobuf<=3.20.2 in /usr/local/lib/python3.8/dist-packages (from transformers[sentencepiece]>=4.0.0->flair) (3.19.6)\n",
            "Collecting jmespath<2.0.0,>=0.7.1\n",
            "  Downloading jmespath-1.0.1-py3-none-any.whl (20 kB)\n",
            "Collecting s3transfer<0.7.0,>=0.6.0\n",
            "  Downloading s3transfer-0.6.0-py3-none-any.whl (79 kB)\n",
            "\u001b[2K     \u001b[90m━━━━━━━━━━━━━━━━━━━━━━━━━━━━━━━━━━━━━━━━\u001b[0m \u001b[32m79.6/79.6 KB\u001b[0m \u001b[31m12.3 MB/s\u001b[0m eta \u001b[36m0:00:00\u001b[0m\n",
            "\u001b[?25hCollecting botocore<1.30.0,>=1.29.86\n",
            "  Downloading botocore-1.29.86-py3-none-any.whl (10.5 MB)\n",
            "\u001b[2K     \u001b[90m━━━━━━━━━━━━━━━━━━━━━━━━━━━━━━━━━━━━━━━━\u001b[0m \u001b[32m10.5/10.5 MB\u001b[0m \u001b[31m82.5 MB/s\u001b[0m eta \u001b[36m0:00:00\u001b[0m\n",
            "\u001b[?25hRequirement already satisfied: wcwidth>=0.2.5 in /usr/local/lib/python3.8/dist-packages (from ftfy->flair) (0.2.6)\n",
            "Requirement already satisfied: urllib3<1.27,>=1.25.4 in /usr/local/lib/python3.8/dist-packages (from botocore<1.30.0,>=1.29.86->boto3->flair) (1.26.14)\n",
            "Requirement already satisfied: aiohttp in /usr/local/lib/python3.8/dist-packages (from datasets<3.0.0,>=2.0.0->transformer-smaller-training-vocab>=0.2.0->flair) (3.8.4)\n",
            "Requirement already satisfied: pyarrow>=6.0.0 in /usr/local/lib/python3.8/dist-packages (from datasets<3.0.0,>=2.0.0->transformer-smaller-training-vocab>=0.2.0->flair) (9.0.0)\n",
            "Requirement already satisfied: dill<0.3.7,>=0.3.0 in /usr/local/lib/python3.8/dist-packages (from datasets<3.0.0,>=2.0.0->transformer-smaller-training-vocab>=0.2.0->flair) (0.3.6)\n",
            "Requirement already satisfied: xxhash in /usr/local/lib/python3.8/dist-packages (from datasets<3.0.0,>=2.0.0->transformer-smaller-training-vocab>=0.2.0->flair) (3.2.0)\n",
            "Requirement already satisfied: responses<0.19 in /usr/local/lib/python3.8/dist-packages (from datasets<3.0.0,>=2.0.0->transformer-smaller-training-vocab>=0.2.0->flair) (0.18.0)\n",
            "Requirement already satisfied: multiprocess in /usr/local/lib/python3.8/dist-packages (from datasets<3.0.0,>=2.0.0->transformer-smaller-training-vocab>=0.2.0->flair) (0.70.14)\n",
            "Requirement already satisfied: pandas in /usr/local/lib/python3.8/dist-packages (from datasets<3.0.0,>=2.0.0->transformer-smaller-training-vocab>=0.2.0->flair) (1.3.5)\n",
            "Requirement already satisfied: fsspec[http]>=2021.11.1 in /usr/local/lib/python3.8/dist-packages (from datasets<3.0.0,>=2.0.0->transformer-smaller-training-vocab>=0.2.0->flair) (2023.1.0)\n",
            "Collecting pyfume\n",
            "  Downloading pyFUME-0.2.25-py3-none-any.whl (67 kB)\n",
            "\u001b[2K     \u001b[90m━━━━━━━━━━━━━━━━━━━━━━━━━━━━━━━━━━━━━━━━\u001b[0m \u001b[32m67.1/67.1 KB\u001b[0m \u001b[31m9.5 MB/s\u001b[0m eta \u001b[36m0:00:00\u001b[0m\n",
            "\u001b[?25hRequirement already satisfied: certifi>=2017.4.17 in /usr/local/lib/python3.8/dist-packages (from requests[socks]->gdown==4.4.0->flair) (2022.12.7)\n",
            "Requirement already satisfied: idna<3,>=2.5 in /usr/local/lib/python3.8/dist-packages (from requests[socks]->gdown==4.4.0->flair) (2.10)\n",
            "Requirement already satisfied: chardet<5,>=3.0.2 in /usr/local/lib/python3.8/dist-packages (from requests[socks]->gdown==4.4.0->flair) (4.0.0)\n",
            "Requirement already satisfied: PySocks!=1.5.7,>=1.5.6 in /usr/local/lib/python3.8/dist-packages (from requests[socks]->gdown==4.4.0->flair) (1.7.1)\n",
            "Requirement already satisfied: yarl<2.0,>=1.0 in /usr/local/lib/python3.8/dist-packages (from aiohttp->datasets<3.0.0,>=2.0.0->transformer-smaller-training-vocab>=0.2.0->flair) (1.8.2)\n",
            "Requirement already satisfied: attrs>=17.3.0 in /usr/local/lib/python3.8/dist-packages (from aiohttp->datasets<3.0.0,>=2.0.0->transformer-smaller-training-vocab>=0.2.0->flair) (22.2.0)\n",
            "Requirement already satisfied: aiosignal>=1.1.2 in /usr/local/lib/python3.8/dist-packages (from aiohttp->datasets<3.0.0,>=2.0.0->transformer-smaller-training-vocab>=0.2.0->flair) (1.3.1)\n",
            "Requirement already satisfied: charset-normalizer<4.0,>=2.0 in /usr/local/lib/python3.8/dist-packages (from aiohttp->datasets<3.0.0,>=2.0.0->transformer-smaller-training-vocab>=0.2.0->flair) (3.0.1)\n",
            "Requirement already satisfied: frozenlist>=1.1.1 in /usr/local/lib/python3.8/dist-packages (from aiohttp->datasets<3.0.0,>=2.0.0->transformer-smaller-training-vocab>=0.2.0->flair) (1.3.3)\n",
            "Requirement already satisfied: multidict<7.0,>=4.5 in /usr/local/lib/python3.8/dist-packages (from aiohttp->datasets<3.0.0,>=2.0.0->transformer-smaller-training-vocab>=0.2.0->flair) (6.0.4)\n",
            "Requirement already satisfied: async-timeout<5.0,>=4.0.0a3 in /usr/local/lib/python3.8/dist-packages (from aiohttp->datasets<3.0.0,>=2.0.0->transformer-smaller-training-vocab>=0.2.0->flair) (4.0.2)\n",
            "Requirement already satisfied: pytz>=2017.3 in /usr/local/lib/python3.8/dist-packages (from pandas->datasets<3.0.0,>=2.0.0->transformer-smaller-training-vocab>=0.2.0->flair) (2022.7.1)\n",
            "Collecting simpful\n",
            "  Downloading simpful-2.10.0-py3-none-any.whl (31 kB)\n",
            "Collecting fst-pso\n",
            "  Downloading fst-pso-1.8.1.tar.gz (18 kB)\n",
            "  Preparing metadata (setup.py) ... \u001b[?25l\u001b[?25hdone\n",
            "Collecting miniful\n",
            "  Downloading miniful-0.0.6.tar.gz (2.8 kB)\n",
            "  Preparing metadata (setup.py) ... \u001b[?25l\u001b[?25hdone\n",
            "Building wheels for collected packages: mpld3, sqlitedict, langdetect, pptree, fst-pso, miniful\n",
            "  Building wheel for mpld3 (setup.py) ... \u001b[?25l\u001b[?25hdone\n",
            "  Created wheel for mpld3: filename=mpld3-0.3-py3-none-any.whl size=116702 sha256=821bc0c474ffc765fe067c6ed3064595a3f382be0cfa4a851068842f3d99bbdc\n",
            "  Stored in directory: /root/.cache/pip/wheels/3d/9f/9d/d806a20bd97bc7076d724fa3e69fa5be61836ba16b2ffa6126\n",
            "  Building wheel for sqlitedict (setup.py) ... \u001b[?25l\u001b[?25hdone\n",
            "  Created wheel for sqlitedict: filename=sqlitedict-2.1.0-py3-none-any.whl size=16869 sha256=4ca142b11f20acb44527efeb2c4977876a57e38b663f1926b5865668e4ca6140\n",
            "  Stored in directory: /root/.cache/pip/wheels/04/c6/16/46e174009277f9bccdaa7215a243939d2f70180804b249bf3a\n",
            "  Building wheel for langdetect (setup.py) ... \u001b[?25l\u001b[?25hdone\n",
            "  Created wheel for langdetect: filename=langdetect-1.0.9-py3-none-any.whl size=993242 sha256=12990c42f07e3a264d9b83a11ec4c15c60c799df0489e902fb4ea929a40b5552\n",
            "  Stored in directory: /root/.cache/pip/wheels/13/c7/b0/79f66658626032e78fc1a83103690ef6797d551cb22e56e734\n",
            "  Building wheel for pptree (setup.py) ... \u001b[?25l\u001b[?25hdone\n",
            "  Created wheel for pptree: filename=pptree-3.1-py3-none-any.whl size=4629 sha256=f5439e4d53cfeed1e62f7fab39db75d4ce45491cc772bb68a22187aaa66fdf02\n",
            "  Stored in directory: /root/.cache/pip/wheels/e1/8b/30/5b20240d3d13a9dfafb6a6dd49d1b541c86d39812cb3690edf\n",
            "  Building wheel for fst-pso (setup.py) ... \u001b[?25l\u001b[?25hdone\n",
            "  Created wheel for fst-pso: filename=fst_pso-1.8.1-py3-none-any.whl size=20443 sha256=2b0bc4c596f0678db7e5804e44f0845834375bbf78012587e7e4adebd01b5510\n",
            "  Stored in directory: /root/.cache/pip/wheels/6a/65/c4/d27eeee9ba3fc150a0dae150519591103b9e0dbffde3ae77dc\n",
            "  Building wheel for miniful (setup.py) ... \u001b[?25l\u001b[?25hdone\n",
            "  Created wheel for miniful: filename=miniful-0.0.6-py3-none-any.whl size=3530 sha256=7a035ff79439b2025b4dfaf1194c59e5b0421aa8eae0231338162c5ee0562292\n",
            "  Stored in directory: /root/.cache/pip/wheels/ba/d9/a0/ddd93af16d5855dd9bad417623e70948fdac119d1d34fb17c8\n",
            "Successfully built mpld3 sqlitedict langdetect pptree fst-pso miniful\n",
            "Installing collected packages: sqlitedict, py4j, pptree, mpld3, janome, segtok, langdetect, jmespath, ftfy, deprecated, conllu, wikipedia-api, simpful, pytorch-revgrad, miniful, hyperopt, huggingface-hub, botocore, transformers, s3transfer, fst-pso, pyfume, boto3, transformer-smaller-training-vocab, FuzzyTM, gensim, bpemb, flair\n",
            "  Attempting uninstall: hyperopt\n",
            "    Found existing installation: hyperopt 0.1.2\n",
            "    Uninstalling hyperopt-0.1.2:\n",
            "      Successfully uninstalled hyperopt-0.1.2\n",
            "  Attempting uninstall: huggingface-hub\n",
            "    Found existing installation: huggingface-hub 0.13.0\n",
            "    Uninstalling huggingface-hub-0.13.0:\n",
            "      Successfully uninstalled huggingface-hub-0.13.0\n",
            "  Attempting uninstall: transformers\n",
            "    Found existing installation: transformers 4.26.1\n",
            "    Uninstalling transformers-4.26.1:\n",
            "      Successfully uninstalled transformers-4.26.1\n",
            "  Attempting uninstall: gensim\n",
            "    Found existing installation: gensim 3.6.0\n",
            "    Uninstalling gensim-3.6.0:\n",
            "      Successfully uninstalled gensim-3.6.0\n",
            "Successfully installed FuzzyTM-2.0.5 boto3-1.26.86 botocore-1.29.86 bpemb-0.3.4 conllu-4.5.2 deprecated-1.2.13 flair-0.12 fst-pso-1.8.1 ftfy-6.1.1 gensim-4.3.0 huggingface-hub-0.10.0 hyperopt-0.2.7 janome-0.4.2 jmespath-1.0.1 langdetect-1.0.9 miniful-0.0.6 mpld3-0.3 pptree-3.1 py4j-0.10.9.7 pyfume-0.2.25 pytorch-revgrad-0.2.0 s3transfer-0.6.0 segtok-1.5.11 simpful-2.10.0 sqlitedict-2.1.0 transformer-smaller-training-vocab-0.2.0 transformers-4.25.1 wikipedia-api-0.5.8\n"
          ]
        },
        {
          "output_type": "display_data",
          "data": {
            "application/vnd.colab-display-data+json": {
              "pip_warning": {
                "packages": [
                  "huggingface_hub",
                  "transformers"
                ]
              }
            }
          },
          "metadata": {}
        }
      ]
    },
    {
      "cell_type": "code",
      "source": [
        "from flair.models import SequenceTagger\n",
        "from flair.data import Sentence\n",
        "\n",
        "flairModelNer = 'ner-ontonotes-fast' # other option =>  'ner-ontonotes', 'ner-ontonotes-large'\n",
        "flairModelPos = \"pos-fast\"\n",
        "\n",
        "# Load the NER model\n",
        "taggerNer = SequenceTagger.load(flairModelNer)\n",
        "taggerPos = SequenceTagger.load(flairModelPos)"
      ],
      "metadata": {
        "colab": {
          "base_uri": "https://localhost:8080/",
          "height": 105,
          "referenced_widgets": [
            "7b1b6d119e7a473687134607d327053e",
            "1dc8c33bf4644bdb98ba465bf86a6536",
            "910e9d040f2a45f0a103d4f36f8a0767",
            "52f014b48fba482d89b4e1667844716c",
            "617f9e6d954745d897a7bf86f2f74af0",
            "0f01f7290856431da27121f3c3bfc717",
            "36ec9f61df454c548171e829b69b7091",
            "d9a9fb7b3c0f41f19d54edb343ffe22e",
            "70871fb3ac5d400e946aeebf3599008a",
            "3727a67b5f504a5e8f11186dcd3fa131",
            "2560c587708143778209b070cec47dd4"
          ]
        },
        "id": "2L9f66nUmBmm",
        "outputId": "80ecb3cd-881f-487f-e63f-98789dbdd20c"
      },
      "execution_count": 13,
      "outputs": [
        {
          "output_type": "stream",
          "name": "stdout",
          "text": [
            "2023-03-08 15:59:41,070 SequenceTagger predicts: Dictionary with 76 tags: <unk>, O, B-CARDINAL, E-CARDINAL, S-PERSON, S-CARDINAL, S-PRODUCT, B-PRODUCT, I-PRODUCT, E-PRODUCT, B-WORK_OF_ART, I-WORK_OF_ART, E-WORK_OF_ART, B-PERSON, E-PERSON, S-GPE, B-DATE, I-DATE, E-DATE, S-ORDINAL, S-LANGUAGE, I-PERSON, S-EVENT, S-DATE, B-QUANTITY, E-QUANTITY, S-TIME, B-TIME, I-TIME, E-TIME, B-GPE, E-GPE, S-ORG, I-GPE, S-NORP, B-FAC, I-FAC, E-FAC, B-NORP, E-NORP, S-PERCENT, B-ORG, E-ORG, B-LANGUAGE, E-LANGUAGE, I-CARDINAL, I-ORG, S-WORK_OF_ART, I-QUANTITY, B-MONEY\n"
          ]
        },
        {
          "output_type": "display_data",
          "data": {
            "text/plain": [
              "Downloading pytorch_model.bin:   0%|          | 0.00/75.3M [00:00<?, ?B/s]"
            ],
            "application/vnd.jupyter.widget-view+json": {
              "version_major": 2,
              "version_minor": 0,
              "model_id": "7b1b6d119e7a473687134607d327053e"
            }
          },
          "metadata": {}
        },
        {
          "output_type": "stream",
          "name": "stdout",
          "text": [
            "2023-03-08 15:59:42,588 SequenceTagger predicts: Dictionary with 53 tags: <unk>, O, UH, ,, VBD, PRP, VB, PRP$, NN, RB, ., DT, JJ, VBP, VBG, IN, CD, NNS, NNP, WRB, VBZ, WDT, CC, TO, MD, VBN, WP, :, RP, EX, JJR, FW, XX, HYPH, POS, RBR, JJS, PDT, NNPS, RBS, AFX, WP$, -LRB-, -RRB-, ``, '', LS, $, SYM, ADD\n"
          ]
        }
      ]
    },
    {
      "cell_type": "code",
      "source": [
        "# WITHOUT POS\n",
        "\n",
        "# create a sentence item\n",
        "text = Sentence(df[\"story\"][1])\n",
        "\n",
        "# predict NER tags on the sentence\n",
        "taggerNer.predict(text)\n",
        "\n",
        "# print again the sentence item with predicted tags\n",
        "for entity in text.get_spans('ner'):\n",
        "    print(entity)"
      ],
      "metadata": {
        "colab": {
          "base_uri": "https://localhost:8080/"
        },
        "id": "p1eaIAz1pN1f",
        "outputId": "39a1bb84-6abc-4850-bfef-e334e6fa745e"
      },
      "execution_count": 19,
      "outputs": [
        {
          "output_type": "stream",
          "name": "stdout",
          "text": [
            "Span[0:1]: \"German\" → NORP (0.8688)\n",
            "Span[3:4]: \"China\" → GPE (0.9984)\n",
            "Span[5:8]: \"Energy Sector Energy\" → ORG (0.8701)\n",
            "Span[14:15]: \"China\" → GPE (0.9999)\n",
            "Span[16:17]: \"Beijing\" → GPE (1.0)\n",
            "Span[23:24]: \"Friday\" → DATE (0.9987)\n",
            "Span[25:26]: \"Germany\" → GPE (0.9999)\n",
            "Span[34:35]: \"German-Chinese\" → NORP (0.9017)\n",
            "Span[45:46]: \"Jinan\" → GPE (0.9998)\n",
            "Span[64:65]: \"Chinese\" → NORP (0.9991)\n",
            "Span[70:71]: \"Sino-German\" → NORP (0.6987)\n",
            "Span[98:100]: \"this year\" → DATE (0.8376)\n",
            "Span[101:104]: \"30 million kilowatts\" → QUANTITY (0.8853)\n",
            "Span[106:107]: \"China\" → GPE (0.9997)\n",
            "Span[127:128]: \"German\" → NORP (0.9975)\n",
            "Span[130:132]: \"Joschka Fischer\" → PERSON (0.9971)\n",
            "Span[133:134]: \"German\" → NORP (0.9993)\n",
            "Span[147:148]: \"China\" → GPE (0.9999)\n",
            "Span[181:182]: \"German\" → NORP (0.9995)\n",
            "Span[187:188]: \"Paradigma\" → ORG (0.9729)\n",
            "Span[189:190]: \"Karlsbad\" → GPE (0.9177)\n",
            "Span[192:193]: \"Chinese\" → NORP (0.9978)\n",
            "Span[196:197]: \"Linuo\" → ORG (0.9251)\n",
            "Span[198:199]: \"Jinan\" → GPE (0.9902)\n",
            "Span[200:201]: \"Paradigma\" → ORG (0.9994)\n",
            "Span[205:207]: \"Alfred Ritter\" → PERSON (0.9628)\n",
            "Span[213:215]: \"Ritter Sport\" → ORG (0.9526)\n",
            "Span[234:235]: \"Ritter\" → PERSON (0.991)\n",
            "Span[239:240]: \"China\" → GPE (0.9989)\n",
            "Span[246:247]: \"Asian\" → NORP (0.9998)\n",
            "Span[250:251]: \"Germany\" → GPE (0.9846)\n",
            "Span[254:255]: \"European\" → NORP (0.9996)\n",
            "Span[258:259]: \"Germany\" → GPE (0.9994)\n",
            "Span[261:262]: \"Shangdong\" → GPE (0.9931)\n",
            "Span[262:264]: \"Linuo Paradigma\" → ORG (0.7447)\n",
            "Span[294:295]: \"German\" → NORP (0.9932)\n",
            "Span[298:299]: \"Fischer\" → PERSON (0.997)\n",
            "Span[304:305]: \"Asia\" → LOC (0.9999)\n",
            "Span[307:308]: \"German\" → NORP (0.999)\n",
            "Span[311:312]: \"China\" → GPE (0.9998)\n",
            "Span[318:319]: \"China\" → GPE (0.9998)\n",
            "Span[335:337]: \"the 1980s\" → DATE (0.7689)\n",
            "Span[377:378]: \"four\" → CARDINAL (0.9311)\n",
            "Span[382:383]: \"China\" → GPE (0.999)\n",
            "Span[415:416]: \"China\" → GPE (0.9992)\n",
            "Span[421:422]: \"Beijing\" → GPE (0.9998)\n",
            "Span[440:441]: \"night\" → TIME (0.9171)\n",
            "Span[449:452]: \"more than 6,000\" → CARDINAL (0.8443)\n",
            "Span[454:455]: \"Beijing\" → GPE (0.9998)\n",
            "Span[460:462]: \"this summer\" → DATE (0.7506)\n"
          ]
        }
      ]
    },
    {
      "cell_type": "code",
      "source": [
        "# WITH POS\n",
        "\n",
        "# create a sentence item\n",
        "text = Sentence(df[\"story\"][1])\n",
        "\n",
        "# predict NER and POS tags on the sentence\n",
        "taggerNer.predict(text)\n",
        "taggerPos.predict(text)\n",
        "\n",
        "# iterate through the entity spans\n",
        "for entity in text.get_spans(\"ner\"):\n",
        "  # get the tokens within the entity span\n",
        "  tokens = entity.tokens\n",
        "  # check if the entity has a NER label\n",
        "  if entity.tag:\n",
        "    # iterate through the tokens and get their POS labels\n",
        "    pos_labels = [token.get_labels()[0].value for token in tokens]\n",
        "    # print the entity and its NER and POS labels\n",
        "    print( entity.text, entity.tag, pos_labels[0])\n"
      ],
      "metadata": {
        "colab": {
          "base_uri": "https://localhost:8080/"
        },
        "id": "rxol5T6E-Ru6",
        "outputId": "07f5563a-5c7c-4acd-e934-bd641ba11b5d"
      },
      "execution_count": 31,
      "outputs": [
        {
          "output_type": "stream",
          "name": "stdout",
          "text": [
            "German NORP JJ\n",
            "China GPE NNP\n",
            "Energy Sector Energy ORG NNP\n",
            "China GPE NNP\n",
            "Beijing GPE NNP\n",
            "Friday DATE NNP\n",
            "Germany GPE NNP\n",
            "German-Chinese NORP JJ\n",
            "Jinan GPE NNP\n",
            "Chinese NORP JJ\n",
            "Sino-German NORP JJ\n",
            "this year DATE DT\n",
            "30 million kilowatts QUANTITY CD\n",
            "China GPE NNP\n",
            "German NORP JJ\n",
            "Joschka Fischer PERSON NNP\n",
            "German NORP JJ\n",
            "China GPE NNP\n",
            "German NORP JJ\n",
            "Paradigma ORG NNP\n",
            "Karlsbad GPE NNP\n",
            "Chinese NORP JJ\n",
            "Linuo ORG NNP\n",
            "Jinan GPE NNP\n",
            "Paradigma ORG NNP\n",
            "Alfred Ritter PERSON NNP\n",
            "Ritter Sport ORG NNP\n",
            "Ritter PERSON NNP\n",
            "China GPE NNP\n",
            "Asian NORP JJ\n",
            "Germany GPE NNP\n",
            "European NORP JJ\n",
            "Germany GPE NNP\n",
            "Shangdong GPE NNP\n",
            "Linuo Paradigma ORG NNP\n",
            "German NORP JJ\n",
            "Fischer PERSON NNP\n",
            "Asia LOC NNP\n",
            "German NORP JJ\n",
            "China GPE NNP\n",
            "China GPE NNP\n",
            "the 1980s DATE DT\n",
            "four CARDINAL CD\n",
            "China GPE NNP\n",
            "China GPE NNP\n",
            "Beijing GPE NNP\n",
            "night TIME NN\n",
            "more than 6,000 CARDINAL JJR\n",
            "Beijing GPE NNP\n",
            "this summer DATE DT\n"
          ]
        }
      ]
    },
    {
      "cell_type": "code",
      "source": [
        "# WITHOUT POS\n",
        "\n",
        "def extract_named_entities(text):\n",
        "    sentence = Sentence(text)\n",
        "    tagger.predict(sentence)\n",
        "    entities = []\n",
        "    for entity in sentence.get_spans('ner'):\n",
        "        entity_text = entity.text\n",
        "        entity_type = entity.labels[0].value\n",
        "        entities.append(f\"{entity_text} rdf:type {entity_type}\")\n",
        "    return ', '.join(entities)\n",
        "\n",
        "extract_named_entities(df[\"story\"][1])"
      ],
      "metadata": {
        "colab": {
          "base_uri": "https://localhost:8080/",
          "height": 218
        },
        "id": "vmi7h9jRt5yv",
        "outputId": "074d49cb-d612-4e5b-a4d1-451aad5148ba"
      },
      "execution_count": null,
      "outputs": [
        {
          "output_type": "execute_result",
          "data": {
            "text/plain": [
              "'German rdf:type NORP, China rdf:type GPE, Energy Sector Energy rdf:type ORG, China rdf:type GPE, Beijing rdf:type GPE, Friday rdf:type DATE, Germany rdf:type GPE, German-Chinese rdf:type NORP, Jinan rdf:type GPE, Chinese rdf:type NORP, Sino-German rdf:type NORP, this year rdf:type DATE, 30 million kilowatts rdf:type QUANTITY, China rdf:type GPE, German rdf:type NORP, Joschka Fischer rdf:type PERSON, German rdf:type NORP, China rdf:type GPE, German rdf:type NORP, Paradigma rdf:type ORG, Karlsbad rdf:type GPE, Chinese rdf:type NORP, Linuo rdf:type ORG, Jinan rdf:type GPE, Paradigma rdf:type ORG, Alfred Ritter rdf:type PERSON, Ritter Sport rdf:type ORG, Ritter rdf:type PERSON, China rdf:type GPE, Asian rdf:type NORP, Germany rdf:type GPE, European rdf:type NORP, Germany rdf:type GPE, Shangdong rdf:type GPE, Linuo Paradigma rdf:type ORG, German rdf:type NORP, Fischer rdf:type PERSON, Asia rdf:type LOC, German rdf:type NORP, China rdf:type GPE, China rdf:type GPE, the 1980s rdf:type DATE, four rdf:type CARDINAL, China rdf:type GPE, China rdf:type GPE, Beijing rdf:type GPE, night rdf:type TIME, more than 6,000 rdf:type CARDINAL, Beijing rdf:type GPE, this summer rdf:type DATE'"
            ],
            "application/vnd.google.colaboratory.intrinsic+json": {
              "type": "string"
            }
          },
          "metadata": {},
          "execution_count": 21
        }
      ]
    },
    {
      "cell_type": "code",
      "source": [
        "# WITH POS \n",
        "def extract_named_entities(text):\n",
        "    sentence = Sentence(text)\n",
        "    taggerNer.predict(sentence)\n",
        "    taggerPos.predict(sentence)\n",
        "    entities = []\n",
        "    for entity in sentence.get_spans('ner'):\n",
        "        entity_text = entity.text\n",
        "        entity_type = entity.labels[0].value\n",
        "        tokens = entity.tokens\n",
        "        pos_label = [token.get_labels()[0].value for token in tokens][0]\n",
        "\n",
        "        # FILTERING OUT ADJECTIVES \n",
        "        if pos_label != \"JJ\" and pos_label != \"JJR\":\n",
        "          entities.append(f\"{entity_text} rdf:type {entity_type}_{pos_label}\")\n",
        "    return ', '.join(entities)\n",
        "\n",
        "extract_named_entities(df[\"story\"][1])"
      ],
      "metadata": {
        "colab": {
          "base_uri": "https://localhost:8080/",
          "height": 218
        },
        "id": "kE5XAMnjAMFg",
        "outputId": "50754f61-d7e8-4a65-d880-a0dc6b0efafc"
      },
      "execution_count": 35,
      "outputs": [
        {
          "output_type": "execute_result",
          "data": {
            "text/plain": [
              "'China rdf:type GPE_NNP, Energy Sector Energy rdf:type ORG_NNP, China rdf:type GPE_NNP, Beijing rdf:type GPE_NNP, Friday rdf:type DATE_NNP, Germany rdf:type GPE_NNP, Jinan rdf:type GPE_NNP, this year rdf:type DATE_DT, 30 million kilowatts rdf:type QUANTITY_CD, China rdf:type GPE_NNP, Joschka Fischer rdf:type PERSON_NNP, China rdf:type GPE_NNP, Paradigma rdf:type ORG_NNP, Karlsbad rdf:type GPE_NNP, Linuo rdf:type ORG_NNP, Jinan rdf:type GPE_NNP, Paradigma rdf:type ORG_NNP, Alfred Ritter rdf:type PERSON_NNP, Ritter Sport rdf:type ORG_NNP, Ritter rdf:type PERSON_NNP, China rdf:type GPE_NNP, Germany rdf:type GPE_NNP, Germany rdf:type GPE_NNP, Shangdong rdf:type GPE_NNP, Linuo Paradigma rdf:type ORG_NNP, Fischer rdf:type PERSON_NNP, Asia rdf:type LOC_NNP, China rdf:type GPE_NNP, China rdf:type GPE_NNP, the 1980s rdf:type DATE_DT, four rdf:type CARDINAL_CD, China rdf:type GPE_NNP, China rdf:type GPE_NNP, Beijing rdf:type GPE_NNP, night rdf:type TIME_NN, Beijing rdf:type GPE_NNP, this summer rdf:type DATE_DT'"
            ],
            "application/vnd.google.colaboratory.intrinsic+json": {
              "type": "string"
            }
          },
          "metadata": {},
          "execution_count": 35
        }
      ]
    },
    {
      "cell_type": "code",
      "source": [
        "# Getting the right format and unique entities\n",
        "def extract_named_unique_entities(text):\n",
        "    sentence = Sentence(text)\n",
        "    tagger.predict(sentence)\n",
        "    entities = []\n",
        "    for entity in sentence.get_spans('ner'):\n",
        "        entities.append((entity.text,entity.labels[0].value))  \n",
        "    entities = tuple(set(entities))\n",
        "    output = '{'\n",
        "    for entity in entities:\n",
        "      output += entity[0] + ' - type - ' + entity[1] + ' | '\n",
        "    output = output[:-3] + '}' \n",
        "    return output\n",
        "\n",
        "extract_named_entities(df[\"story\"][1])"
      ],
      "metadata": {
        "colab": {
          "base_uri": "https://localhost:8080/",
          "height": 164
        },
        "id": "9D4c1HBGvKRT",
        "outputId": "9fe94cde-6936-4a36-bbba-d9095f3a5ac0"
      },
      "execution_count": null,
      "outputs": [
        {
          "output_type": "execute_result",
          "data": {
            "text/plain": [
              "'{more than 6,000 - type - CARDINAL | Chinese - type - NORP | Asian - type - NORP | 30 million kilowatts - type - QUANTITY | Jinan - type - GPE | Fischer - type - PERSON | Shangdong - type - GPE | Linuo Paradigma - type - ORG | Asia - type - LOC | European - type - NORP | night - type - TIME | Ritter - type - PERSON | German-Chinese - type - NORP | Alfred Ritter - type - PERSON | Paradigma - type - ORG | Sino-German - type - NORP | Ritter Sport - type - ORG | this year - type - DATE | China - type - GPE | this summer - type - DATE | four - type - CARDINAL | the 1980s - type - DATE | Friday - type - DATE | Germany - type - GPE | German - type - NORP | Karlsbad - type - GPE | Energy Sector Energy - type - ORG | Linuo - type - ORG | Joschka Fischer - type - PERSON | Beijing - type - GPE}'"
            ],
            "application/vnd.google.colaboratory.intrinsic+json": {
              "type": "string"
            }
          },
          "metadata": {},
          "execution_count": 37
        }
      ]
    },
    {
      "cell_type": "code",
      "source": [
        "# WITH POS FILTERING AND NER TYPE \n",
        "\n",
        "# Getting the right format and unique entities\n",
        "def extract_named_unique_entities_with_filters(text):\n",
        "    sentence = Sentence(text)\n",
        "    taggerNer.predict(sentence)\n",
        "    taggerPos.predict(sentence)\n",
        "    entities = []\n",
        "    for entity in sentence.get_spans('ner'):\n",
        "        entity_text = entity.text\n",
        "        entity_type = entity.labels[0].value\n",
        "        tokens = entity.tokens\n",
        "        pos_label = [token.get_labels()[0].value for token in tokens][0]\n",
        "\n",
        "        # FILTERING OUT ADJECTIVES \n",
        "        if pos_label != \"JJ\" and pos_label != \"JJR\":\n",
        "          if entity_type != \"PERCENT\" and entity_type != \"QUANTITY\" and entity_type != \"CARDINAL\":\n",
        "            entities.append((entity.text,entity.labels[0].value))  \n",
        "    entities = tuple(set(entities))\n",
        "    output = '{'\n",
        "    for entity in entities:\n",
        "      output += entity[0] + ' - type - ' + entity[1] + ' | '\n",
        "    output = output[:-3] + '}' \n",
        "    return output\n",
        "\n",
        "extract_named_unique_entities_with_filters(df[\"story\"][1])"
      ],
      "metadata": {
        "colab": {
          "base_uri": "https://localhost:8080/",
          "height": 127
        },
        "id": "6jCOq2ghCR2-",
        "outputId": "4bac5a62-49f4-4c96-a577-8ad4e4c412cd"
      },
      "execution_count": 45,
      "outputs": [
        {
          "output_type": "execute_result",
          "data": {
            "text/plain": [
              "'{Alfred Ritter - type - PERSON | Linuo - type - ORG | Energy Sector Energy - type - ORG | Paradigma - type - ORG | Linuo Paradigma - type - ORG | Beijing - type - GPE | Karlsbad - type - GPE | Shangdong - type - GPE | this summer - type - DATE | Ritter - type - PERSON | China - type - GPE | the 1980s - type - DATE | night - type - TIME | Friday - type - DATE | this year - type - DATE | Joschka Fischer - type - PERSON | Ritter Sport - type - ORG | Asia - type - LOC | Jinan - type - GPE | Germany - type - GPE | Fischer - type - PERSON}'"
            ],
            "application/vnd.google.colaboratory.intrinsic+json": {
              "type": "string"
            }
          },
          "metadata": {},
          "execution_count": 45
        }
      ]
    },
    {
      "cell_type": "markdown",
      "source": [
        "#### Extracting NER and adding it to the csv"
      ],
      "metadata": {
        "id": "bTyL_0fIsrfC"
      }
    },
    {
      "cell_type": "code",
      "source": [
        "# df.drop(['mined kg with ner'], axis = 1, inplace = True) "
      ],
      "metadata": {
        "id": "rs8TeGtTHbtT"
      },
      "execution_count": 43,
      "outputs": []
    },
    {
      "cell_type": "code",
      "source": [
        "df['mined_kg_entities'] = df['story'].apply(extract_named_unique_entities_with_filters)"
      ],
      "metadata": {
        "id": "Q0U-aUwQegcc"
      },
      "execution_count": 46,
      "outputs": []
    },
    {
      "cell_type": "code",
      "source": [
        "print(print_gpu_utilization())"
      ],
      "metadata": {
        "colab": {
          "base_uri": "https://localhost:8080/"
        },
        "id": "mM5ZjdI3i4ab",
        "outputId": "55eb003d-2e17-403e-ed8a-f19c41cee3fc"
      },
      "execution_count": 47,
      "outputs": [
        {
          "output_type": "stream",
          "name": "stdout",
          "text": [
            "GPU memory occupied: 2165 MB.\n",
            "None\n"
          ]
        }
      ]
    },
    {
      "cell_type": "code",
      "source": [
        "df[\"mined_kg_entities\"][100]"
      ],
      "metadata": {
        "colab": {
          "base_uri": "https://localhost:8080/",
          "height": 127
        },
        "id": "JFCx0gV2F7p4",
        "outputId": "979e1734-25b1-4674-ca17-a83979649edc"
      },
      "execution_count": 48,
      "outputs": [
        {
          "output_type": "execute_result",
          "data": {
            "text/plain": [
              "'{Red Crescent - type - ORG | Maysa al-Aswad - type - PERSON | Narjis - type - PERSON | Aleppo - type - GPE | Fuaa - type - GPE | Sunday - type - DATE | Syrian - type - NORP | AFP - type - ORG | Rashidin - type - GPE | the next two months - type - DATE | Hadi - type - PERSON | Reuters - type - ORG | Kafraya - type - GPE | Ahrar al-Sham - type - ORG | the last few years - type - DATE | the Syrian Observatory for Human Rights - type - ORG | a day - type - DATE | Observatory - type - ORG | Syria - type - GPE | Saturday - type - DATE}'"
            ],
            "application/vnd.google.colaboratory.intrinsic+json": {
              "type": "string"
            }
          },
          "metadata": {},
          "execution_count": 48
        }
      ]
    },
    {
      "cell_type": "code",
      "source": [
        "df.head()"
      ],
      "metadata": {
        "colab": {
          "base_uri": "https://localhost:8080/",
          "height": 738
        },
        "id": "ToodXHyP3syo",
        "outputId": "e2b3299b-9feb-40aa-9f32-b90701ba0d9c"
      },
      "execution_count": 49,
      "outputs": [
        {
          "output_type": "execute_result",
          "data": {
            "text/plain": [
              "   Unnamed: 0                                              story  \\\n",
              "0           0  Multi-lingual in the World Wide Web Profession...   \n",
              "1           1  German Know-How For China's Energy Sector Ener...   \n",
              "2           2  Trash crisis forces Lebanon's environmental aw...   \n",
              "3           3  Iran calls for end to Saudi air campaign, as U...   \n",
              "4           4  Ai Weiwei Drifting Ai Weiwei: Uncomfortable cr...   \n",
              "\n",
              "                           Instances Knowledge Graph  \\\n",
              "0  Personal Translator - product_of - Linguatec |...   \n",
              "1  Shangdong Linuo Paradigma - based_in0 - German...   \n",
              "2  Kassem Kazak - citizen_of - Lebanon | Kassem K...   \n",
              "3  Houthi - based_in0 - Yemen | Houthi - based_in...   \n",
              "4  DW (Deutsch+) - based_in0 - Germany | Ai Weiwe...   \n",
              "\n",
              "                               Types Knowledge Graph  \\\n",
              "0  Personal Translator - type - entity | Personal...   \n",
              "1  China - type - entity | China - type - gpe | C...   \n",
              "2  Kareem Chehayeb - type - entity | Kareem Cheha...   \n",
              "3  Medecins Sans Frontieres - type - entity | Med...   \n",
              "4  DW (Deutsch+) - type - entity | DW (Deutsch+) ...   \n",
              "\n",
              "                            Subclass Knowledge Graph predicted_label1  \\\n",
              "0  misc - subclass_of - entity | product - subcla...             tech   \n",
              "1  gpe - subclass_of - location | gpe0 - subclass...         business   \n",
              "2  journalist - subclass_of - per | manager - sub...             tech   \n",
              "3  ngo - subclass_of - org | gpe - subclass_of - ...         business   \n",
              "4  media - subclass_of - org | activist - subclas...    entertainment   \n",
              "\n",
              "                                    core description  \\\n",
              "0  – If you’ve ever typed an email to a colleague...   \n",
              "1  – Germany and China have opened the world's la...   \n",
              "2  – When Kassem Kazak set out to start a recycli...   \n",
              "3  – Iran's president has called for an end to ai...   \n",
              "4  – Chinese dissident artist and human rights ac...   \n",
              "\n",
              "                                   mined_kg_entities  \n",
              "0  {ten years ago - type - DATE | the American Sm...  \n",
              "1  {Alfred Ritter - type - PERSON | Linuo - type ...  \n",
              "2  {Lebanon - type - GPE | Sukleen - type - PERSO...  \n",
              "3  {PBS - type - ORG | the Gulf of Aden - type - ...  \n",
              "4  {Einstein - type - PERSON | Europe - type - LO...  "
            ],
            "text/html": [
              "\n",
              "  <div id=\"df-3ac781e2-cae9-4cd2-b0e4-50c1c5c4d3dc\">\n",
              "    <div class=\"colab-df-container\">\n",
              "      <div>\n",
              "<style scoped>\n",
              "    .dataframe tbody tr th:only-of-type {\n",
              "        vertical-align: middle;\n",
              "    }\n",
              "\n",
              "    .dataframe tbody tr th {\n",
              "        vertical-align: top;\n",
              "    }\n",
              "\n",
              "    .dataframe thead th {\n",
              "        text-align: right;\n",
              "    }\n",
              "</style>\n",
              "<table border=\"1\" class=\"dataframe\">\n",
              "  <thead>\n",
              "    <tr style=\"text-align: right;\">\n",
              "      <th></th>\n",
              "      <th>Unnamed: 0</th>\n",
              "      <th>story</th>\n",
              "      <th>Instances Knowledge Graph</th>\n",
              "      <th>Types Knowledge Graph</th>\n",
              "      <th>Subclass Knowledge Graph</th>\n",
              "      <th>predicted_label1</th>\n",
              "      <th>core description</th>\n",
              "      <th>mined_kg_entities</th>\n",
              "    </tr>\n",
              "  </thead>\n",
              "  <tbody>\n",
              "    <tr>\n",
              "      <th>0</th>\n",
              "      <td>0</td>\n",
              "      <td>Multi-lingual in the World Wide Web Profession...</td>\n",
              "      <td>Personal Translator - product_of - Linguatec |...</td>\n",
              "      <td>Personal Translator - type - entity | Personal...</td>\n",
              "      <td>misc - subclass_of - entity | product - subcla...</td>\n",
              "      <td>tech</td>\n",
              "      <td>– If you’ve ever typed an email to a colleague...</td>\n",
              "      <td>{ten years ago - type - DATE | the American Sm...</td>\n",
              "    </tr>\n",
              "    <tr>\n",
              "      <th>1</th>\n",
              "      <td>1</td>\n",
              "      <td>German Know-How For China's Energy Sector Ener...</td>\n",
              "      <td>Shangdong Linuo Paradigma - based_in0 - German...</td>\n",
              "      <td>China - type - entity | China - type - gpe | C...</td>\n",
              "      <td>gpe - subclass_of - location | gpe0 - subclass...</td>\n",
              "      <td>business</td>\n",
              "      <td>– Germany and China have opened the world's la...</td>\n",
              "      <td>{Alfred Ritter - type - PERSON | Linuo - type ...</td>\n",
              "    </tr>\n",
              "    <tr>\n",
              "      <th>2</th>\n",
              "      <td>2</td>\n",
              "      <td>Trash crisis forces Lebanon's environmental aw...</td>\n",
              "      <td>Kassem Kazak - citizen_of - Lebanon | Kassem K...</td>\n",
              "      <td>Kareem Chehayeb - type - entity | Kareem Cheha...</td>\n",
              "      <td>journalist - subclass_of - per | manager - sub...</td>\n",
              "      <td>tech</td>\n",
              "      <td>– When Kassem Kazak set out to start a recycli...</td>\n",
              "      <td>{Lebanon - type - GPE | Sukleen - type - PERSO...</td>\n",
              "    </tr>\n",
              "    <tr>\n",
              "      <th>3</th>\n",
              "      <td>3</td>\n",
              "      <td>Iran calls for end to Saudi air campaign, as U...</td>\n",
              "      <td>Houthi - based_in0 - Yemen | Houthi - based_in...</td>\n",
              "      <td>Medecins Sans Frontieres - type - entity | Med...</td>\n",
              "      <td>ngo - subclass_of - org | gpe - subclass_of - ...</td>\n",
              "      <td>business</td>\n",
              "      <td>– Iran's president has called for an end to ai...</td>\n",
              "      <td>{PBS - type - ORG | the Gulf of Aden - type - ...</td>\n",
              "    </tr>\n",
              "    <tr>\n",
              "      <th>4</th>\n",
              "      <td>4</td>\n",
              "      <td>Ai Weiwei Drifting Ai Weiwei: Uncomfortable cr...</td>\n",
              "      <td>DW (Deutsch+) - based_in0 - Germany | Ai Weiwe...</td>\n",
              "      <td>DW (Deutsch+) - type - entity | DW (Deutsch+) ...</td>\n",
              "      <td>media - subclass_of - org | activist - subclas...</td>\n",
              "      <td>entertainment</td>\n",
              "      <td>– Chinese dissident artist and human rights ac...</td>\n",
              "      <td>{Einstein - type - PERSON | Europe - type - LO...</td>\n",
              "    </tr>\n",
              "  </tbody>\n",
              "</table>\n",
              "</div>\n",
              "      <button class=\"colab-df-convert\" onclick=\"convertToInteractive('df-3ac781e2-cae9-4cd2-b0e4-50c1c5c4d3dc')\"\n",
              "              title=\"Convert this dataframe to an interactive table.\"\n",
              "              style=\"display:none;\">\n",
              "        \n",
              "  <svg xmlns=\"http://www.w3.org/2000/svg\" height=\"24px\"viewBox=\"0 0 24 24\"\n",
              "       width=\"24px\">\n",
              "    <path d=\"M0 0h24v24H0V0z\" fill=\"none\"/>\n",
              "    <path d=\"M18.56 5.44l.94 2.06.94-2.06 2.06-.94-2.06-.94-.94-2.06-.94 2.06-2.06.94zm-11 1L8.5 8.5l.94-2.06 2.06-.94-2.06-.94L8.5 2.5l-.94 2.06-2.06.94zm10 10l.94 2.06.94-2.06 2.06-.94-2.06-.94-.94-2.06-.94 2.06-2.06.94z\"/><path d=\"M17.41 7.96l-1.37-1.37c-.4-.4-.92-.59-1.43-.59-.52 0-1.04.2-1.43.59L10.3 9.45l-7.72 7.72c-.78.78-.78 2.05 0 2.83L4 21.41c.39.39.9.59 1.41.59.51 0 1.02-.2 1.41-.59l7.78-7.78 2.81-2.81c.8-.78.8-2.07 0-2.86zM5.41 20L4 18.59l7.72-7.72 1.47 1.35L5.41 20z\"/>\n",
              "  </svg>\n",
              "      </button>\n",
              "      \n",
              "  <style>\n",
              "    .colab-df-container {\n",
              "      display:flex;\n",
              "      flex-wrap:wrap;\n",
              "      gap: 12px;\n",
              "    }\n",
              "\n",
              "    .colab-df-convert {\n",
              "      background-color: #E8F0FE;\n",
              "      border: none;\n",
              "      border-radius: 50%;\n",
              "      cursor: pointer;\n",
              "      display: none;\n",
              "      fill: #1967D2;\n",
              "      height: 32px;\n",
              "      padding: 0 0 0 0;\n",
              "      width: 32px;\n",
              "    }\n",
              "\n",
              "    .colab-df-convert:hover {\n",
              "      background-color: #E2EBFA;\n",
              "      box-shadow: 0px 1px 2px rgba(60, 64, 67, 0.3), 0px 1px 3px 1px rgba(60, 64, 67, 0.15);\n",
              "      fill: #174EA6;\n",
              "    }\n",
              "\n",
              "    [theme=dark] .colab-df-convert {\n",
              "      background-color: #3B4455;\n",
              "      fill: #D2E3FC;\n",
              "    }\n",
              "\n",
              "    [theme=dark] .colab-df-convert:hover {\n",
              "      background-color: #434B5C;\n",
              "      box-shadow: 0px 1px 3px 1px rgba(0, 0, 0, 0.15);\n",
              "      filter: drop-shadow(0px 1px 2px rgba(0, 0, 0, 0.3));\n",
              "      fill: #FFFFFF;\n",
              "    }\n",
              "  </style>\n",
              "\n",
              "      <script>\n",
              "        const buttonEl =\n",
              "          document.querySelector('#df-3ac781e2-cae9-4cd2-b0e4-50c1c5c4d3dc button.colab-df-convert');\n",
              "        buttonEl.style.display =\n",
              "          google.colab.kernel.accessAllowed ? 'block' : 'none';\n",
              "\n",
              "        async function convertToInteractive(key) {\n",
              "          const element = document.querySelector('#df-3ac781e2-cae9-4cd2-b0e4-50c1c5c4d3dc');\n",
              "          const dataTable =\n",
              "            await google.colab.kernel.invokeFunction('convertToInteractive',\n",
              "                                                     [key], {});\n",
              "          if (!dataTable) return;\n",
              "\n",
              "          const docLinkHtml = 'Like what you see? Visit the ' +\n",
              "            '<a target=\"_blank\" href=https://colab.research.google.com/notebooks/data_table.ipynb>data table notebook</a>'\n",
              "            + ' to learn more about interactive tables.';\n",
              "          element.innerHTML = '';\n",
              "          dataTable['output_type'] = 'display_data';\n",
              "          await google.colab.output.renderOutput(dataTable, element);\n",
              "          const docLink = document.createElement('div');\n",
              "          docLink.innerHTML = docLinkHtml;\n",
              "          element.appendChild(docLink);\n",
              "        }\n",
              "      </script>\n",
              "    </div>\n",
              "  </div>\n",
              "  "
            ]
          },
          "metadata": {},
          "execution_count": 49
        }
      ]
    },
    {
      "cell_type": "code",
      "source": [
        "# Save the updated dataframe\n",
        "df.to_csv(\"DWIE_train_entities_topic_summary_news.csv\", index=False)"
      ],
      "metadata": {
        "id": "FQ089RBrmDKf"
      },
      "execution_count": 52,
      "outputs": []
    },
    {
      "cell_type": "markdown",
      "source": [
        "#### "
      ],
      "metadata": {
        "id": "xJQZz9DqjXYL"
      }
    }
  ]
}