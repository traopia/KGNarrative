{
  "nbformat": 4,
  "nbformat_minor": 0,
  "metadata": {
    "colab": {
      "provenance": [],
      "authorship_tag": "ABX9TyMjTueeS/2RCsVpqhe6lW9o",
      "include_colab_link": true
    },
    "kernelspec": {
      "name": "python3",
      "display_name": "Python 3"
    },
    "language_info": {
      "name": "python"
    },
    "accelerator": "GPU",
    "gpuClass": "standard"
  },
  "cells": [
    {
      "cell_type": "markdown",
      "metadata": {
        "id": "view-in-github",
        "colab_type": "text"
      },
      "source": [
        "<a href=\"https://colab.research.google.com/github/traopia/KGNarrative/blob/master/esperiments.ipynb\" target=\"_parent\"><img src=\"https://colab.research.google.com/assets/colab-badge.svg\" alt=\"Open In Colab\"/></a>"
      ]
    },
    {
      "cell_type": "code",
      "execution_count": 1,
      "metadata": {
        "colab": {
          "base_uri": "https://localhost:8080/"
        },
        "id": "XFD3heL5Y_Xs",
        "outputId": "1fdc386d-0f9b-4846-d5ae-a9629642312d"
      },
      "outputs": [
        {
          "output_type": "stream",
          "name": "stdout",
          "text": [
            "Drive already mounted at /content/gdrive; to attempt to forcibly remount, call drive.mount(\"/content/gdrive\", force_remount=True).\n",
            "/content/gdrive/Shareddrives/GOT/Building_Narratives_Game_of_Thrones\n"
          ]
        }
      ],
      "source": [
        "from google.colab import drive\n",
        "import os\n",
        "\n",
        "MOUNTPOINT = '/content/gdrive'\n",
        "Working_Dir = os.path.join(MOUNTPOINT, 'Shareddrives', 'GOT/Building_Narratives_Game_of_Thrones')\n",
        "drive.mount(MOUNTPOINT)\n",
        "print(Working_Dir)"
      ]
    },
    {
      "cell_type": "code",
      "source": [
        "!pip install transformers \n",
        "!pip install datasets\n",
        "!pip install pynvml\n",
        "!pip install evaluate "
      ],
      "metadata": {
        "colab": {
          "base_uri": "https://localhost:8080/"
        },
        "id": "Li8F8ni2bUJV",
        "outputId": "8e6615b0-e0cf-4344-8295-3e7ed2067ea9"
      },
      "execution_count": 2,
      "outputs": [
        {
          "output_type": "stream",
          "name": "stdout",
          "text": [
            "Looking in indexes: https://pypi.org/simple, https://us-python.pkg.dev/colab-wheels/public/simple/\n",
            "Requirement already satisfied: transformers in /usr/local/lib/python3.8/dist-packages (4.26.1)\n",
            "Requirement already satisfied: filelock in /usr/local/lib/python3.8/dist-packages (from transformers) (3.9.0)\n",
            "Requirement already satisfied: pyyaml>=5.1 in /usr/local/lib/python3.8/dist-packages (from transformers) (6.0)\n",
            "Requirement already satisfied: numpy>=1.17 in /usr/local/lib/python3.8/dist-packages (from transformers) (1.22.4)\n",
            "Requirement already satisfied: requests in /usr/local/lib/python3.8/dist-packages (from transformers) (2.25.1)\n",
            "Requirement already satisfied: packaging>=20.0 in /usr/local/lib/python3.8/dist-packages (from transformers) (23.0)\n",
            "Requirement already satisfied: tqdm>=4.27 in /usr/local/lib/python3.8/dist-packages (from transformers) (4.64.1)\n",
            "Requirement already satisfied: regex!=2019.12.17 in /usr/local/lib/python3.8/dist-packages (from transformers) (2022.6.2)\n",
            "Requirement already satisfied: tokenizers!=0.11.3,<0.14,>=0.11.1 in /usr/local/lib/python3.8/dist-packages (from transformers) (0.13.2)\n",
            "Requirement already satisfied: huggingface-hub<1.0,>=0.11.0 in /usr/local/lib/python3.8/dist-packages (from transformers) (0.12.1)\n",
            "Requirement already satisfied: typing-extensions>=3.7.4.3 in /usr/local/lib/python3.8/dist-packages (from huggingface-hub<1.0,>=0.11.0->transformers) (4.5.0)\n",
            "Requirement already satisfied: certifi>=2017.4.17 in /usr/local/lib/python3.8/dist-packages (from requests->transformers) (2022.12.7)\n",
            "Requirement already satisfied: urllib3<1.27,>=1.21.1 in /usr/local/lib/python3.8/dist-packages (from requests->transformers) (1.26.14)\n",
            "Requirement already satisfied: idna<3,>=2.5 in /usr/local/lib/python3.8/dist-packages (from requests->transformers) (2.10)\n",
            "Requirement already satisfied: chardet<5,>=3.0.2 in /usr/local/lib/python3.8/dist-packages (from requests->transformers) (4.0.0)\n",
            "Looking in indexes: https://pypi.org/simple, https://us-python.pkg.dev/colab-wheels/public/simple/\n",
            "Requirement already satisfied: datasets in /usr/local/lib/python3.8/dist-packages (2.10.1)\n",
            "Requirement already satisfied: pyarrow>=6.0.0 in /usr/local/lib/python3.8/dist-packages (from datasets) (9.0.0)\n",
            "Requirement already satisfied: responses<0.19 in /usr/local/lib/python3.8/dist-packages (from datasets) (0.18.0)\n",
            "Requirement already satisfied: xxhash in /usr/local/lib/python3.8/dist-packages (from datasets) (3.2.0)\n",
            "Requirement already satisfied: pyyaml>=5.1 in /usr/local/lib/python3.8/dist-packages (from datasets) (6.0)\n",
            "Requirement already satisfied: requests>=2.19.0 in /usr/local/lib/python3.8/dist-packages (from datasets) (2.25.1)\n",
            "Requirement already satisfied: tqdm>=4.62.1 in /usr/local/lib/python3.8/dist-packages (from datasets) (4.64.1)\n",
            "Requirement already satisfied: dill<0.3.7,>=0.3.0 in /usr/local/lib/python3.8/dist-packages (from datasets) (0.3.6)\n",
            "Requirement already satisfied: fsspec[http]>=2021.11.1 in /usr/local/lib/python3.8/dist-packages (from datasets) (2023.1.0)\n",
            "Requirement already satisfied: huggingface-hub<1.0.0,>=0.2.0 in /usr/local/lib/python3.8/dist-packages (from datasets) (0.12.1)\n",
            "Requirement already satisfied: pandas in /usr/local/lib/python3.8/dist-packages (from datasets) (1.3.5)\n",
            "Requirement already satisfied: multiprocess in /usr/local/lib/python3.8/dist-packages (from datasets) (0.70.14)\n",
            "Requirement already satisfied: aiohttp in /usr/local/lib/python3.8/dist-packages (from datasets) (3.8.4)\n",
            "Requirement already satisfied: packaging in /usr/local/lib/python3.8/dist-packages (from datasets) (23.0)\n",
            "Requirement already satisfied: numpy>=1.17 in /usr/local/lib/python3.8/dist-packages (from datasets) (1.22.4)\n",
            "Requirement already satisfied: charset-normalizer<4.0,>=2.0 in /usr/local/lib/python3.8/dist-packages (from aiohttp->datasets) (3.0.1)\n",
            "Requirement already satisfied: async-timeout<5.0,>=4.0.0a3 in /usr/local/lib/python3.8/dist-packages (from aiohttp->datasets) (4.0.2)\n",
            "Requirement already satisfied: frozenlist>=1.1.1 in /usr/local/lib/python3.8/dist-packages (from aiohttp->datasets) (1.3.3)\n",
            "Requirement already satisfied: aiosignal>=1.1.2 in /usr/local/lib/python3.8/dist-packages (from aiohttp->datasets) (1.3.1)\n",
            "Requirement already satisfied: yarl<2.0,>=1.0 in /usr/local/lib/python3.8/dist-packages (from aiohttp->datasets) (1.8.2)\n",
            "Requirement already satisfied: multidict<7.0,>=4.5 in /usr/local/lib/python3.8/dist-packages (from aiohttp->datasets) (6.0.4)\n",
            "Requirement already satisfied: attrs>=17.3.0 in /usr/local/lib/python3.8/dist-packages (from aiohttp->datasets) (22.2.0)\n",
            "Requirement already satisfied: filelock in /usr/local/lib/python3.8/dist-packages (from huggingface-hub<1.0.0,>=0.2.0->datasets) (3.9.0)\n",
            "Requirement already satisfied: typing-extensions>=3.7.4.3 in /usr/local/lib/python3.8/dist-packages (from huggingface-hub<1.0.0,>=0.2.0->datasets) (4.5.0)\n",
            "Requirement already satisfied: idna<3,>=2.5 in /usr/local/lib/python3.8/dist-packages (from requests>=2.19.0->datasets) (2.10)\n",
            "Requirement already satisfied: certifi>=2017.4.17 in /usr/local/lib/python3.8/dist-packages (from requests>=2.19.0->datasets) (2022.12.7)\n",
            "Requirement already satisfied: chardet<5,>=3.0.2 in /usr/local/lib/python3.8/dist-packages (from requests>=2.19.0->datasets) (4.0.0)\n",
            "Requirement already satisfied: urllib3<1.27,>=1.21.1 in /usr/local/lib/python3.8/dist-packages (from requests>=2.19.0->datasets) (1.26.14)\n",
            "Requirement already satisfied: pytz>=2017.3 in /usr/local/lib/python3.8/dist-packages (from pandas->datasets) (2022.7.1)\n",
            "Requirement already satisfied: python-dateutil>=2.7.3 in /usr/local/lib/python3.8/dist-packages (from pandas->datasets) (2.8.2)\n",
            "Requirement already satisfied: six>=1.5 in /usr/local/lib/python3.8/dist-packages (from python-dateutil>=2.7.3->pandas->datasets) (1.15.0)\n",
            "Looking in indexes: https://pypi.org/simple, https://us-python.pkg.dev/colab-wheels/public/simple/\n",
            "Requirement already satisfied: pynvml in /usr/local/lib/python3.8/dist-packages (11.5.0)\n",
            "Looking in indexes: https://pypi.org/simple, https://us-python.pkg.dev/colab-wheels/public/simple/\n",
            "Requirement already satisfied: evaluate in /usr/local/lib/python3.8/dist-packages (0.4.0)\n",
            "Requirement already satisfied: xxhash in /usr/local/lib/python3.8/dist-packages (from evaluate) (3.2.0)\n",
            "Requirement already satisfied: pandas in /usr/local/lib/python3.8/dist-packages (from evaluate) (1.3.5)\n",
            "Requirement already satisfied: numpy>=1.17 in /usr/local/lib/python3.8/dist-packages (from evaluate) (1.22.4)\n",
            "Requirement already satisfied: tqdm>=4.62.1 in /usr/local/lib/python3.8/dist-packages (from evaluate) (4.64.1)\n",
            "Requirement already satisfied: datasets>=2.0.0 in /usr/local/lib/python3.8/dist-packages (from evaluate) (2.10.1)\n",
            "Requirement already satisfied: dill in /usr/local/lib/python3.8/dist-packages (from evaluate) (0.3.6)\n",
            "Requirement already satisfied: fsspec[http]>=2021.05.0 in /usr/local/lib/python3.8/dist-packages (from evaluate) (2023.1.0)\n",
            "Requirement already satisfied: huggingface-hub>=0.7.0 in /usr/local/lib/python3.8/dist-packages (from evaluate) (0.12.1)\n",
            "Requirement already satisfied: packaging in /usr/local/lib/python3.8/dist-packages (from evaluate) (23.0)\n",
            "Requirement already satisfied: requests>=2.19.0 in /usr/local/lib/python3.8/dist-packages (from evaluate) (2.25.1)\n",
            "Requirement already satisfied: multiprocess in /usr/local/lib/python3.8/dist-packages (from evaluate) (0.70.14)\n",
            "Requirement already satisfied: responses<0.19 in /usr/local/lib/python3.8/dist-packages (from evaluate) (0.18.0)\n",
            "Requirement already satisfied: pyyaml>=5.1 in /usr/local/lib/python3.8/dist-packages (from datasets>=2.0.0->evaluate) (6.0)\n",
            "Requirement already satisfied: pyarrow>=6.0.0 in /usr/local/lib/python3.8/dist-packages (from datasets>=2.0.0->evaluate) (9.0.0)\n",
            "Requirement already satisfied: aiohttp in /usr/local/lib/python3.8/dist-packages (from datasets>=2.0.0->evaluate) (3.8.4)\n",
            "Requirement already satisfied: typing-extensions>=3.7.4.3 in /usr/local/lib/python3.8/dist-packages (from huggingface-hub>=0.7.0->evaluate) (4.5.0)\n",
            "Requirement already satisfied: filelock in /usr/local/lib/python3.8/dist-packages (from huggingface-hub>=0.7.0->evaluate) (3.9.0)\n",
            "Requirement already satisfied: urllib3<1.27,>=1.21.1 in /usr/local/lib/python3.8/dist-packages (from requests>=2.19.0->evaluate) (1.26.14)\n",
            "Requirement already satisfied: certifi>=2017.4.17 in /usr/local/lib/python3.8/dist-packages (from requests>=2.19.0->evaluate) (2022.12.7)\n",
            "Requirement already satisfied: idna<3,>=2.5 in /usr/local/lib/python3.8/dist-packages (from requests>=2.19.0->evaluate) (2.10)\n",
            "Requirement already satisfied: chardet<5,>=3.0.2 in /usr/local/lib/python3.8/dist-packages (from requests>=2.19.0->evaluate) (4.0.0)\n",
            "Requirement already satisfied: pytz>=2017.3 in /usr/local/lib/python3.8/dist-packages (from pandas->evaluate) (2022.7.1)\n",
            "Requirement already satisfied: python-dateutil>=2.7.3 in /usr/local/lib/python3.8/dist-packages (from pandas->evaluate) (2.8.2)\n",
            "Requirement already satisfied: frozenlist>=1.1.1 in /usr/local/lib/python3.8/dist-packages (from aiohttp->datasets>=2.0.0->evaluate) (1.3.3)\n",
            "Requirement already satisfied: charset-normalizer<4.0,>=2.0 in /usr/local/lib/python3.8/dist-packages (from aiohttp->datasets>=2.0.0->evaluate) (3.0.1)\n",
            "Requirement already satisfied: attrs>=17.3.0 in /usr/local/lib/python3.8/dist-packages (from aiohttp->datasets>=2.0.0->evaluate) (22.2.0)\n",
            "Requirement already satisfied: yarl<2.0,>=1.0 in /usr/local/lib/python3.8/dist-packages (from aiohttp->datasets>=2.0.0->evaluate) (1.8.2)\n",
            "Requirement already satisfied: multidict<7.0,>=4.5 in /usr/local/lib/python3.8/dist-packages (from aiohttp->datasets>=2.0.0->evaluate) (6.0.4)\n",
            "Requirement already satisfied: aiosignal>=1.1.2 in /usr/local/lib/python3.8/dist-packages (from aiohttp->datasets>=2.0.0->evaluate) (1.3.1)\n",
            "Requirement already satisfied: async-timeout<5.0,>=4.0.0a3 in /usr/local/lib/python3.8/dist-packages (from aiohttp->datasets>=2.0.0->evaluate) (4.0.2)\n",
            "Requirement already satisfied: six>=1.5 in /usr/local/lib/python3.8/dist-packages (from python-dateutil>=2.7.3->pandas->evaluate) (1.15.0)\n"
          ]
        }
      ]
    },
    {
      "cell_type": "code",
      "source": [
        "import transformers\n",
        "from datasets import load_dataset, load_metric\n",
        "from transformers import AutoTokenizer, AutoModelForSequenceClassification\n",
        "import numpy as np\n",
        "import os\n",
        "import nltk\n",
        "import torch\n",
        "import evaluate\n",
        "import sys\n",
        "import pandas as pd\n",
        "from datasets import load_dataset, Dataset, DatasetDict\n",
        "from pynvml import nvmlInit, nvmlDeviceGetHandleByIndex, nvmlDeviceGetMemoryInfo\n",
        "from sklearn.model_selection import train_test_split"
      ],
      "metadata": {
        "id": "rsKcovDZbRnk"
      },
      "execution_count": 3,
      "outputs": []
    },
    {
      "cell_type": "code",
      "source": [
        "#! git clone https://github.com/traopia/KGNarrative.git"
      ],
      "metadata": {
        "colab": {
          "base_uri": "https://localhost:8080/"
        },
        "id": "Fo6UZtVbZG1Y",
        "outputId": "24c3d372-cf0d-49c8-8eec-6a33464a0dc0"
      },
      "execution_count": 4,
      "outputs": [
        {
          "output_type": "stream",
          "name": "stdout",
          "text": [
            "fatal: destination path 'KGNarrative' already exists and is not an empty directory.\n"
          ]
        }
      ]
    },
    {
      "cell_type": "code",
      "source": [
        "# define utils functions to facilitate gpu \n",
        "\n",
        "def check_gpu_availability():\n",
        "    # Check if CUDA is available\n",
        "    print(f\"Cuda is available: {torch.cuda.is_available()}\")\n",
        "\n",
        "def getting_device(gpu_prefence=True) -> torch.device:\n",
        "    \"\"\"\n",
        "    This function gets the torch device to be used for computations, \n",
        "    based on the GPU preference specified by the user.\n",
        "    \"\"\"\n",
        "    \n",
        "    # If GPU is preferred and available, set device to CUDA\n",
        "    if gpu_prefence and torch.cuda.is_available():\n",
        "        device = torch.device('cuda')\n",
        "    # If GPU is not preferred or not available, set device to CPU\n",
        "    else: \n",
        "        device = torch.device(\"cpu\")\n",
        "    \n",
        "    # Print the selected device\n",
        "    print(f\"Selected device: {device}\")\n",
        "    \n",
        "    # Return the device\n",
        "    return device\n",
        "\n",
        "# Define a function to print GPU memory utilization\n",
        "def print_gpu_utilization():\n",
        "    # Initialize the PyNVML library\n",
        "    nvmlInit()\n",
        "    # Get a handle to the first GPU in the system\n",
        "    handle = nvmlDeviceGetHandleByIndex(0)\n",
        "    # Get information about the memory usage on the GPU\n",
        "    info = nvmlDeviceGetMemoryInfo(handle)\n",
        "    # Print the GPU memory usage in MB\n",
        "    print(f\"GPU memory occupied: {info.used//1024**2} MB.\")\n",
        "\n",
        "# Define a function to print training summary information\n",
        "def print_summary(result):\n",
        "    # Print the total training time in seconds\n",
        "    print(f\"Time: {result.metrics['train_runtime']:.2f}\")\n",
        "    # Print the number of training samples processed per second\n",
        "    print(f\"Samples/second: {result.metrics['train_samples_per_second']:.2f}\")\n",
        "    # Print the GPU memory utilization\n",
        "    print_gpu_utilization()"
      ],
      "metadata": {
        "id": "XY2S7OaPaRda"
      },
      "execution_count": 5,
      "outputs": []
    },
    {
      "cell_type": "code",
      "source": [
        "# CHECK IF GPU IS UP\n",
        "check_gpu_availability()\n",
        "\n"
      ],
      "metadata": {
        "colab": {
          "base_uri": "https://localhost:8080/"
        },
        "id": "Sh6bOolCbn1x",
        "outputId": "48022f11-08fc-4d6c-c195-37fc3a242c67"
      },
      "execution_count": 6,
      "outputs": [
        {
          "output_type": "stream",
          "name": "stdout",
          "text": [
            "Cuda is available: True\n"
          ]
        }
      ]
    },
    {
      "cell_type": "code",
      "source": [
        "# SAVE THE DEVICE WE ARE WORKING WITH\n",
        "device = getting_device(gpu_prefence=True)"
      ],
      "metadata": {
        "colab": {
          "base_uri": "https://localhost:8080/"
        },
        "id": "N0L01397byoz",
        "outputId": "61652e15-01d2-4cc3-8e06-035de1e65530"
      },
      "execution_count": 7,
      "outputs": [
        {
          "output_type": "stream",
          "name": "stdout",
          "text": [
            "Selected device: cuda\n"
          ]
        }
      ]
    },
    {
      "cell_type": "markdown",
      "source": [
        "#### Importing documents\n"
      ],
      "metadata": {
        "id": "tG7KHY_hdIKj"
      }
    },
    {
      "cell_type": "code",
      "source": [
        "df = pd.read_json('/content/KGNarrative/generated_dataset/Instances/DWIE_train.json')\n"
      ],
      "metadata": {
        "id": "J129dRo7dF5r"
      },
      "execution_count": 8,
      "outputs": []
    },
    {
      "cell_type": "code",
      "source": [
        "df.head(10)"
      ],
      "metadata": {
        "colab": {
          "base_uri": "https://localhost:8080/",
          "height": 624
        },
        "id": "bRZw0N-Sd7aj",
        "outputId": "84f62e1e-8f82-4c57-81b8-3eddaf7f0ab8"
      },
      "execution_count": 9,
      "outputs": [
        {
          "output_type": "execute_result",
          "data": {
            "text/plain": [
              "                                               story  \\\n",
              "0  Multi-lingual in the World Wide Web Profession...   \n",
              "1  German Know-How For China's Energy Sector Ener...   \n",
              "2  Trash crisis forces Lebanon's environmental aw...   \n",
              "3  Iran calls for end to Saudi air campaign, as U...   \n",
              "4  Ai Weiwei Drifting Ai Weiwei: Uncomfortable cr...   \n",
              "5  Journal Interview with Günter Nooke, The Chanc...   \n",
              "6  Turkey summons German envoy for second time in...   \n",
              "7  Medvedev seeks investment at Davos economic fo...   \n",
              "8  Ex-CIA fugitive Robert Seldon Lady detained in...   \n",
              "9  Nearly 10,000 migrants rescued on Mediterranea...   \n",
              "\n",
              "                           Instances Knowledge Graph  \\\n",
              "0  Personal Translator - product_of - Linguatec |...   \n",
              "1  Shangdong Linuo Paradigma - based_in0 - German...   \n",
              "2  Kassem Kazak - citizen_of - Lebanon | Kassem K...   \n",
              "3  Houthi - based_in0 - Yemen | Houthi - based_in...   \n",
              "4  DW (Deutsch+) - based_in0 - Germany | Ai Weiwe...   \n",
              "5  Günter Nooke - agent_of - Germany | Günter Noo...   \n",
              "6  Martin Erdmann - agent_of - Germany | Martin E...   \n",
              "7  Dmitry Medvedev - agent_of - Russia | Dmitry M...   \n",
              "8  Osama Moustafa Hassan Nasr - citizen_of - Egyp...   \n",
              "9  Rome - in0 - Italy | Rome - in0-x - Italian | ...   \n",
              "\n",
              "                               Types Knowledge Graph  \\\n",
              "0  Personal Translator - type - entity | Personal...   \n",
              "1  China - type - entity | China - type - gpe | C...   \n",
              "2  Kareem Chehayeb - type - entity | Kareem Cheha...   \n",
              "3  Medecins Sans Frontieres - type - entity | Med...   \n",
              "4  DW (Deutsch+) - type - entity | DW (Deutsch+) ...   \n",
              "5  Günter Nooke - type - entity | Günter Nooke - ...   \n",
              "6  European Union - type - entity | European Unio...   \n",
              "7  Dmitry Medvedev - type - entity | Dmitry Medve...   \n",
              "8  Osama Moustafa Hassan Nasr - type - clergy | O...   \n",
              "9  Strait of Sicily - type - entity | Strait of S...   \n",
              "\n",
              "                            Subclass Knowledge Graph  \n",
              "0  misc - subclass_of - entity | product - subcla...  \n",
              "1  gpe - subclass_of - location | gpe0 - subclass...  \n",
              "2  journalist - subclass_of - per | manager - sub...  \n",
              "3  ngo - subclass_of - org | gpe - subclass_of - ...  \n",
              "4  media - subclass_of - org | activist - subclas...  \n",
              "5  gov_per - subclass_of - per | location - subcl...  \n",
              "6  igo - subclass_of - org | so - subclass_of - i...  \n",
              "7  head_of_gov - subclass_of - politician | polit...  \n",
              "8  offender - subclass_of - per | agency - subcla...  \n",
              "9  location - subclass_of - entity | waterbody - ...  "
            ],
            "text/html": [
              "\n",
              "  <div id=\"df-41102da4-5a87-4b21-9173-0b7270868932\">\n",
              "    <div class=\"colab-df-container\">\n",
              "      <div>\n",
              "<style scoped>\n",
              "    .dataframe tbody tr th:only-of-type {\n",
              "        vertical-align: middle;\n",
              "    }\n",
              "\n",
              "    .dataframe tbody tr th {\n",
              "        vertical-align: top;\n",
              "    }\n",
              "\n",
              "    .dataframe thead th {\n",
              "        text-align: right;\n",
              "    }\n",
              "</style>\n",
              "<table border=\"1\" class=\"dataframe\">\n",
              "  <thead>\n",
              "    <tr style=\"text-align: right;\">\n",
              "      <th></th>\n",
              "      <th>story</th>\n",
              "      <th>Instances Knowledge Graph</th>\n",
              "      <th>Types Knowledge Graph</th>\n",
              "      <th>Subclass Knowledge Graph</th>\n",
              "    </tr>\n",
              "  </thead>\n",
              "  <tbody>\n",
              "    <tr>\n",
              "      <th>0</th>\n",
              "      <td>Multi-lingual in the World Wide Web Profession...</td>\n",
              "      <td>Personal Translator - product_of - Linguatec |...</td>\n",
              "      <td>Personal Translator - type - entity | Personal...</td>\n",
              "      <td>misc - subclass_of - entity | product - subcla...</td>\n",
              "    </tr>\n",
              "    <tr>\n",
              "      <th>1</th>\n",
              "      <td>German Know-How For China's Energy Sector Ener...</td>\n",
              "      <td>Shangdong Linuo Paradigma - based_in0 - German...</td>\n",
              "      <td>China - type - entity | China - type - gpe | C...</td>\n",
              "      <td>gpe - subclass_of - location | gpe0 - subclass...</td>\n",
              "    </tr>\n",
              "    <tr>\n",
              "      <th>2</th>\n",
              "      <td>Trash crisis forces Lebanon's environmental aw...</td>\n",
              "      <td>Kassem Kazak - citizen_of - Lebanon | Kassem K...</td>\n",
              "      <td>Kareem Chehayeb - type - entity | Kareem Cheha...</td>\n",
              "      <td>journalist - subclass_of - per | manager - sub...</td>\n",
              "    </tr>\n",
              "    <tr>\n",
              "      <th>3</th>\n",
              "      <td>Iran calls for end to Saudi air campaign, as U...</td>\n",
              "      <td>Houthi - based_in0 - Yemen | Houthi - based_in...</td>\n",
              "      <td>Medecins Sans Frontieres - type - entity | Med...</td>\n",
              "      <td>ngo - subclass_of - org | gpe - subclass_of - ...</td>\n",
              "    </tr>\n",
              "    <tr>\n",
              "      <th>4</th>\n",
              "      <td>Ai Weiwei Drifting Ai Weiwei: Uncomfortable cr...</td>\n",
              "      <td>DW (Deutsch+) - based_in0 - Germany | Ai Weiwe...</td>\n",
              "      <td>DW (Deutsch+) - type - entity | DW (Deutsch+) ...</td>\n",
              "      <td>media - subclass_of - org | activist - subclas...</td>\n",
              "    </tr>\n",
              "    <tr>\n",
              "      <th>5</th>\n",
              "      <td>Journal Interview with Günter Nooke, The Chanc...</td>\n",
              "      <td>Günter Nooke - agent_of - Germany | Günter Noo...</td>\n",
              "      <td>Günter Nooke - type - entity | Günter Nooke - ...</td>\n",
              "      <td>gov_per - subclass_of - per | location - subcl...</td>\n",
              "    </tr>\n",
              "    <tr>\n",
              "      <th>6</th>\n",
              "      <td>Turkey summons German envoy for second time in...</td>\n",
              "      <td>Martin Erdmann - agent_of - Germany | Martin E...</td>\n",
              "      <td>European Union - type - entity | European Unio...</td>\n",
              "      <td>igo - subclass_of - org | so - subclass_of - i...</td>\n",
              "    </tr>\n",
              "    <tr>\n",
              "      <th>7</th>\n",
              "      <td>Medvedev seeks investment at Davos economic fo...</td>\n",
              "      <td>Dmitry Medvedev - agent_of - Russia | Dmitry M...</td>\n",
              "      <td>Dmitry Medvedev - type - entity | Dmitry Medve...</td>\n",
              "      <td>head_of_gov - subclass_of - politician | polit...</td>\n",
              "    </tr>\n",
              "    <tr>\n",
              "      <th>8</th>\n",
              "      <td>Ex-CIA fugitive Robert Seldon Lady detained in...</td>\n",
              "      <td>Osama Moustafa Hassan Nasr - citizen_of - Egyp...</td>\n",
              "      <td>Osama Moustafa Hassan Nasr - type - clergy | O...</td>\n",
              "      <td>offender - subclass_of - per | agency - subcla...</td>\n",
              "    </tr>\n",
              "    <tr>\n",
              "      <th>9</th>\n",
              "      <td>Nearly 10,000 migrants rescued on Mediterranea...</td>\n",
              "      <td>Rome - in0 - Italy | Rome - in0-x - Italian | ...</td>\n",
              "      <td>Strait of Sicily - type - entity | Strait of S...</td>\n",
              "      <td>location - subclass_of - entity | waterbody - ...</td>\n",
              "    </tr>\n",
              "  </tbody>\n",
              "</table>\n",
              "</div>\n",
              "      <button class=\"colab-df-convert\" onclick=\"convertToInteractive('df-41102da4-5a87-4b21-9173-0b7270868932')\"\n",
              "              title=\"Convert this dataframe to an interactive table.\"\n",
              "              style=\"display:none;\">\n",
              "        \n",
              "  <svg xmlns=\"http://www.w3.org/2000/svg\" height=\"24px\"viewBox=\"0 0 24 24\"\n",
              "       width=\"24px\">\n",
              "    <path d=\"M0 0h24v24H0V0z\" fill=\"none\"/>\n",
              "    <path d=\"M18.56 5.44l.94 2.06.94-2.06 2.06-.94-2.06-.94-.94-2.06-.94 2.06-2.06.94zm-11 1L8.5 8.5l.94-2.06 2.06-.94-2.06-.94L8.5 2.5l-.94 2.06-2.06.94zm10 10l.94 2.06.94-2.06 2.06-.94-2.06-.94-.94-2.06-.94 2.06-2.06.94z\"/><path d=\"M17.41 7.96l-1.37-1.37c-.4-.4-.92-.59-1.43-.59-.52 0-1.04.2-1.43.59L10.3 9.45l-7.72 7.72c-.78.78-.78 2.05 0 2.83L4 21.41c.39.39.9.59 1.41.59.51 0 1.02-.2 1.41-.59l7.78-7.78 2.81-2.81c.8-.78.8-2.07 0-2.86zM5.41 20L4 18.59l7.72-7.72 1.47 1.35L5.41 20z\"/>\n",
              "  </svg>\n",
              "      </button>\n",
              "      \n",
              "  <style>\n",
              "    .colab-df-container {\n",
              "      display:flex;\n",
              "      flex-wrap:wrap;\n",
              "      gap: 12px;\n",
              "    }\n",
              "\n",
              "    .colab-df-convert {\n",
              "      background-color: #E8F0FE;\n",
              "      border: none;\n",
              "      border-radius: 50%;\n",
              "      cursor: pointer;\n",
              "      display: none;\n",
              "      fill: #1967D2;\n",
              "      height: 32px;\n",
              "      padding: 0 0 0 0;\n",
              "      width: 32px;\n",
              "    }\n",
              "\n",
              "    .colab-df-convert:hover {\n",
              "      background-color: #E2EBFA;\n",
              "      box-shadow: 0px 1px 2px rgba(60, 64, 67, 0.3), 0px 1px 3px 1px rgba(60, 64, 67, 0.15);\n",
              "      fill: #174EA6;\n",
              "    }\n",
              "\n",
              "    [theme=dark] .colab-df-convert {\n",
              "      background-color: #3B4455;\n",
              "      fill: #D2E3FC;\n",
              "    }\n",
              "\n",
              "    [theme=dark] .colab-df-convert:hover {\n",
              "      background-color: #434B5C;\n",
              "      box-shadow: 0px 1px 3px 1px rgba(0, 0, 0, 0.15);\n",
              "      filter: drop-shadow(0px 1px 2px rgba(0, 0, 0, 0.3));\n",
              "      fill: #FFFFFF;\n",
              "    }\n",
              "  </style>\n",
              "\n",
              "      <script>\n",
              "        const buttonEl =\n",
              "          document.querySelector('#df-41102da4-5a87-4b21-9173-0b7270868932 button.colab-df-convert');\n",
              "        buttonEl.style.display =\n",
              "          google.colab.kernel.accessAllowed ? 'block' : 'none';\n",
              "\n",
              "        async function convertToInteractive(key) {\n",
              "          const element = document.querySelector('#df-41102da4-5a87-4b21-9173-0b7270868932');\n",
              "          const dataTable =\n",
              "            await google.colab.kernel.invokeFunction('convertToInteractive',\n",
              "                                                     [key], {});\n",
              "          if (!dataTable) return;\n",
              "\n",
              "          const docLinkHtml = 'Like what you see? Visit the ' +\n",
              "            '<a target=\"_blank\" href=https://colab.research.google.com/notebooks/data_table.ipynb>data table notebook</a>'\n",
              "            + ' to learn more about interactive tables.';\n",
              "          element.innerHTML = '';\n",
              "          dataTable['output_type'] = 'display_data';\n",
              "          await google.colab.output.renderOutput(dataTable, element);\n",
              "          const docLink = document.createElement('div');\n",
              "          docLink.innerHTML = docLinkHtml;\n",
              "          element.appendChild(docLink);\n",
              "        }\n",
              "      </script>\n",
              "    </div>\n",
              "  </div>\n",
              "  "
            ]
          },
          "metadata": {},
          "execution_count": 9
        }
      ]
    },
    {
      "cell_type": "markdown",
      "source": [
        "#### News classification\n"
      ],
      "metadata": {
        "id": "XmrR4AfCeH_O"
      }
    },
    {
      "cell_type": "code",
      "source": [
        "model_nm1 = 'abhishek/autonlp-bbc-news-classification-37229289'"
      ],
      "metadata": {
        "id": "Z8xY7-OfeLct"
      },
      "execution_count": 10,
      "outputs": []
    },
    {
      "cell_type": "code",
      "source": [
        "from transformers import AutoTokenizer, AutoModelForSequenceClassification, AutoConfig\n",
        "\n",
        "# Load the tokenizer and model from Hugging Face\n",
        "tokenizer = AutoTokenizer.from_pretrained(model_nm1)\n",
        "model = AutoModelForSequenceClassification.from_pretrained(model_nm1).to(device)"
      ],
      "metadata": {
        "id": "Q0U-aUwQegcc"
      },
      "execution_count": 11,
      "outputs": []
    },
    {
      "cell_type": "code",
      "source": [
        "print(print_gpu_utilization())"
      ],
      "metadata": {
        "colab": {
          "base_uri": "https://localhost:8080/"
        },
        "id": "mM5ZjdI3i4ab",
        "outputId": "f4749fa2-cae8-48e7-b5e2-6a1231484d34"
      },
      "execution_count": 12,
      "outputs": [
        {
          "output_type": "stream",
          "name": "stdout",
          "text": [
            "GPU memory occupied: 2119 MB.\n",
            "None\n"
          ]
        }
      ]
    },
    {
      "cell_type": "code",
      "source": [
        "# Create a list to hold the predicted labels\n",
        "predicted_type_of_news= []\n",
        "type(predicted_type_of_news)\n"
      ],
      "metadata": {
        "colab": {
          "base_uri": "https://localhost:8080/"
        },
        "id": "fUCOpannfbNJ",
        "outputId": "736021ec-c753-427f-f9a3-7d1fa6ed759f"
      },
      "execution_count": 13,
      "outputs": [
        {
          "output_type": "execute_result",
          "data": {
            "text/plain": [
              "list"
            ]
          },
          "metadata": {},
          "execution_count": 13
        }
      ]
    },
    {
      "cell_type": "code",
      "source": [
        "\n",
        "\n",
        "# Load the configuration of the model\n",
        "config = AutoConfig.from_pretrained(\"abhishek/autonlp-bbc-news-classification-37229289\")\n",
        "labels = config.label2id.keys()"
      ],
      "metadata": {
        "id": "mx6Abr_lkPfV"
      },
      "execution_count": 14,
      "outputs": []
    },
    {
      "cell_type": "code",
      "source": [
        "# Loop over each story in the DataFrame\n",
        "max_length = tokenizer.model_max_length\n",
        "#TODO: make it better (bc max input of those models is 512)\n",
        "for story in df[\"story\"]:\n",
        "    # Encode the story text using the tokenizer\n",
        "    inputs = tokenizer.encode(story, max_length= max_length, return_offsets_mapping=False, stride=0, return_tensors='pt').to(device)\n",
        "    \n",
        "    # Make a prediction using the model\n",
        "    outputs = model(inputs)\n",
        "\n",
        "    # Get the predicted label\n",
        "    predicted_label_id = outputs.logits.argmax().item()\n",
        "    \n",
        "    predicted_label = list(labels)[predicted_label_id]\n",
        "\n",
        "    # Add the predicted label to the list\n",
        "\n",
        "    # Add the predicted label to the list\n",
        "    predicted_type_of_news.append(predicted_label)"
      ],
      "metadata": {
        "colab": {
          "base_uri": "https://localhost:8080/"
        },
        "id": "rzpeUvUVfmlE",
        "outputId": "90318cd9-ad16-46db-b4c1-a1236b135fa5"
      },
      "execution_count": 15,
      "outputs": [
        {
          "output_type": "stream",
          "name": "stderr",
          "text": [
            "Truncation was not explicitly activated but `max_length` is provided a specific value, please use `truncation=True` to explicitly truncate examples to max length. Defaulting to 'longest_first' truncation strategy. If you encode pairs of sequences (GLUE-style) with the tokenizer you can select this strategy more precisely by providing a specific strategy to `truncation`.\n"
          ]
        }
      ]
    },
    {
      "cell_type": "code",
      "source": [
        "# Add the predicted labels to the DataFrame\n",
        "df[\"predicted_label1\"] = predicted_type_of_news\n",
        "df.head(10)"
      ],
      "metadata": {
        "colab": {
          "base_uri": "https://localhost:8080/",
          "height": 760
        },
        "id": "CbBEGp1mhkA1",
        "outputId": "c30b78cd-28d5-4010-ed78-197236a0d021"
      },
      "execution_count": 16,
      "outputs": [
        {
          "output_type": "execute_result",
          "data": {
            "text/plain": [
              "                                               story  \\\n",
              "0  Multi-lingual in the World Wide Web Profession...   \n",
              "1  German Know-How For China's Energy Sector Ener...   \n",
              "2  Trash crisis forces Lebanon's environmental aw...   \n",
              "3  Iran calls for end to Saudi air campaign, as U...   \n",
              "4  Ai Weiwei Drifting Ai Weiwei: Uncomfortable cr...   \n",
              "5  Journal Interview with Günter Nooke, The Chanc...   \n",
              "6  Turkey summons German envoy for second time in...   \n",
              "7  Medvedev seeks investment at Davos economic fo...   \n",
              "8  Ex-CIA fugitive Robert Seldon Lady detained in...   \n",
              "9  Nearly 10,000 migrants rescued on Mediterranea...   \n",
              "\n",
              "                           Instances Knowledge Graph  \\\n",
              "0  Personal Translator - product_of - Linguatec |...   \n",
              "1  Shangdong Linuo Paradigma - based_in0 - German...   \n",
              "2  Kassem Kazak - citizen_of - Lebanon | Kassem K...   \n",
              "3  Houthi - based_in0 - Yemen | Houthi - based_in...   \n",
              "4  DW (Deutsch+) - based_in0 - Germany | Ai Weiwe...   \n",
              "5  Günter Nooke - agent_of - Germany | Günter Noo...   \n",
              "6  Martin Erdmann - agent_of - Germany | Martin E...   \n",
              "7  Dmitry Medvedev - agent_of - Russia | Dmitry M...   \n",
              "8  Osama Moustafa Hassan Nasr - citizen_of - Egyp...   \n",
              "9  Rome - in0 - Italy | Rome - in0-x - Italian | ...   \n",
              "\n",
              "                               Types Knowledge Graph  \\\n",
              "0  Personal Translator - type - entity | Personal...   \n",
              "1  China - type - entity | China - type - gpe | C...   \n",
              "2  Kareem Chehayeb - type - entity | Kareem Cheha...   \n",
              "3  Medecins Sans Frontieres - type - entity | Med...   \n",
              "4  DW (Deutsch+) - type - entity | DW (Deutsch+) ...   \n",
              "5  Günter Nooke - type - entity | Günter Nooke - ...   \n",
              "6  European Union - type - entity | European Unio...   \n",
              "7  Dmitry Medvedev - type - entity | Dmitry Medve...   \n",
              "8  Osama Moustafa Hassan Nasr - type - clergy | O...   \n",
              "9  Strait of Sicily - type - entity | Strait of S...   \n",
              "\n",
              "                            Subclass Knowledge Graph predicted_label1  \n",
              "0  misc - subclass_of - entity | product - subcla...             tech  \n",
              "1  gpe - subclass_of - location | gpe0 - subclass...         business  \n",
              "2  journalist - subclass_of - per | manager - sub...             tech  \n",
              "3  ngo - subclass_of - org | gpe - subclass_of - ...         business  \n",
              "4  media - subclass_of - org | activist - subclas...    entertainment  \n",
              "5  gov_per - subclass_of - per | location - subcl...         politics  \n",
              "6  igo - subclass_of - org | so - subclass_of - i...         politics  \n",
              "7  head_of_gov - subclass_of - politician | polit...         business  \n",
              "8  offender - subclass_of - per | agency - subcla...         business  \n",
              "9  location - subclass_of - entity | waterbody - ...         business  "
            ],
            "text/html": [
              "\n",
              "  <div id=\"df-81d6b643-6a6e-49a2-b390-58e711112d9c\">\n",
              "    <div class=\"colab-df-container\">\n",
              "      <div>\n",
              "<style scoped>\n",
              "    .dataframe tbody tr th:only-of-type {\n",
              "        vertical-align: middle;\n",
              "    }\n",
              "\n",
              "    .dataframe tbody tr th {\n",
              "        vertical-align: top;\n",
              "    }\n",
              "\n",
              "    .dataframe thead th {\n",
              "        text-align: right;\n",
              "    }\n",
              "</style>\n",
              "<table border=\"1\" class=\"dataframe\">\n",
              "  <thead>\n",
              "    <tr style=\"text-align: right;\">\n",
              "      <th></th>\n",
              "      <th>story</th>\n",
              "      <th>Instances Knowledge Graph</th>\n",
              "      <th>Types Knowledge Graph</th>\n",
              "      <th>Subclass Knowledge Graph</th>\n",
              "      <th>predicted_label1</th>\n",
              "    </tr>\n",
              "  </thead>\n",
              "  <tbody>\n",
              "    <tr>\n",
              "      <th>0</th>\n",
              "      <td>Multi-lingual in the World Wide Web Profession...</td>\n",
              "      <td>Personal Translator - product_of - Linguatec |...</td>\n",
              "      <td>Personal Translator - type - entity | Personal...</td>\n",
              "      <td>misc - subclass_of - entity | product - subcla...</td>\n",
              "      <td>tech</td>\n",
              "    </tr>\n",
              "    <tr>\n",
              "      <th>1</th>\n",
              "      <td>German Know-How For China's Energy Sector Ener...</td>\n",
              "      <td>Shangdong Linuo Paradigma - based_in0 - German...</td>\n",
              "      <td>China - type - entity | China - type - gpe | C...</td>\n",
              "      <td>gpe - subclass_of - location | gpe0 - subclass...</td>\n",
              "      <td>business</td>\n",
              "    </tr>\n",
              "    <tr>\n",
              "      <th>2</th>\n",
              "      <td>Trash crisis forces Lebanon's environmental aw...</td>\n",
              "      <td>Kassem Kazak - citizen_of - Lebanon | Kassem K...</td>\n",
              "      <td>Kareem Chehayeb - type - entity | Kareem Cheha...</td>\n",
              "      <td>journalist - subclass_of - per | manager - sub...</td>\n",
              "      <td>tech</td>\n",
              "    </tr>\n",
              "    <tr>\n",
              "      <th>3</th>\n",
              "      <td>Iran calls for end to Saudi air campaign, as U...</td>\n",
              "      <td>Houthi - based_in0 - Yemen | Houthi - based_in...</td>\n",
              "      <td>Medecins Sans Frontieres - type - entity | Med...</td>\n",
              "      <td>ngo - subclass_of - org | gpe - subclass_of - ...</td>\n",
              "      <td>business</td>\n",
              "    </tr>\n",
              "    <tr>\n",
              "      <th>4</th>\n",
              "      <td>Ai Weiwei Drifting Ai Weiwei: Uncomfortable cr...</td>\n",
              "      <td>DW (Deutsch+) - based_in0 - Germany | Ai Weiwe...</td>\n",
              "      <td>DW (Deutsch+) - type - entity | DW (Deutsch+) ...</td>\n",
              "      <td>media - subclass_of - org | activist - subclas...</td>\n",
              "      <td>entertainment</td>\n",
              "    </tr>\n",
              "    <tr>\n",
              "      <th>5</th>\n",
              "      <td>Journal Interview with Günter Nooke, The Chanc...</td>\n",
              "      <td>Günter Nooke - agent_of - Germany | Günter Noo...</td>\n",
              "      <td>Günter Nooke - type - entity | Günter Nooke - ...</td>\n",
              "      <td>gov_per - subclass_of - per | location - subcl...</td>\n",
              "      <td>politics</td>\n",
              "    </tr>\n",
              "    <tr>\n",
              "      <th>6</th>\n",
              "      <td>Turkey summons German envoy for second time in...</td>\n",
              "      <td>Martin Erdmann - agent_of - Germany | Martin E...</td>\n",
              "      <td>European Union - type - entity | European Unio...</td>\n",
              "      <td>igo - subclass_of - org | so - subclass_of - i...</td>\n",
              "      <td>politics</td>\n",
              "    </tr>\n",
              "    <tr>\n",
              "      <th>7</th>\n",
              "      <td>Medvedev seeks investment at Davos economic fo...</td>\n",
              "      <td>Dmitry Medvedev - agent_of - Russia | Dmitry M...</td>\n",
              "      <td>Dmitry Medvedev - type - entity | Dmitry Medve...</td>\n",
              "      <td>head_of_gov - subclass_of - politician | polit...</td>\n",
              "      <td>business</td>\n",
              "    </tr>\n",
              "    <tr>\n",
              "      <th>8</th>\n",
              "      <td>Ex-CIA fugitive Robert Seldon Lady detained in...</td>\n",
              "      <td>Osama Moustafa Hassan Nasr - citizen_of - Egyp...</td>\n",
              "      <td>Osama Moustafa Hassan Nasr - type - clergy | O...</td>\n",
              "      <td>offender - subclass_of - per | agency - subcla...</td>\n",
              "      <td>business</td>\n",
              "    </tr>\n",
              "    <tr>\n",
              "      <th>9</th>\n",
              "      <td>Nearly 10,000 migrants rescued on Mediterranea...</td>\n",
              "      <td>Rome - in0 - Italy | Rome - in0-x - Italian | ...</td>\n",
              "      <td>Strait of Sicily - type - entity | Strait of S...</td>\n",
              "      <td>location - subclass_of - entity | waterbody - ...</td>\n",
              "      <td>business</td>\n",
              "    </tr>\n",
              "  </tbody>\n",
              "</table>\n",
              "</div>\n",
              "      <button class=\"colab-df-convert\" onclick=\"convertToInteractive('df-81d6b643-6a6e-49a2-b390-58e711112d9c')\"\n",
              "              title=\"Convert this dataframe to an interactive table.\"\n",
              "              style=\"display:none;\">\n",
              "        \n",
              "  <svg xmlns=\"http://www.w3.org/2000/svg\" height=\"24px\"viewBox=\"0 0 24 24\"\n",
              "       width=\"24px\">\n",
              "    <path d=\"M0 0h24v24H0V0z\" fill=\"none\"/>\n",
              "    <path d=\"M18.56 5.44l.94 2.06.94-2.06 2.06-.94-2.06-.94-.94-2.06-.94 2.06-2.06.94zm-11 1L8.5 8.5l.94-2.06 2.06-.94-2.06-.94L8.5 2.5l-.94 2.06-2.06.94zm10 10l.94 2.06.94-2.06 2.06-.94-2.06-.94-.94-2.06-.94 2.06-2.06.94z\"/><path d=\"M17.41 7.96l-1.37-1.37c-.4-.4-.92-.59-1.43-.59-.52 0-1.04.2-1.43.59L10.3 9.45l-7.72 7.72c-.78.78-.78 2.05 0 2.83L4 21.41c.39.39.9.59 1.41.59.51 0 1.02-.2 1.41-.59l7.78-7.78 2.81-2.81c.8-.78.8-2.07 0-2.86zM5.41 20L4 18.59l7.72-7.72 1.47 1.35L5.41 20z\"/>\n",
              "  </svg>\n",
              "      </button>\n",
              "      \n",
              "  <style>\n",
              "    .colab-df-container {\n",
              "      display:flex;\n",
              "      flex-wrap:wrap;\n",
              "      gap: 12px;\n",
              "    }\n",
              "\n",
              "    .colab-df-convert {\n",
              "      background-color: #E8F0FE;\n",
              "      border: none;\n",
              "      border-radius: 50%;\n",
              "      cursor: pointer;\n",
              "      display: none;\n",
              "      fill: #1967D2;\n",
              "      height: 32px;\n",
              "      padding: 0 0 0 0;\n",
              "      width: 32px;\n",
              "    }\n",
              "\n",
              "    .colab-df-convert:hover {\n",
              "      background-color: #E2EBFA;\n",
              "      box-shadow: 0px 1px 2px rgba(60, 64, 67, 0.3), 0px 1px 3px 1px rgba(60, 64, 67, 0.15);\n",
              "      fill: #174EA6;\n",
              "    }\n",
              "\n",
              "    [theme=dark] .colab-df-convert {\n",
              "      background-color: #3B4455;\n",
              "      fill: #D2E3FC;\n",
              "    }\n",
              "\n",
              "    [theme=dark] .colab-df-convert:hover {\n",
              "      background-color: #434B5C;\n",
              "      box-shadow: 0px 1px 3px 1px rgba(0, 0, 0, 0.15);\n",
              "      filter: drop-shadow(0px 1px 2px rgba(0, 0, 0, 0.3));\n",
              "      fill: #FFFFFF;\n",
              "    }\n",
              "  </style>\n",
              "\n",
              "      <script>\n",
              "        const buttonEl =\n",
              "          document.querySelector('#df-81d6b643-6a6e-49a2-b390-58e711112d9c button.colab-df-convert');\n",
              "        buttonEl.style.display =\n",
              "          google.colab.kernel.accessAllowed ? 'block' : 'none';\n",
              "\n",
              "        async function convertToInteractive(key) {\n",
              "          const element = document.querySelector('#df-81d6b643-6a6e-49a2-b390-58e711112d9c');\n",
              "          const dataTable =\n",
              "            await google.colab.kernel.invokeFunction('convertToInteractive',\n",
              "                                                     [key], {});\n",
              "          if (!dataTable) return;\n",
              "\n",
              "          const docLinkHtml = 'Like what you see? Visit the ' +\n",
              "            '<a target=\"_blank\" href=https://colab.research.google.com/notebooks/data_table.ipynb>data table notebook</a>'\n",
              "            + ' to learn more about interactive tables.';\n",
              "          element.innerHTML = '';\n",
              "          dataTable['output_type'] = 'display_data';\n",
              "          await google.colab.output.renderOutput(dataTable, element);\n",
              "          const docLink = document.createElement('div');\n",
              "          docLink.innerHTML = docLinkHtml;\n",
              "          element.appendChild(docLink);\n",
              "        }\n",
              "      </script>\n",
              "    </div>\n",
              "  </div>\n",
              "  "
            ]
          },
          "metadata": {},
          "execution_count": 16
        }
      ]
    },
    {
      "cell_type": "code",
      "source": [
        "df.to_csv('DWIE_train_topic_news.csv')"
      ],
      "metadata": {
        "id": "FQ089RBrmDKf"
      },
      "execution_count": 18,
      "outputs": []
    },
    {
      "cell_type": "markdown",
      "source": [
        "#### "
      ],
      "metadata": {
        "id": "xJQZz9DqjXYL"
      }
    }
  ]
}