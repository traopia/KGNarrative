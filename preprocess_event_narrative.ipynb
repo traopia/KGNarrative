{
 "cells": [
  {
   "cell_type": "code",
   "execution_count": 2,
   "metadata": {},
   "outputs": [],
   "source": [
    "\n",
    "import pandas as pd\n",
    "from tqdm import tqdm"
   ]
  },
  {
   "attachments": {},
   "cell_type": "markdown",
   "metadata": {},
   "source": [
    "## Preprocess EventNarrative\n",
    "- Map entities to text\n",
    "- Linearize KG according to format\n",
    "- Save in Csv format\n",
    "\n",
    "\n",
    "#### Next steps:\n",
    "- NER to create EventKG (need Actors, locations, times - topic and titles already there)\n",
    "\n",
    "\n"
   ]
  },
  {
   "cell_type": "code",
   "execution_count": 46,
   "metadata": {},
   "outputs": [],
   "source": [
    "def preprocess_data(path_in, path_out):\n",
    "    data = pd.read_json(path_in)\n",
    "    for instance in tqdm(range(len(data))):\n",
    "        for key,value in data['entity_ref_dict'][instance].items():\n",
    "            data['narration'][instance] = data['narration'][instance].replace(key,value)\n",
    "        formatted_triples = []\n",
    "        for triple in data['keep_triples'][instance]: \n",
    "            #formatted_triples += (\" | \".join([\" - \".join(triple) for triple in data['keep_triples'][instance]]))\n",
    "            formatted_triples.append((\" | \".join([\" - \".join(triple) for triple in data['keep_triples'][instance]])))\n",
    "            data['keep_triples'][instance] = formatted_triples[0]\n",
    "    # data['types'] = [eval(data['types'][i]) for i in range(len(data['types']))]\n",
    "    # def concatenate_list(lst):\n",
    "    #     return ', '.join(lst)\n",
    "    # result = pd.DataFrame()\n",
    "    # result['Instance Knowledge Graph'] = data['keep_triples'] + ' | Event - title - ' + data['Event_Name'] + ' | Event - topic - ' +  data['types'].apply(concatenate_list).apply(lambda x: x.replace(',' , ' | Event - topic - '))\n",
    "    # result['story'] = data['narration']         \n",
    "    # result.to_csv(path_out, index=False)\n",
    "    df2 = data.loc[:, ['Event_Name', 'narration', 'keep_triples', 'types']]\n",
    "    df2.to_csv(path_out, index=False)"
   ]
  },
  {
   "cell_type": "code",
   "execution_count": 5,
   "metadata": {},
   "outputs": [
    {
     "data": {
      "text/html": [
       "<div>\n",
       "<style scoped>\n",
       "    .dataframe tbody tr th:only-of-type {\n",
       "        vertical-align: middle;\n",
       "    }\n",
       "\n",
       "    .dataframe tbody tr th {\n",
       "        vertical-align: top;\n",
       "    }\n",
       "\n",
       "    .dataframe thead th {\n",
       "        text-align: right;\n",
       "    }\n",
       "</style>\n",
       "<table border=\"1\" class=\"dataframe\">\n",
       "  <thead>\n",
       "    <tr style=\"text-align: right;\">\n",
       "      <th></th>\n",
       "      <th>Event_Name</th>\n",
       "      <th>narration</th>\n",
       "      <th>keep_triples</th>\n",
       "      <th>types</th>\n",
       "    </tr>\n",
       "  </thead>\n",
       "  <tbody>\n",
       "    <tr>\n",
       "      <th>0</th>\n",
       "      <td>1953 Cannes Film Festival</td>\n",
       "      <td>The 1953 Cannes Film Festival was held from 15...</td>\n",
       "      <td>1953 Cannes Film Festival - point in time - 1953</td>\n",
       "      <td>['film festival edition']</td>\n",
       "    </tr>\n",
       "    <tr>\n",
       "      <th>1</th>\n",
       "      <td>1988 Benson and Hedges Open</td>\n",
       "      <td>The 1988 Benson and Hedges Open was a men's 19...</td>\n",
       "      <td>1988 Benson and Hedges Open - located in the a...</td>\n",
       "      <td>['Heineken Open', 'tennis tournament edition']</td>\n",
       "    </tr>\n",
       "    <tr>\n",
       "      <th>2</th>\n",
       "      <td>1992 King Fahd Cup knockout stage</td>\n",
       "      <td>The 1992 King Fahd Cup knockout stage began on...</td>\n",
       "      <td>1992 King Fahd Cup knockout stage - point in t...</td>\n",
       "      <td>['knockout stage', 'sports season']</td>\n",
       "    </tr>\n",
       "  </tbody>\n",
       "</table>\n",
       "</div>"
      ],
      "text/plain": [
       "                          Event_Name  \\\n",
       "0          1953 Cannes Film Festival   \n",
       "1        1988 Benson and Hedges Open   \n",
       "2  1992 King Fahd Cup knockout stage   \n",
       "\n",
       "                                           narration  \\\n",
       "0  The 1953 Cannes Film Festival was held from 15...   \n",
       "1  The 1988 Benson and Hedges Open was a men's 19...   \n",
       "2  The 1992 King Fahd Cup knockout stage began on...   \n",
       "\n",
       "                                        keep_triples  \\\n",
       "0   1953 Cannes Film Festival - point in time - 1953   \n",
       "1  1988 Benson and Hedges Open - located in the a...   \n",
       "2  1992 King Fahd Cup knockout stage - point in t...   \n",
       "\n",
       "                                            types  \n",
       "0                       ['film festival edition']  \n",
       "1  ['Heineken Open', 'tennis tournament edition']  \n",
       "2             ['knockout stage', 'sports season']  "
      ]
     },
     "execution_count": 5,
     "metadata": {},
     "output_type": "execute_result"
    }
   ],
   "source": [
    "test = pd.read_csv('EventNarrative/test_data.csv')\n",
    "test.head(3)"
   ]
  },
  {
   "cell_type": "code",
   "execution_count": 16,
   "metadata": {},
   "outputs": [
    {
     "data": {
      "text/plain": [
       "['Heineken Open', 'tennis tournament edition']"
      ]
     },
     "execution_count": 16,
     "metadata": {},
     "output_type": "execute_result"
    }
   ],
   "source": [
    "#eval(test['types'][1])\n",
    "#test['types'][1] = eval(test['types'][1])\n",
    "test['types'][1]"
   ]
  },
  {
   "cell_type": "code",
   "execution_count": 47,
   "metadata": {},
   "outputs": [
    {
     "name": "stderr",
     "output_type": "stream",
     "text": [
      "100%|██████████| 179544/179544 [1:15:18<00:00, 39.73it/s]\n"
     ]
    }
   ],
   "source": [
    "#preprocess_data('EventNarrative/test_data.json', 'EventNarrative/test_data.csv')\n",
    "#preprocess_data('EventNarrative/dev_data.json', 'EventNarrative/dev_data.csv')\n",
    "preprocess_data('EventNarrative/train_data.json', 'EventNarrative/train_data.csv')"
   ]
  },
  {
   "cell_type": "code",
   "execution_count": 48,
   "metadata": {},
   "outputs": [],
   "source": [
    "test = pd.read_csv('EventNarrative/train_data.csv')\n",
    "test['types'] = [eval(test['types'][i]) for i in range(len(test['types']))]\n",
    "def concatenate_list(lst):\n",
    "    return ', '.join(lst)\n",
    "result = pd.DataFrame()\n",
    "result['Instance Knowledge Graph'] = test['keep_triples'] + ' | Event - title - ' + test['Event_Name'] + ' | Event - topic - ' +  test['types'].apply(concatenate_list).apply(lambda x: x.replace(',' , ' | Event - topic - '))\n",
    "result['story'] = test['narration'] \n",
    "#result = result.drop(columns=[\"Unnamed: 0\"])\n",
    "result.to_csv('EventNarrative/Instance_train.csv', index=False)"
   ]
  },
  {
   "cell_type": "code",
   "execution_count": 19,
   "metadata": {},
   "outputs": [
    {
     "name": "stderr",
     "output_type": "stream",
     "text": [
      "100%|██████████| 22442/22442 [00:59<00:00, 374.57it/s]\n"
     ]
    }
   ],
   "source": [
    "def concatenate_list(lst):\n",
    "    return ', '.join(lst)\n",
    "\n",
    "def preprocess_data(path_in, path_out):\n",
    "    data = pd.read_json(path_in)\n",
    "    for instance in tqdm(range(len(data))):\n",
    "        if type(data['types'][instance]) != list:\n",
    "            data['types'][instance]= eval(data['types'][instance])\n",
    "        for key,value in data['entity_ref_dict'][instance].items():\n",
    "            data['narration'][instance] = data['narration'][instance].replace(key,value)\n",
    "        formatted_triples = []\n",
    "        for triple in data['keep_triples'][instance]: \n",
    "            formatted_triples.append((\" | \".join([\" - \".join(triple) for triple in data['keep_triples'][instance]])))\n",
    "            data['keep_triples'][instance] = formatted_triples[0]\n",
    "        \n",
    "    #data['types'] = [eval(data['types'][i]) for i in range(len(data['types']))]    \n",
    "\n",
    "    result = pd.DataFrame()  \n",
    "    result['Instance Knowledge Graph'] = data['keep_triples'] + ' | story - hasCore - ' + data['Event_Name'] + ' | story - type - ' +  data['types'].apply(concatenate_list).apply(lambda x: x.replace(',' , ' | story - type - '))\n",
    "    result['story'] = data['narration'] \n",
    "    result.to_csv(path_out, index=False)\n",
    "\n",
    "preprocess_data('EventNarrative/test_data.json', 'EventNarrative/test_data.csv')    "
   ]
  },
  {
   "cell_type": "code",
   "execution_count": 15,
   "metadata": {},
   "outputs": [
    {
     "data": {
      "text/html": [
       "<div>\n",
       "<style scoped>\n",
       "    .dataframe tbody tr th:only-of-type {\n",
       "        vertical-align: middle;\n",
       "    }\n",
       "\n",
       "    .dataframe tbody tr th {\n",
       "        vertical-align: top;\n",
       "    }\n",
       "\n",
       "    .dataframe thead th {\n",
       "        text-align: right;\n",
       "    }\n",
       "</style>\n",
       "<table border=\"1\" class=\"dataframe\">\n",
       "  <thead>\n",
       "    <tr style=\"text-align: right;\">\n",
       "      <th></th>\n",
       "      <th>Instance Knowledge Graph</th>\n",
       "      <th>story</th>\n",
       "    </tr>\n",
       "  </thead>\n",
       "  <tbody>\n",
       "    <tr>\n",
       "      <th>0</th>\n",
       "      <td>1953 Cannes Film Festival - point in time - 19...</td>\n",
       "      <td>The 1953 Cannes Film Festival was held from 15...</td>\n",
       "    </tr>\n",
       "    <tr>\n",
       "      <th>1</th>\n",
       "      <td>1988 Benson and Hedges Open - located in the a...</td>\n",
       "      <td>The 1988 Benson and Hedges Open was a men's 19...</td>\n",
       "    </tr>\n",
       "    <tr>\n",
       "      <th>2</th>\n",
       "      <td>1992 King Fahd Cup knockout stage - point in t...</td>\n",
       "      <td>The 1992 King Fahd Cup knockout stage began on...</td>\n",
       "    </tr>\n",
       "  </tbody>\n",
       "</table>\n",
       "</div>"
      ],
      "text/plain": [
       "                            Instance Knowledge Graph  \\\n",
       "0  1953 Cannes Film Festival - point in time - 19...   \n",
       "1  1988 Benson and Hedges Open - located in the a...   \n",
       "2  1992 King Fahd Cup knockout stage - point in t...   \n",
       "\n",
       "                                               story  \n",
       "0  The 1953 Cannes Film Festival was held from 15...  \n",
       "1  The 1988 Benson and Hedges Open was a men's 19...  \n",
       "2  The 1992 King Fahd Cup knockout stage began on...  "
      ]
     },
     "execution_count": 15,
     "metadata": {},
     "output_type": "execute_result"
    }
   ],
   "source": [
    "result.head(3)"
   ]
  },
  {
   "cell_type": "code",
   "execution_count": 24,
   "metadata": {},
   "outputs": [
    {
     "data": {
      "text/plain": [
       "'Brunei at the 2013 World Aquatics Championships - point in time - 2013 | Brunei at the 2013 World Aquatics Championships - participant in - 2013 World Aquatics Championships | Brunei at the 2013 World Aquatics Championships - location - Spain | Brunei at the 2013 World Aquatics Championships - location - Barcelona | Brunei at the 2013 World Aquatics Championships - participant of - 2013 World Aquatics Championships | Event - title - Brunei at the 2013 World Aquatics Championships | Event - topic - nation at sport competition'"
      ]
     },
     "execution_count": 24,
     "metadata": {},
     "output_type": "execute_result"
    }
   ],
   "source": [
    "result['Instance Knowledge Graph'][0]"
   ]
  },
  {
   "cell_type": "code",
   "execution_count": 42,
   "metadata": {},
   "outputs": [],
   "source": [
    "import csv\n",
    "import json\n",
    "\n",
    "csv_filename = \"EventNarrative/Instance_train.csv\"\n",
    "#json_filename = \"EventNarrative/Instances/EN_validation.json\"\n",
    "json_filename = \"EventNarrative/Instances/EN_train.json\"\n",
    "\n",
    "\n",
    "\n",
    "with open(csv_filename, newline='') as csvfile:\n",
    "    reader = csv.reader(csvfile)\n",
    "    columns = next(reader)\n",
    "\n",
    "# Read the data from the CSV file and write it to a JSON file\n",
    "with open(json_filename, \"w\") as jsonfile:\n",
    "    jsonfile.write('[')\n",
    "    for row in csv.DictReader(open(csv_filename), fieldnames=columns):\n",
    "        json.dump(row, jsonfile, indent = 4)\n",
    "        jsonfile.write(',')\n",
    "        jsonfile.write('\\n')\n",
    "    jsonfile.write('{}')    \n",
    "    jsonfile.write(']')    "
   ]
  }
 ],
 "metadata": {
  "kernelspec": {
   "display_name": "base",
   "language": "python",
   "name": "python3"
  },
  "language_info": {
   "codemirror_mode": {
    "name": "ipython",
    "version": 3
   },
   "file_extension": ".py",
   "mimetype": "text/x-python",
   "name": "python",
   "nbconvert_exporter": "python",
   "pygments_lexer": "ipython3",
   "version": "3.9.12"
  },
  "orig_nbformat": 4
 },
 "nbformat": 4,
 "nbformat_minor": 2
}
