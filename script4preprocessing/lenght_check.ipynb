{
 "cells": [
  {
   "cell_type": "code",
   "execution_count": 94,
   "metadata": {},
   "outputs": [],
   "source": [
    "import json\n",
    "import os\n",
    "from nltk.tokenize import word_tokenize\n"
   ]
  },
  {
   "cell_type": "code",
   "execution_count": 56,
   "metadata": {},
   "outputs": [
    {
     "name": "stdout",
     "output_type": "stream",
     "text": [
      "{'story': 'Medvedev seeks investment at Davos economic forum More than 2,500 business leaders, lobbyists, economists and politicians have convened in the Swiss ski resort Davos for the World Economic Forum. Russian Prime Minister Dmitry Medvedev was among the first major speakers. Prime Minister Dmitry Medvedev urged foreign investors to pump more capital into Russia in his keynote speech at the World Economic Forum in Davos on Wednesday. Medvedev said increased external investment was crucial for the government to meet its goal of raising annual economic growth figures from 3.5 percent to Moscow\\'s desired 5 percent. \"We have very ambitious goals in the investment field, to increase the volume of investment from 20 to 25 percent of GDP, to increase investment in transportation, in energy infrastructure … and foreign direct investment would be instrumental in achieving this goal,\" Medvedev said. Medvedev pointed to Russia joining the World Trade Organization as a sign of progress, but also acknowledged that his country might suffer from an image problem on the global stage. \\'Resilient dynamism\\' The Russian prime minister, whose country holds the rotating G20 presidency, was the first major political speaker at the economic summit, which runs through Saturday. German Chancellor Angela Merkel is to address some of the roughly 2,500 business leaders in the Swiss ski resort on Thursday afternoon, as will British Prime Minister David Cameron - who on Wednesday pledged an \"in/out\" UK referendum on EU membership, if he wins re-election. European Central Bank President Mario Draghi, International Monetary Fund head Christine Lagarde, Italian Prime Minister Mario Monti and Israeli President Shimon Peres are among the other major scheduled speakers. Organizers chose the 2013 motto \"resilient dynamism,\" saying it pointed to required improvements in the global economy so that it could better cope with issues like the ongoing sovereign debt difficulties in the eurozone. The forum officially opened with a welcoming address and party on Tuesday night, with the participants getting down to business on Wednesday. msh/dr (AFP, dpa, Reuters)', 'Instances_KG': '[CORE] Prime Minister Dmitry Medvedev seeks investment at the World Economic Forum [TRIPLES] Dmitry Medvedev - agent_of - Russia | Dmitry Medvedev - citizen_of - Russia | Dmitry Medvedev - citizen_of-x - Russian | Dmitry Medvedev - head_of_gov - Russia | Dmitry Medvedev - head_of_gov-x - Russian | World Economic Forum - event_geopolitical organization - Switzerland | World Economic Forum - event_in2 - Davos | Davos - geopolitical organization - Switzerland | Davos - geopolitical organization-x - Swiss | Swiss - geopolitical organization - Switzerland | Russian - geopolitical organization - Russia | Moscow - geopolitical organization - Russia | Moscow - geopolitical organization-x - Russian | German - geopolitical organization - Germany | Angela Merkel - citizen_of - Germany | Angela Merkel - citizen_of-x - German | Angela Merkel - head_of_gov - Germany | Angela Merkel - head_of_gov-x - German | British - geopolitical organization - UK | David Cameron - citizen_of - UK | David Cameron - citizen_of-x - British | David Cameron - head_of_gov - UK | David Cameron - head_of_gov-x - British | Mario Draghi - head_of - European Central Bank | Mario Draghi - member_of - European Central Bank | Christine Lagarde - head_of - International Monetary Fund | Christine Lagarde - member_of - International Monetary Fund | Italian - geopolitical organization - Italy | Mario Monti - citizen_of - Italy | Mario Monti - citizen_of-x - Italian | Mario Monti - head_of_gov - Italy | Mario Monti - head_of_gov-x - Italian | Israeli - geopolitical organization - Israel | Shimon Peres - citizen_of - Israel | Shimon Peres - citizen_of-x - Israeli | Shimon Peres - head_of_state - Israel | Shimon Peres - head_of_state-x - Israeli | ', 'Types_KG': '[CORE] Prime Minister Dmitry Medvedev seeks investment at the World Economic Forum [TRIPLES] Dmitry Medvedev - agent_of - Russia | Dmitry Medvedev - citizen_of - Russia | Dmitry Medvedev - citizen_of-x - Russian | Dmitry Medvedev - head_of_gov - Russia | Dmitry Medvedev - head_of_gov-x - Russian | World Economic Forum - event_geopolitical organization - Switzerland | World Economic Forum - event_in2 - Davos | Davos - geopolitical organization - Switzerland | Davos - geopolitical organization-x - Swiss | Swiss - geopolitical organization - Switzerland | Russian - geopolitical organization - Russia | Moscow - geopolitical organization - Russia | Moscow - geopolitical organization-x - Russian | German - geopolitical organization - Germany | Angela Merkel - citizen_of - Germany | Angela Merkel - citizen_of-x - German | Angela Merkel - head_of_gov - Germany | Angela Merkel - head_of_gov-x - German | British - geopolitical organization - UK | David Cameron - citizen_of - UK | David Cameron - citizen_of-x - British | David Cameron - head_of_gov - UK | David Cameron - head_of_gov-x - British | Mario Draghi - head_of - European Central Bank | Mario Draghi - member_of - European Central Bank | Christine Lagarde - head_of - International Monetary Fund | Christine Lagarde - member_of - International Monetary Fund | Italian - geopolitical organization - Italy | Mario Monti - citizen_of - Italy | Mario Monti - citizen_of-x - Italian | Mario Monti - head_of_gov - Italy | Mario Monti - head_of_gov-x - Italian | Israeli - geopolitical organization - Israel | Shimon Peres - citizen_of - Israel | Shimon Peres - citizen_of-x - Israeli | Shimon Peres - head_of_state - Israel | Shimon Peres - head_of_state-x - Israeli | Dmitry Medvedev - type - entity | Dmitry Medvedev - type - head_of_gov | Dmitry Medvedev - type - person | Dmitry Medvedev - type - politician | World Economic Forum - type - entity | World Economic Forum - type - intergovernmental organization | World Economic Forum - type - organization | Davos - type - entity | Davos - type - gpe | Davos - type - geopolitical organization | Davos - type - location | World Trade Organization - type - entity | World Trade Organization - type - intergovernmental organization | World Trade Organization - type - organization | Swiss - type - geopolitical organization-x | Swiss - type - other | ski resort - type - role | ski resort - type - value | Russian - type - geopolitical organization-x | Russian - type - other | Prime Minister - type - role | Prime Minister - type - value | Russia - type - entity | Russia - type - gpe | Russia - type - geopolitical organization | Russia - type - location | Wednesday - type - time | Wednesday - type - value | Moscow - type - entity | Moscow - type - gpe | Moscow - type - geopolitical organization | Moscow - type - location | G20 - type - entity | G20 - type - intergovernmental organization | G20 - type - organization | Saturday - type - time | Saturday - type - value | German - type - geopolitical organization-x | German - type - other | Chancellor - type - role | Chancellor - type - value | Angela Merkel - type - entity | Angela Merkel - type - head_of_gov | Angela Merkel - type - person | Angela Merkel - type - politician | Thursday - type - time | Thursday - type - value | British - type - geopolitical organization-x | British - type - other | David Cameron - type - entity | David Cameron - type - head_of_gov | David Cameron - type - person | David Cameron - type - politician | UK - type - entity | UK - type - gpe | UK - type - geopolitical organization | UK - type - location | EU - type - entity | EU - type - intergovernmental organization | EU - type - organization | EU - type - so | European Central Bank - type - entity | European Central Bank - type - intergovernmental organization | European Central Bank - type - organization | President - type - role | President - type - value | Mario Draghi - type - entity | Mario Draghi - type - person | Mario Draghi - type - politics_per | International Monetary Fund - type - entity | International Monetary Fund - type - intergovernmental organization | International Monetary Fund - type - organization | head - type - role | head - type - value | Christine Lagarde - type - entity | Christine Lagarde - type - person | Christine Lagarde - type - politics_per | Italian - type - geopolitical organization-x | Italian - type - other | Mario Monti - type - entity | Mario Monti - type - head_of_gov | Mario Monti - type - person | Mario Monti - type - politician | Israeli - type - geopolitical organization-x | Israeli - type - other | Shimon Peres - type - entity | Shimon Peres - type - head_of_state | Shimon Peres - type - person | Shimon Peres - type - politician | 2013 - type - time | 2013 - type - value | Tuesday - type - time | Tuesday - type - value | msh/dr\\xa0 (AFP, dpa, Reuters) - type - footer | msh/dr\\xa0 (AFP, dpa, Reuters) - type - other | Dmitry Medvedev - agent_of - Russia | Dmitry Medvedev - citizen_of - Russia | Dmitry Medvedev - citizen_of-x - Russian | Dmitry Medvedev - head_of_gov - Russia | Dmitry Medvedev - head_of_gov-x - Russian | World Economic Forum - event_geopolitical organization - Switzerland | World Economic Forum - event_in2 - Davos | Davos - geopolitical organization - Switzerland | Davos - geopolitical organization-x - Swiss | Swiss - geopolitical organization - Switzerland | Russian - geopolitical organization - Russia | Moscow - geopolitical organization - Russia | Moscow - geopolitical organization-x - Russian | German - geopolitical organization - Germany | Angela Merkel - citizen_of - Germany | Angela Merkel - citizen_of-x - German | Angela Merkel - head_of_gov - Germany | Angela Merkel - head_of_gov-x - German | British - geopolitical organization - UK | David Cameron - citizen_of - UK | David Cameron - citizen_of-x - British | David Cameron - head_of_gov - UK | David Cameron - head_of_gov-x - British | Mario Draghi - head_of - European Central Bank | Mario Draghi - member_of - European Central Bank | Christine Lagarde - head_of - International Monetary Fund | Christine Lagarde - member_of - International Monetary Fund | Italian - geopolitical organization - Italy | Mario Monti - citizen_of - Italy | Mario Monti - citizen_of-x - Italian | Mario Monti - head_of_gov - Italy | Mario Monti - head_of_gov-x - Italian | Israeli - geopolitical organization - Israel | Shimon Peres - citizen_of - Israel | Shimon Peres - citizen_of-x - Israeli | Shimon Peres - head_of_state - Israel | Shimon Peres - head_of_state-x - Israeli | ', 'Subclasses_KG': '[CORE] Prime Minister Dmitry Medvedev seeks investment at the World Economic Forum [TRIPLES] Dmitry Medvedev - agent_of - Russia | Dmitry Medvedev - citizen_of - Russia | Dmitry Medvedev - citizen_of-x - Russian | Dmitry Medvedev - head_of_gov - Russia | Dmitry Medvedev - head_of_gov-x - Russian | World Economic Forum - event_geopolitical organization - Switzerland | World Economic Forum - event_in2 - Davos | Davos - geopolitical organization - Switzerland | Davos - geopolitical organization-x - Swiss | Swiss - geopolitical organization - Switzerland | Russian - geopolitical organization - Russia | Moscow - geopolitical organization - Russia | Moscow - geopolitical organization-x - Russian | German - geopolitical organization - Germany | Angela Merkel - citizen_of - Germany | Angela Merkel - citizen_of-x - German | Angela Merkel - head_of_gov - Germany | Angela Merkel - head_of_gov-x - German | British - geopolitical organization - UK | David Cameron - citizen_of - UK | David Cameron - citizen_of-x - British | David Cameron - head_of_gov - UK | David Cameron - head_of_gov-x - British | Mario Draghi - head_of - European Central Bank | Mario Draghi - member_of - European Central Bank | Christine Lagarde - head_of - International Monetary Fund | Christine Lagarde - member_of - International Monetary Fund | Italian - geopolitical organization - Italy | Mario Monti - citizen_of - Italy | Mario Monti - citizen_of-x - Italian | Mario Monti - head_of_gov - Italy | Mario Monti - head_of_gov-x - Italian | Israeli - geopolitical organization - Israel | Shimon Peres - citizen_of - Israel | Shimon Peres - citizen_of-x - Israeli | Shimon Peres - head_of_state - Israel | Shimon Peres - head_of_state-x - Israeli | Dmitry Medvedev - type - entity | Dmitry Medvedev - type - head_of_gov | Dmitry Medvedev - type - person | Dmitry Medvedev - type - politician | World Economic Forum - type - entity | World Economic Forum - type - intergovernmental organization | World Economic Forum - type - organization | Davos - type - entity | Davos - type - gpe | Davos - type - geopolitical organization | Davos - type - location | World Trade Organization - type - entity | World Trade Organization - type - intergovernmental organization | World Trade Organization - type - organization | Swiss - type - geopolitical organization-x | Swiss - type - other | ski resort - type - role | ski resort - type - value | Russian - type - geopolitical organization-x | Russian - type - other | Prime Minister - type - role | Prime Minister - type - value | Russia - type - entity | Russia - type - gpe | Russia - type - geopolitical organization | Russia - type - location | Wednesday - type - time | Wednesday - type - value | Moscow - type - entity | Moscow - type - gpe | Moscow - type - geopolitical organization | Moscow - type - location | G20 - type - entity | G20 - type - intergovernmental organization | G20 - type - organization | Saturday - type - time | Saturday - type - value | German - type - geopolitical organization-x | German - type - other | Chancellor - type - role | Chancellor - type - value | Angela Merkel - type - entity | Angela Merkel - type - head_of_gov | Angela Merkel - type - person | Angela Merkel - type - politician | Thursday - type - time | Thursday - type - value | British - type - geopolitical organization-x | British - type - other | David Cameron - type - entity | David Cameron - type - head_of_gov | David Cameron - type - person | David Cameron - type - politician | UK - type - entity | UK - type - gpe | UK - type - geopolitical organization | UK - type - location | EU - type - entity | EU - type - intergovernmental organization | EU - type - organization | EU - type - so | European Central Bank - type - entity | European Central Bank - type - intergovernmental organization | European Central Bank - type - organization | President - type - role | President - type - value | Mario Draghi - type - entity | Mario Draghi - type - person | Mario Draghi - type - politics_per | International Monetary Fund - type - entity | International Monetary Fund - type - intergovernmental organization | International Monetary Fund - type - organization | head - type - role | head - type - value | Christine Lagarde - type - entity | Christine Lagarde - type - person | Christine Lagarde - type - politics_per | Italian - type - geopolitical organization-x | Italian - type - other | Mario Monti - type - entity | Mario Monti - type - head_of_gov | Mario Monti - type - person | Mario Monti - type - politician | Israeli - type - geopolitical organization-x | Israeli - type - other | Shimon Peres - type - entity | Shimon Peres - type - head_of_state | Shimon Peres - type - person | Shimon Peres - type - politician | 2013 - type - time | 2013 - type - value | Tuesday - type - time | Tuesday - type - value | msh/dr\\xa0 (AFP, dpa, Reuters) - type - footer | msh/dr\\xa0 (AFP, dpa, Reuters) - type - other | Dmitry Medvedev - agent_of - Russia | Dmitry Medvedev - citizen_of - Russia | Dmitry Medvedev - citizen_of-x - Russian | Dmitry Medvedev - head_of_gov - Russia | Dmitry Medvedev - head_of_gov-x - Russian | World Economic Forum - event_geopolitical organization - Switzerland | World Economic Forum - event_in2 - Davos | Davos - geopolitical organization - Switzerland | Davos - geopolitical organization-x - Swiss | Swiss - geopolitical organization - Switzerland | Russian - geopolitical organization - Russia | Moscow - geopolitical organization - Russia | Moscow - geopolitical organization-x - Russian | German - geopolitical organization - Germany | Angela Merkel - citizen_of - Germany | Angela Merkel - citizen_of-x - German | Angela Merkel - head_of_gov - Germany | Angela Merkel - head_of_gov-x - German | British - geopolitical organization - UK | David Cameron - citizen_of - UK | David Cameron - citizen_of-x - British | David Cameron - head_of_gov - UK | David Cameron - head_of_gov-x - British | Mario Draghi - head_of - European Central Bank | Mario Draghi - member_of - European Central Bank | Christine Lagarde - head_of - International Monetary Fund | Christine Lagarde - member_of - International Monetary Fund | Italian - geopolitical organization - Italy | Mario Monti - citizen_of - Italy | Mario Monti - citizen_of-x - Italian | Mario Monti - head_of_gov - Italy | Mario Monti - head_of_gov-x - Italian | Israeli - geopolitical organization - Israel | Shimon Peres - citizen_of - Israel | Shimon Peres - citizen_of-x - Israeli | Shimon Peres - head_of_state - Israel | Shimon Peres - head_of_state-x - Israeli | head_of_gov - subclass_of - politician | politician - subclass_of - person | intergovernmental organization - subclass_of - organizzation | gpe - subclass_of - location | geopolitical organization - subclass_of - gpe | location - subclass_of - entity | role - subclass_of - value | geopolitical organization - subclass_of - gpe | time - subclass_of - value | so - subclass_of - intergovernmental organization | politics_per - subclass_of - person | head_of_state - subclass_of - politician | footer - subclass_of - other | Dmitry Medvedev - type - entity | Dmitry Medvedev - type - head_of_gov | Dmitry Medvedev - type - person | Dmitry Medvedev - type - politician | World Economic Forum - type - entity | World Economic Forum - type - intergovernmental organization | World Economic Forum - type - organization | Davos - type - entity | Davos - type - gpe | Davos - type - geopolitical organization | Davos - type - location | World Trade Organization - type - entity | World Trade Organization - type - intergovernmental organization | World Trade Organization - type - organization | Swiss - type - geopolitical organization-x | Swiss - type - other | ski resort - type - role | ski resort - type - value | Russian - type - geopolitical organization-x | Russian - type - other | Prime Minister - type - role | Prime Minister - type - value | Russia - type - entity | Russia - type - gpe | Russia - type - geopolitical organization | Russia - type - location | Wednesday - type - time | Wednesday - type - value | Moscow - type - entity | Moscow - type - gpe | Moscow - type - geopolitical organization | Moscow - type - location | G20 - type - entity | G20 - type - intergovernmental organization | G20 - type - organization | Saturday - type - time | Saturday - type - value | German - type - geopolitical organization-x | German - type - other | Chancellor - type - role | Chancellor - type - value | Angela Merkel - type - entity | Angela Merkel - type - head_of_gov | Angela Merkel - type - person | Angela Merkel - type - politician | Thursday - type - time | Thursday - type - value | British - type - geopolitical organization-x | British - type - other | David Cameron - type - entity | David Cameron - type - head_of_gov | David Cameron - type - person | David Cameron - type - politician | UK - type - entity | UK - type - gpe | UK - type - geopolitical organization | UK - type - location | EU - type - entity | EU - type - intergovernmental organization | EU - type - organization | EU - type - so | European Central Bank - type - entity | European Central Bank - type - intergovernmental organization | European Central Bank - type - organization | President - type - role | President - type - value | Mario Draghi - type - entity | Mario Draghi - type - person | Mario Draghi - type - politics_per | International Monetary Fund - type - entity | International Monetary Fund - type - intergovernmental organization | International Monetary Fund - type - organization | head - type - role | head - type - value | Christine Lagarde - type - entity | Christine Lagarde - type - person | Christine Lagarde - type - politics_per | Italian - type - geopolitical organization-x | Italian - type - other | Mario Monti - type - entity | Mario Monti - type - head_of_gov | Mario Monti - type - person | Mario Monti - type - politician | Israeli - type - geopolitical organization-x | Israeli - type - other | Shimon Peres - type - entity | Shimon Peres - type - head_of_state | Shimon Peres - type - person | Shimon Peres - type - politician | 2013 - type - time | 2013 - type - value | Tuesday - type - time | Tuesday - type - value | msh/dr\\xa0 (AFP, dpa, Reuters) - type - footer | msh/dr\\xa0 (AFP, dpa, Reuters) - type - other | Dmitry Medvedev - agent_of - Russia | Dmitry Medvedev - citizen_of - Russia | Dmitry Medvedev - citizen_of-x - Russian | Dmitry Medvedev - head_of_gov - Russia | Dmitry Medvedev - head_of_gov-x - Russian | World Economic Forum - event_geopolitical organization - Switzerland | World Economic Forum - event_in2 - Davos | Davos - geopolitical organization - Switzerland | Davos - geopolitical organization-x - Swiss | Swiss - geopolitical organization - Switzerland | Russian - geopolitical organization - Russia | Moscow - geopolitical organization - Russia | Moscow - geopolitical organization-x - Russian | German - geopolitical organization - Germany | Angela Merkel - citizen_of - Germany | Angela Merkel - citizen_of-x - German | Angela Merkel - head_of_gov - Germany | Angela Merkel - head_of_gov-x - German | British - geopolitical organization - UK | David Cameron - citizen_of - UK | David Cameron - citizen_of-x - British | David Cameron - head_of_gov - UK | David Cameron - head_of_gov-x - British | Mario Draghi - head_of - European Central Bank | Mario Draghi - member_of - European Central Bank | Christine Lagarde - head_of - International Monetary Fund | Christine Lagarde - member_of - International Monetary Fund | Italian - geopolitical organization - Italy | Mario Monti - citizen_of - Italy | Mario Monti - citizen_of-x - Italian | Mario Monti - head_of_gov - Italy | Mario Monti - head_of_gov-x - Italian | Israeli - geopolitical organization - Israel | Shimon Peres - citizen_of - Israel | Shimon Peres - citizen_of-x - Israeli | Shimon Peres - head_of_state - Israel | Shimon Peres - head_of_state-x - Israeli | ', 'entities_list': '[CORE] Prime Minister Dmitry Medvedev seeks investment at the World Economic Forum [ENTITIES] G20 | David Cameron | EU | International Monetary Fund | Mario Draghi | dpa | UK | AFP | Tuesday night | Reuters | Thursday afternoon | Wednesday | Russia | Dmitry Medvedev | Shimon Peres | Medvedev | Mario Monti | Angela Merkel | European Central Bank | 2013 | the World Economic Forum | Moscow | the World Trade Organization | Saturday | Davos | Christine Lagarde', 'core_description': 'Prime Minister Dmitry Medvedev seeks investment at the World Economic Forum', 'semantic_of_news': '[CORE] Prime Minister Dmitry Medvedev seeks investment at the World Economic Forum [TRIPLES] news - type - Politics | news - has actor - G20  | G20  - type - organization | news - has actor - David Cameron  | David Cameron  - type - person | news - has actor - EU  | EU  - type - organization | news - has actor - International Monetary Fund  | International Monetary Fund  - type - organization | news - has actor - Mario Draghi  | Mario Draghi  - type - person | news - has actor - dpa  | dpa  - type - organization | news - has actor - AFP  | AFP  - type - organization | news - has time - Tuesday night  | Tuesday night  - type - time | news - has actor - Reuters  | Reuters  - type - organization | news - has time - Thursday afternoon  | Thursday afternoon  - type - time | news - has time - Wednesday  | Wednesday  - type - time | news - has actor - Dmitry Medvedev  | Dmitry Medvedev  - type - person | news - has actor - Shimon Peres  | Shimon Peres  - type - person | news - has actor - Medvedev  | Medvedev  - type - person | news - has actor - Mario Monti  | Mario Monti  - type - person | news - has actor - Angela Merkel  | Angela Merkel  - type - person | news - has actor - European Central Bank  | European Central Bank  - type - organization | news - has time - 2013  | 2013  - type - time | news - has event - the World Economic Forum  | the World Economic Forum  - type - event | news - has actor - the World Trade Organization  | the World Trade Organization  - type - organization | news - has time - Saturday  | Saturday  - type - time | news - has actor - Christine Lagarde  | Christine Lagarde  - type - person', 'Instances_list': '[CORE] Prime Minister Dmitry Medvedev seeks investment at the World Economic Forum [ENTITIES] British | Israel | Russia | Dmitry Medvedev | Switzerland | David Cameron | Israeli | Swiss | World Economic Forum | Russian | UK | Italy | Germany | International Monetary Fund | European Central Bank | Davos | Angela Merkel | Mario Draghi | Moscow | German | Italian | Mario Monti | Shimon Peres | Christine Lagarde'}\n",
      "600\n"
     ]
    }
   ],
   "source": [
    "path=\"/home/gabhoo/research/kg2Narrative/KGNarrative2/Datasets/DWIE/4experiment/full_train.json\"\n",
    "with open(path, 'r') as f:\n",
    "    data = json.load(f)\n",
    "\n",
    "sent=data[6]\n",
    "print(sent)\n",
    "print(len(data))"
   ]
  },
  {
   "cell_type": "code",
   "execution_count": 107,
   "metadata": {},
   "outputs": [
    {
     "data": {
      "text/plain": [
       "0"
      ]
     },
     "execution_count": 107,
     "metadata": {},
     "output_type": "execute_result"
    }
   ],
   "source": [
    "le_s=[]\n",
    "short_s=[]\n",
    "flag_e=0\n",
    "for i in data:\n",
    "    if i['Instances_KG']==\"\":\n",
    "        flag_e+=1\n",
    "\n",
    "    if len(word_tokenize(i['Subclasses_KG']))<4096:\n",
    "        short_s.append(i)\n",
    "    #le_s.append(len(word_tokenize(i['story'])))\n",
    "flag_e"
   ]
  },
  {
   "attachments": {},
   "cell_type": "markdown",
   "metadata": {},
   "source": []
  },
  {
   "cell_type": "code",
   "execution_count": 92,
   "metadata": {},
   "outputs": [
    {
     "data": {
      "text/plain": [
       "40"
      ]
     },
     "execution_count": 92,
     "metadata": {},
     "output_type": "execute_result"
    }
   ],
   "source": [
    "len(word_tokenize(\"Faber and Faber are the publishers of The Secret Scripture, a sequel to A Long Long Way. That book comes from Ireland which is located in Europe and where there is an ethnic group of white people.\"))\n"
   ]
  },
  {
   "cell_type": "code",
   "execution_count": 108,
   "metadata": {},
   "outputs": [
    {
     "data": {
      "text/plain": [
       "591"
      ]
     },
     "execution_count": 108,
     "metadata": {},
     "output_type": "execute_result"
    }
   ],
   "source": [
    "len(short_s)"
   ]
  },
  {
   "cell_type": "code",
   "execution_count": 98,
   "metadata": {},
   "outputs": [],
   "source": [
    "lengs=[]\n",
    "ma=0\n",
    "for i in short_s:\n",
    "    if len(word_tokenize(i['Subclasses_KG']))>ma:\n",
    "        ma=len(word_tokenize(i['Subclasses_KG']))\n",
    "        longest=i\n",
    "\n",
    "\n",
    "    #l=len(word_tokenize(i['Subclasses_KG']))\n",
    "    #lengs.append(l)\n",
    "    "
   ]
  },
  {
   "cell_type": "code",
   "execution_count": 106,
   "metadata": {},
   "outputs": [
    {
     "data": {
      "text/plain": [
       "4096"
      ]
     },
     "execution_count": 106,
     "metadata": {},
     "output_type": "execute_result"
    }
   ],
   "source": [
    "2**12"
   ]
  },
  {
   "cell_type": "code",
   "execution_count": 102,
   "metadata": {},
   "outputs": [
    {
     "data": {
      "text/plain": [
       "506"
      ]
     },
     "execution_count": 102,
     "metadata": {},
     "output_type": "execute_result"
    }
   ],
   "source": [
    "len(word_tokenize('Ukraine activist Bulatov reveals details of alleged kidnapping Ukraine activist Dmytro Bulatov has shed light on his alleged kidnapping, and has told reporters he had begged his captors to kill him. Bulatov said he was so desperate to end the ordeal he made false confessions. Bulatov fronted a press conference in Vilnius, Lithuania on Thursday to outline the details of his ordeal, which began with his abduction on January 22. He was discovered eight days later, bloodied and claiming he was tortured by his captors. Bulatov was one of the leaders of the group Automaidan, which uses vehicles to blockade streets in protection of protest groups. He had been active in the anti-government protests gripping Ukraine, with President Viktor Yanukovych under pressure after electing not to sign an association agreement with the European Union in November. False confession Bulatov is one of several prominent activists said to have been abducted, and said his captors repeatedly asked him who was funding the protests. He said he had falsely confessed to having received $50,000 (36,800 euros) from a United States ambassador in an attempt to stop the torture. \"They cut my ear, I couldn\\'t feel how much they cut off my ear. They took the piece of my ear and touched my face with it,\" he told reporters. \"The only thing I wanted was for this to stop … I said whatever they wanted.\" \"On the last day they put me on my knees. They said, \\'We are going to crucify you.\\' I was asking them to kill me because I was unable to stand this any more,\" he added \"Some time later they came and put a bag on my head and took me somewhere. I was hoping my suffering was finished.\" Bulatov flew to Lithuania for further medical treatment, and told news agency Reuters he would not return to Ukraine unless he received guarantees he would not be prosecuted. Constitutional change sought Ukraine\\'s opposition parties are continuing their push to return the constitution to its 2004 form - a move that would shift several powers from the president to parliament. Yanukovych has rejected the proposal, but a spokesman from the president\\'s Party of the Regions said leaders of all parliamentary groups are set to meet in the coming days to discuss a bill. \"Next week, we should take a decision - maybe on Tuesday, Wednesday - to consider this draft law,\" Party of the Regions\\' speaker Volodymyr Rybak told lawmakers. Speaking on Wednesday, EU foreign policy chief Catherine Ashton called for political action to end the turmoil, saying a potential aid package from the US and EU would be more than simply monetary assistance. ph/dr (Reuters, dpa)'))\n"
   ]
  },
  {
   "cell_type": "code",
   "execution_count": 97,
   "metadata": {},
   "outputs": [
    {
     "data": {
      "text/plain": [
       "5193"
      ]
     },
     "execution_count": 97,
     "metadata": {},
     "output_type": "execute_result"
    }
   ],
   "source": [
    "max(lengs)"
   ]
  },
  {
   "cell_type": "code",
   "execution_count": null,
   "metadata": {},
   "outputs": [],
   "source": []
  }
 ],
 "metadata": {
  "kernelspec": {
   "display_name": "nlptasks",
   "language": "python",
   "name": "python3"
  },
  "language_info": {
   "codemirror_mode": {
    "name": "ipython",
    "version": 3
   },
   "file_extension": ".py",
   "mimetype": "text/x-python",
   "name": "python",
   "nbconvert_exporter": "python",
   "pygments_lexer": "ipython3",
   "version": "3.10.9"
  },
  "orig_nbformat": 4
 },
 "nbformat": 4,
 "nbformat_minor": 2
}
