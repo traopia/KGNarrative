{
 "cells": [
  {
   "cell_type": "markdown",
   "metadata": {},
   "source": []
  },
  {
   "cell_type": "code",
   "execution_count": 13,
   "metadata": {},
   "outputs": [],
   "source": [
    "import json\n",
    "\n"
   ]
  },
  {
   "cell_type": "code",
   "execution_count": 3,
   "metadata": {},
   "outputs": [],
   "source": [
    "splits=['train','val','test']\n",
    "split='test'\n",
    "#for split in splits:"
   ]
  },
  {
   "cell_type": "code",
   "execution_count": 75,
   "metadata": {},
   "outputs": [],
   "source": [
    "\n",
    "with open(f'/home/gabhoo/research/kg2Narrative/KGNarrative2/Datasets/WebNLG/57_triples/oneClass/Trattini/oneClass_{split}.json', 'r') as f:\n",
    "    data = json.load(f)\n",
    "\n",
    "with open(f'/home/gabhoo/research/kg2Narrative/KGNarrative2/Datasets/WebNLG/57_triples/Multiple_Classes/{split}_57_MultipleClass.json', 'r') as f:\n",
    "    data_subclass = json.load(f)\n",
    "data_subclass=data_subclass[1:]"
   ]
  },
  {
   "cell_type": "code",
   "execution_count": 76,
   "metadata": {},
   "outputs": [],
   "source": [
    "\n",
    "instances = ['Instances_KG']\n",
    "\n",
    "typeKG = ['Instances_KG', 'Types_KG']\n",
    "\n",
    "subClassKG = ['Instances_KG', 'Types_KG','Subclasses_KG']\n",
    "\n",
    "\n"
   ]
  },
  {
   "cell_type": "code",
   "execution_count": 82,
   "metadata": {},
   "outputs": [
    {
     "data": {
      "text/plain": [
       "[{'story': '185 centimetre tall Aleksandr Prudnikov played for the Otkrytiye Arena based FC Spartak, Moscow.',\n",
       "  'Types_KG': 'FC Spartak Moscow - type - soccer club | Otkrytiye Arena - type - stadium | FC Spartak Moscow - type - agent | FC Spartak Moscow - type - organisation',\n",
       "  'Instances_KG': 'Aleksandr Prudnikov | Person/height | \"185.0\"^^<http://dbpedia.org/datatype/centimetre> - FC Spartak Moscow | ground | Otkrytiye Arena - Aleksandr Prudnikov | team | FC Spartak Moscow - Aleksandr Prudnikov | Person/height | \"185.0\"^^<http://dbpedia.org/datatype/centimetre> - FC Spartak Moscow | ground | Otkrytiye Arena - Aleksandr Prudnikov | clubs | FC Spartak Moscow',\n",
       "  'Subclasses_KG': 'agent - subclass - Sportverein | organisation - subclass - organisation | stadium - subclass - venue | soccer club - subclass - Thing',\n",
       "  'core_description': 'Aleksandr Prudnikov, 185 cm tall, played for Spartak in the Otkrytiy'},\n",
       " {'story': 'Ciudad Ayala is a city with population density and population of 1604 and 1777539 respectively, where the leader is called the City Manager. The government type in the city of Ciudad Ayala is council-manager.',\n",
       "  'Types_KG': 'City Manager - type - person function | Council - type - Band | City - type - settlement | Council - type - legislature | City - type - administrative region',\n",
       "  'Instances_KG': 'Ciudad Ayala | populationMetro | 1777539 - Ciudad Ayala | leaderTitle | City Manager - Ciudad Ayala | type | City - Ciudad Ayala | populationDensity | 1604.0 - Ciudad Ayala | governmentType | Council | manager government',\n",
       "  'Subclasses_KG': 'settlement - subclass - populated place | Band - subclass - group | legislature - subclass - organisation | administrative region - subclass - region | person function - subclass - Thing',\n",
       "  'core_description': 'Ciudad Ayala is a city in the United Arab Emirates'},\n",
       " {'story': 'Ciudad Ayala in Mexico with population density of 1604.0 and elevated 1147.0 above sea level is in the PDT time zone. The leader here is called the governator.',\n",
       "  'Types_KG': 'Mexico - type - country | Mexico - type - populated place | Mexico - type - person',\n",
       "  'Instances_KG': 'Ciudad Ayala | populationDensity | 1604.0 - Ciudad Ayala | leaderTitle | Governator - Ciudad Ayala | country | Mexico - Ciudad Ayala | elevation | 1147.0 - Ciudad Ayala | timeZone | Pacific Daylight Time',\n",
       "  'Subclasses_KG': 'country - subclass - animal | person - subclass - Thing | populated place - subclass - populated place',\n",
       "  'core_description': 'Ciudad Ayala in Mexico is in the PDT time zone'}]"
      ]
     },
     "execution_count": 82,
     "metadata": {},
     "output_type": "execute_result"
    }
   ],
   "source": [
    "data=data[:3]\n",
    "data_subclass=data_subclass[:3]\n",
    "data_subclass"
   ]
  },
  {
   "cell_type": "code",
   "execution_count": 84,
   "metadata": {},
   "outputs": [
    {
     "name": "stdout",
     "output_type": "stream",
     "text": [
      "agent - subclass - Sportverein | organisation - subclass - organisation | stadium - subclass - venue | soccer club - subclass - Thing\n"
     ]
    },
    {
     "ename": "AttributeError",
     "evalue": "'list' object has no attribute 'split'",
     "output_type": "error",
     "traceback": [
      "\u001b[0;31m---------------------------------------------------------------------------\u001b[0m",
      "\u001b[0;31mAttributeError\u001b[0m                            Traceback (most recent call last)",
      "Cell \u001b[0;32mIn[84], line 13\u001b[0m\n\u001b[1;32m     10\u001b[0m     \u001b[39mreturn\u001b[39;00m clean\n\u001b[1;32m     12\u001b[0m \u001b[39mprint\u001b[39m(data_subclass[\u001b[39m0\u001b[39m][\u001b[39m'\u001b[39m\u001b[39mSubclasses_KG\u001b[39m\u001b[39m'\u001b[39m])\n\u001b[0;32m---> 13\u001b[0m clean_sub\u001b[39m=\u001b[39mclean_subclasses(data_subclass[\u001b[39m0\u001b[39;49m])\n\u001b[1;32m     14\u001b[0m \u001b[39mprint\u001b[39m(clean_sub)\n",
      "Cell \u001b[0;32mIn[84], line 2\u001b[0m, in \u001b[0;36mclean_subclasses\u001b[0;34m(subclasses_list)\u001b[0m\n\u001b[1;32m      1\u001b[0m \u001b[39mdef\u001b[39;00m \u001b[39mclean_subclasses\u001b[39m(subclasses_list):\n\u001b[0;32m----> 2\u001b[0m     data\u001b[39m=\u001b[39mdata_subclass\u001b[39m.\u001b[39;49msplit(\u001b[39m\"\u001b[39m\u001b[39m | \u001b[39m\u001b[39m\"\u001b[39m)\n\u001b[1;32m      3\u001b[0m     clean\u001b[39m=\u001b[39m[]\n\u001b[1;32m      4\u001b[0m     \u001b[39mfor\u001b[39;00m tr \u001b[39min\u001b[39;00m data:\n",
      "\u001b[0;31mAttributeError\u001b[0m: 'list' object has no attribute 'split'"
     ]
    }
   ],
   "source": [
    "def clean_subclasses(subclasses_list):\n",
    "    print()\n",
    "    data=subclasses_list.split(\" | \")\n",
    "    clean=[]\n",
    "    for tr in data:\n",
    "        print(tr)\n",
    "        spo = tr.split(\" - \")\n",
    "        if spo[0] == spo[2] or spo[2]=='Thing':\n",
    "            continue\n",
    "        clean.append(spo)\n",
    "    return clean\n",
    "    \n",
    "print(data_subclass[0]['Subclasses_KG'])\n",
    "clean_sub=clean_subclasses(data_subclass[0])\n",
    "print(clean_sub)"
   ]
  },
  {
   "cell_type": "code",
   "execution_count": null,
   "metadata": {},
   "outputs": [],
   "source": []
  },
  {
   "cell_type": "code",
   "execution_count": 78,
   "metadata": {},
   "outputs": [
    {
     "name": "stdout",
     "output_type": "stream",
     "text": [
      "[CORE] Aleksandr Prudnikov, 185 cm tall, played for Spartak in the Otkrytiy [TRIPLES]\n",
      "[CORE] Ciudad Ayala is a city in the United Arab Emirates [TRIPLES]\n",
      "[CORE] Ciudad Ayala in Mexico is in the PDT time zone [TRIPLES]\n"
     ]
    }
   ],
   "source": [
    "for d,d_s in zip(data,data_subclass):\n",
    "    \n",
    "    print(\"[CORE] \"+ d['core_description'] +\" [TRIPLES]\")\n",
    "\n",
    "    #MERGE CGRAPHS AND ADD CORE\n",
    "\n",
    "    merged_types = \"[CORE] \"+ d['core_description'] +\" [TRIPLES] \"+' | '.join([d[k] for k in typeKG])\n",
    "\n",
    "    merged_subClasse = \"[CORE] \"+d['core_description'] + \" [TRIPLES] \" + ' | '.join([d[k] for k in subClassKG])\n",
    "\n",
    "    merged_instances = \"[CORE] \"+d['core_description'] + \" [TRIPLES] \" + ' | '.join([d[k] for k in instances])\n",
    "\n",
    "    d['multi_Subclasses_KG'] = \"[CORE] \"+ d['core_description'] +\" [TRIPLES] \"+' | '.join([d[k] for k in typeKG]) + d_s['Subclasses_KG']\n",
    "\n",
    "\n",
    "    d['Types_KG'] = merged_types\n",
    "    d['Subclasses_KG'] = merged_subClasse\n",
    "    d['Instances_KG'] = merged_instances\n",
    "\n",
    "    #ADD CORE TO ENTITIES LIST AND SEMANTIC OF NEWS\n",
    "\n",
    "    d['Instances_list'] = \"[CORE] \"+d['core_description']+ \" [ENTITIES] \" + \" | \".join(d['Instances_list'])\n",
    "    d['entities_list'] = \"[CORE] \"+d['core_description']+ \" [ENTITIES] \" + \" | \".join(d['entities_list'])\n",
    "\n",
    "    d['semantic_of_news'] = \"[CORE] \"+d['core_description']+ \" [TRIPLES] \" + d['semantic_of_news']\n",
    "\n",
    "    print()\n",
    "\n",
    "    "
   ]
  },
  {
   "cell_type": "code",
   "execution_count": null,
   "metadata": {},
   "outputs": [],
   "source": []
  },
  {
   "cell_type": "code",
   "execution_count": 79,
   "metadata": {},
   "outputs": [
    {
     "data": {
      "text/plain": [
       "{'story': '185 centimetre tall Aleksandr Prudnikov played for the Otkrytiye Arena based FC Spartak, Moscow.',\n",
       " 'Types_KG': '[CORE] Aleksandr Prudnikov, 185 cm tall, played for Spartak in the Otkrytiy [TRIPLES] Aleksandr Prudnikov - Person/height - \"185.0\"^^<http://dbpedia.org/datatype/centimetre> | FC Spartak Moscow - ground - Otkrytiye Arena | Aleksandr Prudnikov - team - FC Spartak Moscow | Aleksandr Prudnikov - Person/height - \"185.0\"^^<http://dbpedia.org/datatype/centimetre> | FC Spartak Moscow - ground - Otkrytiye Arena | Aleksandr Prudnikov - clubs - FC Spartak Moscow | Otkrytiye Arena - type - stadium | Aleksandr Prudnikov - type - person | FC Spartak Moscow - type - agent',\n",
       " 'Instances_KG': '[CORE] Aleksandr Prudnikov, 185 cm tall, played for Spartak in the Otkrytiy [TRIPLES] Aleksandr Prudnikov - Person/height - \"185.0\"^^<http://dbpedia.org/datatype/centimetre> | FC Spartak Moscow - ground - Otkrytiye Arena | Aleksandr Prudnikov - team - FC Spartak Moscow | Aleksandr Prudnikov - Person/height - \"185.0\"^^<http://dbpedia.org/datatype/centimetre> | FC Spartak Moscow - ground - Otkrytiye Arena | Aleksandr Prudnikov - clubs - FC Spartak Moscow',\n",
       " 'Subclasses_KG': '[CORE] Aleksandr Prudnikov, 185 cm tall, played for Spartak in the Otkrytiy [TRIPLES] Aleksandr Prudnikov - Person/height - \"185.0\"^^<http://dbpedia.org/datatype/centimetre> | FC Spartak Moscow - ground - Otkrytiye Arena | Aleksandr Prudnikov - team - FC Spartak Moscow | Aleksandr Prudnikov - Person/height - \"185.0\"^^<http://dbpedia.org/datatype/centimetre> | FC Spartak Moscow - ground - Otkrytiye Arena | Aleksandr Prudnikov - clubs - FC Spartak Moscow | Otkrytiye Arena - type - stadium | Aleksandr Prudnikov - type - person | FC Spartak Moscow - type - agent | person - subclass - animal | agent - subclass - Thing | stadium - subclass - venue',\n",
       " 'core_description': 'Aleksandr Prudnikov, 185 cm tall, played for Spartak in the Otkrytiy',\n",
       " 'Instances_list': '[CORE] Aleksandr Prudnikov, 185 cm tall, played for Spartak in the Otkrytiy [ENTITIES] FC Spartak Moscow | \"185.0\"^^<http://dbpedia.org/datatype/centimetre> | Aleksandr Prudnikov | Otkrytiye Arena',\n",
       " 'semantic_of_news': '[CORE] Aleksandr Prudnikov, 185 cm tall, played for Spartak in the Otkrytiy [TRIPLES] news - type - Sport | news - has item - Otkrytiye Arena  | Otkrytiye Arena  - type - facility | news - has actor - Aleksandr Prudnikov  | Aleksandr Prudnikov  - type - person | news - has actor - FC Spartak  | FC Spartak  - type - organization',\n",
       " 'entities_list': '[CORE] Aleksandr Prudnikov, 185 cm tall, played for Spartak in the Otkrytiy [ENTITIES] Moscow  | Otkrytiye Arena  | Aleksandr Prudnikov  | FC Spartak ',\n",
       " 'multi_Subclasses_KG': '[CORE] Aleksandr Prudnikov, 185 cm tall, played for Spartak in the Otkrytiy [TRIPLES] Aleksandr Prudnikov - Person/height - \"185.0\"^^<http://dbpedia.org/datatype/centimetre> | FC Spartak Moscow - ground - Otkrytiye Arena | Aleksandr Prudnikov - team - FC Spartak Moscow | Aleksandr Prudnikov - Person/height - \"185.0\"^^<http://dbpedia.org/datatype/centimetre> | FC Spartak Moscow - ground - Otkrytiye Arena | Aleksandr Prudnikov - clubs - FC Spartak Moscow | Otkrytiye Arena - type - stadium | Aleksandr Prudnikov - type - person | FC Spartak Moscow - type - agentagent - subclass - Sportverein | organisation - subclass - organisation | stadium - subclass - venue | soccer club - subclass - Thing'}"
      ]
     },
     "execution_count": 79,
     "metadata": {},
     "output_type": "execute_result"
    }
   ],
   "source": [
    "data[0]"
   ]
  },
  {
   "cell_type": "code",
   "execution_count": null,
   "metadata": {},
   "outputs": [],
   "source": []
  }
 ],
 "metadata": {
  "kernelspec": {
   "display_name": "nlptasks",
   "language": "python",
   "name": "python3"
  },
  "language_info": {
   "codemirror_mode": {
    "name": "ipython",
    "version": 3
   },
   "file_extension": ".py",
   "mimetype": "text/x-python",
   "name": "python",
   "nbconvert_exporter": "python",
   "pygments_lexer": "ipython3",
   "version": "3.10.9"
  },
  "orig_nbformat": 4
 },
 "nbformat": 4,
 "nbformat_minor": 2
}
